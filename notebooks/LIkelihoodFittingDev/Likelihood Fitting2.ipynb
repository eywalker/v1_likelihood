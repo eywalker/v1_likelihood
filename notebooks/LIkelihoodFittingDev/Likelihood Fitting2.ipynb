{
 "cells": [
  {
   "cell_type": "code",
   "execution_count": 1,
   "metadata": {},
   "outputs": [
    {
     "name": "stderr",
     "output_type": "stream",
     "text": [
      "/usr/local/lib/python3.5/dist-packages/h5py/__init__.py:36: FutureWarning: Conversion of the second argument of issubdtype from `float` to `np.floating` is deprecated. In future, it will be treated as `np.float64 == np.dtype(float).type`.\n",
      "  from ._conv import register_converters as _register_converters\n"
     ]
    },
    {
     "name": "stdout",
     "output_type": "stream",
     "text": [
      "Connecting eywalker@10.28.0.34:3306\n"
     ]
    },
    {
     "name": "stderr",
     "output_type": "stream",
     "text": [
      "/usr/local/lib/python3.5/dist-packages/pymysql/cursors.py:165: Warning: (1681, \"'ERROR_FOR_DIVISION_BY_ZERO' is deprecated and will be removed in a future release.\")\n",
      "  result = self._query(query)\n",
      "/usr/local/lib/python3.5/dist-packages/pymysql/cursors.py:165: Warning: (1681, \"'NO_ZERO_DATE' is deprecated and will be removed in a future release.\")\n",
      "  result = self._query(query)\n",
      "/usr/local/lib/python3.5/dist-packages/pymysql/cursors.py:165: Warning: (1681, \"'NO_ZERO_IN_DATE' is deprecated and will be removed in a future release.\")\n",
      "  result = self._query(query)\n"
     ]
    }
   ],
   "source": [
    "import datajoint as dj\n",
    "import numpy as np\n",
    "import torch\n",
    "from torch.autograd import Variable\n",
    "from torch.nn.init import normal, constant\n",
    "from torch import nn\n",
    "from matplotlib import pyplot as plt\n",
    "from attorch.train import early_stopping\n",
    "from torch.utils.data import TensorDataset, DataLoader\n",
    "import seaborn as sns\n",
    "sns.set_context('notebook', font_scale=1.3)\n",
    "from v1_likelihood.train import CVSet, CleanContrastSessionDataSet, binnify\n",
    "from v1_likelihood.models import Net\n",
    "from v1_likelihood.utils import set_seed\n",
    "\n",
    "%matplotlib inline\n",
    "\n",
    "from numpy.linalg import inv"
   ]
  },
  {
   "cell_type": "code",
   "execution_count": 2,
   "metadata": {},
   "outputs": [],
   "source": [
    "key = {'csc_hash': 'b047337460082b62b44a8bc4ccfb4c400b6c9e95', 'dataset_contrast': '0.9'}"
   ]
  },
  {
   "cell_type": "code",
   "execution_count": 35,
   "metadata": {},
   "outputs": [],
   "source": [
    "keys = CVSet().fetch('KEY')\n",
    "key = keys[30]"
   ]
  },
  {
   "cell_type": "code",
   "execution_count": 36,
   "metadata": {},
   "outputs": [],
   "source": [
    "train_set, valid_set = (CVSet() & key).fetch_datasets()"
   ]
  },
  {
   "cell_type": "markdown",
   "metadata": {},
   "source": [
    "Prepare the data"
   ]
  },
  {
   "cell_type": "code",
   "execution_count": 38,
   "metadata": {},
   "outputs": [
    {
     "name": "stdout",
     "output_type": "stream",
     "text": [
      "Working!\n"
     ]
    }
   ],
   "source": [
    "print('Working!')\n",
    "\n",
    "train_set, test_set = (CVSet() & key).fetch_datasets()\n",
    "#bin_width, bin_counts, clip_outside = (BinConfig() & key).fetch1('bin_width', 'bin_counts', 'clip_outside')\n",
    "bin_counts = 61\n",
    "bin_width = 1.0\n",
    "clip_outside = True\n",
    "delta = bin_width\n",
    "nbins = bin_counts\n",
    "\n",
    "train_counts, train_ori = np.concatenate(train_set['counts'], 1).T, train_set['orientation']\n",
    "valid_counts, valid_ori = np.concatenate(test_set['counts'], 1).T, test_set['orientation']\n",
    "\n",
    "xv, train_bins = binnify(train_ori, delta=bin_width, nbins=bin_counts, clip=clip_outside)\n",
    "_, valid_bins = binnify(valid_ori, delta=bin_width, nbins=bin_counts, clip=clip_outside)\n",
    "\n",
    "good_pos = train_bins >= 0\n",
    "train_counts = train_counts[good_pos]\n",
    "train_ori = train_bins[good_pos]\n",
    "\n",
    "good_pos = valid_bins >= 0\n",
    "valid_counts = valid_counts[good_pos]\n",
    "valid_ori = valid_bins[good_pos]"
   ]
  },
  {
   "cell_type": "code",
   "execution_count": 39,
   "metadata": {},
   "outputs": [],
   "source": [
    "sigmaA = 3\n",
    "sigmaB = 15\n",
    "pv = (np.arange(nbins) - nbins//2) * delta\n",
    "prior = np.log(np.exp(- pv**2 / 2 / sigmaA**2) / sigmaA + np.exp(- pv**2 / 2 / sigmaB**2) / sigmaB)\n",
    "prior = Variable(torch.from_numpy(prior)).cuda().float()"
   ]
  },
  {
   "cell_type": "code",
   "execution_count": 40,
   "metadata": {},
   "outputs": [],
   "source": [
    "train_x = torch.Tensor(train_counts)\n",
    "train_t = torch.Tensor(train_ori).type(torch.LongTensor)\n",
    "\n",
    "valid_x = Variable(torch.Tensor(valid_counts)).cuda()\n",
    "valid_t = Variable(torch.Tensor(valid_ori).type(torch.LongTensor)).cuda()\n",
    "\n",
    "train_dataset = TensorDataset(train_x, train_t)\n",
    "valid_dataset = TensorDataset(valid_x, valid_t)"
   ]
  },
  {
   "cell_type": "code",
   "execution_count": 41,
   "metadata": {},
   "outputs": [],
   "source": [
    "def objective(net, x=None, t=None):\n",
    "    if x is None and t is None:\n",
    "        x = valid_x\n",
    "        t = valid_t\n",
    "    net.eval()\n",
    "    y = net(x)\n",
    "    posterior = y + prior\n",
    "    _, loc = torch.max(posterior, dim=1)\n",
    "    v =(t.double() - loc.double()).pow(2).mean().sqrt() * delta\n",
    "    return v.data.cpu().numpy()[0]"
   ]
  },
  {
   "cell_type": "markdown",
   "metadata": {},
   "source": [
    "## Try linear regression"
   ]
  },
  {
   "cell_type": "code",
   "execution_count": 42,
   "metadata": {},
   "outputs": [
    {
     "data": {
      "text/plain": [
       "<matplotlib.collections.PathCollection at 0x7fef87ec9c88>"
      ]
     },
     "execution_count": 42,
     "metadata": {},
     "output_type": "execute_result"
    },
    {
     "data": {
      "image/png": "[encoded data removed]",
      "text/plain": [
       "<matplotlib.figure.Figure at 0x7fefeb180f60>"
      ]
     },
     "metadata": {},
     "output_type": "display_data"
    }
   ],
   "source": [
    "def extend_ones(x):\n",
    "    return np.concatenate([x, np.ones([x.shape[0], 1])], axis=1)\n",
    "\n",
    "tc = extend_ones(train_counts)\n",
    "\n",
    "w = inv(tc.T @ tc + np.diag(np.ones(tc.shape[1]) * 0.0001)) @ tc.T @ train_ori\n",
    "\n",
    "t_hat = extend_ones(valid_counts) @ w\n",
    "\n",
    "plt.scatter(t_hat, valid_ori)"
   ]
  },
  {
   "cell_type": "code",
   "execution_count": 43,
   "metadata": {},
   "outputs": [
    {
     "data": {
      "text/plain": [
       "2.039669657405666"
      ]
     },
     "execution_count": 43,
     "metadata": {},
     "output_type": "execute_result"
    }
   ],
   "source": [
    "np.sqrt(np.mean((t_hat - valid_ori)**2)) * delta"
   ]
  },
  {
   "cell_type": "markdown",
   "metadata": {},
   "source": [
    "## Fit NN"
   ]
  },
  {
   "cell_type": "code",
   "execution_count": 44,
   "metadata": {},
   "outputs": [],
   "source": [
    "net = Net(n_output=61, n_hidden=[600, 600], std=0.001, dropout=0.5)\n",
    "net.cuda()\n",
    "loss = nn.CrossEntropyLoss().cuda()"
   ]
  },
  {
   "cell_type": "code",
   "execution_count": 46,
   "metadata": {},
   "outputs": [
    {
     "name": "stdout",
     "output_type": "stream",
     "text": [
      "10.601097108879546\n"
     ]
    },
    {
     "data": {
      "text/plain": [
       "[<matplotlib.lines.Line2D at 0x7fef87e729b0>]"
      ]
     },
     "execution_count": 46,
     "metadata": {},
     "output_type": "execute_result"
    },
    {
     "data": {
      "image/png": "[encoded data removed]",
      "text/plain": [
       "<matplotlib.figure.Figure at 0x7fefeb0fbac8>"
      ]
     },
     "metadata": {},
     "output_type": "display_data"
    }
   ],
   "source": [
    "net.eval()\n",
    "y = net(valid_x)\n",
    "\n",
    "y = y + prior\n",
    "val, idx = torch.max(y, 1)\n",
    "yd = y.data.cpu().numpy()\n",
    "\n",
    "plt.subplot(211)\n",
    "t_hat = idx.data.cpu().numpy()\n",
    "plt.scatter(t_hat, valid_ori)\n",
    "\n",
    "print(np.sqrt(np.mean((t_hat - valid_ori)**2)) * delta)\n",
    "\n",
    "plt.subplot(212)\n",
    "\n",
    "plt.plot(yd[47])"
   ]
  },
  {
   "cell_type": "code",
   "execution_count": 51,
   "metadata": {
    "scrolled": false
   },
   "outputs": [
    {
     "name": "stdout",
     "output_type": "stream",
     "text": [
      "Setting numpy and torch seed to 8\n",
      "\n",
      "\n",
      "\n",
      "\n",
      " LEARNING RATE: 0.03\n",
      "Score: 3.326781749725342\n",
      "Score: 3.163904905319214\n",
      "[120|00/20] ---> 5.049970558644061\n",
      "Score: 2.942518949508667\n",
      "Score: 2.8069908618927\n",
      "[140|01/20] -/-> 6.160839807734322\n",
      "Score: 2.967233657836914\n",
      "Score: 2.7527925968170166\n",
      "[160|01/20] ---> 4.569097501955814\n",
      "Score: 2.6931567192077637\n",
      "Score: 2.4466190338134766\n",
      "[180|00/20] ---> 3.631118564083486\n",
      "Score: 2.205421209335327\n",
      "Score: 2.493480682373047\n",
      "[200|01/20] -/-> 4.567168798829797\n",
      "Score: 2.3107972145080566\n",
      "Score: 2.42386531829834\n",
      "[220|01/20] ---> 2.5177781968350885\n",
      "Score: 2.2994582653045654\n",
      "Score: 2.2095327377319336\n",
      "[240|01/20] -/-> 2.587669848008194\n",
      "Score: 2.051297664642334\n",
      "Score: 2.0491631031036377\n",
      "[260|01/20] ---> 2.3447382277832625\n",
      "Score: 2.185835599899292\n",
      "Score: 2.2809841632843018\n",
      "[280|01/20] -/-> 3.2468215565787286\n",
      "Score: 2.3659932613372803\n",
      "Score: 2.2043991088867188\n",
      "[300|02/20] -/-> 3.1927781944756113\n",
      "Score: 1.9769006967544556\n",
      "Score: 2.149103879928589\n",
      "[320|03/20] -/-> 2.463835339769644\n",
      "Score: 1.9337191581726074\n",
      "Score: 2.2618556022644043\n",
      "[340|04/20] -/-> 3.0292262136962456\n",
      "Score: 2.678560972213745\n",
      "Score: 1.8888945579528809\n",
      "[360|05/20] -/-> 2.7478465737649076\n",
      "Score: 2.2630982398986816\n",
      "Score: 2.0750999450683594\n",
      "[380|05/20] ---> 2.099926577277393\n",
      "Score: 2.203230381011963\n",
      "Score: 2.200422525405884\n",
      "[400|01/20] -/-> 2.7542518192243133\n",
      "Score: 2.17240047454834\n",
      "Score: 1.965201735496521\n",
      "[420|02/20] -/-> 2.4674087068972272\n",
      "Score: 2.199448823928833\n",
      "Score: 2.043604850769043\n",
      "[440|03/20] -/-> 2.1228772761314816\n",
      "Score: 2.127598762512207\n",
      "Score: 2.1204094886779785\n",
      "[460|04/20] -/-> 2.1721099590050246\n",
      "Score: 1.943761944770813\n",
      "Score: 2.2655582427978516\n",
      "[480|05/20] -/-> 2.2886427118611294\n",
      "Score: 2.1850693225860596\n",
      "Score: 2.0413289070129395\n",
      "[500|05/20] ---> 2.0521826781486565\n",
      "Score: 2.410351514816284\n",
      "Score: 2.137361764907837\n",
      "[520|00/20] ---> 2.0306028704848087\n",
      "Score: 1.940224289894104\n",
      "Score: 2.167846918106079\n",
      "[540|01/20] -/-> 3.4913360354992085\n",
      "Score: 2.204944610595703\n",
      "Score: 1.95128333568573\n",
      "[560|02/20] -/-> 2.1476346993290347\n",
      "Score: 1.8712658882141113\n",
      "Score: 1.9486541748046875\n",
      "[580|03/20] -/-> 2.141472176728066\n",
      "Score: 1.9286752939224243\n",
      "Score: 2.142988920211792\n",
      "[600|04/20] -/-> 2.1721099590050246\n",
      "Score: 2.115844488143921\n",
      "Score: 2.1612460613250732\n",
      "[620|05/20] -/-> 2.199319077643429\n",
      "Score: 1.9454009532928467\n",
      "Score: 2.141136646270752\n",
      "[640|06/20] -/-> 2.8346502942601046\n",
      "Score: 1.9501696825027466\n",
      "Score: 2.058156967163086\n",
      "[660|07/20] -/-> 2.4159893222624853\n",
      "Score: 1.793710470199585\n",
      "Score: 1.8976044654846191\n",
      "[680|08/20] -/-> 2.1527566591419887\n",
      "Score: 2.060601234436035\n",
      "Score: 1.7092514038085938\n",
      "[700|08/20] ---> 1.9498107894196925\n",
      "Score: 2.007223606109619\n",
      "Score: 1.9387216567993164\n",
      "[720|01/20] -/-> 2.1781858029264822\n",
      "Score: 1.7154202461242676\n",
      "Score: 1.906125783920288\n",
      "[740|02/20] -/-> 1.9800769797699729\n",
      "Score: 1.8900781869888306\n",
      "Score: 1.9425383806228638\n",
      "[760|03/20] -/-> 3.0095296513686254\n",
      "Score: 2.036116361618042\n",
      "Score: 2.0251169204711914\n",
      "[780|04/20] -/-> 2.4159893222624853\n",
      "Score: 1.8079304695129395\n",
      "Score: 1.9542709589004517\n",
      "[800|04/20] ---> 1.8808096485079784\n",
      "Score: 1.9295521974563599\n",
      "Score: 1.8673804998397827\n",
      "[820|01/20] -/-> 1.9259416142037085\n",
      "Score: 2.063850164413452\n",
      "Score: 1.8662852048873901\n",
      "[840|02/20] -/-> 2.1922972884353658\n",
      "Score: 1.794962763786316\n",
      "Score: 2.0181233882904053\n",
      "[860|03/20] -/-> 3.8860418919387736\n",
      "Score: 2.1892569065093994\n",
      "Score: 1.8542133569717407\n",
      "[880|04/20] -/-> 2.4068551144284154\n",
      "Score: 1.7082699537277222\n",
      "Score: 2.2650537490844727\n",
      "[900|05/20] -/-> 2.129093621139543\n",
      "Score: 1.9408717155456543\n",
      "Score: 2.0733118057250977\n",
      "[920|06/20] -/-> 2.0586125090835004\n",
      "Score: 1.9391518831253052\n",
      "Score: 1.9004321098327637\n",
      "[940|07/20] -/-> 1.9531968599115352\n",
      "Score: 1.8576797246932983\n",
      "Score: 1.5759224891662598\n",
      "[960|07/20] ---> 1.8103958240251157\n",
      "Score: 1.809040904045105\n",
      "Score: 1.797681212425232\n",
      "[980|01/20] -/-> 2.013172480470401\n",
      "Score: 1.7740960121154785\n",
      "Score: 1.9642772674560547\n",
      "[1000|02/20] -/-> 2.0175441956739877\n",
      "Score: 1.852604627609253\n",
      "Score: 2.1159026622772217\n",
      "[1020|03/20] -/-> 1.87141728194751\n",
      "Score: 1.9001655578613281\n",
      "Score: 2.1120378971099854\n",
      "[1040|04/20] -/-> 2.750250288970511\n",
      "Score: 1.800881028175354\n",
      "Score: 1.9503978490829468\n",
      "[1060|05/20] -/-> 1.9040878815834503\n",
      "Score: 1.8508951663970947\n",
      "Score: 2.318845510482788\n",
      "[1080|06/20] -/-> 2.224215943625225\n",
      "Score: 1.9379132986068726\n",
      "Score: 1.939378261566162\n",
      "[1100|07/20] -/-> 2.534345574105233\n",
      "Score: 1.777073621749878\n",
      "Score: 1.9991880655288696\n",
      "[1120|08/20] -/-> 3.3693356774724874\n",
      "Score: 1.6547985076904297\n",
      "Score: 1.7159556150436401\n",
      "[1140|09/20] -/-> 2.024084064350953\n",
      "Score: 1.8276705741882324\n",
      "Score: 1.9198805093765259\n",
      "[1160|10/20] -/-> 1.986740185297678\n",
      "Score: 1.8118513822555542\n",
      "Score: 1.9201488494873047\n",
      "[1180|11/20] -/-> 1.8524896927308419\n",
      "Score: 1.932302474975586\n",
      "Score: 1.8281805515289307\n",
      "[1200|12/20] -/-> 2.143528319474148\n",
      "Score: 1.918428659439087\n",
      "Score: 1.7009578943252563\n",
      "[1220|13/20] -/-> 2.0873016537703886\n",
      "Score: 1.760337471961975\n",
      "Score: 1.5548770427703857\n",
      "[1240|13/20] ---> 1.7945094920842901\n",
      "Score: 1.8935322761535645\n",
      "Score: 1.8471033573150635\n",
      "[1260|01/20] -/-> 2.424180682700622\n",
      "Score: 1.9406615495681763\n",
      "Score: 1.6643706560134888\n",
      "[1280|02/20] -/-> 2.0098874538372815\n",
      "Score: 1.8500897884368896\n",
      "Score: 1.7230818271636963\n",
      "[1300|03/20] -/-> 1.9052443274122517\n",
      "Score: 1.9449620246887207\n",
      "Score: 1.6939159631729126\n",
      "[1320|04/20] -/-> 2.00769444996127\n",
      "Score: 1.8026294708251953\n",
      "Score: 1.5613194704055786\n",
      "[1340|05/20] -/-> 1.9856312038072528\n",
      "Score: 1.878413200378418\n",
      "Score: 1.7421188354492188\n",
      "[1360|06/20] -/-> 2.0142662987964033\n",
      "Score: 1.8446547985076904\n",
      "Score: 1.8610291481018066\n",
      "[1380|07/20] -/-> 2.093623631862774\n",
      "Score: 1.8478922843933105\n",
      "Score: 2.071014165878296\n",
      "[1400|08/20] -/-> 1.87141728194751\n",
      "Score: 1.735841989517212\n",
      "Score: 1.959662675857544\n",
      "[1420|09/20] -/-> 1.994485790443727\n",
      "Score: 1.6828980445861816\n",
      "Score: 1.979363203048706\n",
      "[1440|10/20] -/-> 2.0273460875218885\n",
      "Score: 1.9620574712753296\n",
      "Score: 1.7932641506195068\n",
      "[1460|11/20] -/-> 1.8489191985165743\n",
      "Score: 1.74744713306427\n",
      "Score: 2.221724033355713\n",
      "[1480|12/20] -/-> 2.810458755096206\n",
      "Score: 1.6903767585754395\n",
      "Score: 1.6196117401123047\n",
      "[1500|13/20] -/-> 1.9259416142037085\n",
      "Score: 1.9611225128173828\n",
      "Score: 2.066070318222046\n",
      "[1520|14/20] -/-> 4.76773295529853\n",
      "Score: 1.7869614362716675\n",
      "Score: 1.8033822774887085\n",
      "[1540|15/20] -/-> 1.9316515040347333\n",
      "Score: 1.5765787363052368\n",
      "Score: 1.9074543714523315\n",
      "[1560|16/20] -/-> 2.240987824982113\n",
      "Score: 1.6873830556869507\n",
      "Score: 1.6086020469665527\n",
      "[1580|17/20] -/-> 1.8607942030432314\n",
      "Score: 1.672633171081543\n",
      "Score: 2.0832836627960205\n",
      "[1600|18/20] -/-> 2.388481905934808\n",
      "Score: 1.8915773630142212\n",
      "Score: 1.4907655715942383\n",
      "[1620|19/20] -/-> 1.812827518638991\n",
      "Score: 2.0076510906219482\n",
      "Score: 2.035374879837036\n",
      "[1640|20/20] -/-> 2.20432094691413\n",
      "Restoring best model! 2.204321 ---> 1.794509\n",
      "\n",
      "\n",
      "\n",
      "\n",
      " LEARNING RATE: 0.009999999999999998\n",
      "Score: 1.7485121488571167\n",
      "Score: 1.707384467124939\n",
      "[120|00/20] ---> 1.785896781108956\n",
      "Score: 1.9016820192337036\n",
      "Score: 1.8658182621002197\n",
      "[140|00/20] ---> 1.7409299251851829\n",
      "Score: 1.6654160022735596\n",
      "Score: 1.4163870811462402\n",
      "[160|00/20] ---> 1.7333220376905187\n",
      "Score: 1.6187286376953125\n",
      "Score: 1.8126481771469116\n",
      "[180|01/20] -/-> 1.7585536708374467\n",
      "Score: 1.7779686450958252\n",
      "Score: 1.764250636100769\n",
      "[200|02/20] -/-> 1.752279823971559\n",
      "Score: 1.6891839504241943\n",
      "Score: 1.630313515663147\n",
      "[220|02/20] ---> 1.7231259372415917\n",
      "Score: 1.6572964191436768\n",
      "Score: 1.7489831447601318\n",
      "[240|01/20] -/-> 1.7383976621354682\n",
      "Score: 1.6509419679641724\n",
      "Score: 1.7468955516815186\n",
      "[260|02/20] -/-> 1.8091787510646826\n",
      "Score: 1.7325359582901\n",
      "Score: 2.001786947250366\n",
      "[280|03/20] -/-> 1.8225218525668494\n",
      "Score: 1.6199766397476196\n",
      "Score: 1.6289422512054443\n",
      "[300|04/20] -/-> 1.7307786437486419\n",
      "Score: 1.7093267440795898\n",
      "Score: 1.6052533388137817\n",
      "[320|05/20] -/-> 1.8772930178557283\n",
      "Score: 2.025451183319092\n",
      "Score: 1.9179675579071045\n",
      "[340|05/20] ---> 1.7102953347765966\n",
      "Score: 1.76825749874115\n",
      "Score: 1.4674484729766846\n",
      "[360|00/20] ---> 1.7064273418835487\n",
      "Score: 1.602232575416565\n",
      "Score: 1.6116111278533936\n",
      "[380|01/20] -/-> 1.7409299251851829\n",
      "Score: 1.6038504838943481\n",
      "Score: 1.6423683166503906\n",
      "[400|02/20] -/-> 1.8261439598549007\n",
      "Score: 1.5038411617279053\n",
      "Score: 1.6436914205551147\n",
      "[420|03/20] -/-> 1.7244037467885316\n",
      "Score: 1.5655970573425293\n",
      "Score: 1.4888839721679688\n",
      "[440|04/20] -/-> 1.720567471187192\n",
      "Score: 1.713017463684082\n",
      "Score: 1.6714351177215576\n",
      "[460|05/20] -/-> 1.728231506763247\n",
      "Score: 1.7328119277954102\n",
      "Score: 1.5525933504104614\n",
      "[480|06/20] -/-> 1.753536389083902\n",
      "Score: 1.4425064325332642\n",
      "Score: 1.6701164245605469\n",
      "[500|07/20] -/-> 1.785896781108956\n",
      "Score: 1.4659218788146973\n",
      "Score: 1.5654419660568237\n",
      "[520|07/20] ---> 1.679101920644454\n",
      "Score: 1.7852270603179932\n",
      "Score: 1.7464827299118042\n",
      "[540|01/20] -/-> 1.7760025399831025\n",
      "Score: 1.6588259935379028\n",
      "Score: 1.5128592252731323\n",
      "[560|02/20] -/-> 1.7560468218497576\n",
      "Score: 1.8762035369873047\n",
      "Score: 1.614133358001709\n",
      "[580|03/20] -/-> 1.7256806101599271\n",
      "Score: 1.4787920713424683\n",
      "Score: 1.6902481317520142\n",
      "[600|04/20] -/-> 1.7115827232424972\n",
      "Score: 1.5462403297424316\n",
      "Score: 1.6030887365341187\n",
      "[620|05/20] -/-> 1.7735203549266658\n",
      "Score: 1.4450411796569824\n",
      "Score: 1.7154606580734253\n",
      "[640|06/20] -/-> 1.7585536708374467\n",
      "Score: 1.6120471954345703\n",
      "Score: 1.6710774898529053\n",
      "[660|07/20] -/-> 1.7598057562013687\n",
      "Score: 1.8310145139694214\n",
      "Score: 1.5415241718292236\n",
      "[680|08/20] -/-> 1.7485047104503209\n",
      "Score: 1.654449224472046\n",
      "Score: 1.544503927230835\n",
      "[700|09/20] -/-> 1.7797193264830464\n",
      "Score: 1.507560133934021\n",
      "Score: 1.5490466356277466\n",
      "[720|10/20] -/-> 1.7244037467885316\n",
      "Score: 1.9933515787124634\n",
      "Score: 1.7779452800750732\n",
      "[740|11/20] -/-> 1.7722779587287076\n",
      "Score: 1.5529741048812866\n",
      "Score: 1.536268711090088\n",
      "[760|12/20] -/-> 1.7994125326214292\n",
      "Score: 1.621323823928833\n",
      "Score: 1.471455454826355\n",
      "[780|13/20] -/-> 1.7396642544070606\n",
      "Score: 1.5747774839401245\n",
      "Score: 1.568802833557129\n",
      "[800|14/20] -/-> 1.8188925322989435\n",
      "Score: 1.4160805940628052\n",
      "Score: 1.4482496976852417\n",
      "[820|15/20] -/-> 1.7735203549266658\n",
      "Score: 1.471228003501892\n",
      "Score: 1.643970251083374\n",
      "[840|16/20] -/-> 1.7772423324831208\n",
      "Score: 1.4959503412246704\n",
      "Score: 1.603995680809021\n",
      "[860|17/20] -/-> 1.8152559557875099\n",
      "Score: 1.5165047645568848\n",
      "Score: 1.6815855503082275\n",
      "[880|18/20] -/-> 1.8188925322989435\n",
      "Score: 1.5276319980621338\n",
      "Score: 2.0449795722961426\n",
      "[900|19/20] -/-> 2.2083142852363324\n",
      "Score: 1.8545974493026733\n",
      "Score: 1.6353847980499268\n",
      "[920|20/20] -/-> 1.8018590497711775\n",
      "Restoring best model! 1.801859 ---> 1.679102\n",
      "\n",
      "\n",
      "\n",
      "\n",
      " LEARNING RATE: 0.003333333333333333\n",
      "Score: 1.4532095193862915\n",
      "Score: 1.6214326620101929\n",
      "[120|00/20] ---> 1.6712125962456783\n",
      "Score: 1.6164414882659912\n",
      "Score: 1.4606181383132935\n",
      "[140|01/20] -/-> 1.7167226228708736\n",
      "Score: 1.583815574645996\n",
      "Score: 1.4664775133132935\n",
      "[160|02/20] -/-> 1.735861705041861\n",
      "Score: 1.472808837890625\n",
      "Score: 1.3865994215011597\n",
      "[180|03/20] -/-> 1.7472445267115155\n",
      "Score: 1.6807997226715088\n",
      "Score: 1.445942997932434\n",
      "[200|04/20] -/-> 1.7747618814034798\n",
      "Score: 1.5614566802978516\n",
      "Score: 1.5694762468338013\n",
      "[220|05/20] -/-> 1.7320508075688772\n",
      "Score: 1.518679141998291\n",
      "Score: 1.522642970085144\n",
      "[240|06/20] -/-> 1.7834283669629418\n",
      "Score: 1.817024827003479\n",
      "Score: 1.6749409437179565\n",
      "[260|07/20] -/-> 1.6973677470490793\n",
      "Score: 1.6507349014282227\n",
      "Score: 1.5101146697998047\n",
      "[280|08/20] -/-> 1.7573006933567876\n",
      "Score: 1.689493179321289\n",
      "Score: 1.6703475713729858\n",
      "[300|09/20] -/-> 1.720567471187192\n",
      "Score: 1.5341466665267944\n",
      "Score: 1.4951996803283691\n",
      "[320|10/20] -/-> 1.7459834334207573\n",
      "Score: 1.3879625797271729\n",
      "Score: 1.674546241760254\n",
      "[340|11/20] -/-> 1.7459834334207573\n",
      "Score: 1.5657832622528076\n",
      "Score: 1.5486369132995605\n",
      "[360|12/20] -/-> 1.753536389083902\n",
      "Score: 1.8151941299438477\n",
      "Score: 1.784040927886963\n",
      "[380|13/20] -/-> 1.7269565294545055\n",
      "Score: 1.5213035345077515\n",
      "Score: 1.470268726348877\n",
      "[400|14/20] -/-> 1.7115827232424972\n",
      "Score: 1.5845632553100586\n",
      "Score: 1.5003302097320557\n",
      "[420|15/20] -/-> 1.761056951351399\n",
      "Score: 1.4914053678512573\n",
      "Score: 1.5211292505264282\n",
      "[440|16/20] -/-> 1.7167226228708736\n",
      "Score: 1.6526294946670532\n",
      "Score: 1.6391854286193848\n",
      "[460|17/20] -/-> 1.7409299251851829\n",
      "Score: 1.535131573677063\n",
      "Score: 1.495882272720337\n",
      "[480|18/20] -/-> 1.7547920543999003\n",
      "Score: 1.5293382406234741\n",
      "Score: 1.4574404954910278\n",
      "[500|19/20] -/-> 1.6960695688499499\n",
      "Score: 1.6041754484176636\n",
      "Score: 1.5541167259216309\n",
      "[520|20/20] -/-> 1.7012563380494146\n",
      "Restoring best model! 1.701256 ---> 1.671213\n"
     ]
    }
   ],
   "source": [
    "net.std = 1e-2\n",
    "\n",
    "set_seed(8)\n",
    "net.initialize()\n",
    "\n",
    "alpha = 30 #3e-2 #7e-3 #1e-3\n",
    "\n",
    "\n",
    "#scheduler = torch.optim.lr_scheduler.StepLR(optimizer, step_size=3000, gamma=0.3)\n",
    "learning_rates = 0.03 * 3.0**(-np.arange(3))\n",
    "\n",
    "for lr in learning_rates:\n",
    "    print('\\n\\n\\n\\n LEARNING RATE: {}'.format(lr))\n",
    "    optimizer = torch.optim.SGD(net.parameters(), lr=lr)\n",
    "    for epoch, valid_score in early_stopping(net, objective, interval=20, start=100, patience=20, max_iter=300000, maximize=False):\n",
    "        data_loader = DataLoader(train_dataset, shuffle=True, batch_size=128)\n",
    "        for x_, t_ in data_loader:\n",
    "            x, t = Variable(x_).cuda(), Variable(t_).cuda()\n",
    "            net.train()\n",
    "            optimizer.zero_grad()\n",
    "            y = net(x)\n",
    "            post = y + prior\n",
    "            val, _ = post.max(1, keepdim=True)\n",
    "            post = post - val\n",
    "            #sparcity = y.abs().sum(1).mean()\n",
    "            conv_filter = Variable(torch.from_numpy(np.array([-0.25, 0.5, -0.25])[None, None, :]).type(y.data.type()))\n",
    "            smoothness = nn.functional.conv1d(y.unsqueeze(1), conv_filter).pow(2).mean()\n",
    "            score = loss(post, t)\n",
    "            score = score + alpha * smoothness\n",
    "            score.backward()\n",
    "            optimizer.step()\n",
    "        if epoch % 10 == 0:\n",
    "            print('Score: {}'.format(score.data.cpu().numpy()[0]))\n",
    "        #scheduler.step()"
   ]
  },
  {
   "cell_type": "code",
   "execution_count": 52,
   "metadata": {},
   "outputs": [
    {
     "data": {
      "text/plain": [
       "0.8644516692407732"
      ]
     },
     "execution_count": 52,
     "metadata": {},
     "output_type": "execute_result"
    }
   ],
   "source": [
    "objective(net, Variable(train_x).cuda(), Variable(train_t).cuda())"
   ]
  },
  {
   "cell_type": "code",
   "execution_count": 53,
   "metadata": {},
   "outputs": [
    {
     "data": {
      "text/plain": [
       "1.6712125962456783"
      ]
     },
     "execution_count": 53,
     "metadata": {},
     "output_type": "execute_result"
    }
   ],
   "source": [
    "objective(net, valid_x, valid_t)"
   ]
  },
  {
   "cell_type": "code",
   "execution_count": 54,
   "metadata": {},
   "outputs": [
    {
     "data": {
      "text/plain": [
       "Text(0.5,0.98,'$\\\\mathbf{E}[\\\\sigma]$=1.867')"
      ]
     },
     "execution_count": 54,
     "metadata": {},
     "output_type": "execute_result"
    },
    {
     "data": {
      "image/png": "[encoded data removed]",
      "text/plain": [
       "<matplotlib.figure.Figure at 0x7fef8d1c80b8>"
      ]
     },
     "metadata": {},
     "output_type": "display_data"
    }
   ],
   "source": [
    "from itertools import count\n",
    "\n",
    "y = net(valid_x)\n",
    "#val, idx = torch.max(y, 1)\n",
    "yd = y.data.cpu().numpy()\n",
    "yd = np.exp(yd)\n",
    "yd = yd / yd.sum(axis=1, keepdims=True)\n",
    "\n",
    "loc = yd.argmax(axis=1)\n",
    "ds = (np.arange(nbins) - loc[:, None])**2\n",
    "\n",
    "avg_sigma = np.mean(np.sqrt(np.sum(yd * ds, axis=1))) * delta\n",
    "\n",
    "\n",
    "n_rows = 5\n",
    "n_cols = 6\n",
    "fig, axs = plt.subplots(5, 6, figsize=(12, 12))\n",
    "\n",
    "for c, ((i, j), ax) in zip(count(), np.ndenumerate(axs)):\n",
    "    \n",
    "    ax.plot(pv, yd[c])\n",
    "    ax.set_ylim([0, 0.5])\n",
    "    ax.set_yticks([])\n",
    "    if j == 0 and i == n_rows-1:\n",
    "        ax.set_ylabel('Likelihood (a.u.)')\n",
    "        ax.set_xlabel('Binned orientation ($^\\circ$)')\n",
    "    else:\n",
    "        ax.set_xticklabels([])\n",
    "\n",
    "fig.suptitle(\"$\\mathbf{{E}}[\\sigma]$={:0.3f}\".format(avg_sigma), fontsize=14)\n"
   ]
  },
  {
   "cell_type": "code",
   "execution_count": null,
   "metadata": {},
   "outputs": [],
   "source": []
  }
 ],
 "metadata": {
  "kernelspec": {
   "display_name": "Python 3",
   "language": "python",
   "name": "python3"
  },
  "language_info": {
   "codemirror_mode": {
    "name": "ipython",
    "version": 3
   },
   "file_extension": ".py",
   "mimetype": "text/x-python",
   "name": "python",
   "nbconvert_exporter": "python",
   "pygments_lexer": "ipython3",
   "version": "3.5.2"
  }
 },
 "nbformat": 4,
 "nbformat_minor": 2
}
