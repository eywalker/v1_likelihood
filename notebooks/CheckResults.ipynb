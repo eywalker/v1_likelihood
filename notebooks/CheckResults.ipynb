{
 "cells": [
  {
   "cell_type": "code",
   "execution_count": 1,
   "metadata": {},
   "outputs": [],
   "source": [
    "import logging\n",
    "logging.basicConfig(level=logging.DEBUG)"
   ]
  },
  {
   "cell_type": "code",
   "execution_count": 19,
   "metadata": {},
   "outputs": [],
   "source": [
    "x = np.random.randn(3, 4, 5)\n",
    "idx = np.argmax(x, axis=-1)"
   ]
  },
  {
   "cell_type": "code",
   "execution_count": 23,
   "metadata": {},
   "outputs": [
    {
     "data": {
      "text/plain": [
       "array([[4, 4, 1, 3],\n",
       "       [3, 1, 4, 1],\n",
       "       [3, 4, 2, 2]])"
      ]
     },
     "execution_count": 23,
     "metadata": {},
     "output_type": "execute_result"
    }
   ],
   "source": [
    "idx"
   ]
  },
  {
   "cell_type": "code",
   "execution_count": 26,
   "metadata": {},
   "outputs": [],
   "source": [
    "np.ravel_multi_index?"
   ]
  },
  {
   "cell_type": "code",
   "execution_count": 27,
   "metadata": {},
   "outputs": [
    {
     "ename": "ValueError",
     "evalue": "invalid entry in coordinates array",
     "output_type": "error",
     "traceback": [
      "\u001b[0;31m---------------------------------------------------------------------------\u001b[0m",
      "\u001b[0;31mValueError\u001b[0m                                Traceback (most recent call last)",
      "\u001b[0;32m<ipython-input-27-1c1de0b4cf87>\u001b[0m in \u001b[0;36m<module>\u001b[0;34m()\u001b[0m\n\u001b[0;32m----> 1\u001b[0;31m \u001b[0mnp\u001b[0m\u001b[0;34m.\u001b[0m\u001b[0mravel_multi_index\u001b[0m\u001b[0;34m(\u001b[0m\u001b[0midx\u001b[0m\u001b[0;34m,\u001b[0m \u001b[0mx\u001b[0m\u001b[0;34m.\u001b[0m\u001b[0mshape\u001b[0m\u001b[0;34m)\u001b[0m\u001b[0;34m\u001b[0m\u001b[0m\n\u001b[0m",
      "\u001b[0;31mValueError\u001b[0m: invalid entry in coordinates array"
     ]
    }
   ],
   "source": [
    "np.ravel_multi_index(idx, x.shape)"
   ]
  },
  {
   "cell_type": "code",
   "execution_count": 20,
   "metadata": {},
   "outputs": [
    {
     "data": {
      "text/plain": [
       "array([[ 0.22897953,  0.22897953, -0.01511301, -0.03392935],\n",
       "       [-0.03392935, -0.01511301,  0.22897953, -0.01511301],\n",
       "       [-0.03392935,  0.22897953, -1.14988679, -1.14988679]])"
      ]
     },
     "execution_count": 20,
     "metadata": {},
     "output_type": "execute_result"
    }
   ],
   "source": [
    "x[np.unravel_index(idx, x.shape)]"
   ]
  },
  {
   "cell_type": "code",
   "execution_count": 42,
   "metadata": {},
   "outputs": [
    {
     "ename": "IndexError",
     "evalue": "too many indices for array",
     "output_type": "error",
     "traceback": [
      "\u001b[0;31m---------------------------------------------------------------------------\u001b[0m",
      "\u001b[0;31mIndexError\u001b[0m                                Traceback (most recent call last)",
      "\u001b[0;32m<ipython-input-42-9e9c23a60b41>\u001b[0m in \u001b[0;36m<module>\u001b[0;34m()\u001b[0m\n\u001b[0;32m----> 1\u001b[0;31m \u001b[0mx\u001b[0m\u001b[0;34m[\u001b[0m\u001b[0mlist\u001b[0m\u001b[0;34m(\u001b[0m\u001b[0mzip\u001b[0m\u001b[0;34m(\u001b[0m\u001b[0mi\u001b[0m \u001b[0;32mfor\u001b[0m \u001b[0mi\u001b[0m\u001b[0;34m,\u001b[0m \u001b[0mv\u001b[0m \u001b[0;32min\u001b[0m \u001b[0mnp\u001b[0m\u001b[0;34m.\u001b[0m\u001b[0mndenumerate\u001b[0m\u001b[0;34m(\u001b[0m\u001b[0midx\u001b[0m\u001b[0;34m)\u001b[0m\u001b[0;34m)\u001b[0m\u001b[0;34m)\u001b[0m\u001b[0;34m]\u001b[0m\u001b[0;34m\u001b[0m\u001b[0m\n\u001b[0m",
      "\u001b[0;31mIndexError\u001b[0m: too many indices for array"
     ]
    }
   ],
   "source": [
    "x[list(zip(i for i, v in np.ndenumerate(idx)))]"
   ]
  },
  {
   "cell_type": "code",
   "execution_count": 40,
   "metadata": {},
   "outputs": [
    {
     "data": {
      "text/plain": [
       "[(0, 0),\n",
       " (0, 1),\n",
       " (0, 2),\n",
       " (0, 3),\n",
       " (1, 0),\n",
       " (1, 1),\n",
       " (1, 2),\n",
       " (1, 3),\n",
       " (2, 0),\n",
       " (2, 1),\n",
       " (2, 2),\n",
       " (2, 3)]"
      ]
     },
     "execution_count": 40,
     "metadata": {},
     "output_type": "execute_result"
    }
   ],
   "source": [
    "list(i for i, v in np.ndenumerate(idx))"
   ]
  },
  {
   "cell_type": "code",
   "execution_count": 21,
   "metadata": {},
   "outputs": [
    {
     "data": {
      "text/plain": [
       "array([[ 0.22897953,  1.41440721,  1.10529667,  0.87696856],\n",
       "       [ 2.01194299,  1.67628787,  1.14884505,  0.82680577],\n",
       "       [ 1.20520928,  0.77052204,  1.20350641,  1.34610153]])"
      ]
     },
     "execution_count": 21,
     "metadata": {},
     "output_type": "execute_result"
    }
   ],
   "source": [
    "np.max(x, axis=-1)"
   ]
  },
  {
   "cell_type": "code",
   "execution_count": 10,
   "metadata": {},
   "outputs": [
    {
     "data": {
      "text/plain": [
       "array([[[[ 0.93162641,  0.18195201,  0.29364444,  0.18195201],\n",
       "         [ 0.18195201, -1.43849411,  0.18195201,  0.93162641],\n",
       "         [ 0.29364444,  0.18195201,  0.18195201, -1.43849411]],\n",
       "\n",
       "        [[-0.30307521,  1.28951026,  0.4333303 ,  1.28951026],\n",
       "         [ 1.28951026, -1.07050876,  1.28951026, -0.30307521],\n",
       "         [ 0.4333303 ,  1.28951026,  1.28951026, -1.07050876]],\n",
       "\n",
       "        [[-0.37645895, -0.30027896,  0.3039103 , -0.30027896],\n",
       "         [-0.30027896, -0.29823076, -0.30027896, -0.37645895],\n",
       "         [ 0.3039103 , -0.30027896, -0.30027896, -0.29823076]],\n",
       "\n",
       "        [[ 0.34478761,  1.51033122, -0.72382725,  1.51033122],\n",
       "         [ 1.51033122,  0.45580999,  1.51033122,  0.34478761],\n",
       "         [-0.72382725,  1.51033122,  1.51033122,  0.45580999]]],\n",
       "\n",
       "\n",
       "       [[[ 0.89275381,  2.20592641, -1.58007147,  2.20592641],\n",
       "         [ 2.20592641, -0.77160973,  2.20592641,  0.89275381],\n",
       "         [-1.58007147,  2.20592641,  2.20592641, -0.77160973]],\n",
       "\n",
       "        [[ 0.40716265, -1.05242543, -1.02420754, -1.05242543],\n",
       "         [-1.05242543,  1.64079844, -1.05242543,  0.40716265],\n",
       "         [-1.02420754, -1.05242543, -1.05242543,  1.64079844]],\n",
       "\n",
       "        [[-0.05286283,  1.14604169, -0.21380178,  1.14604169],\n",
       "         [ 1.14604169, -1.58622842,  1.14604169, -0.05286283],\n",
       "         [-0.21380178,  1.14604169,  1.14604169, -1.58622842]],\n",
       "\n",
       "        [[ 1.15636307,  0.08025714,  0.10057769,  0.08025714],\n",
       "         [ 0.08025714,  0.886264  ,  0.08025714,  1.15636307],\n",
       "         [ 0.10057769,  0.08025714,  0.08025714,  0.886264  ]]],\n",
       "\n",
       "\n",
       "       [[[-0.15630995, -0.62646418,  1.74487439, -0.62646418],\n",
       "         [-0.62646418,  1.49071446, -0.62646418, -0.15630995],\n",
       "         [ 1.74487439, -0.62646418, -0.62646418,  1.49071446]],\n",
       "\n",
       "        [[ 0.39260237,  0.66991362, -0.36263999,  0.66991362],\n",
       "         [ 0.66991362,  0.44763982,  0.66991362,  0.39260237],\n",
       "         [-0.36263999,  0.66991362,  0.66991362,  0.44763982]],\n",
       "\n",
       "        [[ 1.41058765,  2.89257699,  1.14564105,  2.89257699],\n",
       "         [ 2.89257699, -1.47325129,  2.89257699,  1.41058765],\n",
       "         [ 1.14564105,  2.89257699,  2.89257699, -1.47325129]],\n",
       "\n",
       "        [[-0.35293402, -0.93578788,  1.49376737, -0.93578788],\n",
       "         [-0.93578788,  1.74826171, -0.93578788, -0.35293402],\n",
       "         [ 1.49376737, -0.93578788, -0.93578788,  1.74826171]]]])"
      ]
     },
     "execution_count": 10,
     "metadata": {},
     "output_type": "execute_result"
    }
   ],
   "source": [
    "x[:, :, idx]"
   ]
  },
  {
   "cell_type": "code",
   "execution_count": 1,
   "metadata": {
    "scrolled": false
   },
   "outputs": [
    {
     "name": "stdout",
     "output_type": "stream",
     "text": [
      "Connecting eywalker@10.28.3.113:3306\n"
     ]
    },
    {
     "name": "stderr",
     "output_type": "stream",
     "text": [
      "/usr/local/lib/python3.5/dist-packages/pymysql/cursors.py:166: Warning: (1681, \"'ERROR_FOR_DIVISION_BY_ZERO' is deprecated and will be removed in a future release.\")\n",
      "  result = self._query(query)\n",
      "/usr/local/lib/python3.5/dist-packages/pymysql/cursors.py:166: Warning: (1681, \"'NO_ZERO_DATE' is deprecated and will be removed in a future release.\")\n",
      "  result = self._query(query)\n",
      "/usr/local/lib/python3.5/dist-packages/pymysql/cursors.py:166: Warning: (1681, \"'NO_ZERO_IN_DATE' is deprecated and will be removed in a future release.\")\n",
      "  result = self._query(query)\n"
     ]
    }
   ],
   "source": [
    "from matplotlib import pyplot as plt\n",
    "import numpy as np\n",
    "%matplotlib inline\n",
    "import datajoint as dj\n",
    "from v1_likelihood import train"
   ]
  },
  {
   "cell_type": "code",
   "execution_count": 2,
   "metadata": {},
   "outputs": [],
   "source": [
    "dj.config['display.limit'] = 30"
   ]
  },
  {
   "cell_type": "code",
   "execution_count": 3,
   "metadata": {},
   "outputs": [],
   "source": [
    "best = train.CVTrainedModel() & train.CVSet().aggr(train.CVTrainedModel(), cnn_valid_score='min(cnn_valid_score)')\n",
    "\n",
    "goods = best * train.LinearRegression() & 'cnn_valid_score < lr_testset_score'\n",
    "\n",
    "bads = best * train.LinearRegression() & 'cnn_valid_score >= lr_testset_score'"
   ]
  },
  {
   "cell_type": "markdown",
   "metadata": {},
   "source": [
    "This runs in reasonable time"
   ]
  },
  {
   "cell_type": "code",
   "execution_count": 4,
   "metadata": {},
   "outputs": [
    {
     "data": {
      "text/plain": [
       "array([ ('0534116fd0aea4c6fdc4b8908c1fa5fd3d48e5b7', '0.005', 35, '57eeec0a6974ecb4e9fcf68fab052f7b', '9c9248d6b67fe1d8348bc51605658447', '5f158ede88a67605c4a024d6f4cc9824', 'efb595680dd3d464639a4f48dbb9613a',   8,  9.89339,  9.55408,  24.6115 ,  8.80198,  10.3265 ),\n",
       "       ('0534116fd0aea4c6fdc4b8908c1fa5fd3d48e5b7', '0.04', 35, '57eeec0a6974ecb4e9fcf68fab052f7b', '9c9248d6b67fe1d8348bc51605658447', '60993fbe03e405d2e8a3b5ff3a3da0ab', 'fd90e9c867b9f98188f89383664d5618', 123,  3.23623,  4.42673,   5.03869,  4.12118,   4.83828),\n",
       "       ('0534116fd0aea4c6fdc4b8908c1fa5fd3d48e5b7', '0.32', 35, '57eeec0a6974ecb4e9fcf68fab052f7b', '9c9248d6b67fe1d8348bc51605658447', '60993fbe03e405d2e8a3b5ff3a3da0ab', 'fd90e9c867b9f98188f89383664d5618',  92,  1.64968,  2.44339,   2.88505,  2.47696,   2.92996),\n",
       "       ('0732f2b73f4900ee4fa81f8853b48e460a42ee14', '0.02', 35, '57eeec0a6974ecb4e9fcf68fab052f7b', '9c9248d6b67fe1d8348bc51605658447', '60993fbe03e405d2e8a3b5ff3a3da0ab', '284e74eab55326f327100ee9acfbf8ca', 123,  3.89206,  4.21307,   9.84311,  3.79281,   4.52524),\n",
       "       ('0732f2b73f4900ee4fa81f8853b48e460a42ee14', '0.16', 35, '57eeec0a6974ecb4e9fcf68fab052f7b', '9c9248d6b67fe1d8348bc51605658447', '5f158ede88a67605c4a024d6f4cc9824', '5cc4230be9665a7389b6098b1ddfbff1',  92,  2.53832,  2.48554,   6.69132,  2.12098,   2.67761)],\n",
       "      dtype=[('csc_hash', 'O'), ('dataset_contrast', 'O'), ('cv_seed', '<i8'), ('cv_config_id', 'O'), ('bin_config_id', 'O'), ('model_id', 'O'), ('param_id', 'O'), ('train_seed', '<i8'), ('cnn_train_score', '<f8'), ('cnn_valid_score', '<f8'), ('avg_sigma', '<f8'), ('lr_trainset_score', '<f8'), ('lr_testset_score', '<f8')])"
      ]
     },
     "execution_count": 4,
     "metadata": {},
     "output_type": "execute_result"
    }
   ],
   "source": [
    "goods.proj(*goods.heading.non_blobs).fetch(limit=5)"
   ]
  },
  {
   "cell_type": "markdown",
   "metadata": {},
   "source": [
    "This one stalls"
   ]
  },
  {
   "cell_type": "code",
   "execution_count": 5,
   "metadata": {},
   "outputs": [
    {
     "ename": "KeyboardInterrupt",
     "evalue": "",
     "output_type": "error",
     "traceback": [
      "\u001b[0;31m---------------------------------------------------------------------------\u001b[0m",
      "\u001b[0;31mKeyboardInterrupt\u001b[0m                         Traceback (most recent call last)",
      "\u001b[0;32m<ipython-input-5-c58f23ae5b89>\u001b[0m in \u001b[0;36m<module>\u001b[0;34m()\u001b[0m\n\u001b[0;32m----> 1\u001b[0;31m \u001b[0mgoods\u001b[0m\u001b[0;34m.\u001b[0m\u001b[0mproj\u001b[0m\u001b[0;34m(\u001b[0m\u001b[0;34m)\u001b[0m\u001b[0;34m.\u001b[0m\u001b[0mfetch\u001b[0m\u001b[0;34m(\u001b[0m\u001b[0mlimit\u001b[0m\u001b[0;34m=\u001b[0m\u001b[0;36m5\u001b[0m\u001b[0;34m)\u001b[0m\u001b[0;34m\u001b[0m\u001b[0m\n\u001b[0m",
      "\u001b[0;32m/usr/local/lib/python3.5/dist-packages/datajoint/fetch.py\u001b[0m in \u001b[0;36m__call__\u001b[0;34m(self, *attrs, **kwargs)\u001b[0m\n\u001b[1;32m    200\u001b[0m \u001b[0;34m\u001b[0m\u001b[0m\n\u001b[1;32m    201\u001b[0m         \u001b[0;32mif\u001b[0m \u001b[0mlen\u001b[0m\u001b[0;34m(\u001b[0m\u001b[0mattrs\u001b[0m\u001b[0;34m)\u001b[0m \u001b[0;34m==\u001b[0m \u001b[0;36m0\u001b[0m\u001b[0;34m:\u001b[0m \u001b[0;31m# fetch all attributes\u001b[0m\u001b[0;34m\u001b[0m\u001b[0m\n\u001b[0;32m--> 202\u001b[0;31m             \u001b[0mcur\u001b[0m \u001b[0;34m=\u001b[0m \u001b[0mself\u001b[0m\u001b[0;34m.\u001b[0m\u001b[0m_relation\u001b[0m\u001b[0;34m.\u001b[0m\u001b[0mcursor\u001b[0m\u001b[0;34m(\u001b[0m\u001b[0;34m**\u001b[0m\u001b[0msql_behavior\u001b[0m\u001b[0;34m)\u001b[0m\u001b[0;34m\u001b[0m\u001b[0m\n\u001b[0m\u001b[1;32m    203\u001b[0m             \u001b[0mheading\u001b[0m \u001b[0;34m=\u001b[0m \u001b[0mself\u001b[0m\u001b[0;34m.\u001b[0m\u001b[0m_relation\u001b[0m\u001b[0;34m.\u001b[0m\u001b[0mheading\u001b[0m\u001b[0;34m\u001b[0m\u001b[0m\n\u001b[1;32m    204\u001b[0m             \u001b[0;32mif\u001b[0m \u001b[0msql_behavior\u001b[0m\u001b[0;34m[\u001b[0m\u001b[0;34m'as_dict'\u001b[0m\u001b[0;34m]\u001b[0m\u001b[0;34m:\u001b[0m\u001b[0;34m\u001b[0m\u001b[0m\n",
      "\u001b[0;32m/usr/local/lib/python3.5/dist-packages/datajoint/relational_operand.py\u001b[0m in \u001b[0;36mcursor\u001b[0;34m(self, offset, limit, order_by, as_dict)\u001b[0m\n\u001b[1;32m    477\u001b[0m             \u001b[0msql\u001b[0m \u001b[0;34m+=\u001b[0m \u001b[0;34m' LIMIT %d'\u001b[0m \u001b[0;34m%\u001b[0m \u001b[0mlimit\u001b[0m \u001b[0;34m+\u001b[0m \u001b[0;34m(\u001b[0m\u001b[0;34m' OFFSET %d'\u001b[0m \u001b[0;34m%\u001b[0m \u001b[0moffset\u001b[0m \u001b[0;32mif\u001b[0m \u001b[0moffset\u001b[0m \u001b[0;32melse\u001b[0m \u001b[0;34m\"\"\u001b[0m\u001b[0;34m)\u001b[0m\u001b[0;34m\u001b[0m\u001b[0m\n\u001b[1;32m    478\u001b[0m         \u001b[0mlogger\u001b[0m\u001b[0;34m.\u001b[0m\u001b[0mdebug\u001b[0m\u001b[0;34m(\u001b[0m\u001b[0msql\u001b[0m\u001b[0;34m)\u001b[0m\u001b[0;34m\u001b[0m\u001b[0m\n\u001b[0;32m--> 479\u001b[0;31m         \u001b[0;32mreturn\u001b[0m \u001b[0mself\u001b[0m\u001b[0;34m.\u001b[0m\u001b[0mconnection\u001b[0m\u001b[0;34m.\u001b[0m\u001b[0mquery\u001b[0m\u001b[0;34m(\u001b[0m\u001b[0msql\u001b[0m\u001b[0;34m,\u001b[0m \u001b[0mas_dict\u001b[0m\u001b[0;34m=\u001b[0m\u001b[0mas_dict\u001b[0m\u001b[0;34m)\u001b[0m\u001b[0;34m\u001b[0m\u001b[0m\n\u001b[0m\u001b[1;32m    480\u001b[0m \u001b[0;34m\u001b[0m\u001b[0m\n\u001b[1;32m    481\u001b[0m \u001b[0;34m\u001b[0m\u001b[0m\n",
      "\u001b[0;32m/usr/local/lib/python3.5/dist-packages/datajoint/connection.py\u001b[0m in \u001b[0;36mquery\u001b[0;34m(self, query, args, as_dict, suppress_warnings)\u001b[0m\n\u001b[1;32m    127\u001b[0m                     \u001b[0;31m# suppress all warnings arising from underlying SQL library\u001b[0m\u001b[0;34m\u001b[0m\u001b[0;34m\u001b[0m\u001b[0m\n\u001b[1;32m    128\u001b[0m                     \u001b[0mwarnings\u001b[0m\u001b[0;34m.\u001b[0m\u001b[0msimplefilter\u001b[0m\u001b[0;34m(\u001b[0m\u001b[0;34m\"ignore\"\u001b[0m\u001b[0;34m)\u001b[0m\u001b[0;34m\u001b[0m\u001b[0m\n\u001b[0;32m--> 129\u001b[0;31m                 \u001b[0mcur\u001b[0m\u001b[0;34m.\u001b[0m\u001b[0mexecute\u001b[0m\u001b[0;34m(\u001b[0m\u001b[0mquery\u001b[0m\u001b[0;34m,\u001b[0m \u001b[0margs\u001b[0m\u001b[0;34m)\u001b[0m\u001b[0;34m\u001b[0m\u001b[0m\n\u001b[0m\u001b[1;32m    130\u001b[0m \u001b[0;34m\u001b[0m\u001b[0m\n\u001b[1;32m    131\u001b[0m         \u001b[0;32mexcept\u001b[0m \u001b[0merr\u001b[0m\u001b[0;34m.\u001b[0m\u001b[0mOperationalError\u001b[0m \u001b[0;32mas\u001b[0m \u001b[0me\u001b[0m\u001b[0;34m:\u001b[0m\u001b[0;34m\u001b[0m\u001b[0m\n",
      "\u001b[0;32m/usr/local/lib/python3.5/dist-packages/pymysql/cursors.py\u001b[0m in \u001b[0;36mexecute\u001b[0;34m(self, query, args)\u001b[0m\n\u001b[1;32m    164\u001b[0m         \u001b[0mquery\u001b[0m \u001b[0;34m=\u001b[0m \u001b[0mself\u001b[0m\u001b[0;34m.\u001b[0m\u001b[0mmogrify\u001b[0m\u001b[0;34m(\u001b[0m\u001b[0mquery\u001b[0m\u001b[0;34m,\u001b[0m \u001b[0margs\u001b[0m\u001b[0;34m)\u001b[0m\u001b[0;34m\u001b[0m\u001b[0m\n\u001b[1;32m    165\u001b[0m \u001b[0;34m\u001b[0m\u001b[0m\n\u001b[0;32m--> 166\u001b[0;31m         \u001b[0mresult\u001b[0m \u001b[0;34m=\u001b[0m \u001b[0mself\u001b[0m\u001b[0;34m.\u001b[0m\u001b[0m_query\u001b[0m\u001b[0;34m(\u001b[0m\u001b[0mquery\u001b[0m\u001b[0;34m)\u001b[0m\u001b[0;34m\u001b[0m\u001b[0m\n\u001b[0m\u001b[1;32m    167\u001b[0m         \u001b[0mself\u001b[0m\u001b[0;34m.\u001b[0m\u001b[0m_executed\u001b[0m \u001b[0;34m=\u001b[0m \u001b[0mquery\u001b[0m\u001b[0;34m\u001b[0m\u001b[0m\n\u001b[1;32m    168\u001b[0m         \u001b[0;32mreturn\u001b[0m \u001b[0mresult\u001b[0m\u001b[0;34m\u001b[0m\u001b[0m\n",
      "\u001b[0;32m/usr/local/lib/python3.5/dist-packages/pymysql/cursors.py\u001b[0m in \u001b[0;36m_query\u001b[0;34m(self, q)\u001b[0m\n\u001b[1;32m    320\u001b[0m         \u001b[0mconn\u001b[0m \u001b[0;34m=\u001b[0m \u001b[0mself\u001b[0m\u001b[0;34m.\u001b[0m\u001b[0m_get_db\u001b[0m\u001b[0;34m(\u001b[0m\u001b[0;34m)\u001b[0m\u001b[0;34m\u001b[0m\u001b[0m\n\u001b[1;32m    321\u001b[0m         \u001b[0mself\u001b[0m\u001b[0;34m.\u001b[0m\u001b[0m_last_executed\u001b[0m \u001b[0;34m=\u001b[0m \u001b[0mq\u001b[0m\u001b[0;34m\u001b[0m\u001b[0m\n\u001b[0;32m--> 322\u001b[0;31m         \u001b[0mconn\u001b[0m\u001b[0;34m.\u001b[0m\u001b[0mquery\u001b[0m\u001b[0;34m(\u001b[0m\u001b[0mq\u001b[0m\u001b[0;34m)\u001b[0m\u001b[0;34m\u001b[0m\u001b[0m\n\u001b[0m\u001b[1;32m    323\u001b[0m         \u001b[0mself\u001b[0m\u001b[0;34m.\u001b[0m\u001b[0m_do_get_result\u001b[0m\u001b[0;34m(\u001b[0m\u001b[0;34m)\u001b[0m\u001b[0;34m\u001b[0m\u001b[0m\n\u001b[1;32m    324\u001b[0m         \u001b[0;32mreturn\u001b[0m \u001b[0mself\u001b[0m\u001b[0;34m.\u001b[0m\u001b[0mrowcount\u001b[0m\u001b[0;34m\u001b[0m\u001b[0m\n",
      "\u001b[0;32m/usr/local/lib/python3.5/dist-packages/pymysql/connections.py\u001b[0m in \u001b[0;36mquery\u001b[0;34m(self, sql, unbuffered)\u001b[0m\n\u001b[1;32m    854\u001b[0m                 \u001b[0msql\u001b[0m \u001b[0;34m=\u001b[0m \u001b[0msql\u001b[0m\u001b[0;34m.\u001b[0m\u001b[0mencode\u001b[0m\u001b[0;34m(\u001b[0m\u001b[0mself\u001b[0m\u001b[0;34m.\u001b[0m\u001b[0mencoding\u001b[0m\u001b[0;34m,\u001b[0m \u001b[0;34m'surrogateescape'\u001b[0m\u001b[0;34m)\u001b[0m\u001b[0;34m\u001b[0m\u001b[0m\n\u001b[1;32m    855\u001b[0m         \u001b[0mself\u001b[0m\u001b[0;34m.\u001b[0m\u001b[0m_execute_command\u001b[0m\u001b[0;34m(\u001b[0m\u001b[0mCOMMAND\u001b[0m\u001b[0;34m.\u001b[0m\u001b[0mCOM_QUERY\u001b[0m\u001b[0;34m,\u001b[0m \u001b[0msql\u001b[0m\u001b[0;34m)\u001b[0m\u001b[0;34m\u001b[0m\u001b[0m\n\u001b[0;32m--> 856\u001b[0;31m         \u001b[0mself\u001b[0m\u001b[0;34m.\u001b[0m\u001b[0m_affected_rows\u001b[0m \u001b[0;34m=\u001b[0m \u001b[0mself\u001b[0m\u001b[0;34m.\u001b[0m\u001b[0m_read_query_result\u001b[0m\u001b[0;34m(\u001b[0m\u001b[0munbuffered\u001b[0m\u001b[0;34m=\u001b[0m\u001b[0munbuffered\u001b[0m\u001b[0;34m)\u001b[0m\u001b[0;34m\u001b[0m\u001b[0m\n\u001b[0m\u001b[1;32m    857\u001b[0m         \u001b[0;32mreturn\u001b[0m \u001b[0mself\u001b[0m\u001b[0;34m.\u001b[0m\u001b[0m_affected_rows\u001b[0m\u001b[0;34m\u001b[0m\u001b[0m\n\u001b[1;32m    858\u001b[0m \u001b[0;34m\u001b[0m\u001b[0m\n",
      "\u001b[0;32m/usr/local/lib/python3.5/dist-packages/pymysql/connections.py\u001b[0m in \u001b[0;36m_read_query_result\u001b[0;34m(self, unbuffered)\u001b[0m\n\u001b[1;32m   1055\u001b[0m         \u001b[0;32melse\u001b[0m\u001b[0;34m:\u001b[0m\u001b[0;34m\u001b[0m\u001b[0m\n\u001b[1;32m   1056\u001b[0m             \u001b[0mresult\u001b[0m \u001b[0;34m=\u001b[0m \u001b[0mMySQLResult\u001b[0m\u001b[0;34m(\u001b[0m\u001b[0mself\u001b[0m\u001b[0;34m)\u001b[0m\u001b[0;34m\u001b[0m\u001b[0m\n\u001b[0;32m-> 1057\u001b[0;31m             \u001b[0mresult\u001b[0m\u001b[0;34m.\u001b[0m\u001b[0mread\u001b[0m\u001b[0;34m(\u001b[0m\u001b[0;34m)\u001b[0m\u001b[0;34m\u001b[0m\u001b[0m\n\u001b[0m\u001b[1;32m   1058\u001b[0m         \u001b[0mself\u001b[0m\u001b[0;34m.\u001b[0m\u001b[0m_result\u001b[0m \u001b[0;34m=\u001b[0m \u001b[0mresult\u001b[0m\u001b[0;34m\u001b[0m\u001b[0m\n\u001b[1;32m   1059\u001b[0m         \u001b[0;32mif\u001b[0m \u001b[0mresult\u001b[0m\u001b[0;34m.\u001b[0m\u001b[0mserver_status\u001b[0m \u001b[0;32mis\u001b[0m \u001b[0;32mnot\u001b[0m \u001b[0;32mNone\u001b[0m\u001b[0;34m:\u001b[0m\u001b[0;34m\u001b[0m\u001b[0m\n",
      "\u001b[0;32m/usr/local/lib/python3.5/dist-packages/pymysql/connections.py\u001b[0m in \u001b[0;36mread\u001b[0;34m(self)\u001b[0m\n\u001b[1;32m   1338\u001b[0m     \u001b[0;32mdef\u001b[0m \u001b[0mread\u001b[0m\u001b[0;34m(\u001b[0m\u001b[0mself\u001b[0m\u001b[0;34m)\u001b[0m\u001b[0;34m:\u001b[0m\u001b[0;34m\u001b[0m\u001b[0m\n\u001b[1;32m   1339\u001b[0m         \u001b[0;32mtry\u001b[0m\u001b[0;34m:\u001b[0m\u001b[0;34m\u001b[0m\u001b[0m\n\u001b[0;32m-> 1340\u001b[0;31m             \u001b[0mfirst_packet\u001b[0m \u001b[0;34m=\u001b[0m \u001b[0mself\u001b[0m\u001b[0;34m.\u001b[0m\u001b[0mconnection\u001b[0m\u001b[0;34m.\u001b[0m\u001b[0m_read_packet\u001b[0m\u001b[0;34m(\u001b[0m\u001b[0;34m)\u001b[0m\u001b[0;34m\u001b[0m\u001b[0m\n\u001b[0m\u001b[1;32m   1341\u001b[0m \u001b[0;34m\u001b[0m\u001b[0m\n\u001b[1;32m   1342\u001b[0m             \u001b[0;32mif\u001b[0m \u001b[0mfirst_packet\u001b[0m\u001b[0;34m.\u001b[0m\u001b[0mis_ok_packet\u001b[0m\u001b[0;34m(\u001b[0m\u001b[0;34m)\u001b[0m\u001b[0;34m:\u001b[0m\u001b[0;34m\u001b[0m\u001b[0m\n",
      "\u001b[0;32m/usr/local/lib/python3.5/dist-packages/pymysql/connections.py\u001b[0m in \u001b[0;36m_read_packet\u001b[0;34m(self, packet_type)\u001b[0m\n\u001b[1;32m    985\u001b[0m         \u001b[0mbuff\u001b[0m \u001b[0;34m=\u001b[0m \u001b[0;34mb''\u001b[0m\u001b[0;34m\u001b[0m\u001b[0m\n\u001b[1;32m    986\u001b[0m         \u001b[0;32mwhile\u001b[0m \u001b[0;32mTrue\u001b[0m\u001b[0;34m:\u001b[0m\u001b[0;34m\u001b[0m\u001b[0m\n\u001b[0;32m--> 987\u001b[0;31m             \u001b[0mpacket_header\u001b[0m \u001b[0;34m=\u001b[0m \u001b[0mself\u001b[0m\u001b[0;34m.\u001b[0m\u001b[0m_read_bytes\u001b[0m\u001b[0;34m(\u001b[0m\u001b[0;36m4\u001b[0m\u001b[0;34m)\u001b[0m\u001b[0;34m\u001b[0m\u001b[0m\n\u001b[0m\u001b[1;32m    988\u001b[0m             \u001b[0;32mif\u001b[0m \u001b[0mDEBUG\u001b[0m\u001b[0;34m:\u001b[0m \u001b[0mdump_packet\u001b[0m\u001b[0;34m(\u001b[0m\u001b[0mpacket_header\u001b[0m\u001b[0;34m)\u001b[0m\u001b[0;34m\u001b[0m\u001b[0m\n\u001b[1;32m    989\u001b[0m \u001b[0;34m\u001b[0m\u001b[0m\n",
      "\u001b[0;32m/usr/local/lib/python3.5/dist-packages/pymysql/connections.py\u001b[0m in \u001b[0;36m_read_bytes\u001b[0;34m(self, num_bytes)\u001b[0m\n\u001b[1;32m   1019\u001b[0m         \u001b[0;32mwhile\u001b[0m \u001b[0;32mTrue\u001b[0m\u001b[0;34m:\u001b[0m\u001b[0;34m\u001b[0m\u001b[0m\n\u001b[1;32m   1020\u001b[0m             \u001b[0;32mtry\u001b[0m\u001b[0;34m:\u001b[0m\u001b[0;34m\u001b[0m\u001b[0m\n\u001b[0;32m-> 1021\u001b[0;31m                 \u001b[0mdata\u001b[0m \u001b[0;34m=\u001b[0m \u001b[0mself\u001b[0m\u001b[0;34m.\u001b[0m\u001b[0m_rfile\u001b[0m\u001b[0;34m.\u001b[0m\u001b[0mread\u001b[0m\u001b[0;34m(\u001b[0m\u001b[0mnum_bytes\u001b[0m\u001b[0;34m)\u001b[0m\u001b[0;34m\u001b[0m\u001b[0m\n\u001b[0m\u001b[1;32m   1022\u001b[0m                 \u001b[0;32mbreak\u001b[0m\u001b[0;34m\u001b[0m\u001b[0m\n\u001b[1;32m   1023\u001b[0m             \u001b[0;32mexcept\u001b[0m \u001b[0;34m(\u001b[0m\u001b[0mIOError\u001b[0m\u001b[0;34m,\u001b[0m \u001b[0mOSError\u001b[0m\u001b[0;34m)\u001b[0m \u001b[0;32mas\u001b[0m \u001b[0me\u001b[0m\u001b[0;34m:\u001b[0m\u001b[0;34m\u001b[0m\u001b[0m\n",
      "\u001b[0;32m/usr/lib/python3.5/socket.py\u001b[0m in \u001b[0;36mreadinto\u001b[0;34m(self, b)\u001b[0m\n\u001b[1;32m    573\u001b[0m         \u001b[0;32mwhile\u001b[0m \u001b[0;32mTrue\u001b[0m\u001b[0;34m:\u001b[0m\u001b[0;34m\u001b[0m\u001b[0m\n\u001b[1;32m    574\u001b[0m             \u001b[0;32mtry\u001b[0m\u001b[0;34m:\u001b[0m\u001b[0;34m\u001b[0m\u001b[0m\n\u001b[0;32m--> 575\u001b[0;31m                 \u001b[0;32mreturn\u001b[0m \u001b[0mself\u001b[0m\u001b[0;34m.\u001b[0m\u001b[0m_sock\u001b[0m\u001b[0;34m.\u001b[0m\u001b[0mrecv_into\u001b[0m\u001b[0;34m(\u001b[0m\u001b[0mb\u001b[0m\u001b[0;34m)\u001b[0m\u001b[0;34m\u001b[0m\u001b[0m\n\u001b[0m\u001b[1;32m    576\u001b[0m             \u001b[0;32mexcept\u001b[0m \u001b[0mtimeout\u001b[0m\u001b[0;34m:\u001b[0m\u001b[0;34m\u001b[0m\u001b[0m\n\u001b[1;32m    577\u001b[0m                 \u001b[0mself\u001b[0m\u001b[0;34m.\u001b[0m\u001b[0m_timeout_occurred\u001b[0m \u001b[0;34m=\u001b[0m \u001b[0;32mTrue\u001b[0m\u001b[0;34m\u001b[0m\u001b[0m\n",
      "\u001b[0;31mKeyboardInterrupt\u001b[0m: "
     ]
    }
   ],
   "source": [
    "goods.proj().fetch(limit=5)"
   ]
  },
  {
   "cell_type": "code",
   "execution_count": null,
   "metadata": {},
   "outputs": [],
   "source": []
  },
  {
   "cell_type": "code",
   "execution_count": null,
   "metadata": {},
   "outputs": [],
   "source": []
  },
  {
   "cell_type": "code",
   "execution_count": null,
   "metadata": {},
   "outputs": [],
   "source": []
  },
  {
   "cell_type": "code",
   "execution_count": null,
   "metadata": {},
   "outputs": [],
   "source": []
  },
  {
   "cell_type": "code",
   "execution_count": null,
   "metadata": {},
   "outputs": [],
   "source": []
  },
  {
   "cell_type": "code",
   "execution_count": null,
   "metadata": {},
   "outputs": [],
   "source": []
  },
  {
   "cell_type": "code",
   "execution_count": null,
   "metadata": {},
   "outputs": [],
   "source": []
  },
  {
   "cell_type": "code",
   "execution_count": null,
   "metadata": {},
   "outputs": [],
   "source": []
  },
  {
   "cell_type": "code",
   "execution_count": 6,
   "metadata": {},
   "outputs": [
    {
     "name": "stderr",
     "output_type": "stream",
     "text": [
      "DEBUG:datajoint.connection:Executing SQL:SHOW TABLE STATUS FROM `edgar_cd_ml` WHERE name=\"__c_v_trained_model\"\n",
      "DEBUG:datajoint.connection:Executing SQL:SHOW FULL COLUMNS FROM `__c_v_trained_model` IN `edgar_cd_ml`\n",
      "DEBUG:datajoint.connection:Executing SQL:SHOW TABLE STATUS FROM `edgar_cd_ml` WHERE name=\"__c_v_set\"\n",
      "DEBUG:datajoint.connection:Executing SQL:SHOW FULL COLUMNS FROM `__c_v_set` IN `edgar_cd_ml`\n",
      "DEBUG:datajoint.connection:Executing SQL:SHOW TABLE STATUS FROM `edgar_cd_ml` WHERE name=\"__c_v_trained_model\"\n",
      "DEBUG:datajoint.connection:Executing SQL:SHOW FULL COLUMNS FROM `__c_v_trained_model` IN `edgar_cd_ml`\n",
      "DEBUG:datajoint.relational_operand:SELECT `csc_hash`,`dataset_contrast`,`cv_seed`,`cv_config_id` FROM (SELECT `csc_hash`,`dataset_contrast`,`cv_seed`,`cv_config_id`,min(cnn_valid_score) as `cnn_valid_score` FROM `edgar_cd_ml`.`__c_v_set` NATURAL JOIN `edgar_cd_ml`.`__c_v_trained_model` GROUP  BY `csc_hash`,`dataset_contrast`,`cv_seed`,`cv_config_id` HAVING ((`csc_hash`,`dataset_contrast`,`cv_seed`,`cv_config_id`,`cnn_valid_score`) in (SELECT `csc_hash`,`dataset_contrast`,`cv_seed`,`cv_config_id`,`cnn_valid_score` FROM (SELECT `csc_hash`,`dataset_contrast`,`cv_seed`,`cv_config_id`,`cnn_valid_score`,count(*) as `count` FROM (SELECT `csc_hash`,`dataset_contrast`,`cv_seed`,`cv_config_id`,min(cnn_valid_score) as `cnn_valid_score` FROM `edgar_cd_ml`.`__c_v_set` NATURAL JOIN `edgar_cd_ml`.`__c_v_trained_model` GROUP  BY `csc_hash`,`dataset_contrast`,`cv_seed`,`cv_config_id`) as `_s11` NATURAL JOIN (SELECT DISTINCT `cnn_valid_score` FROM (SELECT `csc_hash`,`dataset_contrast`,`cv_seed`,`cv_config_id`,min(cnn_valid_score) as `cnn_valid_score` FROM `edgar_cd_ml`.`__c_v_set` NATURAL JOIN `edgar_cd_ml`.`__c_v_trained_model` GROUP  BY `csc_hash`,`dataset_contrast`,`cv_seed`,`cv_config_id`) as `_s12`) as `_s13` NATURAL JOIN `edgar_cd_ml`.`__c_v_trained_model` GROUP  BY `csc_hash`,`dataset_contrast`,`cv_seed`,`cv_config_id`,`cnn_valid_score` HAVING (count > 1)) as `_s14`))) as `_s15`\n",
      "DEBUG:datajoint.connection:Executing SQL:SELECT `csc_hash`,`dataset_contrast`,`cv_seed`,`cv_config_id` FROM (SELECT `csc_hash`,`dataset_contrast`,`cv_seed`,`cv_config_id`,min(cnn_valid_score) as `cnn_valid_score` FROM `edgar_cd_ml`.`__c_v_set` NATURAL JOIN `edgar_cd_ml`.`__c_v_trained_model` GROUP  BY `csc_hash`,`dataset_contrast`,`cv_seed\n"
     ]
    }
   ],
   "source": [
    "aggr = train.CVSet().aggr(train.CVTrainedModel(), cnn_valid_score='min(cnn_valid_score)')\n",
    "\n",
    "rel = (aggr * (dj.U('cnn_valid_score') & aggr)).aggr(train.CVTrainedModel(), count = 'count(*)') & 'count > 1'\n",
    "\n",
    "dup = (aggr & rel.proj()).fetch(dj.key)"
   ]
  },
  {
   "cell_type": "code",
   "execution_count": 9,
   "metadata": {},
   "outputs": [
    {
     "name": "stderr",
     "output_type": "stream",
     "text": [
      "DEBUG:datajoint.relational_operand:SELECT `csc_hash`,`dataset_contrast`,`cv_seed`,`cv_config_id`,`bin_config_id`,`model_id`,`param_id`,`train_seed`,`cnn_train_score` FROM (SELECT `csc_hash`,`dataset_contrast`,`cv_seed`,`cv_config_id`,`bin_config_id`,`model_id`,`param_id`,`train_seed`,`cnn_train_score`,`cnn_valid_score`,`avg_sigma`,`model`,`lr_weights`,`lr_trainset_score`,`lr_testset_score` FROM `edgar_cd_ml`.`__c_v_trained_model` NATURAL JOIN `edgar_cd_ml`.`__linear_regression` WHERE ((`csc_hash`,`dataset_contrast`,`cv_seed`,`cv_config_id`,`cnn_valid_score`) in (SELECT `csc_hash`,`dataset_contrast`,`cv_seed`,`cv_config_id`,min(cnn_valid_score) as `cnn_valid_score` FROM `edgar_cd_ml`.`__c_v_set` NATURAL JOIN `edgar_cd_ml`.`__c_v_trained_model` GROUP  BY `csc_hash`,`dataset_contrast`,`cv_seed`,`cv_config_id`)) AND (cnn_valid_score < lr_testset_score)) as `_s12` LIMIT 5\n",
      "DEBUG:datajoint.connection:Executing SQL:SELECT `csc_hash`,`dataset_contrast`,`cv_seed`,`cv_config_id`,`bin_config_id`,`model_id`,`param_id`,`train_seed`,`cnn_train_score` FROM (SELECT `csc_hash`,`dataset_contrast`,`cv_seed`,`cv_config_id`,`bin_config_id`,`model_id`,`param_id`,`train_seed`,`cnn_train_score`,`cnn_valid_score`,`avg_sigma`,`m\n"
     ]
    },
    {
     "ename": "KeyboardInterrupt",
     "evalue": "",
     "output_type": "error",
     "traceback": [
      "\u001b[0;31m---------------------------------------------------------------------------\u001b[0m",
      "\u001b[0;31mKeyboardInterrupt\u001b[0m                         Traceback (most recent call last)",
      "\u001b[0;32m<ipython-input-9-1a3be0288055>\u001b[0m in \u001b[0;36m<module>\u001b[0;34m()\u001b[0m\n\u001b[0;32m----> 1\u001b[0;31m \u001b[0mgoods\u001b[0m\u001b[0;34m.\u001b[0m\u001b[0mproj\u001b[0m\u001b[0;34m(\u001b[0m\u001b[0;34m'cnn_train_score'\u001b[0m\u001b[0;34m)\u001b[0m\u001b[0;34m.\u001b[0m\u001b[0mfetch\u001b[0m\u001b[0;34m(\u001b[0m\u001b[0mlimit\u001b[0m\u001b[0;34m=\u001b[0m\u001b[0;36m5\u001b[0m\u001b[0;34m)\u001b[0m\u001b[0;34m\u001b[0m\u001b[0m\n\u001b[0m",
      "\u001b[0;32m/usr/local/lib/python3.5/dist-packages/datajoint/fetch.py\u001b[0m in \u001b[0;36m__call__\u001b[0;34m(self, *attrs, **kwargs)\u001b[0m\n\u001b[1;32m    200\u001b[0m \u001b[0;34m\u001b[0m\u001b[0m\n\u001b[1;32m    201\u001b[0m         \u001b[0;32mif\u001b[0m \u001b[0mlen\u001b[0m\u001b[0;34m(\u001b[0m\u001b[0mattrs\u001b[0m\u001b[0;34m)\u001b[0m \u001b[0;34m==\u001b[0m \u001b[0;36m0\u001b[0m\u001b[0;34m:\u001b[0m \u001b[0;31m# fetch all attributes\u001b[0m\u001b[0;34m\u001b[0m\u001b[0m\n\u001b[0;32m--> 202\u001b[0;31m             \u001b[0mcur\u001b[0m \u001b[0;34m=\u001b[0m \u001b[0mself\u001b[0m\u001b[0;34m.\u001b[0m\u001b[0m_relation\u001b[0m\u001b[0;34m.\u001b[0m\u001b[0mcursor\u001b[0m\u001b[0;34m(\u001b[0m\u001b[0;34m**\u001b[0m\u001b[0msql_behavior\u001b[0m\u001b[0;34m)\u001b[0m\u001b[0;34m\u001b[0m\u001b[0m\n\u001b[0m\u001b[1;32m    203\u001b[0m             \u001b[0mheading\u001b[0m \u001b[0;34m=\u001b[0m \u001b[0mself\u001b[0m\u001b[0;34m.\u001b[0m\u001b[0m_relation\u001b[0m\u001b[0;34m.\u001b[0m\u001b[0mheading\u001b[0m\u001b[0;34m\u001b[0m\u001b[0m\n\u001b[1;32m    204\u001b[0m             \u001b[0;32mif\u001b[0m \u001b[0msql_behavior\u001b[0m\u001b[0;34m[\u001b[0m\u001b[0;34m'as_dict'\u001b[0m\u001b[0;34m]\u001b[0m\u001b[0;34m:\u001b[0m\u001b[0;34m\u001b[0m\u001b[0m\n",
      "\u001b[0;32m/usr/local/lib/python3.5/dist-packages/datajoint/relational_operand.py\u001b[0m in \u001b[0;36mcursor\u001b[0;34m(self, offset, limit, order_by, as_dict)\u001b[0m\n\u001b[1;32m    477\u001b[0m             \u001b[0msql\u001b[0m \u001b[0;34m+=\u001b[0m \u001b[0;34m' LIMIT %d'\u001b[0m \u001b[0;34m%\u001b[0m \u001b[0mlimit\u001b[0m \u001b[0;34m+\u001b[0m \u001b[0;34m(\u001b[0m\u001b[0;34m' OFFSET %d'\u001b[0m \u001b[0;34m%\u001b[0m \u001b[0moffset\u001b[0m \u001b[0;32mif\u001b[0m \u001b[0moffset\u001b[0m \u001b[0;32melse\u001b[0m \u001b[0;34m\"\"\u001b[0m\u001b[0;34m)\u001b[0m\u001b[0;34m\u001b[0m\u001b[0m\n\u001b[1;32m    478\u001b[0m         \u001b[0mlogger\u001b[0m\u001b[0;34m.\u001b[0m\u001b[0mdebug\u001b[0m\u001b[0;34m(\u001b[0m\u001b[0msql\u001b[0m\u001b[0;34m)\u001b[0m\u001b[0;34m\u001b[0m\u001b[0m\n\u001b[0;32m--> 479\u001b[0;31m         \u001b[0;32mreturn\u001b[0m \u001b[0mself\u001b[0m\u001b[0;34m.\u001b[0m\u001b[0mconnection\u001b[0m\u001b[0;34m.\u001b[0m\u001b[0mquery\u001b[0m\u001b[0;34m(\u001b[0m\u001b[0msql\u001b[0m\u001b[0;34m,\u001b[0m \u001b[0mas_dict\u001b[0m\u001b[0;34m=\u001b[0m\u001b[0mas_dict\u001b[0m\u001b[0;34m)\u001b[0m\u001b[0;34m\u001b[0m\u001b[0m\n\u001b[0m\u001b[1;32m    480\u001b[0m \u001b[0;34m\u001b[0m\u001b[0m\n\u001b[1;32m    481\u001b[0m \u001b[0;34m\u001b[0m\u001b[0m\n",
      "\u001b[0;32m/usr/local/lib/python3.5/dist-packages/datajoint/connection.py\u001b[0m in \u001b[0;36mquery\u001b[0;34m(self, query, args, as_dict, suppress_warnings)\u001b[0m\n\u001b[1;32m    127\u001b[0m                     \u001b[0;31m# suppress all warnings arising from underlying SQL library\u001b[0m\u001b[0;34m\u001b[0m\u001b[0;34m\u001b[0m\u001b[0m\n\u001b[1;32m    128\u001b[0m                     \u001b[0mwarnings\u001b[0m\u001b[0;34m.\u001b[0m\u001b[0msimplefilter\u001b[0m\u001b[0;34m(\u001b[0m\u001b[0;34m\"ignore\"\u001b[0m\u001b[0;34m)\u001b[0m\u001b[0;34m\u001b[0m\u001b[0m\n\u001b[0;32m--> 129\u001b[0;31m                 \u001b[0mcur\u001b[0m\u001b[0;34m.\u001b[0m\u001b[0mexecute\u001b[0m\u001b[0;34m(\u001b[0m\u001b[0mquery\u001b[0m\u001b[0;34m,\u001b[0m \u001b[0margs\u001b[0m\u001b[0;34m)\u001b[0m\u001b[0;34m\u001b[0m\u001b[0m\n\u001b[0m\u001b[1;32m    130\u001b[0m \u001b[0;34m\u001b[0m\u001b[0m\n\u001b[1;32m    131\u001b[0m         \u001b[0;32mexcept\u001b[0m \u001b[0merr\u001b[0m\u001b[0;34m.\u001b[0m\u001b[0mOperationalError\u001b[0m \u001b[0;32mas\u001b[0m \u001b[0me\u001b[0m\u001b[0;34m:\u001b[0m\u001b[0;34m\u001b[0m\u001b[0m\n",
      "\u001b[0;32m/usr/local/lib/python3.5/dist-packages/pymysql/cursors.py\u001b[0m in \u001b[0;36mexecute\u001b[0;34m(self, query, args)\u001b[0m\n\u001b[1;32m    164\u001b[0m         \u001b[0mquery\u001b[0m \u001b[0;34m=\u001b[0m \u001b[0mself\u001b[0m\u001b[0;34m.\u001b[0m\u001b[0mmogrify\u001b[0m\u001b[0;34m(\u001b[0m\u001b[0mquery\u001b[0m\u001b[0;34m,\u001b[0m \u001b[0margs\u001b[0m\u001b[0;34m)\u001b[0m\u001b[0;34m\u001b[0m\u001b[0m\n\u001b[1;32m    165\u001b[0m \u001b[0;34m\u001b[0m\u001b[0m\n\u001b[0;32m--> 166\u001b[0;31m         \u001b[0mresult\u001b[0m \u001b[0;34m=\u001b[0m \u001b[0mself\u001b[0m\u001b[0;34m.\u001b[0m\u001b[0m_query\u001b[0m\u001b[0;34m(\u001b[0m\u001b[0mquery\u001b[0m\u001b[0;34m)\u001b[0m\u001b[0;34m\u001b[0m\u001b[0m\n\u001b[0m\u001b[1;32m    167\u001b[0m         \u001b[0mself\u001b[0m\u001b[0;34m.\u001b[0m\u001b[0m_executed\u001b[0m \u001b[0;34m=\u001b[0m \u001b[0mquery\u001b[0m\u001b[0;34m\u001b[0m\u001b[0m\n\u001b[1;32m    168\u001b[0m         \u001b[0;32mreturn\u001b[0m \u001b[0mresult\u001b[0m\u001b[0;34m\u001b[0m\u001b[0m\n",
      "\u001b[0;32m/usr/local/lib/python3.5/dist-packages/pymysql/cursors.py\u001b[0m in \u001b[0;36m_query\u001b[0;34m(self, q)\u001b[0m\n\u001b[1;32m    320\u001b[0m         \u001b[0mconn\u001b[0m \u001b[0;34m=\u001b[0m \u001b[0mself\u001b[0m\u001b[0;34m.\u001b[0m\u001b[0m_get_db\u001b[0m\u001b[0;34m(\u001b[0m\u001b[0;34m)\u001b[0m\u001b[0;34m\u001b[0m\u001b[0m\n\u001b[1;32m    321\u001b[0m         \u001b[0mself\u001b[0m\u001b[0;34m.\u001b[0m\u001b[0m_last_executed\u001b[0m \u001b[0;34m=\u001b[0m \u001b[0mq\u001b[0m\u001b[0;34m\u001b[0m\u001b[0m\n\u001b[0;32m--> 322\u001b[0;31m         \u001b[0mconn\u001b[0m\u001b[0;34m.\u001b[0m\u001b[0mquery\u001b[0m\u001b[0;34m(\u001b[0m\u001b[0mq\u001b[0m\u001b[0;34m)\u001b[0m\u001b[0;34m\u001b[0m\u001b[0m\n\u001b[0m\u001b[1;32m    323\u001b[0m         \u001b[0mself\u001b[0m\u001b[0;34m.\u001b[0m\u001b[0m_do_get_result\u001b[0m\u001b[0;34m(\u001b[0m\u001b[0;34m)\u001b[0m\u001b[0;34m\u001b[0m\u001b[0m\n\u001b[1;32m    324\u001b[0m         \u001b[0;32mreturn\u001b[0m \u001b[0mself\u001b[0m\u001b[0;34m.\u001b[0m\u001b[0mrowcount\u001b[0m\u001b[0;34m\u001b[0m\u001b[0m\n",
      "\u001b[0;32m/usr/local/lib/python3.5/dist-packages/pymysql/connections.py\u001b[0m in \u001b[0;36mquery\u001b[0;34m(self, sql, unbuffered)\u001b[0m\n\u001b[1;32m    854\u001b[0m                 \u001b[0msql\u001b[0m \u001b[0;34m=\u001b[0m \u001b[0msql\u001b[0m\u001b[0;34m.\u001b[0m\u001b[0mencode\u001b[0m\u001b[0;34m(\u001b[0m\u001b[0mself\u001b[0m\u001b[0;34m.\u001b[0m\u001b[0mencoding\u001b[0m\u001b[0;34m,\u001b[0m \u001b[0;34m'surrogateescape'\u001b[0m\u001b[0;34m)\u001b[0m\u001b[0;34m\u001b[0m\u001b[0m\n\u001b[1;32m    855\u001b[0m         \u001b[0mself\u001b[0m\u001b[0;34m.\u001b[0m\u001b[0m_execute_command\u001b[0m\u001b[0;34m(\u001b[0m\u001b[0mCOMMAND\u001b[0m\u001b[0;34m.\u001b[0m\u001b[0mCOM_QUERY\u001b[0m\u001b[0;34m,\u001b[0m \u001b[0msql\u001b[0m\u001b[0;34m)\u001b[0m\u001b[0;34m\u001b[0m\u001b[0m\n\u001b[0;32m--> 856\u001b[0;31m         \u001b[0mself\u001b[0m\u001b[0;34m.\u001b[0m\u001b[0m_affected_rows\u001b[0m \u001b[0;34m=\u001b[0m \u001b[0mself\u001b[0m\u001b[0;34m.\u001b[0m\u001b[0m_read_query_result\u001b[0m\u001b[0;34m(\u001b[0m\u001b[0munbuffered\u001b[0m\u001b[0;34m=\u001b[0m\u001b[0munbuffered\u001b[0m\u001b[0;34m)\u001b[0m\u001b[0;34m\u001b[0m\u001b[0m\n\u001b[0m\u001b[1;32m    857\u001b[0m         \u001b[0;32mreturn\u001b[0m \u001b[0mself\u001b[0m\u001b[0;34m.\u001b[0m\u001b[0m_affected_rows\u001b[0m\u001b[0;34m\u001b[0m\u001b[0m\n\u001b[1;32m    858\u001b[0m \u001b[0;34m\u001b[0m\u001b[0m\n",
      "\u001b[0;32m/usr/local/lib/python3.5/dist-packages/pymysql/connections.py\u001b[0m in \u001b[0;36m_read_query_result\u001b[0;34m(self, unbuffered)\u001b[0m\n\u001b[1;32m   1055\u001b[0m         \u001b[0;32melse\u001b[0m\u001b[0;34m:\u001b[0m\u001b[0;34m\u001b[0m\u001b[0m\n\u001b[1;32m   1056\u001b[0m             \u001b[0mresult\u001b[0m \u001b[0;34m=\u001b[0m \u001b[0mMySQLResult\u001b[0m\u001b[0;34m(\u001b[0m\u001b[0mself\u001b[0m\u001b[0;34m)\u001b[0m\u001b[0;34m\u001b[0m\u001b[0m\n\u001b[0;32m-> 1057\u001b[0;31m             \u001b[0mresult\u001b[0m\u001b[0;34m.\u001b[0m\u001b[0mread\u001b[0m\u001b[0;34m(\u001b[0m\u001b[0;34m)\u001b[0m\u001b[0;34m\u001b[0m\u001b[0m\n\u001b[0m\u001b[1;32m   1058\u001b[0m         \u001b[0mself\u001b[0m\u001b[0;34m.\u001b[0m\u001b[0m_result\u001b[0m \u001b[0;34m=\u001b[0m \u001b[0mresult\u001b[0m\u001b[0;34m\u001b[0m\u001b[0m\n\u001b[1;32m   1059\u001b[0m         \u001b[0;32mif\u001b[0m \u001b[0mresult\u001b[0m\u001b[0;34m.\u001b[0m\u001b[0mserver_status\u001b[0m \u001b[0;32mis\u001b[0m \u001b[0;32mnot\u001b[0m \u001b[0;32mNone\u001b[0m\u001b[0;34m:\u001b[0m\u001b[0;34m\u001b[0m\u001b[0m\n",
      "\u001b[0;32m/usr/local/lib/python3.5/dist-packages/pymysql/connections.py\u001b[0m in \u001b[0;36mread\u001b[0;34m(self)\u001b[0m\n\u001b[1;32m   1338\u001b[0m     \u001b[0;32mdef\u001b[0m \u001b[0mread\u001b[0m\u001b[0;34m(\u001b[0m\u001b[0mself\u001b[0m\u001b[0;34m)\u001b[0m\u001b[0;34m:\u001b[0m\u001b[0;34m\u001b[0m\u001b[0m\n\u001b[1;32m   1339\u001b[0m         \u001b[0;32mtry\u001b[0m\u001b[0;34m:\u001b[0m\u001b[0;34m\u001b[0m\u001b[0m\n\u001b[0;32m-> 1340\u001b[0;31m             \u001b[0mfirst_packet\u001b[0m \u001b[0;34m=\u001b[0m \u001b[0mself\u001b[0m\u001b[0;34m.\u001b[0m\u001b[0mconnection\u001b[0m\u001b[0;34m.\u001b[0m\u001b[0m_read_packet\u001b[0m\u001b[0;34m(\u001b[0m\u001b[0;34m)\u001b[0m\u001b[0;34m\u001b[0m\u001b[0m\n\u001b[0m\u001b[1;32m   1341\u001b[0m \u001b[0;34m\u001b[0m\u001b[0m\n\u001b[1;32m   1342\u001b[0m             \u001b[0;32mif\u001b[0m \u001b[0mfirst_packet\u001b[0m\u001b[0;34m.\u001b[0m\u001b[0mis_ok_packet\u001b[0m\u001b[0;34m(\u001b[0m\u001b[0;34m)\u001b[0m\u001b[0;34m:\u001b[0m\u001b[0;34m\u001b[0m\u001b[0m\n",
      "\u001b[0;32m/usr/local/lib/python3.5/dist-packages/pymysql/connections.py\u001b[0m in \u001b[0;36m_read_packet\u001b[0;34m(self, packet_type)\u001b[0m\n\u001b[1;32m    985\u001b[0m         \u001b[0mbuff\u001b[0m \u001b[0;34m=\u001b[0m \u001b[0;34mb''\u001b[0m\u001b[0;34m\u001b[0m\u001b[0m\n\u001b[1;32m    986\u001b[0m         \u001b[0;32mwhile\u001b[0m \u001b[0;32mTrue\u001b[0m\u001b[0;34m:\u001b[0m\u001b[0;34m\u001b[0m\u001b[0m\n\u001b[0;32m--> 987\u001b[0;31m             \u001b[0mpacket_header\u001b[0m \u001b[0;34m=\u001b[0m \u001b[0mself\u001b[0m\u001b[0;34m.\u001b[0m\u001b[0m_read_bytes\u001b[0m\u001b[0;34m(\u001b[0m\u001b[0;36m4\u001b[0m\u001b[0;34m)\u001b[0m\u001b[0;34m\u001b[0m\u001b[0m\n\u001b[0m\u001b[1;32m    988\u001b[0m             \u001b[0;32mif\u001b[0m \u001b[0mDEBUG\u001b[0m\u001b[0;34m:\u001b[0m \u001b[0mdump_packet\u001b[0m\u001b[0;34m(\u001b[0m\u001b[0mpacket_header\u001b[0m\u001b[0;34m)\u001b[0m\u001b[0;34m\u001b[0m\u001b[0m\n\u001b[1;32m    989\u001b[0m \u001b[0;34m\u001b[0m\u001b[0m\n",
      "\u001b[0;32m/usr/local/lib/python3.5/dist-packages/pymysql/connections.py\u001b[0m in \u001b[0;36m_read_bytes\u001b[0;34m(self, num_bytes)\u001b[0m\n\u001b[1;32m   1019\u001b[0m         \u001b[0;32mwhile\u001b[0m \u001b[0;32mTrue\u001b[0m\u001b[0;34m:\u001b[0m\u001b[0;34m\u001b[0m\u001b[0m\n\u001b[1;32m   1020\u001b[0m             \u001b[0;32mtry\u001b[0m\u001b[0;34m:\u001b[0m\u001b[0;34m\u001b[0m\u001b[0m\n\u001b[0;32m-> 1021\u001b[0;31m                 \u001b[0mdata\u001b[0m \u001b[0;34m=\u001b[0m \u001b[0mself\u001b[0m\u001b[0;34m.\u001b[0m\u001b[0m_rfile\u001b[0m\u001b[0;34m.\u001b[0m\u001b[0mread\u001b[0m\u001b[0;34m(\u001b[0m\u001b[0mnum_bytes\u001b[0m\u001b[0;34m)\u001b[0m\u001b[0;34m\u001b[0m\u001b[0m\n\u001b[0m\u001b[1;32m   1022\u001b[0m                 \u001b[0;32mbreak\u001b[0m\u001b[0;34m\u001b[0m\u001b[0m\n\u001b[1;32m   1023\u001b[0m             \u001b[0;32mexcept\u001b[0m \u001b[0;34m(\u001b[0m\u001b[0mIOError\u001b[0m\u001b[0;34m,\u001b[0m \u001b[0mOSError\u001b[0m\u001b[0;34m)\u001b[0m \u001b[0;32mas\u001b[0m \u001b[0me\u001b[0m\u001b[0;34m:\u001b[0m\u001b[0;34m\u001b[0m\u001b[0m\n",
      "\u001b[0;32m/usr/lib/python3.5/socket.py\u001b[0m in \u001b[0;36mreadinto\u001b[0;34m(self, b)\u001b[0m\n\u001b[1;32m    573\u001b[0m         \u001b[0;32mwhile\u001b[0m \u001b[0;32mTrue\u001b[0m\u001b[0;34m:\u001b[0m\u001b[0;34m\u001b[0m\u001b[0m\n\u001b[1;32m    574\u001b[0m             \u001b[0;32mtry\u001b[0m\u001b[0;34m:\u001b[0m\u001b[0;34m\u001b[0m\u001b[0m\n\u001b[0;32m--> 575\u001b[0;31m                 \u001b[0;32mreturn\u001b[0m \u001b[0mself\u001b[0m\u001b[0;34m.\u001b[0m\u001b[0m_sock\u001b[0m\u001b[0;34m.\u001b[0m\u001b[0mrecv_into\u001b[0m\u001b[0;34m(\u001b[0m\u001b[0mb\u001b[0m\u001b[0;34m)\u001b[0m\u001b[0;34m\u001b[0m\u001b[0m\n\u001b[0m\u001b[1;32m    576\u001b[0m             \u001b[0;32mexcept\u001b[0m \u001b[0mtimeout\u001b[0m\u001b[0;34m:\u001b[0m\u001b[0;34m\u001b[0m\u001b[0m\n\u001b[1;32m    577\u001b[0m                 \u001b[0mself\u001b[0m\u001b[0;34m.\u001b[0m\u001b[0m_timeout_occurred\u001b[0m \u001b[0;34m=\u001b[0m \u001b[0;32mTrue\u001b[0m\u001b[0;34m\u001b[0m\u001b[0m\n",
      "\u001b[0;31mKeyboardInterrupt\u001b[0m: "
     ]
    }
   ],
   "source": [
    "goods.proj('cnn_train_score').fetch(limit=5)"
   ]
  },
  {
   "cell_type": "code",
   "execution_count": 16,
   "metadata": {},
   "outputs": [
    {
     "data": {
      "text/plain": [
       "'SELECT `csc_hash`,`dataset_contrast`,`cv_seed`,`cv_config_id`,`bin_config_id`,`model_id`,`param_id`,`train_seed` FROM (SELECT `csc_hash`,`dataset_contrast`,`cv_seed`,`cv_config_id`,`bin_config_id`,`model_id`,`param_id`,`train_seed`,`cnn_train_score`,`cnn_valid_score`,`avg_sigma`,`model`,`lr_weights`,`lr_trainset_score`,`lr_testset_score` FROM `edgar_cd_ml`.`__c_v_trained_model` NATURAL JOIN `edgar_cd_ml`.`__linear_regression` WHERE ((`csc_hash`,`dataset_contrast`,`cv_seed`,`cv_config_id`,`cnn_valid_score`) in (SELECT `csc_hash`,`dataset_contrast`,`cv_seed`,`cv_config_id`,min(cnn_valid_score) as `cnn_valid_score` FROM `edgar_cd_ml`.`__c_v_set` NATURAL JOIN `edgar_cd_ml`.`__c_v_trained_model` GROUP  BY `csc_hash`,`dataset_contrast`,`cv_seed`,`cv_config_id`)) AND (cnn_valid_score < lr_testset_score)) as `_s14`'"
      ]
     },
     "execution_count": 16,
     "metadata": {},
     "output_type": "execute_result"
    }
   ],
   "source": [
    "goods.proj().make_sql()"
   ]
  },
  {
   "cell_type": "code",
   "execution_count": 9,
   "metadata": {},
   "outputs": [
    {
     "ename": "KeyboardInterrupt",
     "evalue": "",
     "output_type": "error",
     "traceback": [
      "\u001b[0;31m---------------------------------------------------------------------------\u001b[0m",
      "\u001b[0;31mKeyboardInterrupt\u001b[0m                         Traceback (most recent call last)",
      "\u001b[0;32m<ipython-input-9-6b868fb90809>\u001b[0m in \u001b[0;36m<module>\u001b[0;34m()\u001b[0m\n\u001b[0;32m----> 1\u001b[0;31m \u001b[0mkeys\u001b[0m \u001b[0;34m=\u001b[0m \u001b[0mgoods\u001b[0m\u001b[0;34m.\u001b[0m\u001b[0mfetch\u001b[0m\u001b[0;34m(\u001b[0m\u001b[0mdj\u001b[0m\u001b[0;34m.\u001b[0m\u001b[0mkey\u001b[0m\u001b[0;34m)\u001b[0m\u001b[0;34m\u001b[0m\u001b[0m\n\u001b[0m",
      "\u001b[0;32m/usr/local/lib/python3.5/dist-packages/datajoint/fetch.py\u001b[0m in \u001b[0;36m__call__\u001b[0;34m(self, *attrs, **kwargs)\u001b[0m\n\u001b[1;32m    218\u001b[0m         \u001b[0;32melse\u001b[0m\u001b[0;34m:\u001b[0m  \u001b[0;31m# if list of attributes provided\u001b[0m\u001b[0;34m\u001b[0m\u001b[0m\n\u001b[1;32m    219\u001b[0m             \u001b[0mattributes\u001b[0m \u001b[0;34m=\u001b[0m \u001b[0;34m[\u001b[0m\u001b[0ma\u001b[0m \u001b[0;32mfor\u001b[0m \u001b[0ma\u001b[0m \u001b[0;32min\u001b[0m \u001b[0mattrs\u001b[0m \u001b[0;32mif\u001b[0m \u001b[0;32mnot\u001b[0m \u001b[0miskey\u001b[0m\u001b[0;34m(\u001b[0m\u001b[0ma\u001b[0m\u001b[0;34m)\u001b[0m\u001b[0;34m]\u001b[0m\u001b[0;34m\u001b[0m\u001b[0m\n\u001b[0;32m--> 220\u001b[0;31m             \u001b[0mresult\u001b[0m \u001b[0;34m=\u001b[0m \u001b[0mself\u001b[0m\u001b[0;34m.\u001b[0m\u001b[0m_relation\u001b[0m\u001b[0;34m.\u001b[0m\u001b[0mproj\u001b[0m\u001b[0;34m(\u001b[0m\u001b[0;34m*\u001b[0m\u001b[0mattributes\u001b[0m\u001b[0;34m)\u001b[0m\u001b[0;34m.\u001b[0m\u001b[0mfetch\u001b[0m\u001b[0;34m(\u001b[0m\u001b[0;34m**\u001b[0m\u001b[0mtotal_behavior\u001b[0m\u001b[0;34m)\u001b[0m\u001b[0;34m\u001b[0m\u001b[0m\n\u001b[0m\u001b[1;32m    221\u001b[0m             return_values = [\n\u001b[1;32m    222\u001b[0m                 \u001b[0mlist\u001b[0m\u001b[0;34m(\u001b[0m\u001b[0mto_dicts\u001b[0m\u001b[0;34m(\u001b[0m\u001b[0mresult\u001b[0m\u001b[0;34m[\u001b[0m\u001b[0mself\u001b[0m\u001b[0;34m.\u001b[0m\u001b[0m_relation\u001b[0m\u001b[0;34m.\u001b[0m\u001b[0mprimary_key\u001b[0m\u001b[0;34m]\u001b[0m\u001b[0;34m)\u001b[0m\u001b[0;34m)\u001b[0m\u001b[0;34m\u001b[0m\u001b[0m\n",
      "\u001b[0;32m/usr/local/lib/python3.5/dist-packages/datajoint/fetch.py\u001b[0m in \u001b[0;36m__call__\u001b[0;34m(self, *attrs, **kwargs)\u001b[0m\n\u001b[1;32m    200\u001b[0m \u001b[0;34m\u001b[0m\u001b[0m\n\u001b[1;32m    201\u001b[0m         \u001b[0;32mif\u001b[0m \u001b[0mlen\u001b[0m\u001b[0;34m(\u001b[0m\u001b[0mattrs\u001b[0m\u001b[0;34m)\u001b[0m \u001b[0;34m==\u001b[0m \u001b[0;36m0\u001b[0m\u001b[0;34m:\u001b[0m \u001b[0;31m# fetch all attributes\u001b[0m\u001b[0;34m\u001b[0m\u001b[0m\n\u001b[0;32m--> 202\u001b[0;31m             \u001b[0mcur\u001b[0m \u001b[0;34m=\u001b[0m \u001b[0mself\u001b[0m\u001b[0;34m.\u001b[0m\u001b[0m_relation\u001b[0m\u001b[0;34m.\u001b[0m\u001b[0mcursor\u001b[0m\u001b[0;34m(\u001b[0m\u001b[0;34m**\u001b[0m\u001b[0msql_behavior\u001b[0m\u001b[0;34m)\u001b[0m\u001b[0;34m\u001b[0m\u001b[0m\n\u001b[0m\u001b[1;32m    203\u001b[0m             \u001b[0mheading\u001b[0m \u001b[0;34m=\u001b[0m \u001b[0mself\u001b[0m\u001b[0;34m.\u001b[0m\u001b[0m_relation\u001b[0m\u001b[0;34m.\u001b[0m\u001b[0mheading\u001b[0m\u001b[0;34m\u001b[0m\u001b[0m\n\u001b[1;32m    204\u001b[0m             \u001b[0;32mif\u001b[0m \u001b[0msql_behavior\u001b[0m\u001b[0;34m[\u001b[0m\u001b[0;34m'as_dict'\u001b[0m\u001b[0;34m]\u001b[0m\u001b[0;34m:\u001b[0m\u001b[0;34m\u001b[0m\u001b[0m\n",
      "\u001b[0;32m/usr/local/lib/python3.5/dist-packages/datajoint/relational_operand.py\u001b[0m in \u001b[0;36mcursor\u001b[0;34m(self, offset, limit, order_by, as_dict)\u001b[0m\n\u001b[1;32m    477\u001b[0m             \u001b[0msql\u001b[0m \u001b[0;34m+=\u001b[0m \u001b[0;34m' LIMIT %d'\u001b[0m \u001b[0;34m%\u001b[0m \u001b[0mlimit\u001b[0m \u001b[0;34m+\u001b[0m \u001b[0;34m(\u001b[0m\u001b[0;34m' OFFSET %d'\u001b[0m \u001b[0;34m%\u001b[0m \u001b[0moffset\u001b[0m \u001b[0;32mif\u001b[0m \u001b[0moffset\u001b[0m \u001b[0;32melse\u001b[0m \u001b[0;34m\"\"\u001b[0m\u001b[0;34m)\u001b[0m\u001b[0;34m\u001b[0m\u001b[0m\n\u001b[1;32m    478\u001b[0m         \u001b[0mlogger\u001b[0m\u001b[0;34m.\u001b[0m\u001b[0mdebug\u001b[0m\u001b[0;34m(\u001b[0m\u001b[0msql\u001b[0m\u001b[0;34m)\u001b[0m\u001b[0;34m\u001b[0m\u001b[0m\n\u001b[0;32m--> 479\u001b[0;31m         \u001b[0;32mreturn\u001b[0m \u001b[0mself\u001b[0m\u001b[0;34m.\u001b[0m\u001b[0mconnection\u001b[0m\u001b[0;34m.\u001b[0m\u001b[0mquery\u001b[0m\u001b[0;34m(\u001b[0m\u001b[0msql\u001b[0m\u001b[0;34m,\u001b[0m \u001b[0mas_dict\u001b[0m\u001b[0;34m=\u001b[0m\u001b[0mas_dict\u001b[0m\u001b[0;34m)\u001b[0m\u001b[0;34m\u001b[0m\u001b[0m\n\u001b[0m\u001b[1;32m    480\u001b[0m \u001b[0;34m\u001b[0m\u001b[0m\n\u001b[1;32m    481\u001b[0m \u001b[0;34m\u001b[0m\u001b[0m\n",
      "\u001b[0;32m/usr/local/lib/python3.5/dist-packages/datajoint/connection.py\u001b[0m in \u001b[0;36mquery\u001b[0;34m(self, query, args, as_dict, suppress_warnings)\u001b[0m\n\u001b[1;32m    127\u001b[0m                     \u001b[0;31m# suppress all warnings arising from underlying SQL library\u001b[0m\u001b[0;34m\u001b[0m\u001b[0;34m\u001b[0m\u001b[0m\n\u001b[1;32m    128\u001b[0m                     \u001b[0mwarnings\u001b[0m\u001b[0;34m.\u001b[0m\u001b[0msimplefilter\u001b[0m\u001b[0;34m(\u001b[0m\u001b[0;34m\"ignore\"\u001b[0m\u001b[0;34m)\u001b[0m\u001b[0;34m\u001b[0m\u001b[0m\n\u001b[0;32m--> 129\u001b[0;31m                 \u001b[0mcur\u001b[0m\u001b[0;34m.\u001b[0m\u001b[0mexecute\u001b[0m\u001b[0;34m(\u001b[0m\u001b[0mquery\u001b[0m\u001b[0;34m,\u001b[0m \u001b[0margs\u001b[0m\u001b[0;34m)\u001b[0m\u001b[0;34m\u001b[0m\u001b[0m\n\u001b[0m\u001b[1;32m    130\u001b[0m \u001b[0;34m\u001b[0m\u001b[0m\n\u001b[1;32m    131\u001b[0m         \u001b[0;32mexcept\u001b[0m \u001b[0merr\u001b[0m\u001b[0;34m.\u001b[0m\u001b[0mOperationalError\u001b[0m \u001b[0;32mas\u001b[0m \u001b[0me\u001b[0m\u001b[0;34m:\u001b[0m\u001b[0;34m\u001b[0m\u001b[0m\n",
      "\u001b[0;32m/usr/local/lib/python3.5/dist-packages/pymysql/cursors.py\u001b[0m in \u001b[0;36mexecute\u001b[0;34m(self, query, args)\u001b[0m\n\u001b[1;32m    164\u001b[0m         \u001b[0mquery\u001b[0m \u001b[0;34m=\u001b[0m \u001b[0mself\u001b[0m\u001b[0;34m.\u001b[0m\u001b[0mmogrify\u001b[0m\u001b[0;34m(\u001b[0m\u001b[0mquery\u001b[0m\u001b[0;34m,\u001b[0m \u001b[0margs\u001b[0m\u001b[0;34m)\u001b[0m\u001b[0;34m\u001b[0m\u001b[0m\n\u001b[1;32m    165\u001b[0m \u001b[0;34m\u001b[0m\u001b[0m\n\u001b[0;32m--> 166\u001b[0;31m         \u001b[0mresult\u001b[0m \u001b[0;34m=\u001b[0m \u001b[0mself\u001b[0m\u001b[0;34m.\u001b[0m\u001b[0m_query\u001b[0m\u001b[0;34m(\u001b[0m\u001b[0mquery\u001b[0m\u001b[0;34m)\u001b[0m\u001b[0;34m\u001b[0m\u001b[0m\n\u001b[0m\u001b[1;32m    167\u001b[0m         \u001b[0mself\u001b[0m\u001b[0;34m.\u001b[0m\u001b[0m_executed\u001b[0m \u001b[0;34m=\u001b[0m \u001b[0mquery\u001b[0m\u001b[0;34m\u001b[0m\u001b[0m\n\u001b[1;32m    168\u001b[0m         \u001b[0;32mreturn\u001b[0m \u001b[0mresult\u001b[0m\u001b[0;34m\u001b[0m\u001b[0m\n",
      "\u001b[0;32m/usr/local/lib/python3.5/dist-packages/pymysql/cursors.py\u001b[0m in \u001b[0;36m_query\u001b[0;34m(self, q)\u001b[0m\n\u001b[1;32m    320\u001b[0m         \u001b[0mconn\u001b[0m \u001b[0;34m=\u001b[0m \u001b[0mself\u001b[0m\u001b[0;34m.\u001b[0m\u001b[0m_get_db\u001b[0m\u001b[0;34m(\u001b[0m\u001b[0;34m)\u001b[0m\u001b[0;34m\u001b[0m\u001b[0m\n\u001b[1;32m    321\u001b[0m         \u001b[0mself\u001b[0m\u001b[0;34m.\u001b[0m\u001b[0m_last_executed\u001b[0m \u001b[0;34m=\u001b[0m \u001b[0mq\u001b[0m\u001b[0;34m\u001b[0m\u001b[0m\n\u001b[0;32m--> 322\u001b[0;31m         \u001b[0mconn\u001b[0m\u001b[0;34m.\u001b[0m\u001b[0mquery\u001b[0m\u001b[0;34m(\u001b[0m\u001b[0mq\u001b[0m\u001b[0;34m)\u001b[0m\u001b[0;34m\u001b[0m\u001b[0m\n\u001b[0m\u001b[1;32m    323\u001b[0m         \u001b[0mself\u001b[0m\u001b[0;34m.\u001b[0m\u001b[0m_do_get_result\u001b[0m\u001b[0;34m(\u001b[0m\u001b[0;34m)\u001b[0m\u001b[0;34m\u001b[0m\u001b[0m\n\u001b[1;32m    324\u001b[0m         \u001b[0;32mreturn\u001b[0m \u001b[0mself\u001b[0m\u001b[0;34m.\u001b[0m\u001b[0mrowcount\u001b[0m\u001b[0;34m\u001b[0m\u001b[0m\n",
      "\u001b[0;32m/usr/local/lib/python3.5/dist-packages/pymysql/connections.py\u001b[0m in \u001b[0;36mquery\u001b[0;34m(self, sql, unbuffered)\u001b[0m\n\u001b[1;32m    854\u001b[0m                 \u001b[0msql\u001b[0m \u001b[0;34m=\u001b[0m \u001b[0msql\u001b[0m\u001b[0;34m.\u001b[0m\u001b[0mencode\u001b[0m\u001b[0;34m(\u001b[0m\u001b[0mself\u001b[0m\u001b[0;34m.\u001b[0m\u001b[0mencoding\u001b[0m\u001b[0;34m,\u001b[0m \u001b[0;34m'surrogateescape'\u001b[0m\u001b[0;34m)\u001b[0m\u001b[0;34m\u001b[0m\u001b[0m\n\u001b[1;32m    855\u001b[0m         \u001b[0mself\u001b[0m\u001b[0;34m.\u001b[0m\u001b[0m_execute_command\u001b[0m\u001b[0;34m(\u001b[0m\u001b[0mCOMMAND\u001b[0m\u001b[0;34m.\u001b[0m\u001b[0mCOM_QUERY\u001b[0m\u001b[0;34m,\u001b[0m \u001b[0msql\u001b[0m\u001b[0;34m)\u001b[0m\u001b[0;34m\u001b[0m\u001b[0m\n\u001b[0;32m--> 856\u001b[0;31m         \u001b[0mself\u001b[0m\u001b[0;34m.\u001b[0m\u001b[0m_affected_rows\u001b[0m \u001b[0;34m=\u001b[0m \u001b[0mself\u001b[0m\u001b[0;34m.\u001b[0m\u001b[0m_read_query_result\u001b[0m\u001b[0;34m(\u001b[0m\u001b[0munbuffered\u001b[0m\u001b[0;34m=\u001b[0m\u001b[0munbuffered\u001b[0m\u001b[0;34m)\u001b[0m\u001b[0;34m\u001b[0m\u001b[0m\n\u001b[0m\u001b[1;32m    857\u001b[0m         \u001b[0;32mreturn\u001b[0m \u001b[0mself\u001b[0m\u001b[0;34m.\u001b[0m\u001b[0m_affected_rows\u001b[0m\u001b[0;34m\u001b[0m\u001b[0m\n\u001b[1;32m    858\u001b[0m \u001b[0;34m\u001b[0m\u001b[0m\n",
      "\u001b[0;32m/usr/local/lib/python3.5/dist-packages/pymysql/connections.py\u001b[0m in \u001b[0;36m_read_query_result\u001b[0;34m(self, unbuffered)\u001b[0m\n\u001b[1;32m   1055\u001b[0m         \u001b[0;32melse\u001b[0m\u001b[0;34m:\u001b[0m\u001b[0;34m\u001b[0m\u001b[0m\n\u001b[1;32m   1056\u001b[0m             \u001b[0mresult\u001b[0m \u001b[0;34m=\u001b[0m \u001b[0mMySQLResult\u001b[0m\u001b[0;34m(\u001b[0m\u001b[0mself\u001b[0m\u001b[0;34m)\u001b[0m\u001b[0;34m\u001b[0m\u001b[0m\n\u001b[0;32m-> 1057\u001b[0;31m             \u001b[0mresult\u001b[0m\u001b[0;34m.\u001b[0m\u001b[0mread\u001b[0m\u001b[0;34m(\u001b[0m\u001b[0;34m)\u001b[0m\u001b[0;34m\u001b[0m\u001b[0m\n\u001b[0m\u001b[1;32m   1058\u001b[0m         \u001b[0mself\u001b[0m\u001b[0;34m.\u001b[0m\u001b[0m_result\u001b[0m \u001b[0;34m=\u001b[0m \u001b[0mresult\u001b[0m\u001b[0;34m\u001b[0m\u001b[0m\n\u001b[1;32m   1059\u001b[0m         \u001b[0;32mif\u001b[0m \u001b[0mresult\u001b[0m\u001b[0;34m.\u001b[0m\u001b[0mserver_status\u001b[0m \u001b[0;32mis\u001b[0m \u001b[0;32mnot\u001b[0m \u001b[0;32mNone\u001b[0m\u001b[0;34m:\u001b[0m\u001b[0;34m\u001b[0m\u001b[0m\n",
      "\u001b[0;32m/usr/local/lib/python3.5/dist-packages/pymysql/connections.py\u001b[0m in \u001b[0;36mread\u001b[0;34m(self)\u001b[0m\n\u001b[1;32m   1338\u001b[0m     \u001b[0;32mdef\u001b[0m \u001b[0mread\u001b[0m\u001b[0;34m(\u001b[0m\u001b[0mself\u001b[0m\u001b[0;34m)\u001b[0m\u001b[0;34m:\u001b[0m\u001b[0;34m\u001b[0m\u001b[0m\n\u001b[1;32m   1339\u001b[0m         \u001b[0;32mtry\u001b[0m\u001b[0;34m:\u001b[0m\u001b[0;34m\u001b[0m\u001b[0m\n\u001b[0;32m-> 1340\u001b[0;31m             \u001b[0mfirst_packet\u001b[0m \u001b[0;34m=\u001b[0m \u001b[0mself\u001b[0m\u001b[0;34m.\u001b[0m\u001b[0mconnection\u001b[0m\u001b[0;34m.\u001b[0m\u001b[0m_read_packet\u001b[0m\u001b[0;34m(\u001b[0m\u001b[0;34m)\u001b[0m\u001b[0;34m\u001b[0m\u001b[0m\n\u001b[0m\u001b[1;32m   1341\u001b[0m \u001b[0;34m\u001b[0m\u001b[0m\n\u001b[1;32m   1342\u001b[0m             \u001b[0;32mif\u001b[0m \u001b[0mfirst_packet\u001b[0m\u001b[0;34m.\u001b[0m\u001b[0mis_ok_packet\u001b[0m\u001b[0;34m(\u001b[0m\u001b[0;34m)\u001b[0m\u001b[0;34m:\u001b[0m\u001b[0;34m\u001b[0m\u001b[0m\n",
      "\u001b[0;32m/usr/local/lib/python3.5/dist-packages/pymysql/connections.py\u001b[0m in \u001b[0;36m_read_packet\u001b[0;34m(self, packet_type)\u001b[0m\n\u001b[1;32m    985\u001b[0m         \u001b[0mbuff\u001b[0m \u001b[0;34m=\u001b[0m \u001b[0;34mb''\u001b[0m\u001b[0;34m\u001b[0m\u001b[0m\n\u001b[1;32m    986\u001b[0m         \u001b[0;32mwhile\u001b[0m \u001b[0;32mTrue\u001b[0m\u001b[0;34m:\u001b[0m\u001b[0;34m\u001b[0m\u001b[0m\n\u001b[0;32m--> 987\u001b[0;31m             \u001b[0mpacket_header\u001b[0m \u001b[0;34m=\u001b[0m \u001b[0mself\u001b[0m\u001b[0;34m.\u001b[0m\u001b[0m_read_bytes\u001b[0m\u001b[0;34m(\u001b[0m\u001b[0;36m4\u001b[0m\u001b[0;34m)\u001b[0m\u001b[0;34m\u001b[0m\u001b[0m\n\u001b[0m\u001b[1;32m    988\u001b[0m             \u001b[0;32mif\u001b[0m \u001b[0mDEBUG\u001b[0m\u001b[0;34m:\u001b[0m \u001b[0mdump_packet\u001b[0m\u001b[0;34m(\u001b[0m\u001b[0mpacket_header\u001b[0m\u001b[0;34m)\u001b[0m\u001b[0;34m\u001b[0m\u001b[0m\n\u001b[1;32m    989\u001b[0m \u001b[0;34m\u001b[0m\u001b[0m\n",
      "\u001b[0;32m/usr/local/lib/python3.5/dist-packages/pymysql/connections.py\u001b[0m in \u001b[0;36m_read_bytes\u001b[0;34m(self, num_bytes)\u001b[0m\n\u001b[1;32m   1019\u001b[0m         \u001b[0;32mwhile\u001b[0m \u001b[0;32mTrue\u001b[0m\u001b[0;34m:\u001b[0m\u001b[0;34m\u001b[0m\u001b[0m\n\u001b[1;32m   1020\u001b[0m             \u001b[0;32mtry\u001b[0m\u001b[0;34m:\u001b[0m\u001b[0;34m\u001b[0m\u001b[0m\n\u001b[0;32m-> 1021\u001b[0;31m                 \u001b[0mdata\u001b[0m \u001b[0;34m=\u001b[0m \u001b[0mself\u001b[0m\u001b[0;34m.\u001b[0m\u001b[0m_rfile\u001b[0m\u001b[0;34m.\u001b[0m\u001b[0mread\u001b[0m\u001b[0;34m(\u001b[0m\u001b[0mnum_bytes\u001b[0m\u001b[0;34m)\u001b[0m\u001b[0;34m\u001b[0m\u001b[0m\n\u001b[0m\u001b[1;32m   1022\u001b[0m                 \u001b[0;32mbreak\u001b[0m\u001b[0;34m\u001b[0m\u001b[0m\n\u001b[1;32m   1023\u001b[0m             \u001b[0;32mexcept\u001b[0m \u001b[0;34m(\u001b[0m\u001b[0mIOError\u001b[0m\u001b[0;34m,\u001b[0m \u001b[0mOSError\u001b[0m\u001b[0;34m)\u001b[0m \u001b[0;32mas\u001b[0m \u001b[0me\u001b[0m\u001b[0;34m:\u001b[0m\u001b[0;34m\u001b[0m\u001b[0m\n",
      "\u001b[0;32m/usr/lib/python3.5/socket.py\u001b[0m in \u001b[0;36mreadinto\u001b[0;34m(self, b)\u001b[0m\n\u001b[1;32m    573\u001b[0m         \u001b[0;32mwhile\u001b[0m \u001b[0;32mTrue\u001b[0m\u001b[0;34m:\u001b[0m\u001b[0;34m\u001b[0m\u001b[0m\n\u001b[1;32m    574\u001b[0m             \u001b[0;32mtry\u001b[0m\u001b[0;34m:\u001b[0m\u001b[0;34m\u001b[0m\u001b[0m\n\u001b[0;32m--> 575\u001b[0;31m                 \u001b[0;32mreturn\u001b[0m \u001b[0mself\u001b[0m\u001b[0;34m.\u001b[0m\u001b[0m_sock\u001b[0m\u001b[0;34m.\u001b[0m\u001b[0mrecv_into\u001b[0m\u001b[0;34m(\u001b[0m\u001b[0mb\u001b[0m\u001b[0;34m)\u001b[0m\u001b[0;34m\u001b[0m\u001b[0m\n\u001b[0m\u001b[1;32m    576\u001b[0m             \u001b[0;32mexcept\u001b[0m \u001b[0mtimeout\u001b[0m\u001b[0;34m:\u001b[0m\u001b[0;34m\u001b[0m\u001b[0m\n\u001b[1;32m    577\u001b[0m                 \u001b[0mself\u001b[0m\u001b[0;34m.\u001b[0m\u001b[0m_timeout_occurred\u001b[0m \u001b[0;34m=\u001b[0m \u001b[0;32mTrue\u001b[0m\u001b[0;34m\u001b[0m\u001b[0m\n",
      "\u001b[0;31mKeyboardInterrupt\u001b[0m: "
     ]
    }
   ],
   "source": [
    "keys = goods.fetch(dj.key)"
   ]
  },
  {
   "cell_type": "code",
   "execution_count": 8,
   "metadata": {},
   "outputs": [],
   "source": [
    "contrast, mse, sigma, lr_mse = goods.fetch('dataset_contrast', 'cnn_valid_score', 'avg_sigma', 'lr_testset_score')"
   ]
  },
  {
   "cell_type": "code",
   "execution_count": 12,
   "metadata": {},
   "outputs": [
    {
     "data": {
      "text/plain": [
       "(0.001, 1.1)"
      ]
     },
     "execution_count": 12,
     "metadata": {},
     "output_type": "execute_result"
    },
    {
     "data": {
      "image/png": "[encoded data removed]",
      "text/plain": [
       "<matplotlib.figure.Figure at 0x7f2c9eb12eb8>"
      ]
     },
     "metadata": {},
     "output_type": "display_data"
    }
   ],
   "source": [
    "x = np.linspace(min(mse.min(), lr_mse.min()), max(mse.max(), lr_mse.max()))\n",
    "plt.scatter(contrast.astype(float), lr_mse)\n",
    "plt.scatter(contrast.astype(float), mse)\n",
    "\n",
    "plt.gca().set_xscale('log')\n",
    "plt.gca().set_xlim([0.001, 1.1])\n",
    "#plt.plot(x, x, '--')"
   ]
  },
  {
   "cell_type": "code",
   "execution_count": 13,
   "metadata": {},
   "outputs": [
    {
     "data": {
      "text/plain": [
       "(0.001, 1.1)"
      ]
     },
     "execution_count": 13,
     "metadata": {},
     "output_type": "execute_result"
    },
    {
     "data": {
      "image/png": "[encoded data removed]",
      "text/plain": [
       "<matplotlib.figure.Figure at 0x7f2c9ca889e8>"
      ]
     },
     "metadata": {},
     "output_type": "display_data"
    }
   ],
   "source": [
    "plt.scatter(contrast.astype(float), mse)\n",
    "plt.gca().set_xscale('log')\n",
    "plt.gca().set_xlim([0.001, 1.1])"
   ]
  },
  {
   "cell_type": "code",
   "execution_count": 4,
   "metadata": {},
   "outputs": [],
   "source": [
    "cd_dataset = dj.create_virtual_module('cd_dataset', 'edgar_cd_dataset')\n",
    "class_discrimination = dj.create_virtual_module('class_discrimination', 'edgar_class_discrimination')\n",
    "sessions = (class_discrimination.SpikeCountSet()).fetch(dj.key)\n",
    "# Select a single session\n",
    "key = sessions[4]\n",
    "v = (train.CleanContrastSessionDataSet() * class_discrimination.CSCLookup() & key & 'dataset_contrast = 0.9').fetch1(dj.key)"
   ]
  },
  {
   "cell_type": "code",
   "execution_count": 11,
   "metadata": {},
   "outputs": [],
   "source": [
    "from v1_likelihood.train import *"
   ]
  },
  {
   "cell_type": "code",
   "execution_count": 12,
   "metadata": {},
   "outputs": [],
   "source": [
    "self = CVTrainedModel()"
   ]
  },
  {
   "cell_type": "code",
   "execution_count": 16,
   "metadata": {},
   "outputs": [],
   "source": [
    "key = (self.key_source & v).fetch(dj.key, limit=1)[0]"
   ]
  },
  {
   "cell_type": "code",
   "execution_count": 45,
   "metadata": {},
   "outputs": [
    {
     "name": "stdout",
     "output_type": "stream",
     "text": [
      "Working!\n"
     ]
    }
   ],
   "source": [
    "print('Working!')\n",
    "\n",
    "train_set, test_set = (CVSet() & key).fetch_datasets()\n",
    "bin_width, bin_counts, clip_outside = (BinConfig() & key).fetch1('bin_width', 'bin_counts', 'clip_outside')\n",
    "bin_counts = int(bin_counts)\n",
    "bin_width = float(bin_width)\n",
    "delta = bin_width\n",
    "\n",
    "train_counts, train_ori = np.concatenate(train_set['counts'], 1).T, train_set['orientation']\n",
    "test_counts, test_ori = np.concatenate(test_set['counts'], 1).T, test_set['orientation']\n",
    "\n",
    "xv, train_bins = binnify(train_ori, delta=bin_width, nbins=bin_counts, clip=clip_outside)\n",
    "_, test_bins = binnify(test_ori, delta=bin_width, nbins=bin_counts, clip=clip_outside)\n",
    "\n",
    "good_pos = train_bins >= 0\n",
    "train_counts = train_counts[good_pos]\n",
    "train_bins = train_bins[good_pos]\n",
    "\n",
    "good_pos = test_bins >= 0\n",
    "test_counts = test_counts[good_pos]\n",
    "test_bins = test_bins[good_pos]"
   ]
  },
  {
   "cell_type": "code",
   "execution_count": 57,
   "metadata": {},
   "outputs": [
    {
     "name": "stdout",
     "output_type": "stream",
     "text": [
      "{'csc_hash': 'b047337460082b62b44a8bc4ccfb4c400b6c9e95', 'dataset_contrast': '0.9'}\n"
     ]
    }
   ],
   "source": [
    "print(v)"
   ]
  },
  {
   "cell_type": "markdown",
   "metadata": {},
   "source": [
    "## Linear regression"
   ]
  },
  {
   "cell_type": "code",
   "execution_count": 20,
   "metadata": {},
   "outputs": [
    {
     "data": {
      "text/plain": [
       "<matplotlib.collections.PathCollection at 0x7fbe871c3c18>"
      ]
     },
     "execution_count": 20,
     "metadata": {},
     "output_type": "execute_result"
    },
    {
     "data": {
      "image/png": "[encoded data removed]",
      "text/plain": [
       "<matplotlib.figure.Figure at 0x7fbe89b6cfd0>"
      ]
     },
     "metadata": {},
     "output_type": "display_data"
    }
   ],
   "source": [
    "def extend_ones(x):\n",
    "    return np.concatenate([x, np.ones([x.shape[0], 1])], axis=1)\n",
    "\n",
    "tc = extend_ones(train_counts)\n",
    "\n",
    "w = inv(tc.T @ tc + np.diag(np.ones(tc.shape[1]) * 0.0001)) @ tc.T @ train_bins\n",
    "\n",
    "t_hat = extend_ones(test_counts) @ w\n",
    "\n",
    "plt.scatter(t_hat, test_bins)"
   ]
  },
  {
   "cell_type": "code",
   "execution_count": 56,
   "metadata": {},
   "outputs": [],
   "source": [
    "sigmaA = 3\n",
    "sigmaB = 15\n",
    "\n",
    "prior = np.log(np.exp(- xv ** 2 / 2 / sigmaA ** 2) / sigmaA + np.exp(- xv ** 2 / 2 / sigmaB ** 2) / sigmaB)\n",
    "prior = Variable(torch.from_numpy(prior)).cuda().float()\n",
    "\n",
    "train_x = torch.Tensor(train_counts)\n",
    "train_t = torch.Tensor(train_bins).type(torch.LongTensor)\n",
    "\n",
    "valid_x = Variable(torch.Tensor(test_counts)).cuda()\n",
    "valid_t = Variable(torch.Tensor(test_bins).type(torch.LongTensor)).cuda()\n",
    "\n",
    "train_dataset = TensorDataset(train_x, train_t)\n",
    "valid_dataset = TensorDataset(valid_x, valid_t)\n",
    "\n",
    "def objective(net, x=None, t=None):\n",
    "    if x is None and t is None:\n",
    "        x = valid_x\n",
    "        t = valid_t\n",
    "    net.eval()\n",
    "    y = net(x)\n",
    "    posterior = y + prior\n",
    "    _, loc = torch.max(posterior, dim=1)\n",
    "    v = (t.double() - loc.double()).pow(2).mean().sqrt() * bin_width\n",
    "    return v.data.cpu().numpy()[0]"
   ]
  },
  {
   "cell_type": "code",
   "execution_count": 41,
   "metadata": {},
   "outputs": [],
   "source": [
    "def objective(net, x=None, t=None):\n",
    "    if x is None and t is None:\n",
    "        x = valid_x\n",
    "        t = valid_t\n",
    "    net.eval()\n",
    "    y = net(x)\n",
    "    posterior = y + prior\n",
    "    _, loc = torch.max(posterior, dim=1)\n",
    "    v =(t.double() - loc.double()).pow(2).mean().sqrt() * delta\n",
    "    return v.data.cpu().numpy()[0]\n",
    "    #return loss(valid_y, valid_t).data.cpu().numpy()[0]"
   ]
  },
  {
   "cell_type": "code",
   "execution_count": 42,
   "metadata": {},
   "outputs": [],
   "source": [
    "class Net(nn.Module):\n",
    "    def __init__(self, n_channel=96, n_hidden=100, n_output=61, dropout=0.9, std=0.01):\n",
    "        super().__init__()\n",
    "        self.n_channel = n_channel\n",
    "        self.std = std\n",
    "        self.n_output = n_output\n",
    "        self.dropout = dropout\n",
    "        \n",
    "        if not isinstance(n_hidden, (list, tuple)):\n",
    "            n_hidden = (n_hidden,)\n",
    "        \n",
    "        self.n_hidden = n_hidden\n",
    "        \n",
    "        n_prev = n_channel\n",
    "        \n",
    "        hiddens = []\n",
    "        \n",
    "        for n in n_hidden:\n",
    "            hiddens.append(nn.Linear(n_prev, n))\n",
    "            hiddens.append(nn.ReLU())\n",
    "            if dropout > 0.0:\n",
    "                hiddens.append(nn.Dropout(p=dropout, inplace=True))\n",
    "            n_prev = n\n",
    "        if len(hiddens) > 0:\n",
    "            self.hiddens = nn.Sequential(*hiddens)\n",
    "        else:\n",
    "            self.hiddens = lambda x: x\n",
    "        self.ro_layer = nn.Linear(n_prev, n_output)\n",
    "        \n",
    "        self.initialize()\n",
    "        \n",
    "        \n",
    "    def forward(self, x):\n",
    "        x = self.hiddens(x)\n",
    "        x = self.ro_layer(x)\n",
    "        return x\n",
    "    \n",
    "    def initialize(self):\n",
    "        def fn(mod):\n",
    "            if isinstance(mod, nn.Linear):\n",
    "                normal(mod.weight, std=self.std)\n",
    "                constant(mod.bias, 0)\n",
    "        self.apply(fn)"
   ]
  },
  {
   "cell_type": "code",
   "execution_count": 43,
   "metadata": {},
   "outputs": [],
   "source": [
    "net = Net(n_output=61, n_hidden=[400, 400], std=0.001, dropout=0.5)\n",
    "net.cuda()\n",
    "loss = nn.CrossEntropyLoss().cuda()"
   ]
  },
  {
   "cell_type": "code",
   "execution_count": 44,
   "metadata": {},
   "outputs": [
    {
     "name": "stdout",
     "output_type": "stream",
     "text": [
      "\n",
      "\n",
      "\n",
      "\n",
      " LEARNING RATE: 0.03\n"
     ]
    },
    {
     "ename": "NameError",
     "evalue": "name 'delta' is not defined",
     "output_type": "error",
     "traceback": [
      "\u001b[0;31m---------------------------------------------------------------------------\u001b[0m",
      "\u001b[0;31mNameError\u001b[0m                                 Traceback (most recent call last)",
      "\u001b[0;32m<ipython-input-44-c3eb4c7d4a0f>\u001b[0m in \u001b[0;36m<module>\u001b[0;34m()\u001b[0m\n\u001b[1;32m     11\u001b[0m     \u001b[0mprint\u001b[0m\u001b[0;34m(\u001b[0m\u001b[0;34m'\\n\\n\\n\\n LEARNING RATE: {}'\u001b[0m\u001b[0;34m.\u001b[0m\u001b[0mformat\u001b[0m\u001b[0;34m(\u001b[0m\u001b[0mlr\u001b[0m\u001b[0;34m)\u001b[0m\u001b[0;34m)\u001b[0m\u001b[0;34m\u001b[0m\u001b[0m\n\u001b[1;32m     12\u001b[0m     \u001b[0moptimizer\u001b[0m \u001b[0;34m=\u001b[0m \u001b[0mtorch\u001b[0m\u001b[0;34m.\u001b[0m\u001b[0moptim\u001b[0m\u001b[0;34m.\u001b[0m\u001b[0mSGD\u001b[0m\u001b[0;34m(\u001b[0m\u001b[0mnet\u001b[0m\u001b[0;34m.\u001b[0m\u001b[0mparameters\u001b[0m\u001b[0;34m(\u001b[0m\u001b[0;34m)\u001b[0m\u001b[0;34m,\u001b[0m \u001b[0mlr\u001b[0m\u001b[0;34m=\u001b[0m\u001b[0mlr\u001b[0m\u001b[0;34m)\u001b[0m\u001b[0;34m\u001b[0m\u001b[0m\n\u001b[0;32m---> 13\u001b[0;31m     \u001b[0;32mfor\u001b[0m \u001b[0mepoch\u001b[0m\u001b[0;34m,\u001b[0m \u001b[0mvalid_score\u001b[0m \u001b[0;32min\u001b[0m \u001b[0mearly_stopping\u001b[0m\u001b[0;34m(\u001b[0m\u001b[0mnet\u001b[0m\u001b[0;34m,\u001b[0m \u001b[0mobjective\u001b[0m\u001b[0;34m,\u001b[0m \u001b[0minterval\u001b[0m\u001b[0;34m=\u001b[0m\u001b[0;36m20\u001b[0m\u001b[0;34m,\u001b[0m \u001b[0mstart\u001b[0m\u001b[0;34m=\u001b[0m\u001b[0;36m100\u001b[0m\u001b[0;34m,\u001b[0m \u001b[0mpatience\u001b[0m\u001b[0;34m=\u001b[0m\u001b[0;36m20\u001b[0m\u001b[0;34m,\u001b[0m \u001b[0mmax_iter\u001b[0m\u001b[0;34m=\u001b[0m\u001b[0;36m300000\u001b[0m\u001b[0;34m,\u001b[0m \u001b[0mmaximize\u001b[0m\u001b[0;34m=\u001b[0m\u001b[0;32mFalse\u001b[0m\u001b[0;34m)\u001b[0m\u001b[0;34m:\u001b[0m\u001b[0;34m\u001b[0m\u001b[0m\n\u001b[0m\u001b[1;32m     14\u001b[0m         \u001b[0mdata_loader\u001b[0m \u001b[0;34m=\u001b[0m \u001b[0mDataLoader\u001b[0m\u001b[0;34m(\u001b[0m\u001b[0mtrain_dataset\u001b[0m\u001b[0;34m,\u001b[0m \u001b[0mshuffle\u001b[0m\u001b[0;34m=\u001b[0m\u001b[0;32mTrue\u001b[0m\u001b[0;34m,\u001b[0m \u001b[0mbatch_size\u001b[0m\u001b[0;34m=\u001b[0m\u001b[0;36m128\u001b[0m\u001b[0;34m)\u001b[0m\u001b[0;34m\u001b[0m\u001b[0m\n\u001b[1;32m     15\u001b[0m         \u001b[0;32mfor\u001b[0m \u001b[0mx_\u001b[0m\u001b[0;34m,\u001b[0m \u001b[0mt_\u001b[0m \u001b[0;32min\u001b[0m \u001b[0mdata_loader\u001b[0m\u001b[0;34m:\u001b[0m\u001b[0;34m\u001b[0m\u001b[0m\n",
      "\u001b[0;32m/src/attorch/attorch/train.py\u001b[0m in \u001b[0;36mearly_stopping\u001b[0;34m(model, objective, interval, patience, start, max_iter, maximize, tolerance, switch_mode, restore_best)\u001b[0m\n\u001b[1;32m     53\u001b[0m     \u001b[0mepoch\u001b[0m \u001b[0;34m=\u001b[0m \u001b[0mstart\u001b[0m\u001b[0;34m\u001b[0m\u001b[0m\n\u001b[1;32m     54\u001b[0m     \u001b[0mmaximize\u001b[0m \u001b[0;34m=\u001b[0m \u001b[0mfloat\u001b[0m\u001b[0;34m(\u001b[0m\u001b[0mmaximize\u001b[0m\u001b[0;34m)\u001b[0m\u001b[0;34m\u001b[0m\u001b[0m\n\u001b[0;32m---> 55\u001b[0;31m     \u001b[0mbest_objective\u001b[0m \u001b[0;34m=\u001b[0m \u001b[0mcurrent_objective\u001b[0m \u001b[0;34m=\u001b[0m \u001b[0m_objective\u001b[0m\u001b[0;34m(\u001b[0m\u001b[0mmodel\u001b[0m\u001b[0;34m)\u001b[0m\u001b[0;34m\u001b[0m\u001b[0m\n\u001b[0m\u001b[1;32m     56\u001b[0m     \u001b[0mbest_state_dict\u001b[0m \u001b[0;34m=\u001b[0m \u001b[0mcopy_state\u001b[0m\u001b[0;34m(\u001b[0m\u001b[0mmodel\u001b[0m\u001b[0;34m)\u001b[0m\u001b[0;34m\u001b[0m\u001b[0m\n\u001b[1;32m     57\u001b[0m     \u001b[0mpatience_counter\u001b[0m \u001b[0;34m=\u001b[0m \u001b[0;36m0\u001b[0m\u001b[0;34m\u001b[0m\u001b[0m\n",
      "\u001b[0;32m/src/attorch/attorch/train.py\u001b[0m in \u001b[0;36m_objective\u001b[0;34m(mod)\u001b[0m\n\u001b[1;32m     46\u001b[0m         \u001b[0;32mif\u001b[0m \u001b[0mswitch_mode\u001b[0m\u001b[0;34m:\u001b[0m\u001b[0;34m\u001b[0m\u001b[0m\n\u001b[1;32m     47\u001b[0m             \u001b[0mmod\u001b[0m\u001b[0;34m.\u001b[0m\u001b[0meval\u001b[0m\u001b[0;34m(\u001b[0m\u001b[0;34m)\u001b[0m\u001b[0;34m\u001b[0m\u001b[0m\n\u001b[0;32m---> 48\u001b[0;31m         \u001b[0mret\u001b[0m \u001b[0;34m=\u001b[0m \u001b[0mobjective\u001b[0m\u001b[0;34m(\u001b[0m\u001b[0mmod\u001b[0m\u001b[0;34m)\u001b[0m\u001b[0;34m\u001b[0m\u001b[0m\n\u001b[0m\u001b[1;32m     49\u001b[0m         \u001b[0;32mif\u001b[0m \u001b[0mswitch_mode\u001b[0m\u001b[0;34m:\u001b[0m\u001b[0;34m\u001b[0m\u001b[0m\n\u001b[1;32m     50\u001b[0m             \u001b[0mmod\u001b[0m\u001b[0;34m.\u001b[0m\u001b[0mtrain\u001b[0m\u001b[0;34m(\u001b[0m\u001b[0mtraining_status\u001b[0m\u001b[0;34m)\u001b[0m\u001b[0;34m\u001b[0m\u001b[0m\n",
      "\u001b[0;32m<ipython-input-41-f07eefea87e9>\u001b[0m in \u001b[0;36mobjective\u001b[0;34m(net, x, t)\u001b[0m\n\u001b[1;32m      7\u001b[0m     \u001b[0mposterior\u001b[0m \u001b[0;34m=\u001b[0m \u001b[0my\u001b[0m \u001b[0;34m+\u001b[0m \u001b[0mprior\u001b[0m\u001b[0;34m\u001b[0m\u001b[0m\n\u001b[1;32m      8\u001b[0m     \u001b[0m_\u001b[0m\u001b[0;34m,\u001b[0m \u001b[0mloc\u001b[0m \u001b[0;34m=\u001b[0m \u001b[0mtorch\u001b[0m\u001b[0;34m.\u001b[0m\u001b[0mmax\u001b[0m\u001b[0;34m(\u001b[0m\u001b[0mposterior\u001b[0m\u001b[0;34m,\u001b[0m \u001b[0mdim\u001b[0m\u001b[0;34m=\u001b[0m\u001b[0;36m1\u001b[0m\u001b[0;34m)\u001b[0m\u001b[0;34m\u001b[0m\u001b[0m\n\u001b[0;32m----> 9\u001b[0;31m     \u001b[0mv\u001b[0m \u001b[0;34m=\u001b[0m\u001b[0;34m(\u001b[0m\u001b[0mt\u001b[0m\u001b[0;34m.\u001b[0m\u001b[0mdouble\u001b[0m\u001b[0;34m(\u001b[0m\u001b[0;34m)\u001b[0m \u001b[0;34m-\u001b[0m \u001b[0mloc\u001b[0m\u001b[0;34m.\u001b[0m\u001b[0mdouble\u001b[0m\u001b[0;34m(\u001b[0m\u001b[0;34m)\u001b[0m\u001b[0;34m)\u001b[0m\u001b[0;34m.\u001b[0m\u001b[0mpow\u001b[0m\u001b[0;34m(\u001b[0m\u001b[0;36m2\u001b[0m\u001b[0;34m)\u001b[0m\u001b[0;34m.\u001b[0m\u001b[0mmean\u001b[0m\u001b[0;34m(\u001b[0m\u001b[0;34m)\u001b[0m\u001b[0;34m.\u001b[0m\u001b[0msqrt\u001b[0m\u001b[0;34m(\u001b[0m\u001b[0;34m)\u001b[0m \u001b[0;34m*\u001b[0m \u001b[0mdelta\u001b[0m\u001b[0;34m\u001b[0m\u001b[0m\n\u001b[0m\u001b[1;32m     10\u001b[0m     \u001b[0;32mreturn\u001b[0m \u001b[0mv\u001b[0m\u001b[0;34m.\u001b[0m\u001b[0mdata\u001b[0m\u001b[0;34m.\u001b[0m\u001b[0mcpu\u001b[0m\u001b[0;34m(\u001b[0m\u001b[0;34m)\u001b[0m\u001b[0;34m.\u001b[0m\u001b[0mnumpy\u001b[0m\u001b[0;34m(\u001b[0m\u001b[0;34m)\u001b[0m\u001b[0;34m[\u001b[0m\u001b[0;36m0\u001b[0m\u001b[0;34m]\u001b[0m\u001b[0;34m\u001b[0m\u001b[0m\n\u001b[1;32m     11\u001b[0m     \u001b[0;31m#return loss(valid_y, valid_t).data.cpu().numpy()[0]\u001b[0m\u001b[0;34m\u001b[0m\u001b[0;34m\u001b[0m\u001b[0m\n",
      "\u001b[0;31mNameError\u001b[0m: name 'delta' is not defined"
     ]
    }
   ],
   "source": [
    "net.std = 1e-3\n",
    "net.initialize()\n",
    "\n",
    "alpha = 0.3 #3e-2 #7e-3 #1e-3\n",
    "\n",
    "\n",
    "#scheduler = torch.optim.lr_scheduler.StepLR(optimizer, step_size=3000, gamma=0.3)\n",
    "learning_rates = 0.03 * 3.0**(-np.arange(3))\n",
    "\n",
    "for lr in learning_rates:\n",
    "    print('\\n\\n\\n\\n LEARNING RATE: {}'.format(lr))\n",
    "    optimizer = torch.optim.SGD(net.parameters(), lr=lr)\n",
    "    for epoch, valid_score in early_stopping(net, objective, interval=20, start=100, patience=20, max_iter=300000, maximize=False):\n",
    "        data_loader = DataLoader(train_dataset, shuffle=True, batch_size=128)\n",
    "        for x_, t_ in data_loader:\n",
    "            x, t = Variable(x_).cuda(), Variable(t_).cuda()\n",
    "            net.train()\n",
    "            optimizer.zero_grad()\n",
    "            y = net(x)\n",
    "            post = y + prior\n",
    "            val, _ = post.max(1, keepdim=True)\n",
    "            post = post - val\n",
    "            #sparcity = y.abs().sum(1).mean()\n",
    "            conv_filter = Variable(torch.from_numpy(np.array([-0.25, 0.5, -0.25])[None, None, :]).type(y.data.type()))\n",
    "            smoothness = nn.functional.conv1d(y.unsqueeze(1), conv_filter).pow(2).mean()\n",
    "            score = loss(post, t)\n",
    "            score = score + alpha * smoothness\n",
    "            score.backward()\n",
    "            optimizer.step()\n",
    "        if epoch % 10 == 0:\n",
    "            print('Score: {}'.format(score.data.cpu().numpy()[0]))\n",
    "        #scheduler.step()"
   ]
  },
  {
   "cell_type": "code",
   "execution_count": null,
   "metadata": {},
   "outputs": [],
   "source": [
    "## setup model\n",
    "h1, h2 = (ModelDesign() & key).fetch1('hidden1', 'hidden2')\n",
    "h1, h2 = int(h1), int(h2)\n",
    "lr, dropout, init_std, alpha = (TrainParam() & key).fetch1('learning_rate', 'dropout', 'init_std', 'smoothness')\n",
    "lr, dropout, init_std, alpha = float(lr), float(dropout), float(init_std), float(alpha)\n",
    "\n",
    "## train the network\n",
    "set_seed(key['train_seed'])\n",
    "net = Net(n_output=bin_counts, n_hidden=[h1, h2], std=init_std, dropout=dropout)\n",
    "net.cuda()\n",
    "loss = nn.CrossEntropyLoss().cuda()\n",
    "\n",
    "learning_rates = lr * 3.0**(-np.arange(4))\n",
    "for lr in learning_rates:\n",
    "    print('\\n\\n\\n\\n LEARNING RATE: {}'.format(lr))\n",
    "    optimizer = torch.optim.SGD(net.parameters(), lr=lr)\n",
    "    for epoch, valid_score in early_stopping(net, objective, interval=20, start=100, patience=20, max_iter=300000, maximize=False):\n",
    "        data_loader = DataLoader(train_dataset, shuffle=True, batch_size=128)\n",
    "        for x_, t_ in data_loader:\n",
    "            x, t = Variable(x_).cuda(), Variable(t_).cuda()\n",
    "            net.train()\n",
    "            optimizer.zero_grad()\n",
    "            y = net(x)\n",
    "            post = y + prior\n",
    "            val, _ = post.max(1, keepdim=True)\n",
    "            post = post - val\n",
    "            #sparcity = y.abs().sum(1).mean()\n",
    "            conv_filter = Variable(torch.from_numpy(np.array([-0.25, 0.5, -0.25])[None, None, :]).type(y.data.type()))\n",
    "            smoothness = nn.functional.conv1d(y.unsqueeze(1), conv_filter).pow(2).mean()\n",
    "            score = loss(post, t)\n",
    "            score = score + alpha * smoothness\n",
    "            score.backward()\n",
    "            optimizer.step()\n",
    "        # if epoch % 10 == 0:\n",
    "        #     print('Score: {}'.format(score.data.cpu().numpy()[0]))\n",
    "\n",
    "\n",
    "net.eval()\n",
    "\n",
    "key['cnn_trainset_score'] = objective(net, x=Variable(train_x).cuda(), t=Variable(train_t).cuda())\n",
    "key['cnn_testset_score'] = objective(net, x=test_x, t=test_t)\n",
    "\n",
    "y = net(test_x)\n",
    "yd = y.data.cpu().numpy()\n",
    "yd = np.exp(yd)\n",
    "yd = yd / yd.sum(axis=1, keepdims=True)\n",
    "\n",
    "loc = yd.argmax(axis=1)\n",
    "ds = (np.arange(bin_counts) - loc[:, None]) ** 2\n",
    "avg_sigma = np.mean(np.sqrt(np.sum(yd * ds, axis=1))) * bin_width\n",
    "if np.isnan(avg_sigma):\n",
    "  avg_sigma = -1\n",
    "\n",
    "key['avg_sigma'] = avg_sigma\n",
    "key['model'] = {k: v.cpu().numpy() for k, v in net.state_dict().items()}\n",
    "\n",
    "self.insert1(key)"
   ]
  },
  {
   "cell_type": "code",
   "execution_count": 5,
   "metadata": {},
   "outputs": [
    {
     "name": "stdout",
     "output_type": "stream",
     "text": [
      "Working on  {'csc_hash': 'b047337460082b62b44a8bc4ccfb4c400b6c9e95', 'cv_seed': 35, 'dataset_contrast': '0.9', 'cv_config_id': '57eeec0a6974ecb4e9fcf68fab052f7b'}\n"
     ]
    }
   ],
   "source": [
    "train.CVSet().populate(v)"
   ]
  },
  {
   "cell_type": "code",
   "execution_count": 3,
   "metadata": {},
   "outputs": [],
   "source": []
  },
  {
   "cell_type": "code",
   "execution_count": 6,
   "metadata": {
    "scrolled": false
   },
   "outputs": [
    {
     "name": "stdout",
     "output_type": "stream",
     "text": [
      "Working!\n",
      "Setting numpy and torch seed to 8\n",
      "\n",
      "\n",
      "\n",
      "\n",
      " LEARNING RATE: 0.03\n",
      "[120|01/20] -/-> 31.923566435467883\n",
      "[140|02/20] -/-> 31.923566435467883\n",
      "[160|03/20] -/-> 31.923566435467883\n",
      "[180|03/20] ---> 12.381247999027515\n",
      "[200|01/20] -/-> 30.975309500596087\n",
      "[220|02/20] -/-> 30.975309500596087\n",
      "[240|03/20] -/-> 30.975309500596087\n",
      "[260|04/20] -/-> 30.975309500596087\n",
      "[280|05/20] -/-> 30.975309500596087\n",
      "[300|06/20] -/-> 29.08919400832019\n",
      "[320|07/20] -/-> 29.08919400832019\n",
      "[340|08/20] -/-> 29.08919400832019\n",
      "[360|09/20] -/-> 29.08919400832019\n",
      "[380|10/20] -/-> 29.08919400832019\n",
      "[400|11/20] -/-> 29.08919400832019\n",
      "[420|12/20] -/-> 28.1520321247273\n",
      "[440|13/20] -/-> 28.1520321247273\n",
      "[460|14/20] -/-> 27.219342707891833\n",
      "[480|15/20] -/-> 27.219342707891833\n",
      "[500|16/20] -/-> 27.219342707891833\n",
      "[520|17/20] -/-> 27.219342707891833\n",
      "[540|18/20] -/-> 27.219342707891833\n",
      "[560|19/20] -/-> 26.291601741766343\n",
      "[580|20/20] -/-> 26.291601741766343\n",
      "Restoring best model! 26.291602 ---> 12.381248\n",
      "\n",
      "\n",
      "\n",
      "\n",
      " LEARNING RATE: 0.009999999999999998\n",
      "[120|01/20] -/-> 30.975309500596087\n",
      "[140|02/20] -/-> 30.975309500596087\n",
      "[160|03/20] -/-> 30.975309500596087\n",
      "[180|04/20] -/-> 30.975309500596087\n",
      "[200|05/20] -/-> 30.975309500596087\n",
      "[220|06/20] -/-> 30.975309500596087\n",
      "[240|07/20] -/-> 30.975309500596087\n",
      "[260|08/20] -/-> 30.975309500596087\n",
      "[280|09/20] -/-> 30.975309500596087\n",
      "[300|10/20] -/-> 30.975309500596087\n",
      "[320|11/20] -/-> 30.975309500596087\n",
      "[340|12/20] -/-> 30.975309500596087\n",
      "[360|13/20] -/-> 30.975309500596087\n",
      "[380|14/20] -/-> 30.975309500596087\n",
      "[400|15/20] -/-> 30.975309500596087\n",
      "[420|16/20] -/-> 30.975309500596087\n",
      "[440|17/20] -/-> 29.08919400832019\n",
      "[460|18/20] -/-> 29.08919400832019\n",
      "[480|19/20] -/-> 29.08919400832019\n",
      "[500|20/20] -/-> 29.08919400832019\n",
      "Restoring best model! 29.089194 ---> 12.381248\n",
      "\n",
      "\n",
      "\n",
      "\n",
      " LEARNING RATE: 0.003333333333333333\n",
      "[120|01/20] -/-> 15.859280517207896\n",
      "[140|02/20] -/-> 15.859280517207896\n",
      "[160|03/20] -/-> 30.975309500596087\n",
      "[180|04/20] -/-> 30.975309500596087\n",
      "[200|05/20] -/-> 30.975309500596087\n",
      "[220|06/20] -/-> 30.975309500596087\n",
      "[240|07/20] -/-> 30.975309500596087\n",
      "[260|08/20] -/-> 30.975309500596087\n",
      "[280|09/20] -/-> 30.975309500596087\n",
      "[300|10/20] -/-> 30.975309500596087\n",
      "[320|11/20] -/-> 30.975309500596087\n",
      "[340|12/20] -/-> 30.975309500596087\n",
      "[360|13/20] -/-> 30.975309500596087\n",
      "[380|14/20] -/-> 30.975309500596087\n",
      "[400|15/20] -/-> 30.975309500596087\n",
      "[420|16/20] -/-> 30.975309500596087\n",
      "[440|17/20] -/-> 30.975309500596087\n",
      "[460|18/20] -/-> 30.975309500596087\n",
      "[480|19/20] -/-> 30.975309500596087\n",
      "[500|20/20] -/-> 30.975309500596087\n",
      "Restoring best model! 30.975310 ---> 12.381248\n",
      "\n",
      "\n",
      "\n",
      "\n",
      " LEARNING RATE: 0.0011111111111111111\n",
      "[120|01/20] -/-> 12.381247999027515\n",
      "[140|02/20] -/-> 12.381247999027515\n",
      "[160|03/20] -/-> 15.859280517207896\n",
      "[180|04/20] -/-> 15.859280517207896\n",
      "[200|05/20] -/-> 15.859280517207896\n",
      "[220|06/20] -/-> 15.859280517207896\n",
      "[240|07/20] -/-> 30.975309500596087\n",
      "[260|08/20] -/-> 30.975309500596087\n",
      "[280|09/20] -/-> 30.975309500596087\n",
      "[300|10/20] -/-> 30.975309500596087\n",
      "[320|11/20] -/-> 30.975309500596087\n",
      "[340|12/20] -/-> 30.975309500596087\n",
      "[360|13/20] -/-> 30.975309500596087\n",
      "[380|14/20] -/-> 30.975309500596087\n",
      "[400|15/20] -/-> 30.975309500596087\n",
      "[420|16/20] -/-> 30.975309500596087\n",
      "[440|17/20] -/-> 30.975309500596087\n",
      "[460|18/20] -/-> 30.975309500596087\n",
      "[480|19/20] -/-> 30.975309500596087\n",
      "[500|20/20] -/-> 30.975309500596087\n",
      "Restoring best model! 30.975310 ---> 12.381248\n",
      "Working!\n",
      "Setting numpy and torch seed to 8\n",
      "\n",
      "\n",
      "\n",
      "\n",
      " LEARNING RATE: 0.03\n",
      "[120|01/20] -/-> 31.923566435467883\n",
      "[140|02/20] -/-> 31.923566435467883\n",
      "[160|02/20] ---> 19.437906645652475\n",
      "[180|01/20] -/-> 19.437906645652475\n",
      "[200|02/20] -/-> 19.437906645652475\n",
      "[220|03/20] -/-> 19.437906645652475\n",
      "[240|04/20] -/-> 19.437906645652475\n",
      "[260|05/20] -/-> 19.437906645652475\n",
      "[280|06/20] -/-> 19.437906645652475\n",
      "[300|07/20] -/-> 19.437906645652475\n",
      "[320|08/20] -/-> 19.437906645652475\n",
      "[340|09/20] -/-> 19.437906645652475\n",
      "[360|10/20] -/-> 19.437906645652475\n",
      "[380|11/20] -/-> 19.437906645652475\n",
      "[400|12/20] -/-> 19.437906645652475\n",
      "[420|13/20] -/-> 19.437906645652475\n",
      "[440|14/20] -/-> 19.437906645652475\n",
      "[460|15/20] -/-> 19.437906645652475\n",
      "[480|16/20] -/-> 19.437906645652475\n",
      "[500|17/20] -/-> 19.437906645652475\n",
      "[520|18/20] -/-> 19.437906645652475\n",
      "[540|19/20] -/-> 19.437906645652475\n",
      "[560|20/20] -/-> 19.437906645652475\n",
      "Restoring best model! 19.437907 ---> 19.437907\n",
      "\n",
      "\n",
      "\n",
      "\n",
      " LEARNING RATE: 0.009999999999999998\n",
      "[120|01/20] -/-> 19.437906645652475\n",
      "[140|02/20] -/-> 19.437906645652475\n",
      "[160|03/20] -/-> 19.437906645652475\n",
      "[180|04/20] -/-> 19.437906645652475\n",
      "[200|05/20] -/-> 19.437906645652475\n",
      "[220|06/20] -/-> 19.437906645652475\n",
      "[240|07/20] -/-> 19.437906645652475\n",
      "[260|08/20] -/-> 19.437906645652475\n",
      "[280|09/20] -/-> 19.437906645652475\n",
      "[300|10/20] -/-> 19.437906645652475\n",
      "[320|11/20] -/-> 19.437906645652475\n",
      "[340|12/20] -/-> 19.437906645652475\n",
      "[360|13/20] -/-> 19.437906645652475\n",
      "[380|14/20] -/-> 19.437906645652475\n",
      "[400|15/20] -/-> 19.437906645652475\n",
      "[420|16/20] -/-> 19.437906645652475\n",
      "[440|17/20] -/-> 19.437906645652475\n",
      "[460|18/20] -/-> 19.437906645652475\n",
      "[480|19/20] -/-> 19.437906645652475\n",
      "[500|20/20] -/-> 19.437906645652475\n",
      "Restoring best model! 19.437907 ---> 19.437907\n",
      "\n",
      "\n",
      "\n",
      "\n",
      " LEARNING RATE: 0.003333333333333333\n",
      "[120|01/20] -/-> 19.437906645652475\n",
      "[140|02/20] -/-> 19.437906645652475\n",
      "[160|03/20] -/-> 19.437906645652475\n",
      "[180|04/20] -/-> 19.437906645652475\n",
      "[200|05/20] -/-> 19.437906645652475\n",
      "[220|06/20] -/-> 19.437906645652475\n",
      "[240|07/20] -/-> 19.437906645652475\n",
      "[260|08/20] -/-> 19.437906645652475\n",
      "[280|09/20] -/-> 19.437906645652475\n",
      "[300|10/20] -/-> 19.437906645652475\n",
      "[320|11/20] -/-> 19.437906645652475\n",
      "[340|12/20] -/-> 19.437906645652475\n",
      "[360|13/20] -/-> 19.437906645652475\n",
      "[380|14/20] -/-> 19.437906645652475\n",
      "[400|15/20] -/-> 19.437906645652475\n",
      "[420|16/20] -/-> 19.437906645652475\n",
      "[440|17/20] -/-> 19.437906645652475\n",
      "[460|18/20] -/-> 19.437906645652475\n",
      "[480|19/20] -/-> 19.437906645652475\n",
      "[500|20/20] -/-> 19.437906645652475\n",
      "Restoring best model! 19.437907 ---> 19.437907\n",
      "\n",
      "\n",
      "\n",
      "\n",
      " LEARNING RATE: 0.0011111111111111111\n",
      "[120|01/20] -/-> 19.437906645652475\n",
      "[140|02/20] -/-> 19.437906645652475\n",
      "[160|03/20] -/-> 19.437906645652475\n",
      "[180|04/20] -/-> 19.437906645652475\n",
      "[200|05/20] -/-> 19.437906645652475\n",
      "[220|06/20] -/-> 19.437906645652475\n",
      "[240|07/20] -/-> 19.437906645652475\n",
      "[260|08/20] -/-> 19.437906645652475\n",
      "[280|09/20] -/-> 19.437906645652475\n",
      "[300|10/20] -/-> 19.437906645652475\n",
      "[320|11/20] -/-> 19.437906645652475\n",
      "[340|12/20] -/-> 19.437906645652475\n",
      "[360|13/20] -/-> 19.437906645652475\n",
      "[380|14/20] -/-> 19.437906645652475\n",
      "[400|15/20] -/-> 19.437906645652475\n",
      "[420|16/20] -/-> 19.437906645652475\n",
      "[440|17/20] -/-> 19.437906645652475\n",
      "[460|18/20] -/-> 19.437906645652475\n",
      "[480|19/20] -/-> 19.437906645652475\n",
      "[500|20/20] -/-> 19.437906645652475\n",
      "Restoring best model! 19.437907 ---> 19.437907\n",
      "Working!\n",
      "Setting numpy and torch seed to 8\n",
      "\n",
      "\n",
      "\n",
      "\n",
      " LEARNING RATE: 0.03\n",
      "[120|01/20] -/-> 31.923566435467883\n",
      "[140|01/20] ---> 10.007044498617732\n",
      "[160|01/20] -/-> 19.437906645652475\n",
      "[180|02/20] -/-> 19.437906645652475\n",
      "[200|03/20] -/-> 19.437906645652475\n",
      "[220|04/20] -/-> 19.437906645652475\n",
      "[240|05/20] -/-> 19.437906645652475\n",
      "[260|06/20] -/-> 19.437906645652475\n",
      "[280|07/20] -/-> 19.437906645652475\n",
      "[300|08/20] -/-> 19.437906645652475\n",
      "[320|09/20] -/-> 19.437906645652475\n",
      "[340|10/20] -/-> 19.437906645652475\n",
      "[360|11/20] -/-> 19.437906645652475\n",
      "[380|12/20] -/-> 19.437906645652475\n",
      "[400|13/20] -/-> 19.437906645652475\n",
      "[420|14/20] -/-> 19.437906645652475\n",
      "[440|15/20] -/-> 19.437906645652475\n",
      "[460|16/20] -/-> 19.437906645652475\n",
      "[480|17/20] -/-> 19.437906645652475\n",
      "[500|18/20] -/-> 19.437906645652475\n",
      "[520|19/20] -/-> 19.437906645652475\n",
      "[540|20/20] -/-> 19.437906645652475\n",
      "Restoring best model! 19.437907 ---> 10.007044\n",
      "\n",
      "\n",
      "\n",
      "\n",
      " LEARNING RATE: 0.009999999999999998\n",
      "[120|01/20] -/-> 10.336940988188362\n",
      "[140|02/20] -/-> 11.314005100290347\n",
      "[160|03/20] -/-> 10.522267854667506\n",
      "[180|04/20] -/-> 10.336940988188362\n",
      "[200|05/20] -/-> 19.13358198904595\n",
      "[220|06/20] -/-> 10.007044498617732\n",
      "[240|07/20] -/-> 11.314005100290347\n",
      "[260|08/20] -/-> 15.859280517207896\n",
      "[280|09/20] -/-> 19.13358198904595\n",
      "[300|10/20] -/-> 10.007044498617732\n",
      "[320|11/20] -/-> 10.007044498617732\n",
      "[340|12/20] -/-> 10.522267854667506\n",
      "[360|13/20] -/-> 10.071222875169742\n",
      "[380|14/20] -/-> 10.071222875169742\n"
     ]
    },
    {
     "name": "stdout",
     "output_type": "stream",
     "text": [
      "[400|15/20] -/-> 23.54390443918788\n",
      "[420|16/20] -/-> 11.314005100290347\n",
      "[440|17/20] -/-> 11.314005100290347\n",
      "[460|18/20] -/-> 10.071222875169742\n",
      "[480|19/20] -/-> 10.071222875169742\n",
      "[500|20/20] -/-> 10.522267854667506\n",
      "Restoring best model! 10.522268 ---> 10.007044\n",
      "\n",
      "\n",
      "\n",
      "\n",
      " LEARNING RATE: 0.003333333333333333\n",
      "[120|01/20] -/-> 10.007044498617732\n",
      "[140|02/20] -/-> 10.007044498617732\n",
      "[160|03/20] -/-> 10.007044498617732\n",
      "[180|04/20] -/-> 10.007044498617732\n",
      "[200|05/20] -/-> 10.007044498617732\n",
      "[220|06/20] -/-> 10.007044498617732\n",
      "[240|07/20] -/-> 10.007044498617732\n",
      "[260|08/20] -/-> 10.007044498617732\n",
      "[280|09/20] -/-> 10.007044498617732\n",
      "[300|10/20] -/-> 10.007044498617732\n",
      "[320|11/20] -/-> 10.007044498617732\n",
      "[340|12/20] -/-> 10.007044498617732\n",
      "[360|13/20] -/-> 10.007044498617732\n",
      "[380|14/20] -/-> 10.007044498617732\n",
      "[400|15/20] -/-> 10.007044498617732\n",
      "[420|16/20] -/-> 10.007044498617732\n",
      "[440|17/20] -/-> 10.007044498617732\n",
      "[460|18/20] -/-> 10.007044498617732\n",
      "[480|19/20] -/-> 10.007044498617732\n",
      "[500|20/20] -/-> 10.007044498617732\n",
      "Restoring best model! 10.007044 ---> 10.007044\n",
      "\n",
      "\n",
      "\n",
      "\n",
      " LEARNING RATE: 0.0011111111111111111\n",
      "[120|01/20] -/-> 19.437906645652475\n",
      "[140|02/20] -/-> 19.437906645652475\n",
      "[160|03/20] -/-> 19.437906645652475\n",
      "[180|04/20] -/-> 19.437906645652475\n",
      "[200|05/20] -/-> 19.437906645652475\n",
      "[220|06/20] -/-> 19.437906645652475\n",
      "[240|07/20] -/-> 19.437906645652475\n",
      "[260|08/20] -/-> 19.437906645652475\n",
      "[280|09/20] -/-> 19.437906645652475\n",
      "[300|10/20] -/-> 19.437906645652475\n",
      "[320|11/20] -/-> 19.437906645652475\n",
      "[340|12/20] -/-> 19.437906645652475\n",
      "[360|13/20] -/-> 19.437906645652475\n",
      "[380|14/20] -/-> 19.437906645652475\n",
      "[400|15/20] -/-> 19.437906645652475\n",
      "[420|16/20] -/-> 19.437906645652475\n",
      "[440|17/20] -/-> 19.437906645652475\n",
      "[460|18/20] -/-> 19.437906645652475\n",
      "[480|19/20] -/-> 19.437906645652475\n",
      "[500|20/20] -/-> 19.437906645652475\n",
      "Restoring best model! 19.437907 ---> 10.007044\n",
      "Working!\n"
     ]
    },
    {
     "name": "stderr",
     "output_type": "stream",
     "text": [
      "/src/v1_likelihood/v1_likelihood/train.py:306: RuntimeWarning: overflow encountered in exp\n",
      "  yd = np.exp(yd)\n",
      "/src/v1_likelihood/v1_likelihood/train.py:307: RuntimeWarning: invalid value encountered in true_divide\n",
      "  yd = yd / yd.sum(axis=1, keepdims=True)\n"
     ]
    },
    {
     "name": "stdout",
     "output_type": "stream",
     "text": [
      "Setting numpy and torch seed to 8\n",
      "\n",
      "\n",
      "\n",
      "\n",
      " LEARNING RATE: 0.03\n",
      "[120|01/20] -/-> 31.923566435467883\n",
      "[140|02/20] -/-> 31.923566435467883\n",
      "[160|02/20] ---> 26.291601741766343\n",
      "[180|00/20] ---> 10.250552448690543\n",
      "[200|01/20] -/-> 10.250552448690543\n",
      "[220|02/20] -/-> 10.250552448690543\n",
      "[240|03/20] -/-> 10.250552448690543\n",
      "[260|04/20] -/-> 10.250552448690543\n",
      "[280|04/20] ---> 10.071222875169742\n",
      "[300|01/20] -/-> 10.071222875169742\n",
      "[320|02/20] -/-> 10.071222875169742\n",
      "[340|03/20] -/-> 10.071222875169742\n",
      "[360|04/20] -/-> 10.071222875169742\n",
      "[380|05/20] -/-> 10.250552448690543\n",
      "[400|06/20] -/-> 10.071222875169742\n",
      "[420|07/20] -/-> 10.071222875169742\n",
      "[440|08/20] -/-> 10.250552448690543\n",
      "[460|09/20] -/-> 10.071222875169742\n",
      "[480|10/20] -/-> 10.071222875169742\n",
      "[500|11/20] -/-> 10.250552448690543\n",
      "[520|12/20] -/-> 10.071222875169742\n",
      "[540|13/20] -/-> 10.250552448690543\n",
      "[560|14/20] -/-> 10.250552448690543\n",
      "[580|15/20] -/-> 10.071222875169742\n",
      "[600|16/20] -/-> 10.071222875169742\n",
      "[620|17/20] -/-> 10.250552448690543\n",
      "[640|18/20] -/-> 10.250552448690543\n",
      "[660|19/20] -/-> 10.071222875169742\n",
      "[680|20/20] -/-> 10.250552448690543\n",
      "Restoring best model! 10.250552 ---> 10.071223\n",
      "\n",
      "\n",
      "\n",
      "\n",
      " LEARNING RATE: 0.009999999999999998\n",
      "[120|01/20] -/-> 10.250552448690543\n",
      "[140|02/20] -/-> 10.071222875169742\n",
      "[160|03/20] -/-> 10.071222875169742\n",
      "[180|04/20] -/-> 10.250552448690543\n",
      "[200|05/20] -/-> 10.250552448690543\n",
      "[220|06/20] -/-> 10.250552448690543\n",
      "[240|07/20] -/-> 10.250552448690543\n",
      "[260|08/20] -/-> 10.250552448690543\n",
      "[280|09/20] -/-> 10.071222875169742\n",
      "[300|10/20] -/-> 10.071222875169742\n",
      "[320|11/20] -/-> 10.250552448690543\n",
      "[340|12/20] -/-> 10.071222875169742\n",
      "[360|13/20] -/-> 10.071222875169742\n",
      "[380|14/20] -/-> 10.071222875169742\n",
      "[400|15/20] -/-> 10.071222875169742\n",
      "[420|16/20] -/-> 10.071222875169742\n",
      "[440|17/20] -/-> 10.071222875169742\n",
      "[460|18/20] -/-> 10.071222875169742\n",
      "[480|19/20] -/-> 10.071222875169742\n",
      "[500|20/20] -/-> 10.071222875169742\n",
      "Restoring best model! 10.071223 ---> 10.071223\n",
      "\n",
      "\n",
      "\n",
      "\n",
      " LEARNING RATE: 0.003333333333333333\n",
      "[120|01/20] -/-> 10.250552448690543\n",
      "[140|02/20] -/-> 10.250552448690543\n",
      "[160|03/20] -/-> 10.250552448690543\n",
      "[180|04/20] -/-> 10.071222875169742\n",
      "[200|05/20] -/-> 10.250552448690543\n",
      "[220|06/20] -/-> 10.250552448690543\n",
      "[240|07/20] -/-> 10.071222875169742\n",
      "[260|08/20] -/-> 10.250552448690543\n",
      "[280|09/20] -/-> 10.250552448690543\n",
      "[300|10/20] -/-> 10.071222875169742\n",
      "[320|11/20] -/-> 10.071222875169742\n",
      "[340|12/20] -/-> 10.250552448690543\n",
      "[360|13/20] -/-> 10.250552448690543\n",
      "[380|14/20] -/-> 10.071222875169742\n",
      "[400|15/20] -/-> 10.071222875169742\n",
      "[420|16/20] -/-> 10.071222875169742\n",
      "[440|17/20] -/-> 10.071222875169742\n",
      "[460|18/20] -/-> 10.071222875169742\n",
      "[480|19/20] -/-> 10.071222875169742\n",
      "[500|20/20] -/-> 10.071222875169742\n",
      "Restoring best model! 10.071223 ---> 10.071223\n",
      "\n",
      "\n",
      "\n",
      "\n",
      " LEARNING RATE: 0.0011111111111111111\n",
      "[120|01/20] -/-> 10.071222875169742\n",
      "[140|02/20] -/-> 10.250552448690543\n",
      "[160|03/20] -/-> 10.250552448690543\n",
      "[180|04/20] -/-> 10.250552448690543\n",
      "[200|05/20] -/-> 10.250552448690543\n",
      "[220|06/20] -/-> 10.250552448690543\n",
      "[240|07/20] -/-> 10.250552448690543\n",
      "[260|08/20] -/-> 10.250552448690543\n",
      "[280|09/20] -/-> 10.071222875169742\n",
      "[300|10/20] -/-> 10.250552448690543\n",
      "[320|11/20] -/-> 10.250552448690543\n",
      "[340|12/20] -/-> 10.250552448690543\n",
      "[360|13/20] -/-> 10.250552448690543\n",
      "[380|14/20] -/-> 10.250552448690543\n",
      "[400|15/20] -/-> 10.071222875169742\n",
      "[420|16/20] -/-> 10.250552448690543\n",
      "[440|17/20] -/-> 10.250552448690543\n",
      "[460|18/20] -/-> 10.250552448690543\n",
      "[480|19/20] -/-> 10.250552448690543\n",
      "[500|20/20] -/-> 10.250552448690543\n",
      "Restoring best model! 10.250552 ---> 10.071223\n",
      "Working!\n",
      "Setting numpy and torch seed to 92\n",
      "\n",
      "\n",
      "\n",
      "\n",
      " LEARNING RATE: 0.03\n",
      "[120|01/20] -/-> 31.923566435467883\n",
      "[140|02/20] -/-> 31.923566435467883\n",
      "[160|03/20] -/-> 31.923566435467883\n",
      "[180|04/20] -/-> 31.923566435467883\n",
      "[200|05/20] -/-> 31.923566435467883\n",
      "[220|06/20] -/-> 31.923566435467883\n",
      "[240|07/20] -/-> 31.923566435467883\n",
      "[260|08/20] -/-> 31.923566435467883\n",
      "[280|09/20] -/-> 31.923566435467883\n",
      "[300|10/20] -/-> 31.923566435467883\n",
      "[320|11/20] -/-> 31.923566435467883\n",
      "[340|12/20] -/-> 31.923566435467883\n",
      "[360|12/20] ---> 29.08919400832019\n",
      "[380|01/20] -/-> 29.08919400832019\n",
      "[400|02/20] -/-> 29.08919400832019\n",
      "[420|02/20] ---> 28.1520321247273\n",
      "[440|01/20] -/-> 28.1520321247273\n",
      "[460|01/20] ---> 27.219342707891833\n",
      "[480|01/20] -/-> 27.219342707891833\n",
      "[500|02/20] -/-> 27.219342707891833\n",
      "[520|03/20] -/-> 27.219342707891833\n",
      "[540|03/20] ---> 26.291601741766343\n",
      "[560|01/20] -/-> 26.291601741766343\n",
      "[580|02/20] -/-> 26.291601741766343\n",
      "[600|03/20] -/-> 26.291601741766343\n",
      "[620|04/20] -/-> 26.291601741766343\n",
      "[640|05/20] -/-> 26.291601741766343\n",
      "[660|06/20] -/-> 26.291601741766343\n",
      "[680|07/20] -/-> 26.291601741766343\n",
      "[700|08/20] -/-> 26.291601741766343\n",
      "[720|09/20] -/-> 26.291601741766343\n",
      "[740|10/20] -/-> 26.291601741766343\n",
      "[760|11/20] -/-> 26.291601741766343\n",
      "[780|12/20] -/-> 26.291601741766343\n",
      "[800|13/20] -/-> 26.291601741766343\n",
      "[820|13/20] ---> 22.64224240086651\n",
      "[840|01/20] -/-> 22.64224240086651\n",
      "[860|02/20] -/-> 22.64224240086651\n",
      "[880|03/20] -/-> 22.64224240086651\n",
      "[900|04/20] -/-> 22.64224240086651\n",
      "[920|04/20] ---> 21.749180344040184\n",
      "[940|01/20] -/-> 21.749180344040184\n",
      "[960|02/20] -/-> 21.749180344040184\n",
      "[980|03/20] -/-> 21.749180344040184\n",
      "[1000|04/20] -/-> 21.749180344040184\n",
      "[1020|05/20] -/-> 21.749180344040184\n",
      "[1040|06/20] -/-> 21.749180344040184\n",
      "[1060|07/20] -/-> 21.749180344040184\n",
      "[1080|08/20] -/-> 21.749180344040184\n",
      "[1100|09/20] -/-> 21.749180344040184\n",
      "[1120|10/20] -/-> 21.749180344040184\n",
      "[1140|10/20] ---> 20.86582254155274\n",
      "[1160|01/20] -/-> 20.86582254155274\n",
      "[1180|02/20] -/-> 20.86582254155274\n",
      "[1200|03/20] -/-> 20.86582254155274\n",
      "[1220|03/20] ---> 19.993455305013114\n",
      "[1240|01/20] -/-> 19.993455305013114\n",
      "[1260|02/20] -/-> 19.993455305013114\n",
      "[1280|03/20] -/-> 19.993455305013114\n",
      "[1300|04/20] -/-> 19.993455305013114\n",
      "[1320|05/20] -/-> 19.993455305013114\n",
      "[1340|06/20] -/-> 19.993455305013114\n",
      "[1360|07/20] -/-> 19.993455305013114\n",
      "[1380|07/20] ---> 17.458676041656673\n",
      "[1400|01/20] -/-> 17.458676041656673\n",
      "[1420|01/20] ---> 10.250552448690543\n",
      "[1440|01/20] -/-> 10.250552448690543\n",
      "[1460|02/20] -/-> 10.250552448690543\n",
      "[1480|03/20] -/-> 10.250552448690543\n",
      "[1500|03/20] ---> 10.071222875169742\n",
      "[1520|01/20] -/-> 10.071222875169742\n",
      "[1540|02/20] -/-> 10.071222875169742\n",
      "[1560|03/20] -/-> 10.071222875169742\n",
      "[1580|04/20] -/-> 10.071222875169742\n",
      "[1600|05/20] -/-> 10.071222875169742\n",
      "[1620|06/20] -/-> 10.071222875169742\n",
      "[1640|07/20] -/-> 10.071222875169742\n",
      "[1660|08/20] -/-> 10.071222875169742\n",
      "[1680|09/20] -/-> 10.071222875169742\n",
      "[1700|10/20] -/-> 10.071222875169742\n",
      "[1720|11/20] -/-> 10.071222875169742\n",
      "[1740|12/20] -/-> 10.071222875169742\n",
      "[1760|13/20] -/-> 10.071222875169742\n",
      "[1780|14/20] -/-> 10.071222875169742\n",
      "[1800|15/20] -/-> 10.071222875169742\n",
      "[1820|16/20] -/-> 10.071222875169742\n",
      "[1840|17/20] -/-> 10.071222875169742\n",
      "[1860|18/20] -/-> 10.071222875169742\n",
      "[1880|19/20] -/-> 10.071222875169742\n",
      "[1900|20/20] -/-> 10.071222875169742\n",
      "Restoring best model! 10.071223 ---> 10.071223\n",
      "\n",
      "\n",
      "\n",
      "\n",
      " LEARNING RATE: 0.009999999999999998\n",
      "[120|01/20] -/-> 10.071222875169742\n",
      "[140|02/20] -/-> 10.071222875169742\n",
      "[160|03/20] -/-> 10.071222875169742\n",
      "[180|04/20] -/-> 10.071222875169742\n",
      "[200|05/20] -/-> 10.071222875169742\n",
      "[220|06/20] -/-> 10.071222875169742\n",
      "[240|07/20] -/-> 10.071222875169742\n",
      "[260|08/20] -/-> 10.071222875169742\n",
      "[280|09/20] -/-> 10.071222875169742\n",
      "[300|10/20] -/-> 10.071222875169742\n",
      "[320|11/20] -/-> 10.071222875169742\n",
      "[340|12/20] -/-> 10.071222875169742\n",
      "[360|13/20] -/-> 10.071222875169742\n",
      "[380|14/20] -/-> 10.071222875169742\n",
      "[400|15/20] -/-> 10.071222875169742\n",
      "[420|16/20] -/-> 10.071222875169742\n",
      "[440|17/20] -/-> 10.071222875169742\n",
      "[460|18/20] -/-> 10.071222875169742\n",
      "[480|19/20] -/-> 10.071222875169742\n",
      "[500|20/20] -/-> 10.071222875169742\n",
      "Restoring best model! 10.071223 ---> 10.071223\n",
      "\n",
      "\n",
      "\n",
      "\n",
      " LEARNING RATE: 0.003333333333333333\n",
      "[120|01/20] -/-> 10.071222875169742\n",
      "[140|02/20] -/-> 10.071222875169742\n",
      "[160|03/20] -/-> 10.071222875169742\n",
      "[180|04/20] -/-> 10.071222875169742\n",
      "[200|05/20] -/-> 10.071222875169742\n",
      "[220|06/20] -/-> 10.071222875169742\n",
      "[240|07/20] -/-> 10.071222875169742\n",
      "[260|08/20] -/-> 10.071222875169742\n",
      "[280|09/20] -/-> 10.071222875169742\n",
      "[300|10/20] -/-> 10.071222875169742\n",
      "[320|11/20] -/-> 10.071222875169742\n"
     ]
    },
    {
     "name": "stdout",
     "output_type": "stream",
     "text": [
      "[340|12/20] -/-> 10.071222875169742\n",
      "[360|13/20] -/-> 10.071222875169742\n",
      "[380|14/20] -/-> 10.071222875169742\n",
      "[400|15/20] -/-> 10.071222875169742\n",
      "[420|16/20] -/-> 10.071222875169742\n",
      "[440|17/20] -/-> 10.071222875169742\n",
      "[460|18/20] -/-> 10.071222875169742\n",
      "[480|19/20] -/-> 10.071222875169742\n",
      "[500|20/20] -/-> 10.071222875169742\n",
      "Restoring best model! 10.071223 ---> 10.071223\n",
      "\n",
      "\n",
      "\n",
      "\n",
      " LEARNING RATE: 0.0011111111111111111\n",
      "[120|01/20] -/-> 10.071222875169742\n",
      "[140|02/20] -/-> 10.071222875169742\n",
      "[160|03/20] -/-> 10.071222875169742\n",
      "[180|04/20] -/-> 10.071222875169742\n",
      "[200|05/20] -/-> 10.071222875169742\n",
      "[220|06/20] -/-> 10.071222875169742\n",
      "[240|07/20] -/-> 10.071222875169742\n",
      "[260|08/20] -/-> 10.071222875169742\n",
      "[280|09/20] -/-> 10.071222875169742\n",
      "[300|10/20] -/-> 10.071222875169742\n",
      "[320|11/20] -/-> 10.071222875169742\n",
      "[340|12/20] -/-> 10.071222875169742\n",
      "[360|13/20] -/-> 10.071222875169742\n",
      "[380|14/20] -/-> 10.071222875169742\n",
      "[400|15/20] -/-> 10.071222875169742\n",
      "[420|16/20] -/-> 10.071222875169742\n",
      "[440|17/20] -/-> 10.071222875169742\n",
      "[460|18/20] -/-> 10.071222875169742\n",
      "[480|19/20] -/-> 10.071222875169742\n",
      "[500|20/20] -/-> 10.071222875169742\n",
      "Restoring best model! 10.071223 ---> 10.071223\n",
      "Working!\n",
      "Setting numpy and torch seed to 92\n",
      "\n",
      "\n",
      "\n",
      "\n",
      " LEARNING RATE: 0.03\n",
      "[120|01/20] -/-> 31.923566435467883\n",
      "[140|01/20] ---> 19.437906645652475\n",
      "[160|01/20] -/-> 19.437906645652475\n",
      "[180|02/20] -/-> 19.437906645652475\n",
      "[200|03/20] -/-> 19.437906645652475\n",
      "[220|04/20] -/-> 19.437906645652475\n",
      "[240|05/20] -/-> 19.437906645652475\n",
      "[260|06/20] -/-> 19.437906645652475\n",
      "[280|07/20] -/-> 19.437906645652475\n",
      "[300|08/20] -/-> 19.437906645652475\n",
      "[320|09/20] -/-> 19.437906645652475\n",
      "[340|10/20] -/-> 19.437906645652475\n",
      "[360|11/20] -/-> 19.437906645652475\n",
      "[380|12/20] -/-> 19.437906645652475\n",
      "[400|13/20] -/-> 19.437906645652475\n",
      "[420|14/20] -/-> 19.437906645652475\n",
      "[440|15/20] -/-> 19.437906645652475\n",
      "[460|16/20] -/-> 19.437906645652475\n",
      "[480|17/20] -/-> 19.437906645652475\n",
      "[500|18/20] -/-> 19.437906645652475\n",
      "[520|19/20] -/-> 19.437906645652475\n",
      "[540|20/20] -/-> 19.437906645652475\n",
      "Restoring best model! 19.437907 ---> 19.437907\n",
      "\n",
      "\n",
      "\n",
      "\n",
      " LEARNING RATE: 0.009999999999999998\n",
      "[120|01/20] -/-> 19.437906645652475\n",
      "[140|02/20] -/-> 19.437906645652475\n",
      "[160|03/20] -/-> 19.437906645652475\n",
      "[180|04/20] -/-> 19.437906645652475\n",
      "[200|05/20] -/-> 19.437906645652475\n",
      "[220|06/20] -/-> 19.437906645652475\n",
      "[240|07/20] -/-> 19.437906645652475\n",
      "[260|08/20] -/-> 19.437906645652475\n",
      "[280|09/20] -/-> 19.437906645652475\n",
      "[300|10/20] -/-> 19.437906645652475\n",
      "[320|11/20] -/-> 19.437906645652475\n",
      "[340|12/20] -/-> 19.437906645652475\n",
      "[360|13/20] -/-> 19.437906645652475\n",
      "[380|14/20] -/-> 19.437906645652475\n",
      "[400|15/20] -/-> 19.437906645652475\n",
      "[420|16/20] -/-> 19.437906645652475\n",
      "[440|17/20] -/-> 19.437906645652475\n",
      "[460|18/20] -/-> 19.437906645652475\n",
      "[480|19/20] -/-> 19.437906645652475\n",
      "[500|20/20] -/-> 19.437906645652475\n",
      "Restoring best model! 19.437907 ---> 19.437907\n",
      "\n",
      "\n",
      "\n",
      "\n",
      " LEARNING RATE: 0.003333333333333333\n",
      "[120|01/20] -/-> 19.437906645652475\n",
      "[140|02/20] -/-> 19.437906645652475\n",
      "[160|03/20] -/-> 19.437906645652475\n",
      "[180|04/20] -/-> 19.437906645652475\n",
      "[200|05/20] -/-> 19.437906645652475\n",
      "[220|06/20] -/-> 19.437906645652475\n",
      "[240|07/20] -/-> 19.437906645652475\n",
      "[260|08/20] -/-> 19.437906645652475\n",
      "[280|09/20] -/-> 19.437906645652475\n",
      "[300|10/20] -/-> 19.437906645652475\n",
      "[320|11/20] -/-> 19.437906645652475\n",
      "[340|12/20] -/-> 19.437906645652475\n",
      "[360|13/20] -/-> 19.437906645652475\n",
      "[380|14/20] -/-> 19.437906645652475\n",
      "[400|15/20] -/-> 19.437906645652475\n",
      "[420|16/20] -/-> 19.437906645652475\n",
      "[440|17/20] -/-> 19.437906645652475\n",
      "[460|18/20] -/-> 19.437906645652475\n",
      "[480|19/20] -/-> 19.437906645652475\n",
      "[500|20/20] -/-> 19.437906645652475\n",
      "Restoring best model! 19.437907 ---> 19.437907\n",
      "\n",
      "\n",
      "\n",
      "\n",
      " LEARNING RATE: 0.0011111111111111111\n",
      "[120|01/20] -/-> 19.437906645652475\n",
      "[140|02/20] -/-> 19.437906645652475\n",
      "[160|03/20] -/-> 19.437906645652475\n",
      "[180|04/20] -/-> 19.437906645652475\n",
      "[200|05/20] -/-> 19.437906645652475\n",
      "[220|06/20] -/-> 19.437906645652475\n",
      "[240|07/20] -/-> 19.437906645652475\n",
      "[260|08/20] -/-> 19.437906645652475\n",
      "[280|09/20] -/-> 19.437906645652475\n",
      "[300|10/20] -/-> 19.437906645652475\n",
      "[320|11/20] -/-> 19.437906645652475\n",
      "[340|12/20] -/-> 19.437906645652475\n",
      "[360|13/20] -/-> 19.437906645652475\n",
      "[380|14/20] -/-> 19.437906645652475\n",
      "[400|15/20] -/-> 19.437906645652475\n",
      "[420|16/20] -/-> 19.437906645652475\n",
      "[440|17/20] -/-> 19.437906645652475\n",
      "[460|18/20] -/-> 19.437906645652475\n",
      "[480|19/20] -/-> 19.437906645652475\n",
      "[500|20/20] -/-> 19.437906645652475\n",
      "Restoring best model! 19.437907 ---> 19.437907\n",
      "Working!\n",
      "Setting numpy and torch seed to 92\n",
      "\n",
      "\n",
      "\n",
      "\n",
      " LEARNING RATE: 0.03\n",
      "[120|01/20] -/-> 31.923566435467883\n",
      "[140|02/20] -/-> 31.923566435467883\n",
      "[160|02/20] ---> 30.975309500596087\n",
      "[180|00/20] ---> 23.54390443918788\n",
      "[200|00/20] ---> 10.071222875169742\n",
      "[220|01/20] -/-> 10.071222875169742\n",
      "[240|02/20] -/-> 10.071222875169742\n",
      "[260|03/20] -/-> 10.071222875169742\n",
      "[280|04/20] -/-> 10.071222875169742\n",
      "[300|05/20] -/-> 10.071222875169742\n",
      "[320|06/20] -/-> 10.250552448690543\n",
      "[340|07/20] -/-> 10.250552448690543\n",
      "[360|08/20] -/-> 10.071222875169742\n",
      "[380|09/20] -/-> 10.071222875169742\n",
      "[400|10/20] -/-> 10.071222875169742\n",
      "[420|11/20] -/-> 10.071222875169742\n",
      "[440|12/20] -/-> 10.071222875169742\n",
      "[460|13/20] -/-> 10.071222875169742\n",
      "[480|14/20] -/-> 10.071222875169742\n",
      "[500|15/20] -/-> 10.071222875169742\n",
      "[520|16/20] -/-> 10.071222875169742\n",
      "[540|17/20] -/-> 10.071222875169742\n",
      "[560|18/20] -/-> 10.071222875169742\n",
      "[580|19/20] -/-> 10.071222875169742\n",
      "[600|20/20] -/-> 10.071222875169742\n",
      "Restoring best model! 10.071223 ---> 10.071223\n",
      "\n",
      "\n",
      "\n",
      "\n",
      " LEARNING RATE: 0.009999999999999998\n",
      "[120|01/20] -/-> 10.071222875169742\n",
      "[140|02/20] -/-> 10.071222875169742\n",
      "[160|03/20] -/-> 10.071222875169742\n",
      "[180|04/20] -/-> 10.071222875169742\n",
      "[200|05/20] -/-> 10.071222875169742\n",
      "[220|06/20] -/-> 10.071222875169742\n",
      "[240|07/20] -/-> 10.071222875169742\n",
      "[260|08/20] -/-> 10.071222875169742\n",
      "[280|09/20] -/-> 10.071222875169742\n",
      "[300|10/20] -/-> 10.071222875169742\n",
      "[320|11/20] -/-> 10.071222875169742\n",
      "[340|12/20] -/-> 10.071222875169742\n",
      "[360|13/20] -/-> 10.071222875169742\n",
      "[380|14/20] -/-> 10.071222875169742\n",
      "[400|15/20] -/-> 10.071222875169742\n",
      "[420|16/20] -/-> 10.071222875169742\n",
      "[440|17/20] -/-> 10.071222875169742\n",
      "[460|18/20] -/-> 10.071222875169742\n",
      "[480|19/20] -/-> 10.071222875169742\n",
      "[500|20/20] -/-> 10.071222875169742\n",
      "Restoring best model! 10.071223 ---> 10.071223\n",
      "\n",
      "\n",
      "\n",
      "\n",
      " LEARNING RATE: 0.003333333333333333\n",
      "[120|01/20] -/-> 10.071222875169742\n",
      "[140|02/20] -/-> 10.071222875169742\n",
      "[160|03/20] -/-> 10.071222875169742\n",
      "[180|04/20] -/-> 10.071222875169742\n",
      "[200|05/20] -/-> 10.071222875169742\n",
      "[220|06/20] -/-> 10.071222875169742\n",
      "[240|07/20] -/-> 10.071222875169742\n",
      "[260|08/20] -/-> 10.071222875169742\n",
      "[280|09/20] -/-> 10.071222875169742\n",
      "[300|10/20] -/-> 10.071222875169742\n",
      "[320|11/20] -/-> 10.071222875169742\n",
      "[340|12/20] -/-> 10.071222875169742\n",
      "[360|13/20] -/-> 10.071222875169742\n",
      "[380|14/20] -/-> 10.071222875169742\n",
      "[400|15/20] -/-> 10.071222875169742\n",
      "[420|16/20] -/-> 10.071222875169742\n",
      "[440|17/20] -/-> 10.071222875169742\n",
      "[460|18/20] -/-> 10.071222875169742\n",
      "[480|19/20] -/-> 10.071222875169742\n",
      "[500|20/20] -/-> 10.071222875169742\n",
      "Restoring best model! 10.071223 ---> 10.071223\n",
      "\n",
      "\n",
      "\n",
      "\n",
      " LEARNING RATE: 0.0011111111111111111\n",
      "[120|01/20] -/-> 10.071222875169742\n",
      "[140|02/20] -/-> 10.071222875169742\n",
      "[160|03/20] -/-> 10.071222875169742\n",
      "[180|04/20] -/-> 10.071222875169742\n",
      "[200|05/20] -/-> 10.071222875169742\n",
      "[220|06/20] -/-> 10.071222875169742\n",
      "[240|07/20] -/-> 10.071222875169742\n",
      "[260|08/20] -/-> 10.071222875169742\n",
      "[280|09/20] -/-> 10.071222875169742\n",
      "[300|10/20] -/-> 10.071222875169742\n",
      "[320|11/20] -/-> 10.071222875169742\n",
      "[340|12/20] -/-> 10.071222875169742\n",
      "[360|13/20] -/-> 10.071222875169742\n",
      "[380|14/20] -/-> 10.071222875169742\n",
      "[400|15/20] -/-> 10.071222875169742\n",
      "[420|16/20] -/-> 10.071222875169742\n",
      "[440|17/20] -/-> 10.071222875169742\n",
      "[460|18/20] -/-> 10.071222875169742\n",
      "[480|19/20] -/-> 10.071222875169742\n",
      "[500|20/20] -/-> 10.071222875169742\n",
      "Restoring best model! 10.071223 ---> 10.071223\n",
      "Working!\n",
      "Setting numpy and torch seed to 92\n",
      "\n",
      "\n",
      "\n",
      "\n",
      " LEARNING RATE: 0.03\n",
      "[120|01/20] -/-> 31.923566435467883\n",
      "[140|02/20] -/-> 31.923566435467883\n",
      "[160|02/20] ---> 26.291601741766343\n",
      "[180|00/20] ---> 10.250552448690543\n",
      "[200|01/20] -/-> 10.250552448690543\n"
     ]
    },
    {
     "name": "stdout",
     "output_type": "stream",
     "text": [
      "[220|02/20] -/-> 10.250552448690543\n",
      "[240|03/20] -/-> 10.250552448690543\n",
      "[260|03/20] ---> 10.071222875169742\n",
      "[280|01/20] -/-> 10.071222875169742\n",
      "[300|02/20] -/-> 10.250552448690543\n",
      "[320|03/20] -/-> 10.071222875169742\n",
      "[340|04/20] -/-> 10.250552448690543\n",
      "[360|05/20] -/-> 10.071222875169742\n",
      "[380|06/20] -/-> 10.071222875169742\n",
      "[400|07/20] -/-> 10.250552448690543\n",
      "[420|08/20] -/-> 10.071222875169742\n"
     ]
    },
    {
     "ename": "KeyboardInterrupt",
     "evalue": "",
     "output_type": "error",
     "traceback": [
      "\u001b[0;31m---------------------------------------------------------------------------\u001b[0m",
      "\u001b[0;31mKeyboardInterrupt\u001b[0m                         Traceback (most recent call last)",
      "\u001b[0;32m<ipython-input-6-46e28108fa96>\u001b[0m in \u001b[0;36m<module>\u001b[0;34m()\u001b[0m\n\u001b[0;32m----> 1\u001b[0;31m \u001b[0mtrain\u001b[0m\u001b[0;34m.\u001b[0m\u001b[0mCVTrainedModel\u001b[0m\u001b[0;34m(\u001b[0m\u001b[0;34m)\u001b[0m\u001b[0;34m.\u001b[0m\u001b[0mpopulate\u001b[0m\u001b[0;34m(\u001b[0m\u001b[0mv\u001b[0m\u001b[0;34m)\u001b[0m\u001b[0;34m\u001b[0m\u001b[0m\n\u001b[0m",
      "\u001b[0;32m/usr/local/lib/python3.5/dist-packages/datajoint/autopopulate.py\u001b[0m in \u001b[0;36mpopulate\u001b[0;34m(self, suppress_errors, reserve_jobs, order, limit, max_calls, display_progress, *restrictions)\u001b[0m\n\u001b[1;32m    138\u001b[0m                     \u001b[0mnext\u001b[0m\u001b[0;34m(\u001b[0m\u001b[0mcall_count\u001b[0m\u001b[0;34m)\u001b[0m\u001b[0;34m\u001b[0m\u001b[0m\n\u001b[1;32m    139\u001b[0m                     \u001b[0;32mtry\u001b[0m\u001b[0;34m:\u001b[0m\u001b[0;34m\u001b[0m\u001b[0m\n\u001b[0;32m--> 140\u001b[0;31m                         \u001b[0mmake\u001b[0m\u001b[0;34m(\u001b[0m\u001b[0mdict\u001b[0m\u001b[0;34m(\u001b[0m\u001b[0mkey\u001b[0m\u001b[0;34m)\u001b[0m\u001b[0;34m)\u001b[0m\u001b[0;34m\u001b[0m\u001b[0m\n\u001b[0m\u001b[1;32m    141\u001b[0m                     \u001b[0;32mexcept\u001b[0m \u001b[0;34m(\u001b[0m\u001b[0mKeyboardInterrupt\u001b[0m\u001b[0;34m,\u001b[0m \u001b[0mSystemExit\u001b[0m\u001b[0;34m,\u001b[0m \u001b[0mException\u001b[0m\u001b[0;34m)\u001b[0m \u001b[0;32mas\u001b[0m \u001b[0merror\u001b[0m\u001b[0;34m:\u001b[0m\u001b[0;34m\u001b[0m\u001b[0m\n\u001b[1;32m    142\u001b[0m                         \u001b[0;32mtry\u001b[0m\u001b[0;34m:\u001b[0m\u001b[0;34m\u001b[0m\u001b[0m\n",
      "\u001b[0;32m/src/v1_likelihood/v1_likelihood/train.py\u001b[0m in \u001b[0;36m_make_tuples\u001b[0;34m(self, key)\u001b[0m\n\u001b[1;32m    282\u001b[0m                     \u001b[0mnet\u001b[0m\u001b[0;34m.\u001b[0m\u001b[0mtrain\u001b[0m\u001b[0;34m(\u001b[0m\u001b[0;34m)\u001b[0m\u001b[0;34m\u001b[0m\u001b[0m\n\u001b[1;32m    283\u001b[0m                     \u001b[0moptimizer\u001b[0m\u001b[0;34m.\u001b[0m\u001b[0mzero_grad\u001b[0m\u001b[0;34m(\u001b[0m\u001b[0;34m)\u001b[0m\u001b[0;34m\u001b[0m\u001b[0m\n\u001b[0;32m--> 284\u001b[0;31m                     \u001b[0my\u001b[0m \u001b[0;34m=\u001b[0m \u001b[0mnet\u001b[0m\u001b[0;34m(\u001b[0m\u001b[0mx\u001b[0m\u001b[0;34m)\u001b[0m\u001b[0;34m\u001b[0m\u001b[0m\n\u001b[0m\u001b[1;32m    285\u001b[0m                     \u001b[0mpost\u001b[0m \u001b[0;34m=\u001b[0m \u001b[0my\u001b[0m \u001b[0;34m+\u001b[0m \u001b[0mprior\u001b[0m\u001b[0;34m\u001b[0m\u001b[0m\n\u001b[1;32m    286\u001b[0m                     \u001b[0mval\u001b[0m\u001b[0;34m,\u001b[0m \u001b[0m_\u001b[0m \u001b[0;34m=\u001b[0m \u001b[0mpost\u001b[0m\u001b[0;34m.\u001b[0m\u001b[0mmax\u001b[0m\u001b[0;34m(\u001b[0m\u001b[0;36m1\u001b[0m\u001b[0;34m,\u001b[0m \u001b[0mkeepdim\u001b[0m\u001b[0;34m=\u001b[0m\u001b[0;32mTrue\u001b[0m\u001b[0;34m)\u001b[0m\u001b[0;34m\u001b[0m\u001b[0m\n",
      "\u001b[0;32m/usr/local/lib/python3.5/dist-packages/torch/nn/modules/module.py\u001b[0m in \u001b[0;36m__call__\u001b[0;34m(self, *input, **kwargs)\u001b[0m\n\u001b[1;32m    222\u001b[0m         \u001b[0;32mfor\u001b[0m \u001b[0mhook\u001b[0m \u001b[0;32min\u001b[0m \u001b[0mself\u001b[0m\u001b[0;34m.\u001b[0m\u001b[0m_forward_pre_hooks\u001b[0m\u001b[0;34m.\u001b[0m\u001b[0mvalues\u001b[0m\u001b[0;34m(\u001b[0m\u001b[0;34m)\u001b[0m\u001b[0;34m:\u001b[0m\u001b[0;34m\u001b[0m\u001b[0m\n\u001b[1;32m    223\u001b[0m             \u001b[0mhook\u001b[0m\u001b[0;34m(\u001b[0m\u001b[0mself\u001b[0m\u001b[0;34m,\u001b[0m \u001b[0minput\u001b[0m\u001b[0;34m)\u001b[0m\u001b[0;34m\u001b[0m\u001b[0m\n\u001b[0;32m--> 224\u001b[0;31m         \u001b[0mresult\u001b[0m \u001b[0;34m=\u001b[0m \u001b[0mself\u001b[0m\u001b[0;34m.\u001b[0m\u001b[0mforward\u001b[0m\u001b[0;34m(\u001b[0m\u001b[0;34m*\u001b[0m\u001b[0minput\u001b[0m\u001b[0;34m,\u001b[0m \u001b[0;34m**\u001b[0m\u001b[0mkwargs\u001b[0m\u001b[0;34m)\u001b[0m\u001b[0;34m\u001b[0m\u001b[0m\n\u001b[0m\u001b[1;32m    225\u001b[0m         \u001b[0;32mfor\u001b[0m \u001b[0mhook\u001b[0m \u001b[0;32min\u001b[0m \u001b[0mself\u001b[0m\u001b[0;34m.\u001b[0m\u001b[0m_forward_hooks\u001b[0m\u001b[0;34m.\u001b[0m\u001b[0mvalues\u001b[0m\u001b[0;34m(\u001b[0m\u001b[0;34m)\u001b[0m\u001b[0;34m:\u001b[0m\u001b[0;34m\u001b[0m\u001b[0m\n\u001b[1;32m    226\u001b[0m             \u001b[0mhook_result\u001b[0m \u001b[0;34m=\u001b[0m \u001b[0mhook\u001b[0m\u001b[0;34m(\u001b[0m\u001b[0mself\u001b[0m\u001b[0;34m,\u001b[0m \u001b[0minput\u001b[0m\u001b[0;34m,\u001b[0m \u001b[0mresult\u001b[0m\u001b[0;34m)\u001b[0m\u001b[0;34m\u001b[0m\u001b[0m\n",
      "\u001b[0;32m/src/v1_likelihood/v1_likelihood/models.py\u001b[0m in \u001b[0;36mforward\u001b[0;34m(self, x)\u001b[0m\n\u001b[1;32m     37\u001b[0m \u001b[0;34m\u001b[0m\u001b[0m\n\u001b[1;32m     38\u001b[0m     \u001b[0;32mdef\u001b[0m \u001b[0mforward\u001b[0m\u001b[0;34m(\u001b[0m\u001b[0mself\u001b[0m\u001b[0;34m,\u001b[0m \u001b[0mx\u001b[0m\u001b[0;34m)\u001b[0m\u001b[0;34m:\u001b[0m\u001b[0;34m\u001b[0m\u001b[0m\n\u001b[0;32m---> 39\u001b[0;31m         \u001b[0mx\u001b[0m \u001b[0;34m=\u001b[0m \u001b[0mself\u001b[0m\u001b[0;34m.\u001b[0m\u001b[0mhiddens\u001b[0m\u001b[0;34m(\u001b[0m\u001b[0mx\u001b[0m\u001b[0;34m)\u001b[0m\u001b[0;34m\u001b[0m\u001b[0m\n\u001b[0m\u001b[1;32m     40\u001b[0m         \u001b[0mx\u001b[0m \u001b[0;34m=\u001b[0m \u001b[0mself\u001b[0m\u001b[0;34m.\u001b[0m\u001b[0mro_layer\u001b[0m\u001b[0;34m(\u001b[0m\u001b[0mx\u001b[0m\u001b[0;34m)\u001b[0m\u001b[0;34m\u001b[0m\u001b[0m\n\u001b[1;32m     41\u001b[0m         \u001b[0;32mreturn\u001b[0m \u001b[0mx\u001b[0m\u001b[0;34m\u001b[0m\u001b[0m\n",
      "\u001b[0;32m/usr/local/lib/python3.5/dist-packages/torch/nn/modules/module.py\u001b[0m in \u001b[0;36m__call__\u001b[0;34m(self, *input, **kwargs)\u001b[0m\n\u001b[1;32m    222\u001b[0m         \u001b[0;32mfor\u001b[0m \u001b[0mhook\u001b[0m \u001b[0;32min\u001b[0m \u001b[0mself\u001b[0m\u001b[0;34m.\u001b[0m\u001b[0m_forward_pre_hooks\u001b[0m\u001b[0;34m.\u001b[0m\u001b[0mvalues\u001b[0m\u001b[0;34m(\u001b[0m\u001b[0;34m)\u001b[0m\u001b[0;34m:\u001b[0m\u001b[0;34m\u001b[0m\u001b[0m\n\u001b[1;32m    223\u001b[0m             \u001b[0mhook\u001b[0m\u001b[0;34m(\u001b[0m\u001b[0mself\u001b[0m\u001b[0;34m,\u001b[0m \u001b[0minput\u001b[0m\u001b[0;34m)\u001b[0m\u001b[0;34m\u001b[0m\u001b[0m\n\u001b[0;32m--> 224\u001b[0;31m         \u001b[0mresult\u001b[0m \u001b[0;34m=\u001b[0m \u001b[0mself\u001b[0m\u001b[0;34m.\u001b[0m\u001b[0mforward\u001b[0m\u001b[0;34m(\u001b[0m\u001b[0;34m*\u001b[0m\u001b[0minput\u001b[0m\u001b[0;34m,\u001b[0m \u001b[0;34m**\u001b[0m\u001b[0mkwargs\u001b[0m\u001b[0;34m)\u001b[0m\u001b[0;34m\u001b[0m\u001b[0m\n\u001b[0m\u001b[1;32m    225\u001b[0m         \u001b[0;32mfor\u001b[0m \u001b[0mhook\u001b[0m \u001b[0;32min\u001b[0m \u001b[0mself\u001b[0m\u001b[0;34m.\u001b[0m\u001b[0m_forward_hooks\u001b[0m\u001b[0;34m.\u001b[0m\u001b[0mvalues\u001b[0m\u001b[0;34m(\u001b[0m\u001b[0;34m)\u001b[0m\u001b[0;34m:\u001b[0m\u001b[0;34m\u001b[0m\u001b[0m\n\u001b[1;32m    226\u001b[0m             \u001b[0mhook_result\u001b[0m \u001b[0;34m=\u001b[0m \u001b[0mhook\u001b[0m\u001b[0;34m(\u001b[0m\u001b[0mself\u001b[0m\u001b[0;34m,\u001b[0m \u001b[0minput\u001b[0m\u001b[0;34m,\u001b[0m \u001b[0mresult\u001b[0m\u001b[0;34m)\u001b[0m\u001b[0;34m\u001b[0m\u001b[0m\n",
      "\u001b[0;32m/usr/local/lib/python3.5/dist-packages/torch/nn/modules/container.py\u001b[0m in \u001b[0;36mforward\u001b[0;34m(self, input)\u001b[0m\n\u001b[1;32m     65\u001b[0m     \u001b[0;32mdef\u001b[0m \u001b[0mforward\u001b[0m\u001b[0;34m(\u001b[0m\u001b[0mself\u001b[0m\u001b[0;34m,\u001b[0m \u001b[0minput\u001b[0m\u001b[0;34m)\u001b[0m\u001b[0;34m:\u001b[0m\u001b[0;34m\u001b[0m\u001b[0m\n\u001b[1;32m     66\u001b[0m         \u001b[0;32mfor\u001b[0m \u001b[0mmodule\u001b[0m \u001b[0;32min\u001b[0m \u001b[0mself\u001b[0m\u001b[0;34m.\u001b[0m\u001b[0m_modules\u001b[0m\u001b[0;34m.\u001b[0m\u001b[0mvalues\u001b[0m\u001b[0;34m(\u001b[0m\u001b[0;34m)\u001b[0m\u001b[0;34m:\u001b[0m\u001b[0;34m\u001b[0m\u001b[0m\n\u001b[0;32m---> 67\u001b[0;31m             \u001b[0minput\u001b[0m \u001b[0;34m=\u001b[0m \u001b[0mmodule\u001b[0m\u001b[0;34m(\u001b[0m\u001b[0minput\u001b[0m\u001b[0;34m)\u001b[0m\u001b[0;34m\u001b[0m\u001b[0m\n\u001b[0m\u001b[1;32m     68\u001b[0m         \u001b[0;32mreturn\u001b[0m \u001b[0minput\u001b[0m\u001b[0;34m\u001b[0m\u001b[0m\n\u001b[1;32m     69\u001b[0m \u001b[0;34m\u001b[0m\u001b[0m\n",
      "\u001b[0;32m/usr/local/lib/python3.5/dist-packages/torch/nn/modules/module.py\u001b[0m in \u001b[0;36m__call__\u001b[0;34m(self, *input, **kwargs)\u001b[0m\n\u001b[1;32m    222\u001b[0m         \u001b[0;32mfor\u001b[0m \u001b[0mhook\u001b[0m \u001b[0;32min\u001b[0m \u001b[0mself\u001b[0m\u001b[0;34m.\u001b[0m\u001b[0m_forward_pre_hooks\u001b[0m\u001b[0;34m.\u001b[0m\u001b[0mvalues\u001b[0m\u001b[0;34m(\u001b[0m\u001b[0;34m)\u001b[0m\u001b[0;34m:\u001b[0m\u001b[0;34m\u001b[0m\u001b[0m\n\u001b[1;32m    223\u001b[0m             \u001b[0mhook\u001b[0m\u001b[0;34m(\u001b[0m\u001b[0mself\u001b[0m\u001b[0;34m,\u001b[0m \u001b[0minput\u001b[0m\u001b[0;34m)\u001b[0m\u001b[0;34m\u001b[0m\u001b[0m\n\u001b[0;32m--> 224\u001b[0;31m         \u001b[0mresult\u001b[0m \u001b[0;34m=\u001b[0m \u001b[0mself\u001b[0m\u001b[0;34m.\u001b[0m\u001b[0mforward\u001b[0m\u001b[0;34m(\u001b[0m\u001b[0;34m*\u001b[0m\u001b[0minput\u001b[0m\u001b[0;34m,\u001b[0m \u001b[0;34m**\u001b[0m\u001b[0mkwargs\u001b[0m\u001b[0;34m)\u001b[0m\u001b[0;34m\u001b[0m\u001b[0m\n\u001b[0m\u001b[1;32m    225\u001b[0m         \u001b[0;32mfor\u001b[0m \u001b[0mhook\u001b[0m \u001b[0;32min\u001b[0m \u001b[0mself\u001b[0m\u001b[0;34m.\u001b[0m\u001b[0m_forward_hooks\u001b[0m\u001b[0;34m.\u001b[0m\u001b[0mvalues\u001b[0m\u001b[0;34m(\u001b[0m\u001b[0;34m)\u001b[0m\u001b[0;34m:\u001b[0m\u001b[0;34m\u001b[0m\u001b[0m\n\u001b[1;32m    226\u001b[0m             \u001b[0mhook_result\u001b[0m \u001b[0;34m=\u001b[0m \u001b[0mhook\u001b[0m\u001b[0;34m(\u001b[0m\u001b[0mself\u001b[0m\u001b[0;34m,\u001b[0m \u001b[0minput\u001b[0m\u001b[0;34m,\u001b[0m \u001b[0mresult\u001b[0m\u001b[0;34m)\u001b[0m\u001b[0;34m\u001b[0m\u001b[0m\n",
      "\u001b[0;32m/usr/local/lib/python3.5/dist-packages/torch/nn/modules/linear.py\u001b[0m in \u001b[0;36mforward\u001b[0;34m(self, input)\u001b[0m\n\u001b[1;32m     51\u001b[0m \u001b[0;34m\u001b[0m\u001b[0m\n\u001b[1;32m     52\u001b[0m     \u001b[0;32mdef\u001b[0m \u001b[0mforward\u001b[0m\u001b[0;34m(\u001b[0m\u001b[0mself\u001b[0m\u001b[0;34m,\u001b[0m \u001b[0minput\u001b[0m\u001b[0;34m)\u001b[0m\u001b[0;34m:\u001b[0m\u001b[0;34m\u001b[0m\u001b[0m\n\u001b[0;32m---> 53\u001b[0;31m         \u001b[0;32mreturn\u001b[0m \u001b[0mF\u001b[0m\u001b[0;34m.\u001b[0m\u001b[0mlinear\u001b[0m\u001b[0;34m(\u001b[0m\u001b[0minput\u001b[0m\u001b[0;34m,\u001b[0m \u001b[0mself\u001b[0m\u001b[0;34m.\u001b[0m\u001b[0mweight\u001b[0m\u001b[0;34m,\u001b[0m \u001b[0mself\u001b[0m\u001b[0;34m.\u001b[0m\u001b[0mbias\u001b[0m\u001b[0;34m)\u001b[0m\u001b[0;34m\u001b[0m\u001b[0m\n\u001b[0m\u001b[1;32m     54\u001b[0m \u001b[0;34m\u001b[0m\u001b[0m\n\u001b[1;32m     55\u001b[0m     \u001b[0;32mdef\u001b[0m \u001b[0m__repr__\u001b[0m\u001b[0;34m(\u001b[0m\u001b[0mself\u001b[0m\u001b[0;34m)\u001b[0m\u001b[0;34m:\u001b[0m\u001b[0;34m\u001b[0m\u001b[0m\n",
      "\u001b[0;32m/usr/local/lib/python3.5/dist-packages/torch/nn/functional.py\u001b[0m in \u001b[0;36mlinear\u001b[0;34m(input, weight, bias)\u001b[0m\n\u001b[1;32m    551\u001b[0m     \u001b[0;32mif\u001b[0m \u001b[0minput\u001b[0m\u001b[0;34m.\u001b[0m\u001b[0mdim\u001b[0m\u001b[0;34m(\u001b[0m\u001b[0;34m)\u001b[0m \u001b[0;34m==\u001b[0m \u001b[0;36m2\u001b[0m \u001b[0;32mand\u001b[0m \u001b[0mbias\u001b[0m \u001b[0;32mis\u001b[0m \u001b[0;32mnot\u001b[0m \u001b[0;32mNone\u001b[0m\u001b[0;34m:\u001b[0m\u001b[0;34m\u001b[0m\u001b[0m\n\u001b[1;32m    552\u001b[0m         \u001b[0;31m# fused op is marginally faster\u001b[0m\u001b[0;34m\u001b[0m\u001b[0;34m\u001b[0m\u001b[0m\n\u001b[0;32m--> 553\u001b[0;31m         \u001b[0;32mreturn\u001b[0m \u001b[0mtorch\u001b[0m\u001b[0;34m.\u001b[0m\u001b[0maddmm\u001b[0m\u001b[0;34m(\u001b[0m\u001b[0mbias\u001b[0m\u001b[0;34m,\u001b[0m \u001b[0minput\u001b[0m\u001b[0;34m,\u001b[0m \u001b[0mweight\u001b[0m\u001b[0;34m.\u001b[0m\u001b[0mt\u001b[0m\u001b[0;34m(\u001b[0m\u001b[0;34m)\u001b[0m\u001b[0;34m)\u001b[0m\u001b[0;34m\u001b[0m\u001b[0m\n\u001b[0m\u001b[1;32m    554\u001b[0m \u001b[0;34m\u001b[0m\u001b[0m\n\u001b[1;32m    555\u001b[0m     \u001b[0moutput\u001b[0m \u001b[0;34m=\u001b[0m \u001b[0minput\u001b[0m\u001b[0;34m.\u001b[0m\u001b[0mmatmul\u001b[0m\u001b[0;34m(\u001b[0m\u001b[0mweight\u001b[0m\u001b[0;34m.\u001b[0m\u001b[0mt\u001b[0m\u001b[0;34m(\u001b[0m\u001b[0;34m)\u001b[0m\u001b[0;34m)\u001b[0m\u001b[0;34m\u001b[0m\u001b[0m\n",
      "\u001b[0;32m/usr/local/lib/python3.5/dist-packages/torch/autograd/variable.py\u001b[0m in \u001b[0;36maddmm\u001b[0;34m(cls, *args)\u001b[0m\n\u001b[1;32m    922\u001b[0m         \u001b[0;34m@\u001b[0m\u001b[0mclassmethod\u001b[0m\u001b[0;34m\u001b[0m\u001b[0m\n\u001b[1;32m    923\u001b[0m         \u001b[0;32mdef\u001b[0m \u001b[0maddmm\u001b[0m\u001b[0;34m(\u001b[0m\u001b[0mcls\u001b[0m\u001b[0;34m,\u001b[0m \u001b[0;34m*\u001b[0m\u001b[0margs\u001b[0m\u001b[0;34m)\u001b[0m\u001b[0;34m:\u001b[0m\u001b[0;34m\u001b[0m\u001b[0m\n\u001b[0;32m--> 924\u001b[0;31m             \u001b[0;32mreturn\u001b[0m \u001b[0mcls\u001b[0m\u001b[0;34m.\u001b[0m\u001b[0m_blas\u001b[0m\u001b[0;34m(\u001b[0m\u001b[0mAddmm\u001b[0m\u001b[0;34m,\u001b[0m \u001b[0margs\u001b[0m\u001b[0;34m,\u001b[0m \u001b[0;32mFalse\u001b[0m\u001b[0;34m)\u001b[0m\u001b[0;34m\u001b[0m\u001b[0m\n\u001b[0m\u001b[1;32m    925\u001b[0m \u001b[0;34m\u001b[0m\u001b[0m\n\u001b[1;32m    926\u001b[0m         \u001b[0;34m@\u001b[0m\u001b[0mclassmethod\u001b[0m\u001b[0;34m\u001b[0m\u001b[0m\n",
      "\u001b[0;32m/usr/local/lib/python3.5/dist-packages/torch/autograd/variable.py\u001b[0m in \u001b[0;36m_blas\u001b[0;34m(cls, args, inplace)\u001b[0m\n\u001b[1;32m    918\u001b[0m             \u001b[0;32melse\u001b[0m\u001b[0;34m:\u001b[0m\u001b[0;34m\u001b[0m\u001b[0m\n\u001b[1;32m    919\u001b[0m                 \u001b[0mtensors\u001b[0m \u001b[0;34m=\u001b[0m \u001b[0margs\u001b[0m\u001b[0;34m\u001b[0m\u001b[0m\n\u001b[0;32m--> 920\u001b[0;31m             \u001b[0;32mreturn\u001b[0m \u001b[0mcls\u001b[0m\u001b[0;34m.\u001b[0m\u001b[0mapply\u001b[0m\u001b[0;34m(\u001b[0m\u001b[0;34m*\u001b[0m\u001b[0;34m(\u001b[0m\u001b[0mtensors\u001b[0m \u001b[0;34m+\u001b[0m \u001b[0;34m(\u001b[0m\u001b[0malpha\u001b[0m\u001b[0;34m,\u001b[0m \u001b[0mbeta\u001b[0m\u001b[0;34m,\u001b[0m \u001b[0minplace\u001b[0m\u001b[0;34m)\u001b[0m\u001b[0;34m)\u001b[0m\u001b[0;34m)\u001b[0m\u001b[0;34m\u001b[0m\u001b[0m\n\u001b[0m\u001b[1;32m    921\u001b[0m \u001b[0;34m\u001b[0m\u001b[0m\n\u001b[1;32m    922\u001b[0m         \u001b[0;34m@\u001b[0m\u001b[0mclassmethod\u001b[0m\u001b[0;34m\u001b[0m\u001b[0m\n",
      "\u001b[0;32m/usr/local/lib/python3.5/dist-packages/torch/autograd/_functions/blas.py\u001b[0m in \u001b[0;36mforward\u001b[0;34m(ctx, add_matrix, matrix1, matrix2, alpha, beta, inplace)\u001b[0m\n\u001b[1;32m     21\u001b[0m         \u001b[0mctx\u001b[0m\u001b[0;34m.\u001b[0m\u001b[0mbeta\u001b[0m \u001b[0;34m=\u001b[0m \u001b[0mbeta\u001b[0m\u001b[0;34m\u001b[0m\u001b[0m\n\u001b[1;32m     22\u001b[0m         \u001b[0mctx\u001b[0m\u001b[0;34m.\u001b[0m\u001b[0madd_matrix_size\u001b[0m \u001b[0;34m=\u001b[0m \u001b[0madd_matrix\u001b[0m\u001b[0;34m.\u001b[0m\u001b[0msize\u001b[0m\u001b[0;34m(\u001b[0m\u001b[0;34m)\u001b[0m\u001b[0;34m\u001b[0m\u001b[0m\n\u001b[0;32m---> 23\u001b[0;31m         \u001b[0mctx\u001b[0m\u001b[0;34m.\u001b[0m\u001b[0msave_for_backward\u001b[0m\u001b[0;34m(\u001b[0m\u001b[0mmatrix1\u001b[0m\u001b[0;34m,\u001b[0m \u001b[0mmatrix2\u001b[0m\u001b[0;34m)\u001b[0m\u001b[0;34m\u001b[0m\u001b[0m\n\u001b[0m\u001b[1;32m     24\u001b[0m         \u001b[0moutput\u001b[0m \u001b[0;34m=\u001b[0m \u001b[0m_get_output\u001b[0m\u001b[0;34m(\u001b[0m\u001b[0mctx\u001b[0m\u001b[0;34m,\u001b[0m \u001b[0madd_matrix\u001b[0m\u001b[0;34m,\u001b[0m \u001b[0minplace\u001b[0m\u001b[0;34m=\u001b[0m\u001b[0minplace\u001b[0m\u001b[0;34m)\u001b[0m\u001b[0;34m\u001b[0m\u001b[0m\n\u001b[1;32m     25\u001b[0m         return torch.addmm(alpha, add_matrix, beta,\n",
      "\u001b[0;32m/usr/local/lib/python3.5/dist-packages/torch/autograd/function.py\u001b[0m in \u001b[0;36msave_for_backward\u001b[0;34m(self, *tensors)\u001b[0m\n\u001b[1;32m      9\u001b[0m \u001b[0;32mclass\u001b[0m \u001b[0m_ContextMethodMixin\u001b[0m\u001b[0;34m(\u001b[0m\u001b[0mobject\u001b[0m\u001b[0;34m)\u001b[0m\u001b[0;34m:\u001b[0m\u001b[0;34m\u001b[0m\u001b[0m\n\u001b[1;32m     10\u001b[0m \u001b[0;34m\u001b[0m\u001b[0m\n\u001b[0;32m---> 11\u001b[0;31m     \u001b[0;32mdef\u001b[0m \u001b[0msave_for_backward\u001b[0m\u001b[0;34m(\u001b[0m\u001b[0mself\u001b[0m\u001b[0;34m,\u001b[0m \u001b[0;34m*\u001b[0m\u001b[0mtensors\u001b[0m\u001b[0;34m)\u001b[0m\u001b[0;34m:\u001b[0m\u001b[0;34m\u001b[0m\u001b[0m\n\u001b[0m\u001b[1;32m     12\u001b[0m         \"\"\"Saves given tensors for a future call to :func:`~Function.backward`.\n\u001b[1;32m     13\u001b[0m \u001b[0;34m\u001b[0m\u001b[0m\n",
      "\u001b[0;31mKeyboardInterrupt\u001b[0m: "
     ]
    }
   ],
   "source": [
    "train.CVTrainedModel().populate(v)"
   ]
  },
  {
   "cell_type": "code",
   "execution_count": null,
   "metadata": {},
   "outputs": [],
   "source": [
    "from v1_li"
   ]
  },
  {
   "cell_type": "code",
   "execution_count": 4,
   "metadata": {},
   "outputs": [],
   "source": [
    "@schema\n",
    "class Test(dj.Lookup):\n",
    "    definition = \"\"\"\n",
    "    id : int  \n",
    "    \"\"\"\n",
    "    contents = zip(range(100))"
   ]
  },
  {
   "cell_type": "code",
   "execution_count": 8,
   "metadata": {},
   "outputs": [],
   "source": [
    "@schema\n",
    "class Square(dj.Computed):\n",
    "    definition = \"\"\"\n",
    "    -> Test\n",
    "    \"\"\"\n",
    "    def _make_tuples(self, key):\n",
    "        print('Working on ', key)\n",
    "        self.insert1(key)"
   ]
  },
  {
   "cell_type": "code",
   "execution_count": 6,
   "metadata": {},
   "outputs": [
    {
     "ename": "NameError",
     "evalue": "name 'Square' is not defined",
     "output_type": "error",
     "traceback": [
      "\u001b[0;31m---------------------------------------------------------------------------\u001b[0m",
      "\u001b[0;31mNameError\u001b[0m                                 Traceback (most recent call last)",
      "\u001b[0;32m<ipython-input-6-4d26abc43013>\u001b[0m in \u001b[0;36m<module>\u001b[0;34m()\u001b[0m\n\u001b[0;32m----> 1\u001b[0;31m \u001b[0mSquare\u001b[0m\u001b[0;34m(\u001b[0m\u001b[0;34m)\u001b[0m\u001b[0;34m.\u001b[0m\u001b[0mdelete\u001b[0m\u001b[0;34m(\u001b[0m\u001b[0;34m)\u001b[0m\u001b[0;34m\u001b[0m\u001b[0m\n\u001b[0m",
      "\u001b[0;31mNameError\u001b[0m: name 'Square' is not defined"
     ]
    }
   ],
   "source": [
    "Square().delete()"
   ]
  },
  {
   "cell_type": "code",
   "execution_count": 5,
   "metadata": {},
   "outputs": [
    {
     "name": "stderr",
     "output_type": "stream",
     "text": [
      "DEBUG:datajoint.connection:Executing SQL:SHOW TABLE STATUS FROM `edgar_cd_ml` WHERE name=\"#train_seed\"\n",
      "DEBUG:datajoint.connection:Executing SQL:SHOW FULL COLUMNS FROM `#train_seed` IN `edgar_cd_ml`\n",
      "DEBUG:datajoint.connection:Executing SQL:SHOW TABLE STATUS FROM `edgar_cd_ml` WHERE name=\"#train_param\"\n",
      "DEBUG:datajoint.connection:Executing SQL:SHOW FULL COLUMNS FROM `#train_param` IN `edgar_cd_ml`\n",
      "DEBUG:datajoint.connection:Executing SQL:SHOW TABLE STATUS FROM `edgar_cd_ml` WHERE name=\"__c_v_set\"\n",
      "DEBUG:datajoint.connection:Executing SQL:SHOW FULL COLUMNS FROM `__c_v_set` IN `edgar_cd_ml`\n",
      "DEBUG:datajoint.connection:Executing SQL:SHOW TABLE STATUS FROM `edgar_cd_ml` WHERE name=\"#bin_config\"\n",
      "DEBUG:datajoint.connection:Executing SQL:SHOW FULL COLUMNS FROM `#bin_config` IN `edgar_cd_ml`\n",
      "DEBUG:datajoint.connection:Executing SQL:SHOW TABLE STATUS FROM `edgar_cd_ml` WHERE name=\"#model_design\"\n",
      "DEBUG:datajoint.connection:Executing SQL:SHOW FULL COLUMNS FROM `#model_design` IN `edgar_cd_ml`\n",
      "DEBUG:datajoint.connection:Executing SQL:SHOW TABLE STATUS FROM `edgar_cd_ml` WHERE name=\"__c_v_trained_model\"\n",
      "DEBUG:datajoint.connection:Executing SQL:SHOW FULL COLUMNS FROM `__c_v_trained_model` IN `edgar_cd_ml`\n",
      "DEBUG:datajoint.relational_operand:SELECT `train_seed`,`param_id`,`csc_hash`,`dataset_contrast`,`cv_seed`,`cv_fraction`,`bin_config_id`,`model_id` FROM (SELECT `train_seed` FROM `edgar_cd_ml`.`#train_seed`) as `_s11` NATURAL JOIN (SELECT `param_id` FROM `edgar_cd_ml`.`#train_param`) as `_s12` NATURAL JOIN (SELECT `csc_hash`,`dataset_contrast`,`cv_seed`,`cv_fraction` FROM `edgar_cd_ml`.`__c_v_set`) as `_s13` NATURAL JOIN (SELECT `bin_config_id` FROM `edgar_cd_ml`.`#bin_config`) as `_s14` NATURAL JOIN (SELECT `model_id` FROM `edgar_cd_ml`.`#model_design`) as `_s15` WHERE (NOT (((`train_seed`,`param_id`,`csc_hash`,`dataset_contrast`,`cv_seed`,`cv_fraction`,`bin_config_id`,`model_id`) in (SELECT `train_seed`,`param_id`,`csc_hash`,`dataset_contrast`,`cv_seed`,`cv_fraction`,`bin_config_id`,`model_id` FROM `edgar_cd_ml`.`__c_v_trained_model`))))\n",
      "DEBUG:datajoint.connection:Executing SQL:SELECT `train_seed`,`param_id`,`csc_hash`,`dataset_contrast`,`cv_seed`,`cv_fraction`,`bin_config_id`,`model_id` FROM (SELECT `train_seed` FROM `edgar_cd_ml`.`#train_seed`) as `_s11` NATURAL JOIN (SELECT `param_id` FROM `edgar_cd_ml`.`#train_param`) as `_s12` NATURAL JOIN (SELECT `csc_hash`,`dataset_\n",
      "INFO:datajoint.autopopulate:Found 58968 keys to populate\n",
      "DEBUG:datajoint.connection:Executing SQL:START TRANSACTION WITH CONSISTENT SNAPSHOT\n",
      "INFO:datajoint.connection:Transaction started\n",
      "DEBUG:datajoint.relational_operand:SELECT DISTINCT `n` FROM (SELECT DISTINCT count(*) as `n` FROM (SELECT * FROM `edgar_cd_ml`.`__c_v_trained_model` WHERE ((`model_id`='52d710e0dc1cff3d59fb94fff0499f88') AND (`bin_config_id`='9c9248d6b67fe1d8348bc51605658447') AND (`param_id`='1c9d087d1acc2030f44c97c5ca288485') AND (`dataset_contrast`='0.005') AND (`train_seed`=8) AND (`cv_fraction`='0.800') AND (`csc_hash`='0534116fd0aea4c6fdc4b8908c1fa5fd3d48e5b7') AND (`cv_seed`=35))) as `_s16`) as `_s17`\n",
      "DEBUG:datajoint.connection:Executing SQL:SELECT DISTINCT `n` FROM (SELECT DISTINCT count(*) as `n` FROM (SELECT * FROM `edgar_cd_ml`.`__c_v_trained_model` WHERE ((`model_id`='52d710e0dc1cff3d59fb94fff0499f88') AND (`bin_config_id`='9c9248d6b67fe1d8348bc51605658447') AND (`param_id`='1c9d087d1acc2030f44c97c5ca288485') AND (`dataset_contrast\n",
      "INFO:datajoint.autopopulate:Populating: {'model_id': '52d710e0dc1cff3d59fb94fff0499f88', 'bin_config_id': '9c9248d6b67fe1d8348bc51605658447', 'param_id': '1c9d087d1acc2030f44c97c5ca288485', 'dataset_contrast': '0.005', 'train_seed': 8, 'cv_fraction': Decimal('0.800'), 'csc_hash': '0534116fd0aea4c6fdc4b8908c1fa5fd3d48e5b7', 'cv_seed': 35}\n",
      "DEBUG:datajoint.connection:Executing SQL:SHOW TABLE STATUS FROM `edgar_cd_ml` WHERE name=\"__c_v_set\"\n",
      "DEBUG:datajoint.connection:Executing SQL:SHOW FULL COLUMNS FROM `__c_v_set` IN `edgar_cd_ml`\n",
      "DEBUG:datajoint.relational_operand:SELECT DISTINCT `n` FROM (SELECT DISTINCT count(*) as `n` FROM (SELECT * FROM `edgar_cd_ml`.`__c_v_set` WHERE ((`dataset_contrast`='0.005') AND (`csc_hash`='0534116fd0aea4c6fdc4b8908c1fa5fd3d48e5b7') AND (`cv_fraction`='0.800') AND (`cv_seed`=35))) as `_s18`) as `_s19`\n",
      "DEBUG:datajoint.connection:Executing SQL:SELECT DISTINCT `n` FROM (SELECT DISTINCT count(*) as `n` FROM (SELECT * FROM `edgar_cd_ml`.`__c_v_set` WHERE ((`dataset_contrast`='0.005') AND (`csc_hash`='0534116fd0aea4c6fdc4b8908c1fa5fd3d48e5b7') AND (`cv_fraction`='0.800') AND (`cv_seed`=35))) as `_s18`) as `_s19`\n",
      "DEBUG:datajoint.connection:Executing SQL:SHOW TABLE STATUS FROM `edgar_cd_dataset` WHERE name=\"__clean_contrast_session_data_set\"\n",
      "DEBUG:datajoint.connection:Executing SQL:SHOW FULL COLUMNS FROM `__clean_contrast_session_data_set` IN `edgar_cd_dataset`\n",
      "DEBUG:datajoint.relational_operand:SELECT DISTINCT `n` FROM (SELECT DISTINCT count(*) as `n` FROM (SELECT * FROM `edgar_cd_dataset`.`__clean_contrast_session_data_set` WHERE ((`csc_hash`,`dataset_contrast`) in (SELECT `csc_hash`,`dataset_contrast` FROM `edgar_cd_ml`.`__c_v_set` WHERE ((`dataset_contrast`='0.005') AND (`csc_hash`='0534116fd0aea4c6fdc4b8908c1fa5fd3d48e5b7') AND (`cv_fraction`='0.800') AND (`cv_seed`=35))))) as `_s1a`) as `_s1b`\n",
      "DEBUG:datajoint.connection:Executing SQL:SELECT DISTINCT `n` FROM (SELECT DISTINCT count(*) as `n` FROM (SELECT * FROM `edgar_cd_dataset`.`__clean_contrast_session_data_set` WHERE ((`csc_hash`,`dataset_contrast`) in (SELECT `csc_hash`,`dataset_contrast` FROM `edgar_cd_ml`.`__c_v_set` WHERE ((`dataset_contrast`='0.005') AND (`csc_hash`='053\n",
      "DEBUG:datajoint.connection:Executing SQL:SHOW TABLE STATUS FROM `edgar_class_discrimination` WHERE name=\"__class_discrimination_trial\"\n",
      "DEBUG:datajoint.connection:Executing SQL:SHOW FULL COLUMNS FROM `__class_discrimination_trial` IN `edgar_class_discrimination`\n",
      "DEBUG:datajoint.connection:Executing SQL:SHOW TABLE STATUS FROM `edgar_class_discrimination` WHERE name=\"__spike_count_trials\"\n",
      "DEBUG:datajoint.connection:Executing SQL:SHOW FULL COLUMNS FROM `__spike_count_trials` IN `edgar_class_discrimination`\n",
      "DEBUG:datajoint.connection:Executing SQL:SHOW TABLE STATUS FROM `edgar_class_discrimination` WHERE name=\"#c_s_c_lookup\"\n",
      "DEBUG:datajoint.connection:Executing SQL:SHOW FULL COLUMNS FROM `#c_s_c_lookup` IN `edgar_class_discrimination`\n",
      "DEBUG:datajoint.connection:Executing SQL:SHOW TABLE STATUS FROM `edgar_class_discrimination` WHERE name=\"__clean_spike_count_trials\"\n",
      "DEBUG:datajoint.connection:Executing SQL:SHOW FULL COLUMNS FROM `__clean_spike_count_trials` IN `edgar_class_discrimination`\n",
      "DEBUG:datajoint.relational_operand:SELECT `subject_id`,`setup`,`session_start_time`,`stim_start_time`,`trial_num`,`event_type`,`pre_stim_time`,`post_stim_time`,`ephys_start_time`,`detect_method_num`,`sort_method_num`,`count_start`,`count_stop`,`csc_hash`,`delay_time`,`stimulus_class`,`selected_class`,`correct_response`,`correct_direction`,`selected_direction`,`orientation`,`posterior_a`,`contrast`,`classdiscriminationtrial_ts`,`stim_time`,`counts`,`n`,`scu_id` FROM `edgar_class_discrimination`.`__class_discrimination_trial` NATURAL JOIN `edgar_class_discrimination`.`__spike_count_trials` NATURAL JOIN `edgar_class_discrimination`.`#c_s_c_lookup` WHERE ((`subject_id`,`setup`,`session_start_time`,`stim_start_time`,`trial_num`,`event_type`,`pre_stim_time`,`post_stim_time`,`ephys_start_time`,`detect_method_num`,`sort_method_num`,`count_start`,`count_stop`,`scu_id`) in (SELECT `subject_id`,`setup`,`session_start_time`,`stim_start_time`,`trial_num`,`event_type`,`pre_stim_time`,`post_stim_time`,`ephys_start_time`,`detect_method_num`,`sort_method_num`,`count_start`,`count_stop`,`scu_id` FROM `edgar_class_discrimination`.`__clean_spike_count_trials`)) AND ((`csc_hash`) in (SELECT `csc_hash` FROM `edgar_cd_dataset`.`__clean_contrast_session_data_set` WHERE ((`csc_hash`,`dataset_contrast`) in (SELECT `csc_hash`,`dataset_contrast` FROM `edgar_cd_ml`.`__c_v_set` WHERE ((`dataset_contrast`='0.005') AND (`csc_hash`='0534116fd0aea4c6fdc4b8908c1fa5fd3d48e5b7') AND (`cv_fraction`='0.800') AND (`cv_seed`=35)))))) ORDER BY trial_num\n",
      "DEBUG:datajoint.connection:Executing SQL:SELECT `subject_id`,`setup`,`session_start_time`,`stim_start_time`,`trial_num`,`event_type`,`pre_stim_time`,`post_stim_time`,`ephys_start_time`,`detect_method_num`,`sort_method_num`,`count_start`,`count_stop`,`csc_hash`,`delay_time`,`stimulus_class`,`selected_class`,`correct_response`,`correct_direc\n"
     ]
    },
    {
     "name": "stdout",
     "output_type": "stream",
     "text": [
      "Working!\n"
     ]
    },
    {
     "name": "stderr",
     "output_type": "stream",
     "text": [
      "DEBUG:datajoint.relational_operand:SELECT `csc_hash`,`dataset_contrast` FROM `edgar_cd_dataset`.`__clean_contrast_session_data_set` WHERE ((`csc_hash`,`dataset_contrast`) in (SELECT `csc_hash`,`dataset_contrast` FROM `edgar_cd_ml`.`__c_v_set` WHERE ((`dataset_contrast`='0.005') AND (`csc_hash`='0534116fd0aea4c6fdc4b8908c1fa5fd3d48e5b7') AND (`cv_fraction`='0.800') AND (`cv_seed`=35))))\n",
      "DEBUG:datajoint.connection:Executing SQL:SELECT `csc_hash`,`dataset_contrast` FROM `edgar_cd_dataset`.`__clean_contrast_session_data_set` WHERE ((`csc_hash`,`dataset_contrast`) in (SELECT `csc_hash`,`dataset_contrast` FROM `edgar_cd_ml`.`__c_v_set` WHERE ((`dataset_contrast`='0.005') AND (`csc_hash`='0534116fd0aea4c6fdc4b8908c1fa5fd3d48e5b\n",
      "DEBUG:datajoint.relational_operand:SELECT `csc_hash`,`dataset_contrast`,`cv_seed`,`cv_fraction`,`train_index`,`test_index` FROM `edgar_cd_ml`.`__c_v_set` WHERE ((`dataset_contrast`='0.005') AND (`csc_hash`='0534116fd0aea4c6fdc4b8908c1fa5fd3d48e5b7') AND (`cv_fraction`='0.800') AND (`cv_seed`=35))\n",
      "DEBUG:datajoint.connection:Executing SQL:SELECT `csc_hash`,`dataset_contrast`,`cv_seed`,`cv_fraction`,`train_index`,`test_index` FROM `edgar_cd_ml`.`__c_v_set` WHERE ((`dataset_contrast`='0.005') AND (`csc_hash`='0534116fd0aea4c6fdc4b8908c1fa5fd3d48e5b7') AND (`cv_fraction`='0.800') AND (`cv_seed`=35))\n",
      "DEBUG:datajoint.connection:Executing SQL:SHOW TABLE STATUS FROM `edgar_cd_ml` WHERE name=\"#bin_config\"\n",
      "DEBUG:datajoint.connection:Executing SQL:SHOW FULL COLUMNS FROM `#bin_config` IN `edgar_cd_ml`\n",
      "DEBUG:datajoint.relational_operand:SELECT `bin_config_id`,`bin_width`,`bin_counts`,`clip_outside` FROM `edgar_cd_ml`.`#bin_config` WHERE ((`bin_config_id`='9c9248d6b67fe1d8348bc51605658447'))\n",
      "DEBUG:datajoint.connection:Executing SQL:SELECT `bin_config_id`,`bin_width`,`bin_counts`,`clip_outside` FROM `edgar_cd_ml`.`#bin_config` WHERE ((`bin_config_id`='9c9248d6b67fe1d8348bc51605658447'))\n",
      "DEBUG:datajoint.connection:Executing SQL:SHOW TABLE STATUS FROM `edgar_cd_ml` WHERE name=\"#model_design\"\n",
      "DEBUG:datajoint.connection:Executing SQL:SHOW FULL COLUMNS FROM `#model_design` IN `edgar_cd_ml`\n",
      "DEBUG:datajoint.relational_operand:SELECT `model_id`,`hidden1`,`hidden2` FROM `edgar_cd_ml`.`#model_design` WHERE ((`model_id`='52d710e0dc1cff3d59fb94fff0499f88'))\n",
      "DEBUG:datajoint.connection:Executing SQL:SELECT `model_id`,`hidden1`,`hidden2` FROM `edgar_cd_ml`.`#model_design` WHERE ((`model_id`='52d710e0dc1cff3d59fb94fff0499f88'))\n",
      "DEBUG:datajoint.connection:Executing SQL:SHOW TABLE STATUS FROM `edgar_cd_ml` WHERE name=\"#train_param\"\n",
      "DEBUG:datajoint.connection:Executing SQL:SHOW FULL COLUMNS FROM `#train_param` IN `edgar_cd_ml`\n",
      "DEBUG:datajoint.relational_operand:SELECT `param_id`,`learning_rate`,`dropout`,`init_std`,`smoothness` FROM `edgar_cd_ml`.`#train_param` WHERE ((`param_id`='1c9d087d1acc2030f44c97c5ca288485'))\n",
      "DEBUG:datajoint.connection:Executing SQL:SELECT `param_id`,`learning_rate`,`dropout`,`init_std`,`smoothness` FROM `edgar_cd_ml`.`#train_param` WHERE ((`param_id`='1c9d087d1acc2030f44c97c5ca288485'))\n"
     ]
    },
    {
     "name": "stdout",
     "output_type": "stream",
     "text": [
      "Setting numpy and torch seed to 8\n",
      "\n",
      "\n",
      "\n",
      "\n",
      " LEARNING RATE: 0.1\n",
      "[120|00/20] ---> 19.0468650644422\n",
      "[140|01/20] -/-> 19.0468650644422\n",
      "[160|02/20] -/-> 19.0468650644422\n",
      "[180|03/20] -/-> 19.0468650644422\n",
      "[200|04/20] -/-> 19.0468650644422\n",
      "[220|05/20] -/-> 19.0468650644422\n",
      "[240|06/20] -/-> 19.0468650644422\n",
      "[260|07/20] -/-> 19.0468650644422\n"
     ]
    },
    {
     "name": "stderr",
     "output_type": "stream",
     "text": [
      "DEBUG:datajoint.connection:Executing SQL:ROLLBACK\n",
      "INFO:datajoint.connection:Transaction cancelled. Rolling back ...\n"
     ]
    },
    {
     "ename": "KeyboardInterrupt",
     "evalue": "",
     "output_type": "error",
     "traceback": [
      "\u001b[0;31m---------------------------------------------------------------------------\u001b[0m",
      "\u001b[0;31mKeyboardInterrupt\u001b[0m                         Traceback (most recent call last)",
      "\u001b[0;32m<ipython-input-5-2b204c4084ff>\u001b[0m in \u001b[0;36m<module>\u001b[0;34m()\u001b[0m\n\u001b[0;32m----> 1\u001b[0;31m \u001b[0mtrain\u001b[0m\u001b[0;34m.\u001b[0m\u001b[0mCVTrainedModel\u001b[0m\u001b[0;34m(\u001b[0m\u001b[0;34m)\u001b[0m\u001b[0;34m.\u001b[0m\u001b[0mpopulate\u001b[0m\u001b[0;34m(\u001b[0m\u001b[0;34m)\u001b[0m\u001b[0;34m\u001b[0m\u001b[0m\n\u001b[0m",
      "\u001b[0;32m/usr/local/lib/python3.5/dist-packages/datajoint/autopopulate.py\u001b[0m in \u001b[0;36mpopulate\u001b[0;34m(self, suppress_errors, reserve_jobs, order, limit, max_calls, display_progress, *restrictions)\u001b[0m\n\u001b[1;32m    138\u001b[0m                     \u001b[0mnext\u001b[0m\u001b[0;34m(\u001b[0m\u001b[0mcall_count\u001b[0m\u001b[0;34m)\u001b[0m\u001b[0;34m\u001b[0m\u001b[0m\n\u001b[1;32m    139\u001b[0m                     \u001b[0;32mtry\u001b[0m\u001b[0;34m:\u001b[0m\u001b[0;34m\u001b[0m\u001b[0m\n\u001b[0;32m--> 140\u001b[0;31m                         \u001b[0mmake\u001b[0m\u001b[0;34m(\u001b[0m\u001b[0mdict\u001b[0m\u001b[0;34m(\u001b[0m\u001b[0mkey\u001b[0m\u001b[0;34m)\u001b[0m\u001b[0;34m)\u001b[0m\u001b[0;34m\u001b[0m\u001b[0m\n\u001b[0m\u001b[1;32m    141\u001b[0m                     \u001b[0;32mexcept\u001b[0m \u001b[0;34m(\u001b[0m\u001b[0mKeyboardInterrupt\u001b[0m\u001b[0;34m,\u001b[0m \u001b[0mSystemExit\u001b[0m\u001b[0;34m,\u001b[0m \u001b[0mException\u001b[0m\u001b[0;34m)\u001b[0m \u001b[0;32mas\u001b[0m \u001b[0merror\u001b[0m\u001b[0;34m:\u001b[0m\u001b[0;34m\u001b[0m\u001b[0m\n\u001b[1;32m    142\u001b[0m                         \u001b[0;32mtry\u001b[0m\u001b[0;34m:\u001b[0m\u001b[0;34m\u001b[0m\u001b[0m\n",
      "\u001b[0;32m/src/v1_likelihood/v1_likelihood/train.py\u001b[0m in \u001b[0;36m_make_tuples\u001b[0;34m(self, key)\u001b[0m\n\u001b[1;32m    294\u001b[0m                     \u001b[0mpost\u001b[0m \u001b[0;34m=\u001b[0m \u001b[0my\u001b[0m \u001b[0;34m+\u001b[0m \u001b[0mprior\u001b[0m\u001b[0;34m\u001b[0m\u001b[0m\n\u001b[1;32m    295\u001b[0m                     \u001b[0mval\u001b[0m\u001b[0;34m,\u001b[0m \u001b[0m_\u001b[0m \u001b[0;34m=\u001b[0m \u001b[0mpost\u001b[0m\u001b[0;34m.\u001b[0m\u001b[0mmax\u001b[0m\u001b[0;34m(\u001b[0m\u001b[0;36m1\u001b[0m\u001b[0;34m,\u001b[0m \u001b[0mkeepdim\u001b[0m\u001b[0;34m=\u001b[0m\u001b[0;32mTrue\u001b[0m\u001b[0;34m)\u001b[0m\u001b[0;34m\u001b[0m\u001b[0m\n\u001b[0;32m--> 296\u001b[0;31m                     \u001b[0mpost\u001b[0m \u001b[0;34m=\u001b[0m \u001b[0mpost\u001b[0m \u001b[0;34m-\u001b[0m \u001b[0mval\u001b[0m\u001b[0;34m\u001b[0m\u001b[0m\n\u001b[0m\u001b[1;32m    297\u001b[0m                     \u001b[0;31m#sparcity = y.abs().sum(1).mean()\u001b[0m\u001b[0;34m\u001b[0m\u001b[0;34m\u001b[0m\u001b[0m\n\u001b[1;32m    298\u001b[0m                     \u001b[0mconv_filter\u001b[0m \u001b[0;34m=\u001b[0m \u001b[0mVariable\u001b[0m\u001b[0;34m(\u001b[0m\u001b[0mtorch\u001b[0m\u001b[0;34m.\u001b[0m\u001b[0mfrom_numpy\u001b[0m\u001b[0;34m(\u001b[0m\u001b[0mnp\u001b[0m\u001b[0;34m.\u001b[0m\u001b[0marray\u001b[0m\u001b[0;34m(\u001b[0m\u001b[0;34m[\u001b[0m\u001b[0;34m-\u001b[0m\u001b[0;36m0.25\u001b[0m\u001b[0;34m,\u001b[0m \u001b[0;36m0.5\u001b[0m\u001b[0;34m,\u001b[0m \u001b[0;34m-\u001b[0m\u001b[0;36m0.25\u001b[0m\u001b[0;34m]\u001b[0m\u001b[0;34m)\u001b[0m\u001b[0;34m[\u001b[0m\u001b[0;32mNone\u001b[0m\u001b[0;34m,\u001b[0m \u001b[0;32mNone\u001b[0m\u001b[0;34m,\u001b[0m \u001b[0;34m:\u001b[0m\u001b[0;34m]\u001b[0m\u001b[0;34m)\u001b[0m\u001b[0;34m.\u001b[0m\u001b[0mtype\u001b[0m\u001b[0;34m(\u001b[0m\u001b[0my\u001b[0m\u001b[0;34m.\u001b[0m\u001b[0mdata\u001b[0m\u001b[0;34m.\u001b[0m\u001b[0mtype\u001b[0m\u001b[0;34m(\u001b[0m\u001b[0;34m)\u001b[0m\u001b[0;34m)\u001b[0m\u001b[0;34m)\u001b[0m\u001b[0;34m\u001b[0m\u001b[0m\n",
      "\u001b[0;32m/usr/local/lib/python3.5/dist-packages/torch/autograd/variable.py\u001b[0m in \u001b[0;36m__sub__\u001b[0;34m(self, other)\u001b[0m\n\u001b[1;32m    818\u001b[0m \u001b[0;34m\u001b[0m\u001b[0m\n\u001b[1;32m    819\u001b[0m     \u001b[0;32mdef\u001b[0m \u001b[0m__sub__\u001b[0m\u001b[0;34m(\u001b[0m\u001b[0mself\u001b[0m\u001b[0;34m,\u001b[0m \u001b[0mother\u001b[0m\u001b[0;34m)\u001b[0m\u001b[0;34m:\u001b[0m\u001b[0;34m\u001b[0m\u001b[0m\n\u001b[0;32m--> 820\u001b[0;31m         \u001b[0;32mreturn\u001b[0m \u001b[0mself\u001b[0m\u001b[0;34m.\u001b[0m\u001b[0msub\u001b[0m\u001b[0;34m(\u001b[0m\u001b[0mother\u001b[0m\u001b[0;34m)\u001b[0m\u001b[0;34m\u001b[0m\u001b[0m\n\u001b[0m\u001b[1;32m    821\u001b[0m \u001b[0;34m\u001b[0m\u001b[0m\n\u001b[1;32m    822\u001b[0m     \u001b[0;32mdef\u001b[0m \u001b[0m__isub__\u001b[0m\u001b[0;34m(\u001b[0m\u001b[0mself\u001b[0m\u001b[0;34m,\u001b[0m \u001b[0mother\u001b[0m\u001b[0;34m)\u001b[0m\u001b[0;34m:\u001b[0m\u001b[0;34m\u001b[0m\u001b[0m\n",
      "\u001b[0;32m/usr/local/lib/python3.5/dist-packages/torch/autograd/variable.py\u001b[0m in \u001b[0;36msub\u001b[0;34m(self, other)\u001b[0m\n\u001b[1;32m    330\u001b[0m \u001b[0;34m\u001b[0m\u001b[0m\n\u001b[1;32m    331\u001b[0m     \u001b[0;32mdef\u001b[0m \u001b[0msub\u001b[0m\u001b[0;34m(\u001b[0m\u001b[0mself\u001b[0m\u001b[0;34m,\u001b[0m \u001b[0mother\u001b[0m\u001b[0;34m)\u001b[0m\u001b[0;34m:\u001b[0m\u001b[0;34m\u001b[0m\u001b[0m\n\u001b[0;32m--> 332\u001b[0;31m         \u001b[0;32mreturn\u001b[0m \u001b[0mself\u001b[0m\u001b[0;34m.\u001b[0m\u001b[0m_sub\u001b[0m\u001b[0;34m(\u001b[0m\u001b[0mother\u001b[0m\u001b[0;34m,\u001b[0m \u001b[0;32mFalse\u001b[0m\u001b[0;34m)\u001b[0m\u001b[0;34m\u001b[0m\u001b[0m\n\u001b[0m\u001b[1;32m    333\u001b[0m \u001b[0;34m\u001b[0m\u001b[0m\n\u001b[1;32m    334\u001b[0m     \u001b[0;32mdef\u001b[0m \u001b[0msub_\u001b[0m\u001b[0;34m(\u001b[0m\u001b[0mself\u001b[0m\u001b[0;34m,\u001b[0m \u001b[0mother\u001b[0m\u001b[0;34m)\u001b[0m\u001b[0;34m:\u001b[0m\u001b[0;34m\u001b[0m\u001b[0m\n",
      "\u001b[0;32m/usr/local/lib/python3.5/dist-packages/torch/autograd/variable.py\u001b[0m in \u001b[0;36m_sub\u001b[0;34m(self, other, inplace)\u001b[0m\n\u001b[1;32m    324\u001b[0m     \u001b[0;32mdef\u001b[0m \u001b[0m_sub\u001b[0m\u001b[0;34m(\u001b[0m\u001b[0mself\u001b[0m\u001b[0;34m,\u001b[0m \u001b[0mother\u001b[0m\u001b[0;34m,\u001b[0m \u001b[0minplace\u001b[0m\u001b[0;34m)\u001b[0m\u001b[0;34m:\u001b[0m\u001b[0;34m\u001b[0m\u001b[0m\n\u001b[1;32m    325\u001b[0m         \u001b[0;32mif\u001b[0m \u001b[0misinstance\u001b[0m\u001b[0;34m(\u001b[0m\u001b[0mother\u001b[0m\u001b[0;34m,\u001b[0m \u001b[0mVariable\u001b[0m\u001b[0;34m)\u001b[0m\u001b[0;34m:\u001b[0m\u001b[0;34m\u001b[0m\u001b[0m\n\u001b[0;32m--> 326\u001b[0;31m             \u001b[0;32mreturn\u001b[0m \u001b[0mSub\u001b[0m\u001b[0;34m.\u001b[0m\u001b[0mapply\u001b[0m\u001b[0;34m(\u001b[0m\u001b[0mself\u001b[0m\u001b[0;34m,\u001b[0m \u001b[0mother\u001b[0m\u001b[0;34m,\u001b[0m \u001b[0minplace\u001b[0m\u001b[0;34m)\u001b[0m\u001b[0;34m\u001b[0m\u001b[0m\n\u001b[0m\u001b[1;32m    327\u001b[0m         \u001b[0;32melse\u001b[0m\u001b[0;34m:\u001b[0m\u001b[0;34m\u001b[0m\u001b[0m\n\u001b[1;32m    328\u001b[0m             \u001b[0;32massert\u001b[0m \u001b[0;32mnot\u001b[0m \u001b[0mtorch\u001b[0m\u001b[0;34m.\u001b[0m\u001b[0mis_tensor\u001b[0m\u001b[0;34m(\u001b[0m\u001b[0mother\u001b[0m\u001b[0;34m)\u001b[0m\u001b[0;34m\u001b[0m\u001b[0m\n",
      "\u001b[0;31mKeyboardInterrupt\u001b[0m: "
     ]
    }
   ],
   "source": [
    "train.CVTrainedModel().populate()"
   ]
  },
  {
   "cell_type": "code",
   "execution_count": 2,
   "metadata": {},
   "outputs": [
    {
     "data": {
      "text/html": [
       "\n",
       "        \n",
       "        <style type=\"text/css\">\n",
       "            .Relation{\n",
       "                border-collapse:collapse;\n",
       "            }\n",
       "            .Relation th{\n",
       "                background: #A0A0A0; color: #ffffff; padding:4px; border:#f0e0e0 1px solid;\n",
       "                font-weight: normal; font-family: monospace; font-size: 75%;\n",
       "            }\n",
       "            .Relation td{\n",
       "                padding:4px; border:#f0e0e0 1px solid; font-size:75%;\n",
       "            }\n",
       "            .Relation tr:nth-child(odd){\n",
       "                background: #ffffff;\n",
       "            }\n",
       "            .Relation tr:nth-child(even){\n",
       "                background: #f3f1ff;\n",
       "            }\n",
       "            /* Tooltip container */\n",
       "            .djtooltip {\n",
       "            }\n",
       "\n",
       "            /* Tooltip text */\n",
       "            .djtooltip .djtooltiptext {\n",
       "                visibility: hidden;\n",
       "                width: 120px;\n",
       "                background-color: black;\n",
       "                color: #fff;\n",
       "                text-align: center;\n",
       "                padding: 5px 0;\n",
       "                border-radius: 6px;\n",
       "\n",
       "                /* Position the tooltip text - see examples below! */\n",
       "                position: absolute;\n",
       "                z-index: 1;\n",
       "            }\n",
       "\n",
       "\n",
       "            #primary {\n",
       "                font-weight: bold;\n",
       "                color: black;\n",
       "            }\n",
       "\n",
       "            #nonprimary {\n",
       "                font-weight: normal;\n",
       "                color: white;\n",
       "            }\n",
       "\n",
       "            /* Show the tooltip text when you mouse over the tooltip container */\n",
       "            .djtooltip:hover .djtooltiptext {\n",
       "                visibility: visible;\n",
       "            }\n",
       "        </style>\n",
       "        \n",
       "        <b>job reservation table for `edgar_cd_ml`</b>\n",
       "            <div style=\"max-height:1000px;max-width:1500px;overflow:auto;\">\n",
       "            <table border=\"1\" class=\"Relation\">\n",
       "                <thead> <tr style=\"text-align: right;\"> <th> <div class=\"djtooltip\">\n",
       "                                <p id=\"primary\">table_name</p>\n",
       "                                <span class=\"djtooltiptext\">className of the table</span>\n",
       "                            </div></th><th><div class=\"djtooltip\">\n",
       "                                <p id=\"primary\">key_hash</p>\n",
       "                                <span class=\"djtooltiptext\">key hash</span>\n",
       "                            </div></th><th><div class=\"djtooltip\">\n",
       "                                <p id=\"nonprimary\">status</p>\n",
       "                                <span class=\"djtooltiptext\">if tuple is missing, the job is available</span>\n",
       "                            </div></th><th><div class=\"djtooltip\">\n",
       "                                <p id=\"nonprimary\">key</p>\n",
       "                                <span class=\"djtooltiptext\">structure containing the key</span>\n",
       "                            </div></th><th><div class=\"djtooltip\">\n",
       "                                <p id=\"nonprimary\">error_message</p>\n",
       "                                <span class=\"djtooltiptext\">error message returned if failed</span>\n",
       "                            </div></th><th><div class=\"djtooltip\">\n",
       "                                <p id=\"nonprimary\">error_stack</p>\n",
       "                                <span class=\"djtooltiptext\">error stack if failed</span>\n",
       "                            </div></th><th><div class=\"djtooltip\">\n",
       "                                <p id=\"nonprimary\">user</p>\n",
       "                                <span class=\"djtooltiptext\">database user</span>\n",
       "                            </div></th><th><div class=\"djtooltip\">\n",
       "                                <p id=\"nonprimary\">host</p>\n",
       "                                <span class=\"djtooltiptext\">system hostname</span>\n",
       "                            </div></th><th><div class=\"djtooltip\">\n",
       "                                <p id=\"nonprimary\">pid</p>\n",
       "                                <span class=\"djtooltiptext\">system process id</span>\n",
       "                            </div></th><th><div class=\"djtooltip\">\n",
       "                                <p id=\"nonprimary\">connection_id</p>\n",
       "                                <span class=\"djtooltiptext\">connection_id()</span>\n",
       "                            </div></th><th><div class=\"djtooltip\">\n",
       "                                <p id=\"nonprimary\">timestamp</p>\n",
       "                                <span class=\"djtooltiptext\">automatic timestamp</span>\n",
       "                            </div> </th> </tr> </thead>\n",
       "                <tbody> <tr>  </tr> </tbody>\n",
       "            </table>\n",
       "            \n",
       "            <p>0 tuples</p></div>\n",
       "            "
      ],
      "text/plain": [
       "*table_name    *key_hash    status     key        error_message  error_stac user     host     pid     connection_id  timestamp    \n",
       "+------------+ +----------+ +--------+ +--------+ +------------+ +--------+ +------+ +------+ +-----+ +------------+ +-----------+\n",
       "\n",
       " (0 tuples)"
      ]
     },
     "execution_count": 2,
     "metadata": {},
     "output_type": "execute_result"
    }
   ],
   "source": [
    "train.schema.jobs"
   ]
  },
  {
   "cell_type": "code",
   "execution_count": 3,
   "metadata": {},
   "outputs": [
    {
     "data": {
      "text/html": [
       "\n",
       "        \n",
       "        <style type=\"text/css\">\n",
       "            .Relation{\n",
       "                border-collapse:collapse;\n",
       "            }\n",
       "            .Relation th{\n",
       "                background: #A0A0A0; color: #ffffff; padding:4px; border:#f0e0e0 1px solid;\n",
       "                font-weight: normal; font-family: monospace; font-size: 75%;\n",
       "            }\n",
       "            .Relation td{\n",
       "                padding:4px; border:#f0e0e0 1px solid; font-size:75%;\n",
       "            }\n",
       "            .Relation tr:nth-child(odd){\n",
       "                background: #ffffff;\n",
       "            }\n",
       "            .Relation tr:nth-child(even){\n",
       "                background: #f3f1ff;\n",
       "            }\n",
       "            /* Tooltip container */\n",
       "            .djtooltip {\n",
       "            }\n",
       "\n",
       "            /* Tooltip text */\n",
       "            .djtooltip .djtooltiptext {\n",
       "                visibility: hidden;\n",
       "                width: 120px;\n",
       "                background-color: black;\n",
       "                color: #fff;\n",
       "                text-align: center;\n",
       "                padding: 5px 0;\n",
       "                border-radius: 6px;\n",
       "\n",
       "                /* Position the tooltip text - see examples below! */\n",
       "                position: absolute;\n",
       "                z-index: 1;\n",
       "            }\n",
       "\n",
       "\n",
       "            #primary {\n",
       "                font-weight: bold;\n",
       "                color: black;\n",
       "            }\n",
       "\n",
       "            #nonprimary {\n",
       "                font-weight: normal;\n",
       "                color: white;\n",
       "            }\n",
       "\n",
       "            /* Show the tooltip text when you mouse over the tooltip container */\n",
       "            .djtooltip:hover .djtooltiptext {\n",
       "                visibility: visible;\n",
       "            }\n",
       "        </style>\n",
       "        \n",
       "        <b></b>\n",
       "            <div style=\"max-height:1000px;max-width:1500px;overflow:auto;\">\n",
       "            <table border=\"1\" class=\"Relation\">\n",
       "                <thead> <tr style=\"text-align: right;\"> <th> <div class=\"djtooltip\">\n",
       "                                <p id=\"primary\">csc_hash</p>\n",
       "                                <span class=\"djtooltiptext\">hash for clean spike count set</span>\n",
       "                            </div></th><th><div class=\"djtooltip\">\n",
       "                                <p id=\"primary\">dataset_contrast</p>\n",
       "                                <span class=\"djtooltiptext\">contrast of the stimulus</span>\n",
       "                            </div></th><th><div class=\"djtooltip\">\n",
       "                                <p id=\"primary\">cv_seed</p>\n",
       "                                <span class=\"djtooltiptext\">seed for the cv set</span>\n",
       "                            </div></th><th><div class=\"djtooltip\">\n",
       "                                <p id=\"primary\">cv_fraction</p>\n",
       "                                <span class=\"djtooltiptext\">fraction</span>\n",
       "                            </div></th><th><div class=\"djtooltip\">\n",
       "                                <p id=\"primary\">bin_config_id</p>\n",
       "                                <span class=\"djtooltiptext\">id</span>\n",
       "                            </div></th><th><div class=\"djtooltip\">\n",
       "                                <p id=\"primary\">model_id</p>\n",
       "                                <span class=\"djtooltiptext\">model id</span>\n",
       "                            </div></th><th><div class=\"djtooltip\">\n",
       "                                <p id=\"primary\">param_id</p>\n",
       "                                <span class=\"djtooltiptext\">ID of parameter</span>\n",
       "                            </div></th><th><div class=\"djtooltip\">\n",
       "                                <p id=\"primary\">train_seed</p>\n",
       "                                <span class=\"djtooltiptext\">training seed</span>\n",
       "                            </div></th><th><div class=\"djtooltip\">\n",
       "                                <p id=\"nonprimary\">cnn_trainset_score</p>\n",
       "                                <span class=\"djtooltiptext\">score on train set</span>\n",
       "                            </div></th><th><div class=\"djtooltip\">\n",
       "                                <p id=\"nonprimary\">cnn_testset_score</p>\n",
       "                                <span class=\"djtooltiptext\">score on test set</span>\n",
       "                            </div></th><th><div class=\"djtooltip\">\n",
       "                                <p id=\"nonprimary\">avg_sigma</p>\n",
       "                                <span class=\"djtooltiptext\">average width of the likelihood functions</span>\n",
       "                            </div></th><th><div class=\"djtooltip\">\n",
       "                                <p id=\"nonprimary\">model</p>\n",
       "                                <span class=\"djtooltiptext\">trained model</span>\n",
       "                            </div> </th> </tr> </thead>\n",
       "                <tbody> <tr>  </tr> </tbody>\n",
       "            </table>\n",
       "            \n",
       "            <p>0 tuples</p></div>\n",
       "            "
      ],
      "text/plain": [
       "*csc_hash    *dataset_contr *cv_seed    *cv_fraction   *bin_config_id *model_id    *param_id    *train_seed    cnn_trainset_s cnn_testset_sc avg_sigma     model     \n",
       "+----------+ +------------+ +---------+ +------------+ +------------+ +----------+ +----------+ +------------+ +------------+ +------------+ +-----------+ +--------+\n",
       "\n",
       " (0 tuples)"
      ]
     },
     "execution_count": 3,
     "metadata": {},
     "output_type": "execute_result"
    }
   ],
   "source": [
    "train.CVTrainedModel()"
   ]
  },
  {
   "cell_type": "code",
   "execution_count": 2,
   "metadata": {
    "scrolled": true
   },
   "outputs": [
    {
     "data": {
      "text/html": [
       "\n",
       "        \n",
       "        <style type=\"text/css\">\n",
       "            .Relation{\n",
       "                border-collapse:collapse;\n",
       "            }\n",
       "            .Relation th{\n",
       "                background: #A0A0A0; color: #ffffff; padding:4px; border:#f0e0e0 1px solid;\n",
       "                font-weight: normal; font-family: monospace; font-size: 75%;\n",
       "            }\n",
       "            .Relation td{\n",
       "                padding:4px; border:#f0e0e0 1px solid; font-size:75%;\n",
       "            }\n",
       "            .Relation tr:nth-child(odd){\n",
       "                background: #ffffff;\n",
       "            }\n",
       "            .Relation tr:nth-child(even){\n",
       "                background: #f3f1ff;\n",
       "            }\n",
       "            /* Tooltip container */\n",
       "            .djtooltip {\n",
       "            }\n",
       "\n",
       "            /* Tooltip text */\n",
       "            .djtooltip .djtooltiptext {\n",
       "                visibility: hidden;\n",
       "                width: 120px;\n",
       "                background-color: black;\n",
       "                color: #fff;\n",
       "                text-align: center;\n",
       "                padding: 5px 0;\n",
       "                border-radius: 6px;\n",
       "\n",
       "                /* Position the tooltip text - see examples below! */\n",
       "                position: absolute;\n",
       "                z-index: 1;\n",
       "            }\n",
       "\n",
       "\n",
       "            #primary {\n",
       "                font-weight: bold;\n",
       "                color: black;\n",
       "            }\n",
       "\n",
       "            #nonprimary {\n",
       "                font-weight: normal;\n",
       "                color: white;\n",
       "            }\n",
       "\n",
       "            /* Show the tooltip text when you mouse over the tooltip container */\n",
       "            .djtooltip:hover .djtooltiptext {\n",
       "                visibility: visible;\n",
       "            }\n",
       "        </style>\n",
       "        \n",
       "        <b></b>\n",
       "            <div style=\"max-height:1000px;max-width:1500px;overflow:auto;\">\n",
       "            <table border=\"1\" class=\"Relation\">\n",
       "                <thead> <tr style=\"text-align: right;\"> <th> <div class=\"djtooltip\">\n",
       "                                <p id=\"primary\">csc_hash</p>\n",
       "                                <span class=\"djtooltiptext\">hash for clean spike count set</span>\n",
       "                            </div></th><th><div class=\"djtooltip\">\n",
       "                                <p id=\"primary\">dataset_contrast</p>\n",
       "                                <span class=\"djtooltiptext\">contrast of the stimulus</span>\n",
       "                            </div></th><th><div class=\"djtooltip\">\n",
       "                                <p id=\"primary\">cv_seed</p>\n",
       "                                <span class=\"djtooltiptext\">seed for the cv set</span>\n",
       "                            </div></th><th><div class=\"djtooltip\">\n",
       "                                <p id=\"primary\">cv_fraction</p>\n",
       "                                <span class=\"djtooltiptext\">fraction</span>\n",
       "                            </div></th><th><div class=\"djtooltip\">\n",
       "                                <p id=\"primary\">bin_config_id</p>\n",
       "                                <span class=\"djtooltiptext\">id</span>\n",
       "                            </div></th><th><div class=\"djtooltip\">\n",
       "                                <p id=\"primary\">model_id</p>\n",
       "                                <span class=\"djtooltiptext\">model id</span>\n",
       "                            </div></th><th><div class=\"djtooltip\">\n",
       "                                <p id=\"primary\">param_id</p>\n",
       "                                <span class=\"djtooltiptext\">ID of parameter</span>\n",
       "                            </div></th><th><div class=\"djtooltip\">\n",
       "                                <p id=\"primary\">train_seed</p>\n",
       "                                <span class=\"djtooltiptext\">training seed</span>\n",
       "                            </div></th><th><div class=\"djtooltip\">\n",
       "                                <p id=\"nonprimary\">cnn_trainset_score</p>\n",
       "                                <span class=\"djtooltiptext\">score on train set</span>\n",
       "                            </div></th><th><div class=\"djtooltip\">\n",
       "                                <p id=\"nonprimary\">cnn_testset_score</p>\n",
       "                                <span class=\"djtooltiptext\">score on test set</span>\n",
       "                            </div></th><th><div class=\"djtooltip\">\n",
       "                                <p id=\"nonprimary\">avg_sigma</p>\n",
       "                                <span class=\"djtooltiptext\">average width of the likelihood functions</span>\n",
       "                            </div></th><th><div class=\"djtooltip\">\n",
       "                                <p id=\"nonprimary\">model</p>\n",
       "                                <span class=\"djtooltiptext\">trained model</span>\n",
       "                            </div> </th> </tr> </thead>\n",
       "                <tbody> <tr>  </tr> </tbody>\n",
       "            </table>\n",
       "            \n",
       "            <p>0 tuples</p></div>\n",
       "            "
      ],
      "text/plain": [
       "*csc_hash    *dataset_contr *cv_seed    *cv_fraction   *bin_config_id *model_id    *param_id    *train_seed    cnn_trainset_s cnn_testset_sc avg_sigma     model     \n",
       "+----------+ +------------+ +---------+ +------------+ +------------+ +----------+ +----------+ +------------+ +------------+ +------------+ +-----------+ +--------+\n",
       "\n",
       " (0 tuples)"
      ]
     },
     "execution_count": 2,
     "metadata": {},
     "output_type": "execute_result"
    }
   ],
   "source": [
    "train.CVTrainedModel()"
   ]
  },
  {
   "cell_type": "code",
   "execution_count": null,
   "metadata": {},
   "outputs": [],
   "source": [
    "train."
   ]
  },
  {
   "cell_type": "code",
   "execution_count": 2,
   "metadata": {
    "scrolled": false
   },
   "outputs": [
    {
     "name": "stdout",
     "output_type": "stream",
     "text": [
      "Setting numpy and torch seed to 8\n",
      "\n",
      "\n",
      "\n",
      "\n",
      " LEARNING RATE: 0.1\n",
      "[120|00/20] ---> 19.0468650644422\n",
      "[140|01/20] -/-> 19.0468650644422\n",
      "[160|02/20] -/-> 19.0468650644422\n",
      "[180|03/20] -/-> 19.0468650644422\n",
      "[200|04/20] -/-> 19.0468650644422\n",
      "[220|05/20] -/-> 19.0468650644422\n",
      "[240|06/20] -/-> 19.0468650644422\n",
      "[260|07/20] -/-> 19.0468650644422\n",
      "[280|08/20] -/-> 19.0468650644422\n",
      "[300|09/20] -/-> 19.0468650644422\n",
      "[320|10/20] -/-> 19.0468650644422\n",
      "[340|11/20] -/-> 19.0468650644422\n",
      "[360|12/20] -/-> 19.0468650644422\n",
      "[380|13/20] -/-> 19.0468650644422\n",
      "[400|14/20] -/-> 19.0468650644422\n",
      "[420|15/20] -/-> 19.0468650644422\n",
      "[440|16/20] -/-> 19.0468650644422\n",
      "[460|17/20] -/-> 19.0468650644422\n",
      "[480|18/20] -/-> 19.0468650644422\n",
      "[500|19/20] -/-> 19.0468650644422\n",
      "[520|20/20] -/-> 19.0468650644422\n",
      "Restoring best model! 19.046865 ---> 19.046865\n",
      "\n",
      "\n",
      "\n",
      "\n",
      " LEARNING RATE: 0.03333333333333333\n",
      "[120|01/20] -/-> 19.0468650644422\n",
      "[140|02/20] -/-> 19.0468650644422\n",
      "[160|03/20] -/-> 19.0468650644422\n",
      "[180|04/20] -/-> 19.0468650644422\n",
      "[200|05/20] -/-> 19.0468650644422\n",
      "[220|06/20] -/-> 19.0468650644422\n",
      "[240|07/20] -/-> 19.0468650644422\n",
      "[260|08/20] -/-> 19.0468650644422\n",
      "[280|09/20] -/-> 19.0468650644422\n",
      "[300|10/20] -/-> 19.0468650644422\n",
      "[320|11/20] -/-> 19.0468650644422\n",
      "[340|12/20] -/-> 19.0468650644422\n",
      "[360|13/20] -/-> 19.0468650644422\n",
      "[380|14/20] -/-> 19.0468650644422\n",
      "[400|15/20] -/-> 19.0468650644422\n",
      "[420|16/20] -/-> 19.0468650644422\n",
      "[440|17/20] -/-> 19.0468650644422\n",
      "[460|18/20] -/-> 19.0468650644422\n",
      "[480|19/20] -/-> 19.0468650644422\n",
      "[500|20/20] -/-> 19.0468650644422\n",
      "Restoring best model! 19.046865 ---> 19.046865\n",
      "\n",
      "\n",
      "\n",
      "\n",
      " LEARNING RATE: 0.011111111111111112\n",
      "[120|01/20] -/-> 19.0468650644422\n",
      "[140|02/20] -/-> 19.0468650644422\n",
      "[160|03/20] -/-> 19.0468650644422\n",
      "[180|04/20] -/-> 19.0468650644422\n",
      "[200|05/20] -/-> 19.0468650644422\n",
      "[220|06/20] -/-> 19.0468650644422\n",
      "[240|07/20] -/-> 19.0468650644422\n",
      "[260|08/20] -/-> 19.0468650644422\n",
      "[280|09/20] -/-> 19.0468650644422\n",
      "[300|10/20] -/-> 19.0468650644422\n",
      "[320|11/20] -/-> 19.0468650644422\n",
      "[340|12/20] -/-> 19.0468650644422\n",
      "[360|13/20] -/-> 19.0468650644422\n",
      "[380|14/20] -/-> 19.0468650644422\n",
      "[400|15/20] -/-> 19.0468650644422\n",
      "[420|16/20] -/-> 19.0468650644422\n",
      "[440|17/20] -/-> 19.0468650644422\n",
      "[460|18/20] -/-> 19.0468650644422\n",
      "[480|19/20] -/-> 19.0468650644422\n",
      "[500|20/20] -/-> 19.0468650644422\n",
      "Restoring best model! 19.046865 ---> 19.046865\n",
      "\n",
      "\n",
      "\n",
      "\n",
      " LEARNING RATE: 0.003703703703703704\n",
      "[120|01/20] -/-> 19.0468650644422\n",
      "[140|02/20] -/-> 19.0468650644422\n",
      "[160|03/20] -/-> 19.0468650644422\n",
      "[180|04/20] -/-> 19.0468650644422\n",
      "[200|05/20] -/-> 19.0468650644422\n",
      "[220|06/20] -/-> 19.0468650644422\n",
      "[240|07/20] -/-> 19.0468650644422\n",
      "[260|08/20] -/-> 19.0468650644422\n",
      "[280|09/20] -/-> 19.0468650644422\n",
      "[300|10/20] -/-> 19.0468650644422\n",
      "[320|11/20] -/-> 19.0468650644422\n",
      "[340|12/20] -/-> 19.0468650644422\n",
      "[360|13/20] -/-> 19.0468650644422\n",
      "[380|14/20] -/-> 19.0468650644422\n",
      "[400|15/20] -/-> 19.0468650644422\n",
      "[420|16/20] -/-> 19.0468650644422\n",
      "[440|17/20] -/-> 19.0468650644422\n",
      "[460|18/20] -/-> 19.0468650644422\n",
      "[480|19/20] -/-> 19.0468650644422\n",
      "[500|20/20] -/-> 19.0468650644422\n",
      "Restoring best model! 19.046865 ---> 19.046865\n"
     ]
    },
    {
     "ename": "IntegrityError",
     "evalue": "(1048, \"Column 'avg_sigma' cannot be null\")",
     "output_type": "error",
     "traceback": [
      "\u001b[0;31m---------------------------------------------------------------------------\u001b[0m",
      "\u001b[0;31mIntegrityError\u001b[0m                            Traceback (most recent call last)",
      "\u001b[0;32m<ipython-input-2-3e62ab22c323>\u001b[0m in \u001b[0;36m<module>\u001b[0;34m()\u001b[0m\n\u001b[0;32m----> 1\u001b[0;31m \u001b[0mtrain\u001b[0m\u001b[0;34m.\u001b[0m\u001b[0mCVTrainedModel\u001b[0m\u001b[0;34m(\u001b[0m\u001b[0;34m)\u001b[0m\u001b[0;34m.\u001b[0m\u001b[0mpopulate\u001b[0m\u001b[0;34m(\u001b[0m\u001b[0mlimit\u001b[0m\u001b[0;34m=\u001b[0m\u001b[0;36m1\u001b[0m\u001b[0;34m,\u001b[0m \u001b[0morder\u001b[0m\u001b[0;34m=\u001b[0m\u001b[0;34m'random'\u001b[0m\u001b[0;34m)\u001b[0m\u001b[0;34m\u001b[0m\u001b[0m\n\u001b[0m",
      "\u001b[0;32m/usr/local/lib/python3.5/dist-packages/datajoint/autopopulate.py\u001b[0m in \u001b[0;36mpopulate\u001b[0;34m(self, suppress_errors, reserve_jobs, order, limit, max_calls, display_progress, *restrictions)\u001b[0m\n\u001b[1;32m    138\u001b[0m                     \u001b[0mnext\u001b[0m\u001b[0;34m(\u001b[0m\u001b[0mcall_count\u001b[0m\u001b[0;34m)\u001b[0m\u001b[0;34m\u001b[0m\u001b[0m\n\u001b[1;32m    139\u001b[0m                     \u001b[0;32mtry\u001b[0m\u001b[0;34m:\u001b[0m\u001b[0;34m\u001b[0m\u001b[0m\n\u001b[0;32m--> 140\u001b[0;31m                         \u001b[0mmake\u001b[0m\u001b[0;34m(\u001b[0m\u001b[0mdict\u001b[0m\u001b[0;34m(\u001b[0m\u001b[0mkey\u001b[0m\u001b[0;34m)\u001b[0m\u001b[0;34m)\u001b[0m\u001b[0;34m\u001b[0m\u001b[0m\n\u001b[0m\u001b[1;32m    141\u001b[0m                     \u001b[0;32mexcept\u001b[0m \u001b[0;34m(\u001b[0m\u001b[0mKeyboardInterrupt\u001b[0m\u001b[0;34m,\u001b[0m \u001b[0mSystemExit\u001b[0m\u001b[0;34m,\u001b[0m \u001b[0mException\u001b[0m\u001b[0;34m)\u001b[0m \u001b[0;32mas\u001b[0m \u001b[0merror\u001b[0m\u001b[0;34m:\u001b[0m\u001b[0;34m\u001b[0m\u001b[0m\n\u001b[1;32m    142\u001b[0m                         \u001b[0;32mtry\u001b[0m\u001b[0;34m:\u001b[0m\u001b[0;34m\u001b[0m\u001b[0m\n",
      "\u001b[0;32m/src/v1_likelihood/v1_likelihood/train.py\u001b[0m in \u001b[0;36m_make_tuples\u001b[0;34m(self, key)\u001b[0m\n\u001b[1;32m    321\u001b[0m         \u001b[0mkey\u001b[0m\u001b[0;34m[\u001b[0m\u001b[0;34m'model'\u001b[0m\u001b[0;34m]\u001b[0m \u001b[0;34m=\u001b[0m \u001b[0;34m{\u001b[0m\u001b[0mk\u001b[0m\u001b[0;34m:\u001b[0m \u001b[0mv\u001b[0m\u001b[0;34m.\u001b[0m\u001b[0mcpu\u001b[0m\u001b[0;34m(\u001b[0m\u001b[0;34m)\u001b[0m\u001b[0;34m.\u001b[0m\u001b[0mnumpy\u001b[0m\u001b[0;34m(\u001b[0m\u001b[0;34m)\u001b[0m \u001b[0;32mfor\u001b[0m \u001b[0mk\u001b[0m\u001b[0;34m,\u001b[0m \u001b[0mv\u001b[0m \u001b[0;32min\u001b[0m \u001b[0mnet\u001b[0m\u001b[0;34m.\u001b[0m\u001b[0mstate_dict\u001b[0m\u001b[0;34m(\u001b[0m\u001b[0;34m)\u001b[0m\u001b[0;34m.\u001b[0m\u001b[0mitems\u001b[0m\u001b[0;34m(\u001b[0m\u001b[0;34m)\u001b[0m\u001b[0;34m}\u001b[0m\u001b[0;34m\u001b[0m\u001b[0m\n\u001b[1;32m    322\u001b[0m \u001b[0;34m\u001b[0m\u001b[0m\n\u001b[0;32m--> 323\u001b[0;31m         \u001b[0mself\u001b[0m\u001b[0;34m.\u001b[0m\u001b[0minsert1\u001b[0m\u001b[0;34m(\u001b[0m\u001b[0mkey\u001b[0m\u001b[0;34m)\u001b[0m\u001b[0;34m\u001b[0m\u001b[0m\n\u001b[0m\u001b[1;32m    324\u001b[0m \u001b[0;34m\u001b[0m\u001b[0m\n\u001b[1;32m    325\u001b[0m \u001b[0;34m\u001b[0m\u001b[0m\n",
      "\u001b[0;32m/usr/local/lib/python3.5/dist-packages/datajoint/base_relation.py\u001b[0m in \u001b[0;36minsert1\u001b[0;34m(self, row, **kwargs)\u001b[0m\n\u001b[1;32m    135\u001b[0m         \u001b[0mFor\u001b[0m \u001b[0mkwargs\u001b[0m\u001b[0;34m,\u001b[0m \u001b[0msee\u001b[0m \u001b[0minsert\u001b[0m\u001b[0;34m(\u001b[0m\u001b[0;34m)\u001b[0m\u001b[0;34m\u001b[0m\u001b[0m\n\u001b[1;32m    136\u001b[0m         \"\"\"\n\u001b[0;32m--> 137\u001b[0;31m         \u001b[0mself\u001b[0m\u001b[0;34m.\u001b[0m\u001b[0minsert\u001b[0m\u001b[0;34m(\u001b[0m\u001b[0;34m(\u001b[0m\u001b[0mrow\u001b[0m\u001b[0;34m,\u001b[0m\u001b[0;34m)\u001b[0m\u001b[0;34m,\u001b[0m \u001b[0;34m**\u001b[0m\u001b[0mkwargs\u001b[0m\u001b[0;34m)\u001b[0m\u001b[0;34m\u001b[0m\u001b[0m\n\u001b[0m\u001b[1;32m    138\u001b[0m \u001b[0;34m\u001b[0m\u001b[0m\n\u001b[1;32m    139\u001b[0m     \u001b[0;32mdef\u001b[0m \u001b[0minsert\u001b[0m\u001b[0;34m(\u001b[0m\u001b[0mself\u001b[0m\u001b[0;34m,\u001b[0m \u001b[0mrows\u001b[0m\u001b[0;34m,\u001b[0m \u001b[0mreplace\u001b[0m\u001b[0;34m=\u001b[0m\u001b[0;32mFalse\u001b[0m\u001b[0;34m,\u001b[0m \u001b[0mskip_duplicates\u001b[0m\u001b[0;34m=\u001b[0m\u001b[0;32mFalse\u001b[0m\u001b[0;34m,\u001b[0m \u001b[0mignore_extra_fields\u001b[0m\u001b[0;34m=\u001b[0m\u001b[0;32mFalse\u001b[0m\u001b[0;34m,\u001b[0m \u001b[0mignore_errors\u001b[0m\u001b[0;34m=\u001b[0m\u001b[0;32mFalse\u001b[0m\u001b[0;34m)\u001b[0m\u001b[0;34m:\u001b[0m\u001b[0;34m\u001b[0m\u001b[0m\n",
      "\u001b[0;32m/usr/local/lib/python3.5/dist-packages/datajoint/base_relation.py\u001b[0m in \u001b[0;36minsert\u001b[0;34m(self, rows, replace, skip_duplicates, ignore_extra_fields, ignore_errors)\u001b[0m\n\u001b[1;32m    278\u001b[0m                                if skip_duplicates else ''))\n\u001b[1;32m    279\u001b[0m                 self.connection.query(query, args=list(\n\u001b[0;32m--> 280\u001b[0;31m                     itertools.chain.from_iterable((v for v in r['values'] if v is not None) for r in rows)))\n\u001b[0m\u001b[1;32m    281\u001b[0m             \u001b[0;32mexcept\u001b[0m \u001b[0;34m(\u001b[0m\u001b[0mOperationalError\u001b[0m\u001b[0;34m,\u001b[0m \u001b[0mInternalError\u001b[0m\u001b[0;34m,\u001b[0m \u001b[0mIntegrityError\u001b[0m\u001b[0;34m)\u001b[0m \u001b[0;32mas\u001b[0m \u001b[0merr\u001b[0m\u001b[0;34m:\u001b[0m\u001b[0;34m\u001b[0m\u001b[0m\n\u001b[1;32m    282\u001b[0m                 \u001b[0;32mif\u001b[0m \u001b[0merr\u001b[0m\u001b[0;34m.\u001b[0m\u001b[0margs\u001b[0m\u001b[0;34m[\u001b[0m\u001b[0;36m0\u001b[0m\u001b[0;34m]\u001b[0m \u001b[0;34m==\u001b[0m \u001b[0mserver_error_codes\u001b[0m\u001b[0;34m[\u001b[0m\u001b[0;34m'command denied'\u001b[0m\u001b[0;34m]\u001b[0m\u001b[0;34m:\u001b[0m\u001b[0;34m\u001b[0m\u001b[0m\n",
      "\u001b[0;32m/usr/local/lib/python3.5/dist-packages/datajoint/connection.py\u001b[0m in \u001b[0;36mquery\u001b[0;34m(self, query, args, as_dict, suppress_warnings)\u001b[0m\n\u001b[1;32m    127\u001b[0m                     \u001b[0;31m# suppress all warnings arising from underlying SQL library\u001b[0m\u001b[0;34m\u001b[0m\u001b[0;34m\u001b[0m\u001b[0m\n\u001b[1;32m    128\u001b[0m                     \u001b[0mwarnings\u001b[0m\u001b[0;34m.\u001b[0m\u001b[0msimplefilter\u001b[0m\u001b[0;34m(\u001b[0m\u001b[0;34m\"ignore\"\u001b[0m\u001b[0;34m)\u001b[0m\u001b[0;34m\u001b[0m\u001b[0m\n\u001b[0;32m--> 129\u001b[0;31m                 \u001b[0mcur\u001b[0m\u001b[0;34m.\u001b[0m\u001b[0mexecute\u001b[0m\u001b[0;34m(\u001b[0m\u001b[0mquery\u001b[0m\u001b[0;34m,\u001b[0m \u001b[0margs\u001b[0m\u001b[0;34m)\u001b[0m\u001b[0;34m\u001b[0m\u001b[0m\n\u001b[0m\u001b[1;32m    130\u001b[0m \u001b[0;34m\u001b[0m\u001b[0m\n\u001b[1;32m    131\u001b[0m         \u001b[0;32mexcept\u001b[0m \u001b[0merr\u001b[0m\u001b[0;34m.\u001b[0m\u001b[0mOperationalError\u001b[0m \u001b[0;32mas\u001b[0m \u001b[0me\u001b[0m\u001b[0;34m:\u001b[0m\u001b[0;34m\u001b[0m\u001b[0m\n",
      "\u001b[0;32m/usr/local/lib/python3.5/dist-packages/pymysql/cursors.py\u001b[0m in \u001b[0;36mexecute\u001b[0;34m(self, query, args)\u001b[0m\n\u001b[1;32m    164\u001b[0m         \u001b[0mquery\u001b[0m \u001b[0;34m=\u001b[0m \u001b[0mself\u001b[0m\u001b[0;34m.\u001b[0m\u001b[0mmogrify\u001b[0m\u001b[0;34m(\u001b[0m\u001b[0mquery\u001b[0m\u001b[0;34m,\u001b[0m \u001b[0margs\u001b[0m\u001b[0;34m)\u001b[0m\u001b[0;34m\u001b[0m\u001b[0m\n\u001b[1;32m    165\u001b[0m \u001b[0;34m\u001b[0m\u001b[0m\n\u001b[0;32m--> 166\u001b[0;31m         \u001b[0mresult\u001b[0m \u001b[0;34m=\u001b[0m \u001b[0mself\u001b[0m\u001b[0;34m.\u001b[0m\u001b[0m_query\u001b[0m\u001b[0;34m(\u001b[0m\u001b[0mquery\u001b[0m\u001b[0;34m)\u001b[0m\u001b[0;34m\u001b[0m\u001b[0m\n\u001b[0m\u001b[1;32m    167\u001b[0m         \u001b[0mself\u001b[0m\u001b[0;34m.\u001b[0m\u001b[0m_executed\u001b[0m \u001b[0;34m=\u001b[0m \u001b[0mquery\u001b[0m\u001b[0;34m\u001b[0m\u001b[0m\n\u001b[1;32m    168\u001b[0m         \u001b[0;32mreturn\u001b[0m \u001b[0mresult\u001b[0m\u001b[0;34m\u001b[0m\u001b[0m\n",
      "\u001b[0;32m/usr/local/lib/python3.5/dist-packages/pymysql/cursors.py\u001b[0m in \u001b[0;36m_query\u001b[0;34m(self, q)\u001b[0m\n\u001b[1;32m    320\u001b[0m         \u001b[0mconn\u001b[0m \u001b[0;34m=\u001b[0m \u001b[0mself\u001b[0m\u001b[0;34m.\u001b[0m\u001b[0m_get_db\u001b[0m\u001b[0;34m(\u001b[0m\u001b[0;34m)\u001b[0m\u001b[0;34m\u001b[0m\u001b[0m\n\u001b[1;32m    321\u001b[0m         \u001b[0mself\u001b[0m\u001b[0;34m.\u001b[0m\u001b[0m_last_executed\u001b[0m \u001b[0;34m=\u001b[0m \u001b[0mq\u001b[0m\u001b[0;34m\u001b[0m\u001b[0m\n\u001b[0;32m--> 322\u001b[0;31m         \u001b[0mconn\u001b[0m\u001b[0;34m.\u001b[0m\u001b[0mquery\u001b[0m\u001b[0;34m(\u001b[0m\u001b[0mq\u001b[0m\u001b[0;34m)\u001b[0m\u001b[0;34m\u001b[0m\u001b[0m\n\u001b[0m\u001b[1;32m    323\u001b[0m         \u001b[0mself\u001b[0m\u001b[0;34m.\u001b[0m\u001b[0m_do_get_result\u001b[0m\u001b[0;34m(\u001b[0m\u001b[0;34m)\u001b[0m\u001b[0;34m\u001b[0m\u001b[0m\n\u001b[1;32m    324\u001b[0m         \u001b[0;32mreturn\u001b[0m \u001b[0mself\u001b[0m\u001b[0;34m.\u001b[0m\u001b[0mrowcount\u001b[0m\u001b[0;34m\u001b[0m\u001b[0m\n",
      "\u001b[0;32m/usr/local/lib/python3.5/dist-packages/pymysql/connections.py\u001b[0m in \u001b[0;36mquery\u001b[0;34m(self, sql, unbuffered)\u001b[0m\n\u001b[1;32m    854\u001b[0m                 \u001b[0msql\u001b[0m \u001b[0;34m=\u001b[0m \u001b[0msql\u001b[0m\u001b[0;34m.\u001b[0m\u001b[0mencode\u001b[0m\u001b[0;34m(\u001b[0m\u001b[0mself\u001b[0m\u001b[0;34m.\u001b[0m\u001b[0mencoding\u001b[0m\u001b[0;34m,\u001b[0m \u001b[0;34m'surrogateescape'\u001b[0m\u001b[0;34m)\u001b[0m\u001b[0;34m\u001b[0m\u001b[0m\n\u001b[1;32m    855\u001b[0m         \u001b[0mself\u001b[0m\u001b[0;34m.\u001b[0m\u001b[0m_execute_command\u001b[0m\u001b[0;34m(\u001b[0m\u001b[0mCOMMAND\u001b[0m\u001b[0;34m.\u001b[0m\u001b[0mCOM_QUERY\u001b[0m\u001b[0;34m,\u001b[0m \u001b[0msql\u001b[0m\u001b[0;34m)\u001b[0m\u001b[0;34m\u001b[0m\u001b[0m\n\u001b[0;32m--> 856\u001b[0;31m         \u001b[0mself\u001b[0m\u001b[0;34m.\u001b[0m\u001b[0m_affected_rows\u001b[0m \u001b[0;34m=\u001b[0m \u001b[0mself\u001b[0m\u001b[0;34m.\u001b[0m\u001b[0m_read_query_result\u001b[0m\u001b[0;34m(\u001b[0m\u001b[0munbuffered\u001b[0m\u001b[0;34m=\u001b[0m\u001b[0munbuffered\u001b[0m\u001b[0;34m)\u001b[0m\u001b[0;34m\u001b[0m\u001b[0m\n\u001b[0m\u001b[1;32m    857\u001b[0m         \u001b[0;32mreturn\u001b[0m \u001b[0mself\u001b[0m\u001b[0;34m.\u001b[0m\u001b[0m_affected_rows\u001b[0m\u001b[0;34m\u001b[0m\u001b[0m\n\u001b[1;32m    858\u001b[0m \u001b[0;34m\u001b[0m\u001b[0m\n",
      "\u001b[0;32m/usr/local/lib/python3.5/dist-packages/pymysql/connections.py\u001b[0m in \u001b[0;36m_read_query_result\u001b[0;34m(self, unbuffered)\u001b[0m\n\u001b[1;32m   1055\u001b[0m         \u001b[0;32melse\u001b[0m\u001b[0;34m:\u001b[0m\u001b[0;34m\u001b[0m\u001b[0m\n\u001b[1;32m   1056\u001b[0m             \u001b[0mresult\u001b[0m \u001b[0;34m=\u001b[0m \u001b[0mMySQLResult\u001b[0m\u001b[0;34m(\u001b[0m\u001b[0mself\u001b[0m\u001b[0;34m)\u001b[0m\u001b[0;34m\u001b[0m\u001b[0m\n\u001b[0;32m-> 1057\u001b[0;31m             \u001b[0mresult\u001b[0m\u001b[0;34m.\u001b[0m\u001b[0mread\u001b[0m\u001b[0;34m(\u001b[0m\u001b[0;34m)\u001b[0m\u001b[0;34m\u001b[0m\u001b[0m\n\u001b[0m\u001b[1;32m   1058\u001b[0m         \u001b[0mself\u001b[0m\u001b[0;34m.\u001b[0m\u001b[0m_result\u001b[0m \u001b[0;34m=\u001b[0m \u001b[0mresult\u001b[0m\u001b[0;34m\u001b[0m\u001b[0m\n\u001b[1;32m   1059\u001b[0m         \u001b[0;32mif\u001b[0m \u001b[0mresult\u001b[0m\u001b[0;34m.\u001b[0m\u001b[0mserver_status\u001b[0m \u001b[0;32mis\u001b[0m \u001b[0;32mnot\u001b[0m \u001b[0;32mNone\u001b[0m\u001b[0;34m:\u001b[0m\u001b[0;34m\u001b[0m\u001b[0m\n",
      "\u001b[0;32m/usr/local/lib/python3.5/dist-packages/pymysql/connections.py\u001b[0m in \u001b[0;36mread\u001b[0;34m(self)\u001b[0m\n\u001b[1;32m   1338\u001b[0m     \u001b[0;32mdef\u001b[0m \u001b[0mread\u001b[0m\u001b[0;34m(\u001b[0m\u001b[0mself\u001b[0m\u001b[0;34m)\u001b[0m\u001b[0;34m:\u001b[0m\u001b[0;34m\u001b[0m\u001b[0m\n\u001b[1;32m   1339\u001b[0m         \u001b[0;32mtry\u001b[0m\u001b[0;34m:\u001b[0m\u001b[0;34m\u001b[0m\u001b[0m\n\u001b[0;32m-> 1340\u001b[0;31m             \u001b[0mfirst_packet\u001b[0m \u001b[0;34m=\u001b[0m \u001b[0mself\u001b[0m\u001b[0;34m.\u001b[0m\u001b[0mconnection\u001b[0m\u001b[0;34m.\u001b[0m\u001b[0m_read_packet\u001b[0m\u001b[0;34m(\u001b[0m\u001b[0;34m)\u001b[0m\u001b[0;34m\u001b[0m\u001b[0m\n\u001b[0m\u001b[1;32m   1341\u001b[0m \u001b[0;34m\u001b[0m\u001b[0m\n\u001b[1;32m   1342\u001b[0m             \u001b[0;32mif\u001b[0m \u001b[0mfirst_packet\u001b[0m\u001b[0;34m.\u001b[0m\u001b[0mis_ok_packet\u001b[0m\u001b[0;34m(\u001b[0m\u001b[0;34m)\u001b[0m\u001b[0;34m:\u001b[0m\u001b[0;34m\u001b[0m\u001b[0m\n",
      "\u001b[0;32m/usr/local/lib/python3.5/dist-packages/pymysql/connections.py\u001b[0m in \u001b[0;36m_read_packet\u001b[0;34m(self, packet_type)\u001b[0m\n\u001b[1;32m   1012\u001b[0m \u001b[0;34m\u001b[0m\u001b[0m\n\u001b[1;32m   1013\u001b[0m         \u001b[0mpacket\u001b[0m \u001b[0;34m=\u001b[0m \u001b[0mpacket_type\u001b[0m\u001b[0;34m(\u001b[0m\u001b[0mbuff\u001b[0m\u001b[0;34m,\u001b[0m \u001b[0mself\u001b[0m\u001b[0;34m.\u001b[0m\u001b[0mencoding\u001b[0m\u001b[0;34m)\u001b[0m\u001b[0;34m\u001b[0m\u001b[0m\n\u001b[0;32m-> 1014\u001b[0;31m         \u001b[0mpacket\u001b[0m\u001b[0;34m.\u001b[0m\u001b[0mcheck_error\u001b[0m\u001b[0;34m(\u001b[0m\u001b[0;34m)\u001b[0m\u001b[0;34m\u001b[0m\u001b[0m\n\u001b[0m\u001b[1;32m   1015\u001b[0m         \u001b[0;32mreturn\u001b[0m \u001b[0mpacket\u001b[0m\u001b[0;34m\u001b[0m\u001b[0m\n\u001b[1;32m   1016\u001b[0m \u001b[0;34m\u001b[0m\u001b[0m\n",
      "\u001b[0;32m/usr/local/lib/python3.5/dist-packages/pymysql/connections.py\u001b[0m in \u001b[0;36mcheck_error\u001b[0;34m(self)\u001b[0m\n\u001b[1;32m    391\u001b[0m             \u001b[0merrno\u001b[0m \u001b[0;34m=\u001b[0m \u001b[0mself\u001b[0m\u001b[0;34m.\u001b[0m\u001b[0mread_uint16\u001b[0m\u001b[0;34m(\u001b[0m\u001b[0;34m)\u001b[0m\u001b[0;34m\u001b[0m\u001b[0m\n\u001b[1;32m    392\u001b[0m             \u001b[0;32mif\u001b[0m \u001b[0mDEBUG\u001b[0m\u001b[0;34m:\u001b[0m \u001b[0mprint\u001b[0m\u001b[0;34m(\u001b[0m\u001b[0;34m\"errno =\"\u001b[0m\u001b[0;34m,\u001b[0m \u001b[0merrno\u001b[0m\u001b[0;34m)\u001b[0m\u001b[0;34m\u001b[0m\u001b[0m\n\u001b[0;32m--> 393\u001b[0;31m             \u001b[0merr\u001b[0m\u001b[0;34m.\u001b[0m\u001b[0mraise_mysql_exception\u001b[0m\u001b[0;34m(\u001b[0m\u001b[0mself\u001b[0m\u001b[0;34m.\u001b[0m\u001b[0m_data\u001b[0m\u001b[0;34m)\u001b[0m\u001b[0;34m\u001b[0m\u001b[0m\n\u001b[0m\u001b[1;32m    394\u001b[0m \u001b[0;34m\u001b[0m\u001b[0m\n\u001b[1;32m    395\u001b[0m     \u001b[0;32mdef\u001b[0m \u001b[0mdump\u001b[0m\u001b[0;34m(\u001b[0m\u001b[0mself\u001b[0m\u001b[0;34m)\u001b[0m\u001b[0;34m:\u001b[0m\u001b[0;34m\u001b[0m\u001b[0m\n",
      "\u001b[0;32m/usr/local/lib/python3.5/dist-packages/pymysql/err.py\u001b[0m in \u001b[0;36mraise_mysql_exception\u001b[0;34m(data)\u001b[0m\n\u001b[1;32m    105\u001b[0m         \u001b[0merrval\u001b[0m \u001b[0;34m=\u001b[0m \u001b[0mdata\u001b[0m\u001b[0;34m[\u001b[0m\u001b[0;36m3\u001b[0m\u001b[0;34m:\u001b[0m\u001b[0;34m]\u001b[0m\u001b[0;34m.\u001b[0m\u001b[0mdecode\u001b[0m\u001b[0;34m(\u001b[0m\u001b[0;34m'utf-8'\u001b[0m\u001b[0;34m,\u001b[0m \u001b[0;34m'replace'\u001b[0m\u001b[0;34m)\u001b[0m\u001b[0;34m\u001b[0m\u001b[0m\n\u001b[1;32m    106\u001b[0m     \u001b[0merrorclass\u001b[0m \u001b[0;34m=\u001b[0m \u001b[0merror_map\u001b[0m\u001b[0;34m.\u001b[0m\u001b[0mget\u001b[0m\u001b[0;34m(\u001b[0m\u001b[0merrno\u001b[0m\u001b[0;34m,\u001b[0m \u001b[0mInternalError\u001b[0m\u001b[0;34m)\u001b[0m\u001b[0;34m\u001b[0m\u001b[0m\n\u001b[0;32m--> 107\u001b[0;31m     \u001b[0;32mraise\u001b[0m \u001b[0merrorclass\u001b[0m\u001b[0;34m(\u001b[0m\u001b[0merrno\u001b[0m\u001b[0;34m,\u001b[0m \u001b[0merrval\u001b[0m\u001b[0;34m)\u001b[0m\u001b[0;34m\u001b[0m\u001b[0m\n\u001b[0m",
      "\u001b[0;31mIntegrityError\u001b[0m: (1048, \"Column 'avg_sigma' cannot be null\")"
     ]
    }
   ],
   "source": [
    "train.CVTrainedModel().populate(liorder='random')"
   ]
  },
  {
   "cell_type": "code",
   "execution_count": null,
   "metadata": {},
   "outputs": [
    {
     "name": "stdout",
     "output_type": "stream",
     "text": [
      "> \u001b[0;32m/usr/local/lib/python3.5/dist-packages/pymysql/err.py\u001b[0m(107)\u001b[0;36mraise_mysql_exception\u001b[0;34m()\u001b[0m\n",
      "\u001b[0;32m    103 \u001b[0;31m        \u001b[0merrval\u001b[0m \u001b[0;34m=\u001b[0m \u001b[0mdata\u001b[0m\u001b[0;34m[\u001b[0m\u001b[0;36m9\u001b[0m\u001b[0;34m:\u001b[0m\u001b[0;34m]\u001b[0m\u001b[0;34m.\u001b[0m\u001b[0mdecode\u001b[0m\u001b[0;34m(\u001b[0m\u001b[0;34m'utf-8'\u001b[0m\u001b[0;34m,\u001b[0m \u001b[0;34m'replace'\u001b[0m\u001b[0;34m)\u001b[0m\u001b[0;34m\u001b[0m\u001b[0m\n",
      "\u001b[0m\u001b[0;32m    104 \u001b[0;31m    \u001b[0;32melse\u001b[0m\u001b[0;34m:\u001b[0m\u001b[0;34m\u001b[0m\u001b[0m\n",
      "\u001b[0m\u001b[0;32m    105 \u001b[0;31m        \u001b[0merrval\u001b[0m \u001b[0;34m=\u001b[0m \u001b[0mdata\u001b[0m\u001b[0;34m[\u001b[0m\u001b[0;36m3\u001b[0m\u001b[0;34m:\u001b[0m\u001b[0;34m]\u001b[0m\u001b[0;34m.\u001b[0m\u001b[0mdecode\u001b[0m\u001b[0;34m(\u001b[0m\u001b[0;34m'utf-8'\u001b[0m\u001b[0;34m,\u001b[0m \u001b[0;34m'replace'\u001b[0m\u001b[0;34m)\u001b[0m\u001b[0;34m\u001b[0m\u001b[0m\n",
      "\u001b[0m\u001b[0;32m    106 \u001b[0;31m    \u001b[0merrorclass\u001b[0m \u001b[0;34m=\u001b[0m \u001b[0merror_map\u001b[0m\u001b[0;34m.\u001b[0m\u001b[0mget\u001b[0m\u001b[0;34m(\u001b[0m\u001b[0merrno\u001b[0m\u001b[0;34m,\u001b[0m \u001b[0mInternalError\u001b[0m\u001b[0;34m)\u001b[0m\u001b[0;34m\u001b[0m\u001b[0m\n",
      "\u001b[0m\u001b[0;32m--> 107 \u001b[0;31m    \u001b[0;32mraise\u001b[0m \u001b[0merrorclass\u001b[0m\u001b[0;34m(\u001b[0m\u001b[0merrno\u001b[0m\u001b[0;34m,\u001b[0m \u001b[0merrval\u001b[0m\u001b[0;34m)\u001b[0m\u001b[0;34m\u001b[0m\u001b[0m\n",
      "\u001b[0m\n",
      "ipdb> u\n",
      "> \u001b[0;32m/usr/local/lib/python3.5/dist-packages/pymysql/connections.py\u001b[0m(393)\u001b[0;36mcheck_error\u001b[0;34m()\u001b[0m\n",
      "\u001b[0;32m    391 \u001b[0;31m            \u001b[0merrno\u001b[0m \u001b[0;34m=\u001b[0m \u001b[0mself\u001b[0m\u001b[0;34m.\u001b[0m\u001b[0mread_uint16\u001b[0m\u001b[0;34m(\u001b[0m\u001b[0;34m)\u001b[0m\u001b[0;34m\u001b[0m\u001b[0m\n",
      "\u001b[0m\u001b[0;32m    392 \u001b[0;31m            \u001b[0;32mif\u001b[0m \u001b[0mDEBUG\u001b[0m\u001b[0;34m:\u001b[0m \u001b[0mprint\u001b[0m\u001b[0;34m(\u001b[0m\u001b[0;34m\"errno =\"\u001b[0m\u001b[0;34m,\u001b[0m \u001b[0merrno\u001b[0m\u001b[0;34m)\u001b[0m\u001b[0;34m\u001b[0m\u001b[0m\n",
      "\u001b[0m\u001b[0;32m--> 393 \u001b[0;31m            \u001b[0merr\u001b[0m\u001b[0;34m.\u001b[0m\u001b[0mraise_mysql_exception\u001b[0m\u001b[0;34m(\u001b[0m\u001b[0mself\u001b[0m\u001b[0;34m.\u001b[0m\u001b[0m_data\u001b[0m\u001b[0;34m)\u001b[0m\u001b[0;34m\u001b[0m\u001b[0m\n",
      "\u001b[0m\u001b[0;32m    394 \u001b[0;31m\u001b[0;34m\u001b[0m\u001b[0m\n",
      "\u001b[0m\u001b[0;32m    395 \u001b[0;31m    \u001b[0;32mdef\u001b[0m \u001b[0mdump\u001b[0m\u001b[0;34m(\u001b[0m\u001b[0mself\u001b[0m\u001b[0;34m)\u001b[0m\u001b[0;34m:\u001b[0m\u001b[0;34m\u001b[0m\u001b[0m\n",
      "\u001b[0m\n",
      "ipdb> u\n",
      "> \u001b[0;32m/usr/local/lib/python3.5/dist-packages/pymysql/connections.py\u001b[0m(1014)\u001b[0;36m_read_packet\u001b[0;34m()\u001b[0m\n",
      "\u001b[0;32m   1012 \u001b[0;31m\u001b[0;34m\u001b[0m\u001b[0m\n",
      "\u001b[0m\u001b[0;32m   1013 \u001b[0;31m        \u001b[0mpacket\u001b[0m \u001b[0;34m=\u001b[0m \u001b[0mpacket_type\u001b[0m\u001b[0;34m(\u001b[0m\u001b[0mbuff\u001b[0m\u001b[0;34m,\u001b[0m \u001b[0mself\u001b[0m\u001b[0;34m.\u001b[0m\u001b[0mencoding\u001b[0m\u001b[0;34m)\u001b[0m\u001b[0;34m\u001b[0m\u001b[0m\n",
      "\u001b[0m\u001b[0;32m-> 1014 \u001b[0;31m        \u001b[0mpacket\u001b[0m\u001b[0;34m.\u001b[0m\u001b[0mcheck_error\u001b[0m\u001b[0;34m(\u001b[0m\u001b[0;34m)\u001b[0m\u001b[0;34m\u001b[0m\u001b[0m\n",
      "\u001b[0m\u001b[0;32m   1015 \u001b[0;31m        \u001b[0;32mreturn\u001b[0m \u001b[0mpacket\u001b[0m\u001b[0;34m\u001b[0m\u001b[0m\n",
      "\u001b[0m\u001b[0;32m   1016 \u001b[0;31m\u001b[0;34m\u001b[0m\u001b[0m\n",
      "\u001b[0m\n",
      "ipdb> u\n",
      "> \u001b[0;32m/usr/local/lib/python3.5/dist-packages/pymysql/connections.py\u001b[0m(1349)\u001b[0;36mread\u001b[0;34m()\u001b[0m\n",
      "\u001b[0;32m   1347 \u001b[0;31m                \u001b[0mself\u001b[0m\u001b[0;34m.\u001b[0m\u001b[0m_read_result_packet\u001b[0m\u001b[0;34m(\u001b[0m\u001b[0mfirst_packet\u001b[0m\u001b[0;34m)\u001b[0m\u001b[0;34m\u001b[0m\u001b[0m\n",
      "\u001b[0m\u001b[0;32m   1348 \u001b[0;31m        \u001b[0;32mfinally\u001b[0m\u001b[0;34m:\u001b[0m\u001b[0;34m\u001b[0m\u001b[0m\n",
      "\u001b[0m\u001b[0;32m-> 1349 \u001b[0;31m            \u001b[0mself\u001b[0m\u001b[0;34m.\u001b[0m\u001b[0mconnection\u001b[0m \u001b[0;34m=\u001b[0m \u001b[0;32mNone\u001b[0m\u001b[0;34m\u001b[0m\u001b[0m\n",
      "\u001b[0m\u001b[0;32m   1350 \u001b[0;31m\u001b[0;34m\u001b[0m\u001b[0m\n",
      "\u001b[0m\u001b[0;32m   1351 \u001b[0;31m    \u001b[0;32mdef\u001b[0m \u001b[0minit_unbuffered_query\u001b[0m\u001b[0;34m(\u001b[0m\u001b[0mself\u001b[0m\u001b[0;34m)\u001b[0m\u001b[0;34m:\u001b[0m\u001b[0;34m\u001b[0m\u001b[0m\n",
      "\u001b[0m\n",
      "ipdb> u\n",
      "> \u001b[0;32m/usr/local/lib/python3.5/dist-packages/pymysql/connections.py\u001b[0m(1057)\u001b[0;36m_read_query_result\u001b[0;34m()\u001b[0m\n",
      "\u001b[0;32m   1055 \u001b[0;31m        \u001b[0;32melse\u001b[0m\u001b[0;34m:\u001b[0m\u001b[0;34m\u001b[0m\u001b[0m\n",
      "\u001b[0m\u001b[0;32m   1056 \u001b[0;31m            \u001b[0mresult\u001b[0m \u001b[0;34m=\u001b[0m \u001b[0mMySQLResult\u001b[0m\u001b[0;34m(\u001b[0m\u001b[0mself\u001b[0m\u001b[0;34m)\u001b[0m\u001b[0;34m\u001b[0m\u001b[0m\n",
      "\u001b[0m\u001b[0;32m-> 1057 \u001b[0;31m            \u001b[0mresult\u001b[0m\u001b[0;34m.\u001b[0m\u001b[0mread\u001b[0m\u001b[0;34m(\u001b[0m\u001b[0;34m)\u001b[0m\u001b[0;34m\u001b[0m\u001b[0m\n",
      "\u001b[0m\u001b[0;32m   1058 \u001b[0;31m        \u001b[0mself\u001b[0m\u001b[0;34m.\u001b[0m\u001b[0m_result\u001b[0m \u001b[0;34m=\u001b[0m \u001b[0mresult\u001b[0m\u001b[0;34m\u001b[0m\u001b[0m\n",
      "\u001b[0m\u001b[0;32m   1059 \u001b[0;31m        \u001b[0;32mif\u001b[0m \u001b[0mresult\u001b[0m\u001b[0;34m.\u001b[0m\u001b[0mserver_status\u001b[0m \u001b[0;32mis\u001b[0m \u001b[0;32mnot\u001b[0m \u001b[0;32mNone\u001b[0m\u001b[0;34m:\u001b[0m\u001b[0;34m\u001b[0m\u001b[0m\n",
      "\u001b[0m\n",
      "ipdb> u\n",
      "> \u001b[0;32m/usr/local/lib/python3.5/dist-packages/pymysql/connections.py\u001b[0m(856)\u001b[0;36mquery\u001b[0;34m()\u001b[0m\n",
      "\u001b[0;32m    854 \u001b[0;31m                \u001b[0msql\u001b[0m \u001b[0;34m=\u001b[0m \u001b[0msql\u001b[0m\u001b[0;34m.\u001b[0m\u001b[0mencode\u001b[0m\u001b[0;34m(\u001b[0m\u001b[0mself\u001b[0m\u001b[0;34m.\u001b[0m\u001b[0mencoding\u001b[0m\u001b[0;34m,\u001b[0m \u001b[0;34m'surrogateescape'\u001b[0m\u001b[0;34m)\u001b[0m\u001b[0;34m\u001b[0m\u001b[0m\n",
      "\u001b[0m\u001b[0;32m    855 \u001b[0;31m        \u001b[0mself\u001b[0m\u001b[0;34m.\u001b[0m\u001b[0m_execute_command\u001b[0m\u001b[0;34m(\u001b[0m\u001b[0mCOMMAND\u001b[0m\u001b[0;34m.\u001b[0m\u001b[0mCOM_QUERY\u001b[0m\u001b[0;34m,\u001b[0m \u001b[0msql\u001b[0m\u001b[0;34m)\u001b[0m\u001b[0;34m\u001b[0m\u001b[0m\n",
      "\u001b[0m\u001b[0;32m--> 856 \u001b[0;31m        \u001b[0mself\u001b[0m\u001b[0;34m.\u001b[0m\u001b[0m_affected_rows\u001b[0m \u001b[0;34m=\u001b[0m \u001b[0mself\u001b[0m\u001b[0;34m.\u001b[0m\u001b[0m_read_query_result\u001b[0m\u001b[0;34m(\u001b[0m\u001b[0munbuffered\u001b[0m\u001b[0;34m=\u001b[0m\u001b[0munbuffered\u001b[0m\u001b[0;34m)\u001b[0m\u001b[0;34m\u001b[0m\u001b[0m\n",
      "\u001b[0m\u001b[0;32m    857 \u001b[0;31m        \u001b[0;32mreturn\u001b[0m \u001b[0mself\u001b[0m\u001b[0;34m.\u001b[0m\u001b[0m_affected_rows\u001b[0m\u001b[0;34m\u001b[0m\u001b[0m\n",
      "\u001b[0m\u001b[0;32m    858 \u001b[0;31m\u001b[0;34m\u001b[0m\u001b[0m\n",
      "\u001b[0m\n",
      "ipdb> u\n",
      "> \u001b[0;32m/usr/local/lib/python3.5/dist-packages/pymysql/cursors.py\u001b[0m(322)\u001b[0;36m_query\u001b[0;34m()\u001b[0m\n",
      "\u001b[0;32m    320 \u001b[0;31m        \u001b[0mconn\u001b[0m \u001b[0;34m=\u001b[0m \u001b[0mself\u001b[0m\u001b[0;34m.\u001b[0m\u001b[0m_get_db\u001b[0m\u001b[0;34m(\u001b[0m\u001b[0;34m)\u001b[0m\u001b[0;34m\u001b[0m\u001b[0m\n",
      "\u001b[0m\u001b[0;32m    321 \u001b[0;31m        \u001b[0mself\u001b[0m\u001b[0;34m.\u001b[0m\u001b[0m_last_executed\u001b[0m \u001b[0;34m=\u001b[0m \u001b[0mq\u001b[0m\u001b[0;34m\u001b[0m\u001b[0m\n",
      "\u001b[0m\u001b[0;32m--> 322 \u001b[0;31m        \u001b[0mconn\u001b[0m\u001b[0;34m.\u001b[0m\u001b[0mquery\u001b[0m\u001b[0;34m(\u001b[0m\u001b[0mq\u001b[0m\u001b[0;34m)\u001b[0m\u001b[0;34m\u001b[0m\u001b[0m\n",
      "\u001b[0m\u001b[0;32m    323 \u001b[0;31m        \u001b[0mself\u001b[0m\u001b[0;34m.\u001b[0m\u001b[0m_do_get_result\u001b[0m\u001b[0;34m(\u001b[0m\u001b[0;34m)\u001b[0m\u001b[0;34m\u001b[0m\u001b[0m\n",
      "\u001b[0m\u001b[0;32m    324 \u001b[0;31m        \u001b[0;32mreturn\u001b[0m \u001b[0mself\u001b[0m\u001b[0;34m.\u001b[0m\u001b[0mrowcount\u001b[0m\u001b[0;34m\u001b[0m\u001b[0m\n",
      "\u001b[0m\n",
      "ipdb> u\n",
      "> \u001b[0;32m/usr/local/lib/python3.5/dist-packages/pymysql/cursors.py\u001b[0m(166)\u001b[0;36mexecute\u001b[0;34m()\u001b[0m\n",
      "\u001b[0;32m    164 \u001b[0;31m        \u001b[0mquery\u001b[0m \u001b[0;34m=\u001b[0m \u001b[0mself\u001b[0m\u001b[0;34m.\u001b[0m\u001b[0mmogrify\u001b[0m\u001b[0;34m(\u001b[0m\u001b[0mquery\u001b[0m\u001b[0;34m,\u001b[0m \u001b[0margs\u001b[0m\u001b[0;34m)\u001b[0m\u001b[0;34m\u001b[0m\u001b[0m\n",
      "\u001b[0m\u001b[0;32m    165 \u001b[0;31m\u001b[0;34m\u001b[0m\u001b[0m\n",
      "\u001b[0m\u001b[0;32m--> 166 \u001b[0;31m        \u001b[0mresult\u001b[0m \u001b[0;34m=\u001b[0m \u001b[0mself\u001b[0m\u001b[0;34m.\u001b[0m\u001b[0m_query\u001b[0m\u001b[0;34m(\u001b[0m\u001b[0mquery\u001b[0m\u001b[0;34m)\u001b[0m\u001b[0;34m\u001b[0m\u001b[0m\n",
      "\u001b[0m\u001b[0;32m    167 \u001b[0;31m        \u001b[0mself\u001b[0m\u001b[0;34m.\u001b[0m\u001b[0m_executed\u001b[0m \u001b[0;34m=\u001b[0m \u001b[0mquery\u001b[0m\u001b[0;34m\u001b[0m\u001b[0m\n",
      "\u001b[0m\u001b[0;32m    168 \u001b[0;31m        \u001b[0;32mreturn\u001b[0m \u001b[0mresult\u001b[0m\u001b[0;34m\u001b[0m\u001b[0m\n",
      "\u001b[0m\n",
      "ipdb> u\n",
      "> \u001b[0;32m/usr/local/lib/python3.5/dist-packages/datajoint/connection.py\u001b[0m(145)\u001b[0;36mquery\u001b[0;34m()\u001b[0m\n",
      "\u001b[0;32m    143 \u001b[0;31m            \u001b[0mprint\u001b[0m\u001b[0;34m(\u001b[0m\u001b[0;34m'Error in query:'\u001b[0m\u001b[0;34m)\u001b[0m\u001b[0;34m\u001b[0m\u001b[0m\n",
      "\u001b[0m\u001b[0;32m    144 \u001b[0;31m            \u001b[0mprint\u001b[0m\u001b[0;34m(\u001b[0m\u001b[0mquery\u001b[0m\u001b[0;34m)\u001b[0m\u001b[0;34m\u001b[0m\u001b[0m\n",
      "\u001b[0m\u001b[0;32m--> 145 \u001b[0;31m            \u001b[0;32mraise\u001b[0m\u001b[0;34m\u001b[0m\u001b[0m\n",
      "\u001b[0m\u001b[0;32m    146 \u001b[0;31m        \u001b[0;32mreturn\u001b[0m \u001b[0mcur\u001b[0m\u001b[0;34m\u001b[0m\u001b[0m\n",
      "\u001b[0m\u001b[0;32m    147 \u001b[0;31m\u001b[0;34m\u001b[0m\u001b[0m\n",
      "\u001b[0m\n",
      "ipdb> u\n",
      "> \u001b[0;32m/usr/local/lib/python3.5/dist-packages/datajoint/base_relation.py\u001b[0m(292)\u001b[0;36minsert\u001b[0;34m()\u001b[0m\n",
      "\u001b[0;32m    290 \u001b[0;31m                        '{} : To ignore duplicate entries, set skip_duplicates=True in insert.'.format(err.args[1])) from None\n",
      "\u001b[0m\u001b[0;32m    291 \u001b[0;31m                \u001b[0;32melse\u001b[0m\u001b[0;34m:\u001b[0m\u001b[0;34m\u001b[0m\u001b[0m\n",
      "\u001b[0m\u001b[0;32m--> 292 \u001b[0;31m                    \u001b[0;32mraise\u001b[0m\u001b[0;34m\u001b[0m\u001b[0m\n",
      "\u001b[0m\u001b[0;32m    293 \u001b[0;31m\u001b[0;34m\u001b[0m\u001b[0m\n",
      "\u001b[0m\u001b[0;32m    294 \u001b[0;31m    \u001b[0;32mdef\u001b[0m \u001b[0mdelete_quick\u001b[0m\u001b[0;34m(\u001b[0m\u001b[0mself\u001b[0m\u001b[0;34m)\u001b[0m\u001b[0;34m:\u001b[0m\u001b[0;34m\u001b[0m\u001b[0m\n",
      "\u001b[0m\n",
      "ipdb> u\n",
      "> \u001b[0;32m/usr/local/lib/python3.5/dist-packages/datajoint/base_relation.py\u001b[0m(137)\u001b[0;36minsert1\u001b[0;34m()\u001b[0m\n",
      "\u001b[0;32m    135 \u001b[0;31m        \u001b[0mFor\u001b[0m \u001b[0mkwargs\u001b[0m\u001b[0;34m,\u001b[0m \u001b[0msee\u001b[0m \u001b[0minsert\u001b[0m\u001b[0;34m(\u001b[0m\u001b[0;34m)\u001b[0m\u001b[0;34m\u001b[0m\u001b[0m\n",
      "\u001b[0m\u001b[0;32m    136 \u001b[0;31m        \"\"\"\n",
      "\u001b[0m\u001b[0;32m--> 137 \u001b[0;31m        \u001b[0mself\u001b[0m\u001b[0;34m.\u001b[0m\u001b[0minsert\u001b[0m\u001b[0;34m(\u001b[0m\u001b[0;34m(\u001b[0m\u001b[0mrow\u001b[0m\u001b[0;34m,\u001b[0m\u001b[0;34m)\u001b[0m\u001b[0;34m,\u001b[0m \u001b[0;34m**\u001b[0m\u001b[0mkwargs\u001b[0m\u001b[0;34m)\u001b[0m\u001b[0;34m\u001b[0m\u001b[0m\n",
      "\u001b[0m\u001b[0;32m    138 \u001b[0;31m\u001b[0;34m\u001b[0m\u001b[0m\n",
      "\u001b[0m\u001b[0;32m    139 \u001b[0;31m    \u001b[0;32mdef\u001b[0m \u001b[0minsert\u001b[0m\u001b[0;34m(\u001b[0m\u001b[0mself\u001b[0m\u001b[0;34m,\u001b[0m \u001b[0mrows\u001b[0m\u001b[0;34m,\u001b[0m \u001b[0mreplace\u001b[0m\u001b[0;34m=\u001b[0m\u001b[0;32mFalse\u001b[0m\u001b[0;34m,\u001b[0m \u001b[0mskip_duplicates\u001b[0m\u001b[0;34m=\u001b[0m\u001b[0;32mFalse\u001b[0m\u001b[0;34m,\u001b[0m \u001b[0mignore_extra_fields\u001b[0m\u001b[0;34m=\u001b[0m\u001b[0;32mFalse\u001b[0m\u001b[0;34m,\u001b[0m \u001b[0mignore_errors\u001b[0m\u001b[0;34m=\u001b[0m\u001b[0;32mFalse\u001b[0m\u001b[0;34m)\u001b[0m\u001b[0;34m:\u001b[0m\u001b[0;34m\u001b[0m\u001b[0m\n",
      "\u001b[0m\n",
      "ipdb> u\n",
      "> \u001b[0;32m/src/v1_likelihood/v1_likelihood/train.py\u001b[0m(323)\u001b[0;36m_make_tuples\u001b[0;34m()\u001b[0m\n",
      "\u001b[0;32m    321 \u001b[0;31m        \u001b[0mkey\u001b[0m\u001b[0;34m[\u001b[0m\u001b[0;34m'model'\u001b[0m\u001b[0;34m]\u001b[0m \u001b[0;34m=\u001b[0m \u001b[0;34m{\u001b[0m\u001b[0mk\u001b[0m\u001b[0;34m:\u001b[0m \u001b[0mv\u001b[0m\u001b[0;34m.\u001b[0m\u001b[0mcpu\u001b[0m\u001b[0;34m(\u001b[0m\u001b[0;34m)\u001b[0m\u001b[0;34m.\u001b[0m\u001b[0mnumpy\u001b[0m\u001b[0;34m(\u001b[0m\u001b[0;34m)\u001b[0m \u001b[0;32mfor\u001b[0m \u001b[0mk\u001b[0m\u001b[0;34m,\u001b[0m \u001b[0mv\u001b[0m \u001b[0;32min\u001b[0m \u001b[0mnet\u001b[0m\u001b[0;34m.\u001b[0m\u001b[0mstate_dict\u001b[0m\u001b[0;34m(\u001b[0m\u001b[0;34m)\u001b[0m\u001b[0;34m.\u001b[0m\u001b[0mitems\u001b[0m\u001b[0;34m(\u001b[0m\u001b[0;34m)\u001b[0m\u001b[0;34m}\u001b[0m\u001b[0;34m\u001b[0m\u001b[0m\n",
      "\u001b[0m\u001b[0;32m    322 \u001b[0;31m\u001b[0;34m\u001b[0m\u001b[0m\n",
      "\u001b[0m\u001b[0;32m--> 323 \u001b[0;31m        \u001b[0mself\u001b[0m\u001b[0;34m.\u001b[0m\u001b[0minsert1\u001b[0m\u001b[0;34m(\u001b[0m\u001b[0mkey\u001b[0m\u001b[0;34m)\u001b[0m\u001b[0;34m\u001b[0m\u001b[0m\n",
      "\u001b[0m\u001b[0;32m    324 \u001b[0;31m\u001b[0;34m\u001b[0m\u001b[0m\n",
      "\u001b[0m\u001b[0;32m    325 \u001b[0;31m\u001b[0;34m\u001b[0m\u001b[0m\n",
      "\u001b[0m\n"
     ]
    },
    {
     "name": "stdout",
     "output_type": "stream",
     "text": [
      "ipdb> key\n",
      "{'train_seed': 8, 'param_id': '1c9d087d1acc2030f44c97c5ca288485', 'model_id': '52d710e0dc1cff3d59fb94fff0499f88', 'avg_sigma': nan, 'dataset_contrast': '0.005', 'cnn_testset_score': 19.046865064442201, 'cv_seed': 35, 'cv_fraction': Decimal('0.800'), 'model': {'ro_layer.weight': array([[ nan,  nan,  nan, ...,  nan,  nan,  nan],\n",
      "       [ nan,  nan,  nan, ...,  nan,  nan,  nan],\n",
      "       [ nan,  nan,  nan, ...,  nan,  nan,  nan],\n",
      "       ..., \n",
      "       [ nan,  nan,  nan, ...,  nan,  nan,  nan],\n",
      "       [ nan,  nan,  nan, ...,  nan,  nan,  nan],\n",
      "       [ nan,  nan,  nan, ...,  nan,  nan,  nan]], dtype=float32), 'hiddens.3.bias': array([ -3.53210175e+02,              nan,  -2.48155155e+01,\n",
      "         6.48050558e+36,  -2.83248292e+10,  -1.25473941e+12,\n",
      "        -2.16099780e+03,              nan,  -4.80203940e+10,\n",
      "        -2.95642422e+32,  -4.03827789e+09,  -5.95515930e+02,\n",
      "        -4.63004828e+11,              nan,  -7.63338906e+04,\n",
      "        -1.37200069e+30,  -3.96425921e+11,  -8.91210709e+01,\n",
      "        -3.26453674e+02,             -inf,  -1.09463218e+13,\n",
      "        -1.17256288e+13,  -3.65660703e+04,   1.25114676e+34,\n",
      "        -3.78664436e+01,  -1.88592279e+12,  -9.23958719e+12,\n",
      "        -2.28215680e+07,  -3.07953950e+06,  -5.90207188e+04,\n",
      "        -4.46511230e+01,  -1.64422779e+01,  -2.18263817e+01,\n",
      "                    nan,  -4.18961654e+11,   4.76825876e+33,\n",
      "        -5.34437030e+30,  -3.29104996e+01,   5.37636431e+32,\n",
      "        -3.08531343e+10,  -1.11888525e+06,  -9.97312922e+10,\n",
      "        -4.21481800e+00,  -7.42948096e+08,              nan,\n",
      "        -7.29624543e+11,  -2.90998650e+01,              nan,\n",
      "         4.41659626e+31,             -inf,  -1.66640943e+12,\n",
      "         8.72531630e+32,  -4.24589462e+01,  -1.84534167e+03,\n",
      "        -1.39819899e+10,  -3.09409668e+02,  -5.29147625e+11,\n",
      "        -3.47068115e+03,  -4.11092582e+11,  -4.43759460e+12,\n",
      "                    nan,  -6.38451080e+07,  -3.22101641e+11,\n",
      "         1.15069560e+34,   7.18507703e+33,  -1.45364539e+32,\n",
      "        -3.40795575e+06,  -2.34942322e+02,  -4.70163866e+09,\n",
      "        -3.56265198e+11,  -2.80883312e+01,  -1.64734137e+00,\n",
      "        -9.41349125e+05,  -1.27953289e+05,   4.89601077e+33,\n",
      "        -1.47053065e+35,  -2.15671924e+03,              nan,\n",
      "        -2.87489629e+12,  -2.41374790e+29,              nan,\n",
      "                    nan,  -2.10676441e+01,  -7.03101469e+11,\n",
      "        -1.19503868e+02,  -2.66338079e+10,  -1.80778064e+03,\n",
      "        -9.65252593e-02,  -1.18490374e+31,  -2.35615381e+03,\n",
      "        -1.19976978e+33,   3.84747927e+33,  -3.36251297e+01,\n",
      "        -1.34312582e+01,  -6.60881348e+01,  -2.20974049e+12,\n",
      "                   -inf,   1.97982500e+34,   1.14482675e+33,\n",
      "        -9.72474663e+29,  -1.01839253e+13,              nan,\n",
      "         3.87720499e+33,   3.24418342e+33,             -inf,\n",
      "        -5.13080330e+01,  -2.62459351e+03,   2.84083193e+36,\n",
      "        -2.43832340e+11,  -6.48844238e+03,   3.89015978e+30,\n",
      "        -1.09202260e+11,  -2.19561702e+09,  -1.96616724e+33,\n",
      "        -9.78311340e+02,  -4.95135107e+03,  -9.20665653e+11,\n",
      "        -4.81352493e+30,  -1.08324048e+03,  -5.89759789e+01,\n",
      "        -2.52213887e+04,  -4.80237122e+01,  -6.17058563e+00,\n",
      "        -1.51114551e+03,              nan,  -1.31878787e+12,\n",
      "        -2.52654073e+12,  -3.29736061e+11,  -1.72168083e+01,\n",
      "        -1.11139286e+33,  -3.51714148e+12,  -5.92439003e+01,\n",
      "        -4.42820978e+00,  -5.33430147e+00,  -2.15669520e+08,\n",
      "        -6.13181397e+12,  -9.42342472e+11,  -1.62866192e+01,\n",
      "         2.11679913e+32,  -1.22818803e+09,  -8.01458671e+12,\n",
      "         4.48039785e+32,  -1.99412632e+01,  -5.72140600e+07,\n",
      "         5.63674023e+33,  -4.96719718e+09,  -5.57701969e+32,\n",
      "        -4.36435242e+01,  -4.08570266e+09,  -2.60032356e+35,\n",
      "        -2.38419510e+02,  -2.97385945e+32,  -3.76738846e-01,\n",
      "        -2.97350235e+01,  -4.94611750e+06,  -5.69536466e+12,\n",
      "         4.89107386e+33,  -9.10661963e+31,   7.71826832e+33,\n",
      "        -3.43120933e+00,  -3.09166384e+00,  -2.16101988e+29,\n",
      "        -4.41311462e+02,              nan,  -1.05010757e+30,\n",
      "                   -inf,              nan,              nan,\n",
      "                    nan,              nan,  -2.04078465e+01,\n",
      "                    nan,  -2.32137008e+08,  -3.49933928e+11,\n",
      "        -1.70425918e+04,  -4.11213951e+01,  -3.48925081e+29,\n",
      "        -1.16329235e+32,  -1.01117194e+10,              nan,\n",
      "         3.32536300e+31,  -2.16377262e+12,              nan,\n",
      "        -1.65236862e+02,              nan,             -inf,\n",
      "        -4.22706604e+01,  -3.53636551e+36,  -3.60032272e+01,\n",
      "        -1.28709388e+31,  -7.68760955e+10,   1.18810751e+31,\n",
      "        -1.42264855e+00,  -1.05974622e+12,  -5.49959526e+01,\n",
      "         9.86466834e+32,   2.97084598e+31,  -5.20853547e+12,\n",
      "                    nan,  -7.39958880e+31,  -1.84237969e+04,\n",
      "        -4.19627304e+01,  -4.17662239e+12,  -1.28475904e+09,\n",
      "                    nan,  -8.66597409e+32,  -7.92219971e+02,\n",
      "        -5.69684639e+01,  -3.48292707e+30,  -1.22992751e+30,\n",
      "        -9.12394289e+11,  -4.36275062e+05,  -6.17640137e+02,\n",
      "         5.87491618e+33,   1.38575441e+34,              nan,\n",
      "        -1.16232397e+03,  -1.04709692e+12,  -7.80720136e+31,\n",
      "         1.41760488e+34,  -3.66720975e+12,   1.01230396e+33,\n",
      "        -7.62897581e-02,  -1.06976757e+01,  -5.53253601e+12,\n",
      "                    nan,   4.82626244e+33,  -6.75595886e+02,\n",
      "        -3.53781090e+01,  -2.06625957e+01,  -1.54923216e+08,\n",
      "        -4.50396094e+04,  -4.15371895e+00,  -1.51898948e+12,\n",
      "        -4.13311872e+08,  -7.41282898e+02,              nan,\n",
      "        -2.94946918e+01,   2.85427224e+33,  -2.77841930e+01,\n",
      "        -3.94740708e+12,              nan,  -2.44163498e-01,\n",
      "        -4.11400039e+04,   2.39287888e+37,  -1.76970416e+08,\n",
      "        -2.88003064e+12,  -4.47765729e+33,  -1.17416290e+12,\n",
      "        -2.82896633e+01,  -1.98953472e+10,  -6.57095270e+10,\n",
      "        -2.24093918e+02,  -3.70533414e+12,  -5.21010000e+04,\n",
      "                    nan,  -3.54579840e+08,  -1.33428664e+08,\n",
      "        -6.89317872e+12,              nan,  -4.02759595e+03,\n",
      "        -2.98363047e+12,  -4.62028564e+02,  -1.02989145e+33,\n",
      "                    nan,  -1.36455000e+06,  -1.23974304e+29,\n",
      "        -1.21782296e+08,              nan,  -4.16478233e+11,\n",
      "        -5.78541260e+01,  -1.54466138e+09,  -9.07111808e+08,\n",
      "        -1.88486602e+30,   7.47191291e+30,  -7.22299881e+01,\n",
      "                    nan,  -2.30881744e+08,   1.50440153e+33,\n",
      "        -4.16163101e+01,  -2.11821274e+02,  -1.36493558e+30,\n",
      "        -4.00877457e+01,  -2.07141536e+08,   1.36810526e+33,\n",
      "        -1.14883187e+09,  -5.17543716e+12,  -3.68630851e+12,\n",
      "        -4.89915085e+01,  -2.94851416e+03,  -7.45994970e+32,\n",
      "        -1.58198272e+08,   9.88172376e+28,  -1.24373299e+02,\n",
      "        -6.01379111e+11,  -1.37549231e+03,              nan,\n",
      "        -3.80226535e+11,  -9.93451938e+05,  -7.96649759e+36,\n",
      "        -6.60102478e+02,  -7.09717613e+30,  -9.27867798e+11,\n",
      "        -2.57006607e+12,  -2.91697144e+03,  -6.25532455e+01,\n",
      "                    nan,  -2.27344043e+03,  -2.55579824e+30,\n",
      "        -1.09149370e+01,   6.08865697e+30,  -4.43965197e+00,\n",
      "                    nan,  -6.61528773e+11,  -2.59763340e+04,\n",
      "                    nan,  -7.90332718e+01,  -6.47414551e+01,\n",
      "        -1.37211300e+07,  -1.96476868e+03,              nan,\n",
      "        -5.43986688e+10,   1.78291947e+33,              nan,\n",
      "        -4.09843201e+02,  -6.38153934e+00,  -5.91369690e+02,\n",
      "         5.88513662e+33,  -3.75584297e+04,              nan,\n",
      "        -2.22587166e+01,  -9.52099039e+12,              nan,\n",
      "        -1.44550752e+13,              nan,  -3.37935598e+12,\n",
      "        -8.14019018e+30,   1.58077641e+32,  -1.83157539e+01,\n",
      "        -1.21767899e+02,  -1.11567383e+03,  -1.05654625e+02,\n",
      "        -2.77237034e+01,  -4.31769887e+10,   2.18407765e+33,\n",
      "        -3.19758423e+03,   5.06246101e+32,  -1.92310696e+01,\n",
      "        -1.55105762e+03,  -7.10572612e+12,  -2.43906433e+02,\n",
      "        -3.38098770e+10,   9.97702239e+33,              nan,\n",
      "        -3.47172760e+02,  -1.46113937e+32,  -1.65466709e+01,\n",
      "        -4.15848386e+12,  -1.49185486e+01,              nan,\n",
      "        -6.48935852e+02,   1.29998389e+33,  -3.06097778e+03,\n",
      "        -5.02077576e+02,              nan,  -2.36259456e+12,\n",
      "        -2.09085327e+03,  -7.58596649e+01,  -3.38433566e+12,\n",
      "        -4.17827422e+04,   5.15486260e+31,  -2.54277402e+04,\n",
      "        -3.06219293e+12,  -6.36023086e+04,   2.99724500e+37,\n",
      "        -9.01327946e+11,  -7.41399062e+04,  -1.88835735e+01,\n",
      "        -1.59048991e+12,              nan,   1.72959938e+33,\n",
      "                    nan,             -inf,  -3.69818408e+03,\n",
      "                    nan,  -4.16659320e+07,  -2.02933925e+06,\n",
      "        -9.01229829e-02,              nan,  -9.22071457e+01,\n",
      "         1.76852114e+31,   1.24113714e+34,  -9.48032109e+04,\n",
      "         1.09749118e+33,              nan,  -3.68280666e+11,\n",
      "                    nan,  -1.50535812e+02,  -2.82182758e+10,\n",
      "        -9.44724917e-01,  -1.49313908e+01,  -2.34171715e+01,\n",
      "        -1.54079285e+03,  -3.30403824e+01,   1.88485362e+30,\n",
      "        -9.47831040e+07,  -1.64839996e+02,              nan,\n",
      "        -2.17280102e+30,   7.59677302e+32,  -2.34233551e+02,\n",
      "         2.55580337e+31,   3.54240193e+31,  -5.41845886e+02,\n",
      "        -1.54179994e+12,  -1.82256982e-01,  -9.22881562e+04,\n",
      "        -7.27289561e+11,  -8.08357986e+12,  -2.98394512e+04,\n",
      "        -2.10975520e+07,  -1.70235262e+06,  -7.96388250e+09,\n",
      "        -5.31034184e+00,              nan,             -inf,\n",
      "        -6.68558976e+08,  -2.07641235e+12,  -1.08338440e+02,\n",
      "        -4.11313629e+01,  -2.00355588e+06,   7.80170153e+29,\n",
      "        -3.59113000e+05,   2.26284623e+33,  -6.01894305e+30,\n",
      "        -1.40158108e+12,   5.45407599e+33,  -3.16708435e+12,\n",
      "        -1.17980919e+01,              nan,  -2.10185947e+31,\n",
      "        -3.26693583e+00,  -7.40777731e+00,             -inf,\n",
      "        -5.73642240e+09,              nan,  -3.27681248e+08,\n",
      "         3.96464998e+33,  -6.05774016e+08,  -2.24141783e+30,\n",
      "        -2.10512527e+02,  -2.33143585e+02,              nan,\n",
      "        -2.61575813e+01,              nan,  -1.17374036e+03,\n",
      "        -3.89360327e+03,  -7.34945922e+12,  -2.56101764e+12,\n",
      "        -1.06991638e+03,  -7.19979660e+32,  -8.61076294e+02,\n",
      "        -8.98322294e+12,   3.39187277e+33,  -1.37630164e+03,\n",
      "         1.20465456e+31,  -4.01457422e+03,             -inf,\n",
      "                    nan,  -5.90886155e+12,              nan,\n",
      "        -1.95641309e+04,  -8.50980880e+07,  -9.08446191e+12,\n",
      "        -4.93094093e+10,  -1.16215424e+02,  -1.52703057e+04,\n",
      "        -6.34914687e+32,  -2.15994519e+12,  -3.00564544e+08,\n",
      "        -3.40885735e+01,  -4.85386816e+03,  -1.50600960e+09,\n",
      "        -2.41816751e+32,              nan,  -1.45151006e+04,\n",
      "        -2.41054472e+28,  -3.86556411e+00,  -1.04002591e+13,\n",
      "        -4.73576250e+06,  -1.32371106e+03,   9.64233854e+30,\n",
      "        -9.71133728e+02,  -4.71192800e+07,              nan,\n",
      "        -1.80157872e+08,   1.37032324e+34,  -1.90373206e+12,\n",
      "        -1.43345662e+06,   2.25077507e+29], dtype=float32), 'ro_layer.bias': array([ nan,  nan,  nan,  nan,  nan,  nan,  nan,  nan,  nan,  nan,  nan,\n",
      "        nan,  nan,  nan,  nan,  nan,  nan,  nan,  nan,  nan,  nan,  nan,\n",
      "        nan,  nan,  nan,  nan,  nan,  nan,  nan,  nan,  nan,  nan,  nan,\n",
      "        nan,  nan,  nan,  nan,  nan,  nan,  nan,  nan,  nan,  nan,  nan,\n",
      "        nan,  nan,  nan,  nan,  nan,  nan,  nan,  nan,  nan,  nan,  nan,\n",
      "        nan,  nan,  nan,  nan,  nan,  nan], dtype=float32), 'hiddens.3.weight': array([[-0.00244773,  0.00126748, -0.02467888, ..., -0.00029986,\n",
      "         0.00109663, -0.01344741],\n",
      "       [        nan,         nan,         nan, ...,         nan,\n",
      "                nan,         nan],\n",
      "       [-0.00069482,  0.00293491, -0.01471621, ..., -0.00059992,\n",
      "         0.00183354, -0.00837261],\n",
      "       ..., \n",
      "       [-0.00140866, -0.0004015 , -0.01834051, ..., -0.00134441,\n",
      "        -0.00043433, -0.00898014],\n",
      "       [ 0.00062224,  0.00133725,  0.00092614, ...,  0.00059808,\n",
      "        -0.00151104, -0.00043081],\n",
      "       [-0.00257294, -0.0011724 , -0.02249718, ..., -0.0001785 ,\n",
      "        -0.00195956, -0.01266068]], dtype=float32), 'hiddens.0.weight': array([[ -9.63260885e-03,  -6.89084467e-04,  -3.38765967e-04, ...,\n",
      "         -2.04646843e-03,  -2.95524169e-02,   1.37270498e-03],\n",
      "       [  1.92451582e-03,   9.63183644e-04,   8.18987755e-05, ...,\n",
      "         -6.28903857e-04,  -7.13531801e-04,  -3.37974256e-04],\n",
      "       [ -8.83353800e-02,  -3.70096124e-04,  -8.45392118e-04, ...,\n",
      "         -8.01425986e-03,  -3.09562057e-01,  -1.53376619e-04],\n",
      "       ..., \n",
      "       [ -1.02200313e-03,  -1.13903789e-03,  -2.57238979e-03, ...,\n",
      "          7.52647407e-04,  -1.24944700e-03,  -3.33863136e-05],\n",
      "       [             nan,              nan,              nan, ...,\n",
      "                     nan,              nan,              nan],\n",
      "       [ -5.60496785e-02,  -2.94346968e-03,   7.93935615e-05, ...,\n",
      "         -5.09908376e-03,  -1.85876623e-01,  -6.61099737e-04]], dtype=float32), 'hiddens.0.bias': array([ -9.91304871e-04,   0.00000000e+00,  -1.09549593e-02,\n",
      "         0.00000000e+00,  -9.49232467e-03,  -2.45422088e-02,\n",
      "        -6.20521678e-05,  -6.22682534e-02,  -2.79463275e-05,\n",
      "        -2.45547071e-02,  -2.62647427e-05,  -8.96501318e-02,\n",
      "        -9.90185188e-04,  -8.00596997e-02,  -1.31425286e-05,\n",
      "        -6.16291817e-03,   0.00000000e+00,   0.00000000e+00,\n",
      "         0.00000000e+00,   0.00000000e+00,  -6.50514849e-05,\n",
      "        -7.63581702e-05,   0.00000000e+00,  -1.10964209e-03,\n",
      "        -1.47680894e-05,  -3.74327507e-03,  -7.08497092e-02,\n",
      "        -2.47094868e-05,   0.00000000e+00,  -4.90078256e-02,\n",
      "        -1.84494602e-05,  -2.12040376e-02,  -5.97085280e-04,\n",
      "        -3.69793288e-02,  -7.04801306e-02,   0.00000000e+00,\n",
      "        -1.48246845e-05,   0.00000000e+00,  -1.32076530e-04,\n",
      "        -4.49936911e-02,  -1.38901314e-02,  -3.78454824e-05,\n",
      "        -7.53687462e-04,  -1.00499274e-05,  -7.38131785e-05,\n",
      "        -2.21944153e-02,  -1.62024759e-02,  -2.54996102e-02,\n",
      "        -1.56317395e-03,  -3.31025149e-06,              nan,\n",
      "        -1.86351649e-02,  -6.18352851e-06,   0.00000000e+00,\n",
      "         0.00000000e+00,  -3.46022307e-06,   0.00000000e+00,\n",
      "        -1.04177263e-04,   0.00000000e+00,  -2.64689660e+07,\n",
      "        -1.09672974e-05,  -6.40743237e-04,   0.00000000e+00,\n",
      "         0.00000000e+00,  -4.36048867e-06,  -5.35149910e-02,\n",
      "        -6.79203510e-01,   0.00000000e+00,  -1.66609287e-02,\n",
      "         0.00000000e+00,  -1.35748915e-03,  -1.09046297e-04,\n",
      "        -7.27620909e-06,  -1.03205584e-05,  -3.76524690e-06,\n",
      "         0.00000000e+00,  -2.20870972e-02,  -1.73887620e-05,\n",
      "        -1.84163302e-02,  -3.27967852e-02,   0.00000000e+00,\n",
      "        -6.02614768e-02,   0.00000000e+00,  -1.02062387e+09,\n",
      "        -1.02725178e-02,   0.00000000e+00,  -1.28301764e-02,\n",
      "        -5.47455747e-05,  -1.46693073e-05,   0.00000000e+00,\n",
      "        -1.62208993e-02,  -4.63196325e+00,  -2.71636341e-03,\n",
      "         0.00000000e+00,  -9.45939962e-03,  -3.90647501e-02,\n",
      "        -7.75251028e-05,  -2.32732520e-02,   0.00000000e+00,\n",
      "        -2.01241592e+02,  -1.34125426e-02,  -2.07272395e-02,\n",
      "        -1.86607031e-05,  -1.19999927e-02,  -1.21269068e-06,\n",
      "        -8.99309386e-03,   0.00000000e+00,  -5.44604563e-06,\n",
      "        -3.06667614e-04,  -1.46774645e-03,  -1.27392723e-05,\n",
      "        -4.25694622e-02,  -2.36830432e-02,  -4.93988115e-03,\n",
      "        -4.33184803e-02,  -1.39899001e-01,  -4.67565004e-03,\n",
      "        -2.84967525e-03,  -1.56912319e-02,   0.00000000e+00,\n",
      "        -2.58498024e-02,  -1.43036719e+04,   0.00000000e+00,\n",
      "        -2.81579187e-03,  -1.10060489e-02,  -1.94168781e-04,\n",
      "        -4.14694175e-02,   0.00000000e+00,  -3.81358038e-03,\n",
      "        -8.89042579e-03,   0.00000000e+00,  -1.40813151e-02,\n",
      "        -3.40168178e-02,  -3.16535728e-03,  -3.94335331e-07,\n",
      "         0.00000000e+00,   0.00000000e+00,  -1.44480625e-02,\n",
      "         0.00000000e+00,  -4.76776804e-05,  -6.99893717e-05,\n",
      "        -4.70961604e-05,  -4.87513393e-02,  -3.17920325e-03,\n",
      "         0.00000000e+00,  -4.07981407e-03,  -2.93479394e-02,\n",
      "        -6.07902706e-02,   0.00000000e+00,  -8.50424927e+02,\n",
      "        -2.70123519e-02,  -4.18009050e-02,  -1.21105977e-05,\n",
      "        -5.13917860e-03,  -3.16044576e-02,  -7.37894047e-03,\n",
      "        -9.13248223e-05,  -1.98860071e-03,  -9.52422125e+05,\n",
      "        -2.92272489e-05,  -4.25071667e-05,  -3.39060556e-03,\n",
      "        -1.10233761e-02,  -3.58220674e-02,  -2.37178802e-02,\n",
      "        -6.38289339e-06,  -1.27292599e-03,  -2.66202983e-06,\n",
      "         0.00000000e+00,  -5.50354505e-03,  -3.31373521e-05,\n",
      "        -5.04251570e-02,  -1.34272763e-04,  -8.14048908e-05,\n",
      "        -8.18126649e-03,   0.00000000e+00,  -6.38733560e+07,\n",
      "        -9.58414935e-03,   0.00000000e+00,  -3.43485408e-05,\n",
      "        -6.45111186e-06,  -2.98320723e-04,  -2.14332547e-02,\n",
      "        -7.42339343e-03,   0.00000000e+00,  -2.39862185e-02,\n",
      "        -4.57343133e-03,  -4.42104228e-02,              nan,\n",
      "        -1.29213352e-02,  -2.95831152e-04,  -5.31937294e-02,\n",
      "        -8.31707101e-03,  -9.25317500e-03,  -2.84878048e-03,\n",
      "        -2.77660583e-05,  -1.63898658e-05,  -1.76037569e-02,\n",
      "        -4.70075065e-05,  -5.75884804e-02,  -7.19410718e-06,\n",
      "        -1.06515363e-05,  -8.65831862e-06,  -2.43730042e-02,\n",
      "        -7.97587559e-02,   0.00000000e+00,  -7.36691356e-02,\n",
      "        -3.47008854e-02,  -1.51115854e-03,  -1.65637084e-05,\n",
      "                    nan,  -5.21732763e-05,  -1.21253524e-02,\n",
      "        -5.46742305e-02,   0.00000000e+00,  -1.57108135e-03,\n",
      "        -1.73407127e-04,   0.00000000e+00,  -2.62482408e-05,\n",
      "        -9.15647761e-05,  -9.49515775e-03,  -2.08497164e-03,\n",
      "         0.00000000e+00,  -1.40494679e-03,  -3.94460112e-05,\n",
      "        -4.05734085e-04,  -2.67934556e-05,  -5.14219999e-02,\n",
      "        -4.15762253e-02,  -2.12968383e-02,  -6.62742481e-02,\n",
      "        -1.56800013e+01,  -4.78716847e-03,  -1.30808771e-01,\n",
      "        -1.18210958e-02,  -1.21501917e-05,  -1.46467397e-02,\n",
      "        -3.45429196e-03,  -4.96706404e-02,  -4.19034436e-02,\n",
      "        -1.18834701e-04,  -9.26528778e-03,  -6.18426800e+00,\n",
      "        -2.05994193e-02,  -4.46669087e-02,  -2.13716211e+04,\n",
      "        -3.71434651e-02,   0.00000000e+00,  -3.99536686e-04,\n",
      "        -1.13425376e-02,  -7.55931064e-03,  -4.20769565e-02,\n",
      "        -1.93523847e-05,  -4.23054462e-06,  -4.33509052e-02,\n",
      "        -8.12849477e-02,  -1.39238591e-05,  -9.90257692e-03,\n",
      "        -4.97564021e-03,  -5.97253861e-03,   0.00000000e+00,\n",
      "        -2.60696979e-05,  -2.02364810e-02,  -2.71968573e-04,\n",
      "        -1.42080862e-05,  -1.99985597e-02,   0.00000000e+00,\n",
      "        -8.98696110e-03,  -1.02797411e-02,  -4.39106002e-02,\n",
      "        -4.37838864e-03,  -6.78757299e-03,  -3.69407644e-05,\n",
      "        -1.87480208e-02,   0.00000000e+00,  -1.71900149e-02,\n",
      "                    nan,  -8.18575323e-02,  -1.09985718e-04,\n",
      "                    nan,  -3.32809905e-05,  -1.39103155e+01,\n",
      "        -1.57115464e-05,  -1.36164570e+04,  -7.55775943e-02,\n",
      "        -3.97728384e-03,  -1.16078439e-03,   0.00000000e+00,\n",
      "        -6.51004687e-02,  -1.47364990e-05,  -3.34592350e-02,\n",
      "         0.00000000e+00,  -3.76712647e-04,  -1.56460935e-03,\n",
      "        -2.13258663e-05,  -5.33657009e-03,  -2.94979219e-03,\n",
      "        -4.29665856e-03,  -1.92672633e-05,  -2.74644513e-02,\n",
      "        -3.52171995e-03,  -1.30797308e-02,  -8.17962875e+01,\n",
      "        -8.95985030e-03,              nan,  -6.49897978e-02,\n",
      "        -1.10128731e-03,  -8.82258930e-04,  -1.08411433e-02,\n",
      "        -1.44675802e-02,  -5.53732179e-03,  -6.50974223e-04,\n",
      "         0.00000000e+00,  -9.17026955e-06,  -8.24926065e-06,\n",
      "        -1.08371666e-02,   0.00000000e+00,  -3.73921283e-02,\n",
      "        -2.39601086e-05,   0.00000000e+00,  -9.70899500e-03,\n",
      "         0.00000000e+00,  -4.58499926e-05,  -6.25703111e-02,\n",
      "        -1.96567699e-02,  -1.77792702e-02,              nan,\n",
      "         0.00000000e+00,  -2.91524175e-05,   0.00000000e+00,\n",
      "        -4.07979765e-04,              nan,  -3.65810562e-03,\n",
      "        -4.59440276e-02,  -3.39106359e-02,  -2.20151078e-02,\n",
      "        -1.69086806e-03,  -3.03809473e-04,   0.00000000e+00,\n",
      "        -8.07135459e-03,  -3.53707708e-02,  -3.46487332e-06,\n",
      "        -1.11500911e-01,  -4.05482115e-06,  -1.36431428e-02,\n",
      "        -3.14971991e-02,  -5.70553530e-05,  -2.81007551e-02,\n",
      "        -1.10496255e-02,  -7.06276968e-02,   0.00000000e+00,\n",
      "        -1.80176571e-02,  -5.31280003e-02,  -1.69123635e-02,\n",
      "        -1.57360613e-04,  -3.24993511e-04,  -4.61041927e-05,\n",
      "        -9.45221200e-06,  -9.78534147e-02,  -2.79349205e-03,\n",
      "        -1.76706463e-01,  -1.24709815e-01,  -2.29623122e-03,\n",
      "        -2.30485257e-02,  -1.10738163e+09,  -3.07403272e-04,\n",
      "        -5.31812373e-04,  -3.75619238e-05,  -1.56985945e-04,\n",
      "        -6.39801174e-02,  -2.55117007e-02,  -3.71457791e-05,\n",
      "        -3.81556060e-03,  -3.05128307e-03,  -7.57269208e-06,\n",
      "         0.00000000e+00,  -1.38549212e-05,  -2.65852897e-03,\n",
      "        -2.04959739e-04,  -2.11034361e-02,  -3.98361264e-03,\n",
      "        -3.59318256e-05,   0.00000000e+00,  -2.46292966e-05,\n",
      "         0.00000000e+00,  -1.95941553e-02,  -6.84432916e-06,\n",
      "        -5.60613126e-02,   0.00000000e+00,   0.00000000e+00,\n",
      "        -1.67574063e-02,   0.00000000e+00,  -1.05006136e-02,\n",
      "         0.00000000e+00,  -6.16748026e-03,  -1.38315614e-02,\n",
      "        -2.96023600e-02,  -6.24937248e+00,  -9.46209620e-05,\n",
      "        -3.24449688e-02,  -5.20788692e-02,  -4.43287240e-03,\n",
      "        -6.06587455e-02,  -1.21848229e-02,  -4.07329862e-05,\n",
      "        -6.76596464e-05,  -1.23555260e-02,  -4.15674113e-02,\n",
      "        -3.27375630e-04,  -3.96827422e-02,  -3.52204479e-02,\n",
      "        -2.66489759e-03,              nan,  -4.39459839e+01,\n",
      "        -8.41999790e-05,  -6.80548400e-02,  -4.67403333e-06,\n",
      "         0.00000000e+00,  -3.10176723e-02,  -2.22667677e-05,\n",
      "        -2.95681766e-05,              nan,  -9.12538320e-02,\n",
      "         0.00000000e+00,  -3.07268761e-02,  -2.61509672e-06,\n",
      "        -2.35558394e-03,  -1.87194515e-02,  -2.12277129e-01,\n",
      "        -7.85098597e-03,  -3.32330652e-02,  -5.18140011e-02,\n",
      "        -1.79135688e-02,   0.00000000e+00,  -2.22094376e-02,\n",
      "        -1.27077438e-02,  -2.03013133e-05,  -1.54951224e-02,\n",
      "        -8.37153220e-06,  -3.30326110e-02,   0.00000000e+00,\n",
      "        -2.27161900e-06,              nan,  -2.05797623e-05,\n",
      "        -3.99061013e-03,  -8.34400184e-04,   0.00000000e+00,\n",
      "        -4.16669482e-03,  -1.69360135e-02,  -4.44273974e-05,\n",
      "        -1.79638881e-02,  -5.61053865e-02,  -5.34783103e-05,\n",
      "        -4.03088666e-02,  -1.90649652e+00,  -5.24320267e-02,\n",
      "        -8.63217807e-04,  -2.19716749e-04,  -6.92462409e-03,\n",
      "        -1.96925383e-02,  -7.32604833e-03,   0.00000000e+00,\n",
      "        -2.01945819e-04,  -1.59510020e-02,  -6.64048493e-02,\n",
      "         0.00000000e+00,  -1.20681234e-05,  -1.88282374e-05,\n",
      "        -1.80621371e-02,   0.00000000e+00,  -5.04054951e-05,\n",
      "         0.00000000e+00,  -1.11496421e-02,  -1.20621648e-04,\n",
      "        -9.94248912e-05,  -8.86140001e+13,  -3.93578302e-05,\n",
      "         0.00000000e+00,   0.00000000e+00,  -2.21817940e-03,\n",
      "        -6.59540668e-02,  -1.40074152e-03,   0.00000000e+00,\n",
      "        -1.06822979e-02,  -4.90494817e-03,   0.00000000e+00,\n",
      "        -2.23834359e-04,  -1.03931643e-05,  -3.56114432e-02,\n",
      "         0.00000000e+00,  -2.81153303e-02,  -1.12398863e-02,\n",
      "        -4.67779581e-03,  -3.01868888e-03,  -1.75001547e-02,\n",
      "        -1.81039664e-04,  -1.26482779e-02,  -6.09391918e-06,\n",
      "                    nan,  -6.49508787e-03], dtype=float32)}, 'cnn_trainset_score': 20.041871753322425, 'bin_config_id': '9c9248d6b67fe1d8348bc51605658447', 'csc_hash': '0534116fd0aea4c6fdc4b8908c1fa5fd3d48e5b7'}\n"
     ]
    },
    {
     "name": "stdout",
     "output_type": "stream",
     "text": [
      "ipdb> key['avg_sigma'\n",
      "*** SyntaxError: unexpected EOF while parsing\n",
      "ipdb> key['avg_sigma']\n",
      "nan\n",
      "ipdb> yd\n",
      "array([[ nan,  nan,  nan, ...,  nan,  nan,  nan],\n",
      "       [ nan,  nan,  nan, ...,  nan,  nan,  nan],\n",
      "       [ nan,  nan,  nan, ...,  nan,  nan,  nan],\n",
      "       ..., \n",
      "       [ nan,  nan,  nan, ...,  nan,  nan,  nan],\n",
      "       [ nan,  nan,  nan, ...,  nan,  nan,  nan],\n",
      "       [ nan,  nan,  nan, ...,  nan,  nan,  nan]], dtype=float32)\n",
      "ipdb> test_x\n",
      "Variable containing:\n",
      "    3     0     0  ...      0    28     0\n",
      "   14     0     0  ...      0    29     0\n",
      "   13     1     0  ...      0    38     0\n",
      "       ...          ⋱          ...       \n",
      "    8     0     0  ...      0    30     0\n",
      "    3     0     0  ...      3    23     0\n",
      "    9     0     0  ...      0    25     0\n",
      "[torch.cuda.FloatTensor of size 189x96 (GPU 0)]\n",
      "\n",
      "ipdb> net(test_x)\n",
      "Variable containing:\n",
      "  nan   nan   nan  ...    nan   nan   nan\n",
      "  nan   nan   nan  ...    nan   nan   nan\n",
      "  nan   nan   nan  ...    nan   nan   nan\n",
      "       ...          ⋱          ...       \n",
      "  nan   nan   nan  ...    nan   nan   nan\n",
      "  nan   nan   nan  ...    nan   nan   nan\n",
      "  nan   nan   nan  ...    nan   nan   nan\n",
      "[torch.cuda.FloatTensor of size 189x61 (GPU 0)]\n",
      "\n"
     ]
    }
   ],
   "source": [
    "%debug"
   ]
  },
  {
   "cell_type": "code",
   "execution_count": null,
   "metadata": {},
   "outputs": [
    {
     "name": "stdout",
     "output_type": "stream",
     "text": [
      "> \u001b[0;32m/usr/local/lib/python3.5/dist-packages/torch/autograd/variable.py\u001b[0m(920)\u001b[0;36m_blas\u001b[0;34m()\u001b[0m\n",
      "\u001b[0;32m    918 \u001b[0;31m            \u001b[0;32melse\u001b[0m\u001b[0;34m:\u001b[0m\u001b[0;34m\u001b[0m\u001b[0m\n",
      "\u001b[0m\u001b[0;32m    919 \u001b[0;31m                \u001b[0mtensors\u001b[0m \u001b[0;34m=\u001b[0m \u001b[0margs\u001b[0m\u001b[0;34m\u001b[0m\u001b[0m\n",
      "\u001b[0m\u001b[0;32m--> 920 \u001b[0;31m            \u001b[0;32mreturn\u001b[0m \u001b[0mcls\u001b[0m\u001b[0;34m.\u001b[0m\u001b[0mapply\u001b[0m\u001b[0;34m(\u001b[0m\u001b[0;34m*\u001b[0m\u001b[0;34m(\u001b[0m\u001b[0mtensors\u001b[0m \u001b[0;34m+\u001b[0m \u001b[0;34m(\u001b[0m\u001b[0malpha\u001b[0m\u001b[0;34m,\u001b[0m \u001b[0mbeta\u001b[0m\u001b[0;34m,\u001b[0m \u001b[0minplace\u001b[0m\u001b[0;34m)\u001b[0m\u001b[0;34m)\u001b[0m\u001b[0;34m)\u001b[0m\u001b[0;34m\u001b[0m\u001b[0m\n",
      "\u001b[0m\u001b[0;32m    921 \u001b[0;31m\u001b[0;34m\u001b[0m\u001b[0m\n",
      "\u001b[0m\u001b[0;32m    922 \u001b[0;31m        \u001b[0;34m@\u001b[0m\u001b[0mclassmethod\u001b[0m\u001b[0;34m\u001b[0m\u001b[0m\n",
      "\u001b[0m\n",
      "ipdb> u\n",
      "> \u001b[0;32m/usr/local/lib/python3.5/dist-packages/torch/autograd/variable.py\u001b[0m(924)\u001b[0;36maddmm\u001b[0;34m()\u001b[0m\n",
      "\u001b[0;32m    922 \u001b[0;31m        \u001b[0;34m@\u001b[0m\u001b[0mclassmethod\u001b[0m\u001b[0;34m\u001b[0m\u001b[0m\n",
      "\u001b[0m\u001b[0;32m    923 \u001b[0;31m        \u001b[0;32mdef\u001b[0m \u001b[0maddmm\u001b[0m\u001b[0;34m(\u001b[0m\u001b[0mcls\u001b[0m\u001b[0;34m,\u001b[0m \u001b[0;34m*\u001b[0m\u001b[0margs\u001b[0m\u001b[0;34m)\u001b[0m\u001b[0;34m:\u001b[0m\u001b[0;34m\u001b[0m\u001b[0m\n",
      "\u001b[0m\u001b[0;32m--> 924 \u001b[0;31m            \u001b[0;32mreturn\u001b[0m \u001b[0mcls\u001b[0m\u001b[0;34m.\u001b[0m\u001b[0m_blas\u001b[0m\u001b[0;34m(\u001b[0m\u001b[0mAddmm\u001b[0m\u001b[0;34m,\u001b[0m \u001b[0margs\u001b[0m\u001b[0;34m,\u001b[0m \u001b[0;32mFalse\u001b[0m\u001b[0;34m)\u001b[0m\u001b[0;34m\u001b[0m\u001b[0m\n",
      "\u001b[0m\u001b[0;32m    925 \u001b[0;31m\u001b[0;34m\u001b[0m\u001b[0m\n",
      "\u001b[0m\u001b[0;32m    926 \u001b[0;31m        \u001b[0;34m@\u001b[0m\u001b[0mclassmethod\u001b[0m\u001b[0;34m\u001b[0m\u001b[0m\n",
      "\u001b[0m\n",
      "ipdb> u\n",
      "> \u001b[0;32m/usr/local/lib/python3.5/dist-packages/torch/nn/functional.py\u001b[0m(553)\u001b[0;36mlinear\u001b[0;34m()\u001b[0m\n",
      "\u001b[0;32m    551 \u001b[0;31m    \u001b[0;32mif\u001b[0m \u001b[0minput\u001b[0m\u001b[0;34m.\u001b[0m\u001b[0mdim\u001b[0m\u001b[0;34m(\u001b[0m\u001b[0;34m)\u001b[0m \u001b[0;34m==\u001b[0m \u001b[0;36m2\u001b[0m \u001b[0;32mand\u001b[0m \u001b[0mbias\u001b[0m \u001b[0;32mis\u001b[0m \u001b[0;32mnot\u001b[0m \u001b[0;32mNone\u001b[0m\u001b[0;34m:\u001b[0m\u001b[0;34m\u001b[0m\u001b[0m\n",
      "\u001b[0m\u001b[0;32m    552 \u001b[0;31m        \u001b[0;31m# fused op is marginally faster\u001b[0m\u001b[0;34m\u001b[0m\u001b[0;34m\u001b[0m\u001b[0m\n",
      "\u001b[0m\u001b[0;32m--> 553 \u001b[0;31m        \u001b[0;32mreturn\u001b[0m \u001b[0mtorch\u001b[0m\u001b[0;34m.\u001b[0m\u001b[0maddmm\u001b[0m\u001b[0;34m(\u001b[0m\u001b[0mbias\u001b[0m\u001b[0;34m,\u001b[0m \u001b[0minput\u001b[0m\u001b[0;34m,\u001b[0m \u001b[0mweight\u001b[0m\u001b[0;34m.\u001b[0m\u001b[0mt\u001b[0m\u001b[0;34m(\u001b[0m\u001b[0;34m)\u001b[0m\u001b[0;34m)\u001b[0m\u001b[0;34m\u001b[0m\u001b[0m\n",
      "\u001b[0m\u001b[0;32m    554 \u001b[0;31m\u001b[0;34m\u001b[0m\u001b[0m\n",
      "\u001b[0m\u001b[0;32m    555 \u001b[0;31m    \u001b[0moutput\u001b[0m \u001b[0;34m=\u001b[0m \u001b[0minput\u001b[0m\u001b[0;34m.\u001b[0m\u001b[0mmatmul\u001b[0m\u001b[0;34m(\u001b[0m\u001b[0mweight\u001b[0m\u001b[0;34m.\u001b[0m\u001b[0mt\u001b[0m\u001b[0;34m(\u001b[0m\u001b[0;34m)\u001b[0m\u001b[0;34m)\u001b[0m\u001b[0;34m\u001b[0m\u001b[0m\n",
      "\u001b[0m\n",
      "ipdb> u\n",
      "> \u001b[0;32m/usr/local/lib/python3.5/dist-packages/torch/nn/modules/linear.py\u001b[0m(53)\u001b[0;36mforward\u001b[0;34m()\u001b[0m\n",
      "\u001b[0;32m     51 \u001b[0;31m\u001b[0;34m\u001b[0m\u001b[0m\n",
      "\u001b[0m\u001b[0;32m     52 \u001b[0;31m    \u001b[0;32mdef\u001b[0m \u001b[0mforward\u001b[0m\u001b[0;34m(\u001b[0m\u001b[0mself\u001b[0m\u001b[0;34m,\u001b[0m \u001b[0minput\u001b[0m\u001b[0;34m)\u001b[0m\u001b[0;34m:\u001b[0m\u001b[0;34m\u001b[0m\u001b[0m\n",
      "\u001b[0m\u001b[0;32m---> 53 \u001b[0;31m        \u001b[0;32mreturn\u001b[0m \u001b[0mF\u001b[0m\u001b[0;34m.\u001b[0m\u001b[0mlinear\u001b[0m\u001b[0;34m(\u001b[0m\u001b[0minput\u001b[0m\u001b[0;34m,\u001b[0m \u001b[0mself\u001b[0m\u001b[0;34m.\u001b[0m\u001b[0mweight\u001b[0m\u001b[0;34m,\u001b[0m \u001b[0mself\u001b[0m\u001b[0;34m.\u001b[0m\u001b[0mbias\u001b[0m\u001b[0;34m)\u001b[0m\u001b[0;34m\u001b[0m\u001b[0m\n",
      "\u001b[0m\u001b[0;32m     54 \u001b[0;31m\u001b[0;34m\u001b[0m\u001b[0m\n",
      "\u001b[0m\u001b[0;32m     55 \u001b[0;31m    \u001b[0;32mdef\u001b[0m \u001b[0m__repr__\u001b[0m\u001b[0;34m(\u001b[0m\u001b[0mself\u001b[0m\u001b[0;34m)\u001b[0m\u001b[0;34m:\u001b[0m\u001b[0;34m\u001b[0m\u001b[0m\n",
      "\u001b[0m\n",
      "ipdb> u\n",
      "> \u001b[0;32m/usr/local/lib/python3.5/dist-packages/torch/nn/modules/module.py\u001b[0m(224)\u001b[0;36m__call__\u001b[0;34m()\u001b[0m\n",
      "\u001b[0;32m    222 \u001b[0;31m        \u001b[0;32mfor\u001b[0m \u001b[0mhook\u001b[0m \u001b[0;32min\u001b[0m \u001b[0mself\u001b[0m\u001b[0;34m.\u001b[0m\u001b[0m_forward_pre_hooks\u001b[0m\u001b[0;34m.\u001b[0m\u001b[0mvalues\u001b[0m\u001b[0;34m(\u001b[0m\u001b[0;34m)\u001b[0m\u001b[0;34m:\u001b[0m\u001b[0;34m\u001b[0m\u001b[0m\n",
      "\u001b[0m\u001b[0;32m    223 \u001b[0;31m            \u001b[0mhook\u001b[0m\u001b[0;34m(\u001b[0m\u001b[0mself\u001b[0m\u001b[0;34m,\u001b[0m \u001b[0minput\u001b[0m\u001b[0;34m)\u001b[0m\u001b[0;34m\u001b[0m\u001b[0m\n",
      "\u001b[0m\u001b[0;32m--> 224 \u001b[0;31m        \u001b[0mresult\u001b[0m \u001b[0;34m=\u001b[0m \u001b[0mself\u001b[0m\u001b[0;34m.\u001b[0m\u001b[0mforward\u001b[0m\u001b[0;34m(\u001b[0m\u001b[0;34m*\u001b[0m\u001b[0minput\u001b[0m\u001b[0;34m,\u001b[0m \u001b[0;34m**\u001b[0m\u001b[0mkwargs\u001b[0m\u001b[0;34m)\u001b[0m\u001b[0;34m\u001b[0m\u001b[0m\n",
      "\u001b[0m\u001b[0;32m    225 \u001b[0;31m        \u001b[0;32mfor\u001b[0m \u001b[0mhook\u001b[0m \u001b[0;32min\u001b[0m \u001b[0mself\u001b[0m\u001b[0;34m.\u001b[0m\u001b[0m_forward_hooks\u001b[0m\u001b[0;34m.\u001b[0m\u001b[0mvalues\u001b[0m\u001b[0;34m(\u001b[0m\u001b[0;34m)\u001b[0m\u001b[0;34m:\u001b[0m\u001b[0;34m\u001b[0m\u001b[0m\n",
      "\u001b[0m\u001b[0;32m    226 \u001b[0;31m            \u001b[0mhook_result\u001b[0m \u001b[0;34m=\u001b[0m \u001b[0mhook\u001b[0m\u001b[0;34m(\u001b[0m\u001b[0mself\u001b[0m\u001b[0;34m,\u001b[0m \u001b[0minput\u001b[0m\u001b[0;34m,\u001b[0m \u001b[0mresult\u001b[0m\u001b[0;34m)\u001b[0m\u001b[0;34m\u001b[0m\u001b[0m\n",
      "\u001b[0m\n",
      "ipdb> u\n",
      "> \u001b[0;32m/usr/local/lib/python3.5/dist-packages/torch/nn/modules/container.py\u001b[0m(67)\u001b[0;36mforward\u001b[0;34m()\u001b[0m\n",
      "\u001b[0;32m     65 \u001b[0;31m    \u001b[0;32mdef\u001b[0m \u001b[0mforward\u001b[0m\u001b[0;34m(\u001b[0m\u001b[0mself\u001b[0m\u001b[0;34m,\u001b[0m \u001b[0minput\u001b[0m\u001b[0;34m)\u001b[0m\u001b[0;34m:\u001b[0m\u001b[0;34m\u001b[0m\u001b[0m\n",
      "\u001b[0m\u001b[0;32m     66 \u001b[0;31m        \u001b[0;32mfor\u001b[0m \u001b[0mmodule\u001b[0m \u001b[0;32min\u001b[0m \u001b[0mself\u001b[0m\u001b[0;34m.\u001b[0m\u001b[0m_modules\u001b[0m\u001b[0;34m.\u001b[0m\u001b[0mvalues\u001b[0m\u001b[0;34m(\u001b[0m\u001b[0;34m)\u001b[0m\u001b[0;34m:\u001b[0m\u001b[0;34m\u001b[0m\u001b[0m\n",
      "\u001b[0m\u001b[0;32m---> 67 \u001b[0;31m            \u001b[0minput\u001b[0m \u001b[0;34m=\u001b[0m \u001b[0mmodule\u001b[0m\u001b[0;34m(\u001b[0m\u001b[0minput\u001b[0m\u001b[0;34m)\u001b[0m\u001b[0;34m\u001b[0m\u001b[0m\n",
      "\u001b[0m\u001b[0;32m     68 \u001b[0;31m        \u001b[0;32mreturn\u001b[0m \u001b[0minput\u001b[0m\u001b[0;34m\u001b[0m\u001b[0m\n",
      "\u001b[0m\u001b[0;32m     69 \u001b[0;31m\u001b[0;34m\u001b[0m\u001b[0m\n",
      "\u001b[0m\n",
      "ipdb> u\n",
      "> \u001b[0;32m/usr/local/lib/python3.5/dist-packages/torch/nn/modules/module.py\u001b[0m(224)\u001b[0;36m__call__\u001b[0;34m()\u001b[0m\n",
      "\u001b[0;32m    222 \u001b[0;31m        \u001b[0;32mfor\u001b[0m \u001b[0mhook\u001b[0m \u001b[0;32min\u001b[0m \u001b[0mself\u001b[0m\u001b[0;34m.\u001b[0m\u001b[0m_forward_pre_hooks\u001b[0m\u001b[0;34m.\u001b[0m\u001b[0mvalues\u001b[0m\u001b[0;34m(\u001b[0m\u001b[0;34m)\u001b[0m\u001b[0;34m:\u001b[0m\u001b[0;34m\u001b[0m\u001b[0m\n",
      "\u001b[0m\u001b[0;32m    223 \u001b[0;31m            \u001b[0mhook\u001b[0m\u001b[0;34m(\u001b[0m\u001b[0mself\u001b[0m\u001b[0;34m,\u001b[0m \u001b[0minput\u001b[0m\u001b[0;34m)\u001b[0m\u001b[0;34m\u001b[0m\u001b[0m\n",
      "\u001b[0m\u001b[0;32m--> 224 \u001b[0;31m        \u001b[0mresult\u001b[0m \u001b[0;34m=\u001b[0m \u001b[0mself\u001b[0m\u001b[0;34m.\u001b[0m\u001b[0mforward\u001b[0m\u001b[0;34m(\u001b[0m\u001b[0;34m*\u001b[0m\u001b[0minput\u001b[0m\u001b[0;34m,\u001b[0m \u001b[0;34m**\u001b[0m\u001b[0mkwargs\u001b[0m\u001b[0;34m)\u001b[0m\u001b[0;34m\u001b[0m\u001b[0m\n",
      "\u001b[0m\u001b[0;32m    225 \u001b[0;31m        \u001b[0;32mfor\u001b[0m \u001b[0mhook\u001b[0m \u001b[0;32min\u001b[0m \u001b[0mself\u001b[0m\u001b[0;34m.\u001b[0m\u001b[0m_forward_hooks\u001b[0m\u001b[0;34m.\u001b[0m\u001b[0mvalues\u001b[0m\u001b[0;34m(\u001b[0m\u001b[0;34m)\u001b[0m\u001b[0;34m:\u001b[0m\u001b[0;34m\u001b[0m\u001b[0m\n",
      "\u001b[0m\u001b[0;32m    226 \u001b[0;31m            \u001b[0mhook_result\u001b[0m \u001b[0;34m=\u001b[0m \u001b[0mhook\u001b[0m\u001b[0;34m(\u001b[0m\u001b[0mself\u001b[0m\u001b[0;34m,\u001b[0m \u001b[0minput\u001b[0m\u001b[0;34m,\u001b[0m \u001b[0mresult\u001b[0m\u001b[0;34m)\u001b[0m\u001b[0;34m\u001b[0m\u001b[0m\n",
      "\u001b[0m\n",
      "ipdb> u\n",
      "> \u001b[0;32m/src/v1_likelihood/v1_likelihood/models.py\u001b[0m(39)\u001b[0;36mforward\u001b[0;34m()\u001b[0m\n",
      "\u001b[0;32m     37 \u001b[0;31m\u001b[0;34m\u001b[0m\u001b[0m\n",
      "\u001b[0m\u001b[0;32m     38 \u001b[0;31m    \u001b[0;32mdef\u001b[0m \u001b[0mforward\u001b[0m\u001b[0;34m(\u001b[0m\u001b[0mself\u001b[0m\u001b[0;34m,\u001b[0m \u001b[0mx\u001b[0m\u001b[0;34m)\u001b[0m\u001b[0;34m:\u001b[0m\u001b[0;34m\u001b[0m\u001b[0m\n",
      "\u001b[0m\u001b[0;32m---> 39 \u001b[0;31m        \u001b[0mx\u001b[0m \u001b[0;34m=\u001b[0m \u001b[0mself\u001b[0m\u001b[0;34m.\u001b[0m\u001b[0mhiddens\u001b[0m\u001b[0;34m(\u001b[0m\u001b[0mx\u001b[0m\u001b[0;34m)\u001b[0m\u001b[0;34m\u001b[0m\u001b[0m\n",
      "\u001b[0m\u001b[0;32m     40 \u001b[0;31m        \u001b[0mx\u001b[0m \u001b[0;34m=\u001b[0m \u001b[0mself\u001b[0m\u001b[0;34m.\u001b[0m\u001b[0mro_layer\u001b[0m\u001b[0;34m(\u001b[0m\u001b[0mx\u001b[0m\u001b[0;34m)\u001b[0m\u001b[0;34m\u001b[0m\u001b[0m\n",
      "\u001b[0m\u001b[0;32m     41 \u001b[0;31m        \u001b[0;32mreturn\u001b[0m \u001b[0mx\u001b[0m\u001b[0;34m\u001b[0m\u001b[0m\n",
      "\u001b[0m\n",
      "ipdb> x\n",
      "\n",
      "   11     0     0  ...      0    19     0\n",
      "    5     0     0  ...      3    17     0\n",
      "   12     0     0  ...      0    23     0\n",
      "       ...          ⋱          ...       \n",
      "    4     0     0  ...      0    28     1\n",
      "    2     1     0  ...      0    35     0\n",
      "    5     0     0  ...      0    27     0\n",
      "[torch.cuda.FloatTensor of size 770x96 (GPU 0)]\n",
      "\n",
      "ipdb> u\n",
      "> \u001b[0;32m/usr/local/lib/python3.5/dist-packages/torch/nn/modules/module.py\u001b[0m(224)\u001b[0;36m__call__\u001b[0;34m()\u001b[0m\n",
      "\u001b[0;32m    222 \u001b[0;31m        \u001b[0;32mfor\u001b[0m \u001b[0mhook\u001b[0m \u001b[0;32min\u001b[0m \u001b[0mself\u001b[0m\u001b[0;34m.\u001b[0m\u001b[0m_forward_pre_hooks\u001b[0m\u001b[0;34m.\u001b[0m\u001b[0mvalues\u001b[0m\u001b[0;34m(\u001b[0m\u001b[0;34m)\u001b[0m\u001b[0;34m:\u001b[0m\u001b[0;34m\u001b[0m\u001b[0m\n",
      "\u001b[0m\u001b[0;32m    223 \u001b[0;31m            \u001b[0mhook\u001b[0m\u001b[0;34m(\u001b[0m\u001b[0mself\u001b[0m\u001b[0;34m,\u001b[0m \u001b[0minput\u001b[0m\u001b[0;34m)\u001b[0m\u001b[0;34m\u001b[0m\u001b[0m\n",
      "\u001b[0m\u001b[0;32m--> 224 \u001b[0;31m        \u001b[0mresult\u001b[0m \u001b[0;34m=\u001b[0m \u001b[0mself\u001b[0m\u001b[0;34m.\u001b[0m\u001b[0mforward\u001b[0m\u001b[0;34m(\u001b[0m\u001b[0;34m*\u001b[0m\u001b[0minput\u001b[0m\u001b[0;34m,\u001b[0m \u001b[0;34m**\u001b[0m\u001b[0mkwargs\u001b[0m\u001b[0;34m)\u001b[0m\u001b[0;34m\u001b[0m\u001b[0m\n",
      "\u001b[0m\u001b[0;32m    225 \u001b[0;31m        \u001b[0;32mfor\u001b[0m \u001b[0mhook\u001b[0m \u001b[0;32min\u001b[0m \u001b[0mself\u001b[0m\u001b[0;34m.\u001b[0m\u001b[0m_forward_hooks\u001b[0m\u001b[0;34m.\u001b[0m\u001b[0mvalues\u001b[0m\u001b[0;34m(\u001b[0m\u001b[0;34m)\u001b[0m\u001b[0;34m:\u001b[0m\u001b[0;34m\u001b[0m\u001b[0m\n",
      "\u001b[0m\u001b[0;32m    226 \u001b[0;31m            \u001b[0mhook_result\u001b[0m \u001b[0;34m=\u001b[0m \u001b[0mhook\u001b[0m\u001b[0;34m(\u001b[0m\u001b[0mself\u001b[0m\u001b[0;34m,\u001b[0m \u001b[0minput\u001b[0m\u001b[0;34m,\u001b[0m \u001b[0mresult\u001b[0m\u001b[0;34m)\u001b[0m\u001b[0;34m\u001b[0m\u001b[0m\n",
      "\u001b[0m\n",
      "ipdb> u\n",
      "> \u001b[0;32m/src/v1_likelihood/v1_likelihood/train.py\u001b[0m(264)\u001b[0;36mobjective\u001b[0;34m()\u001b[0m\n",
      "\u001b[0;32m    262 \u001b[0;31m                \u001b[0mt\u001b[0m \u001b[0;34m=\u001b[0m \u001b[0mtest_t\u001b[0m\u001b[0;34m\u001b[0m\u001b[0m\n",
      "\u001b[0m\u001b[0;32m    263 \u001b[0;31m            \u001b[0mnet\u001b[0m\u001b[0;34m.\u001b[0m\u001b[0meval\u001b[0m\u001b[0;34m(\u001b[0m\u001b[0;34m)\u001b[0m\u001b[0;34m\u001b[0m\u001b[0m\n",
      "\u001b[0m\u001b[0;32m--> 264 \u001b[0;31m            \u001b[0my\u001b[0m \u001b[0;34m=\u001b[0m \u001b[0mnet\u001b[0m\u001b[0;34m(\u001b[0m\u001b[0mx\u001b[0m\u001b[0;34m)\u001b[0m\u001b[0;34m\u001b[0m\u001b[0m\n",
      "\u001b[0m\u001b[0;32m    265 \u001b[0;31m            \u001b[0mposterior\u001b[0m \u001b[0;34m=\u001b[0m \u001b[0my\u001b[0m \u001b[0;34m+\u001b[0m \u001b[0mprior\u001b[0m\u001b[0;34m\u001b[0m\u001b[0m\n",
      "\u001b[0m\u001b[0;32m    266 \u001b[0;31m            \u001b[0m_\u001b[0m\u001b[0;34m,\u001b[0m \u001b[0mloc\u001b[0m \u001b[0;34m=\u001b[0m \u001b[0mtorch\u001b[0m\u001b[0;34m.\u001b[0m\u001b[0mmax\u001b[0m\u001b[0;34m(\u001b[0m\u001b[0mposterior\u001b[0m\u001b[0;34m,\u001b[0m \u001b[0mdim\u001b[0m\u001b[0;34m=\u001b[0m\u001b[0;36m1\u001b[0m\u001b[0;34m)\u001b[0m\u001b[0;34m\u001b[0m\u001b[0m\n",
      "\u001b[0m\n"
     ]
    },
    {
     "name": "stdout",
     "output_type": "stream",
     "text": [
      "ipdb> x\n",
      "\n",
      "   11     0     0  ...      0    19     0\n",
      "    5     0     0  ...      3    17     0\n",
      "   12     0     0  ...      0    23     0\n",
      "       ...          ⋱          ...       \n",
      "    4     0     0  ...      0    28     1\n",
      "    2     1     0  ...      0    35     0\n",
      "    5     0     0  ...      0    27     0\n",
      "[torch.cuda.FloatTensor of size 770x96 (GPU 0)]\n",
      "\n",
      "ipdb> net\n",
      "Net (\n",
      "  (hiddens): Sequential (\n",
      "    (0): Linear (96 -> 500)\n",
      "    (1): ReLU ()\n",
      "    (2): Dropout (p = 0.5, inplace)\n",
      "    (3): Linear (500 -> 500)\n",
      "    (4): ReLU ()\n",
      "    (5): Dropout (p = 0.5, inplace)\n",
      "  )\n",
      "  (ro_layer): Linear (500 -> 61)\n",
      ")\n",
      "ipdb> net(x)\n",
      "*** RuntimeError: save_for_backward can only save input or output tensors, but argument 0 doesn't satisfy this condition\n"
     ]
    }
   ],
   "source": [
    "%debug"
   ]
  },
  {
   "cell_type": "code",
   "execution_count": null,
   "metadata": {},
   "outputs": [
    {
     "name": "stdout",
     "output_type": "stream",
     "text": [
      "> \u001b[0;32m/usr/local/lib/python3.5/dist-packages/torch/autograd/_functions/blas.py\u001b[0m(26)\u001b[0;36mforward\u001b[0;34m()\u001b[0m\n",
      "\u001b[0;32m     24 \u001b[0;31m        \u001b[0moutput\u001b[0m \u001b[0;34m=\u001b[0m \u001b[0m_get_output\u001b[0m\u001b[0;34m(\u001b[0m\u001b[0mctx\u001b[0m\u001b[0;34m,\u001b[0m \u001b[0madd_matrix\u001b[0m\u001b[0;34m,\u001b[0m \u001b[0minplace\u001b[0m\u001b[0;34m=\u001b[0m\u001b[0minplace\u001b[0m\u001b[0;34m)\u001b[0m\u001b[0;34m\u001b[0m\u001b[0m\n",
      "\u001b[0m\u001b[0;32m     25 \u001b[0;31m        return torch.addmm(alpha, add_matrix, beta,\n",
      "\u001b[0m\u001b[0;32m---> 26 \u001b[0;31m                           matrix1, matrix2, out=output)\n",
      "\u001b[0m\u001b[0;32m     27 \u001b[0;31m\u001b[0;34m\u001b[0m\u001b[0m\n",
      "\u001b[0m\u001b[0;32m     28 \u001b[0;31m    \u001b[0;34m@\u001b[0m\u001b[0mstaticmethod\u001b[0m\u001b[0;34m\u001b[0m\u001b[0m\n",
      "\u001b[0m\n",
      "ipdb> u\n",
      "> \u001b[0;32m/usr/local/lib/python3.5/dist-packages/torch/autograd/variable.py\u001b[0m(920)\u001b[0;36m_blas\u001b[0;34m()\u001b[0m\n",
      "\u001b[0;32m    918 \u001b[0;31m            \u001b[0;32melse\u001b[0m\u001b[0;34m:\u001b[0m\u001b[0;34m\u001b[0m\u001b[0m\n",
      "\u001b[0m\u001b[0;32m    919 \u001b[0;31m                \u001b[0mtensors\u001b[0m \u001b[0;34m=\u001b[0m \u001b[0margs\u001b[0m\u001b[0;34m\u001b[0m\u001b[0m\n",
      "\u001b[0m\u001b[0;32m--> 920 \u001b[0;31m            \u001b[0;32mreturn\u001b[0m \u001b[0mcls\u001b[0m\u001b[0;34m.\u001b[0m\u001b[0mapply\u001b[0m\u001b[0;34m(\u001b[0m\u001b[0;34m*\u001b[0m\u001b[0;34m(\u001b[0m\u001b[0mtensors\u001b[0m \u001b[0;34m+\u001b[0m \u001b[0;34m(\u001b[0m\u001b[0malpha\u001b[0m\u001b[0;34m,\u001b[0m \u001b[0mbeta\u001b[0m\u001b[0;34m,\u001b[0m \u001b[0minplace\u001b[0m\u001b[0;34m)\u001b[0m\u001b[0;34m)\u001b[0m\u001b[0;34m)\u001b[0m\u001b[0;34m\u001b[0m\u001b[0m\n",
      "\u001b[0m\u001b[0;32m    921 \u001b[0;31m\u001b[0;34m\u001b[0m\u001b[0m\n",
      "\u001b[0m\u001b[0;32m    922 \u001b[0;31m        \u001b[0;34m@\u001b[0m\u001b[0mclassmethod\u001b[0m\u001b[0;34m\u001b[0m\u001b[0m\n",
      "\u001b[0m\n",
      "ipdb> u\n",
      "> \u001b[0;32m/usr/local/lib/python3.5/dist-packages/torch/autograd/variable.py\u001b[0m(924)\u001b[0;36maddmm\u001b[0;34m()\u001b[0m\n",
      "\u001b[0;32m    922 \u001b[0;31m        \u001b[0;34m@\u001b[0m\u001b[0mclassmethod\u001b[0m\u001b[0;34m\u001b[0m\u001b[0m\n",
      "\u001b[0m\u001b[0;32m    923 \u001b[0;31m        \u001b[0;32mdef\u001b[0m \u001b[0maddmm\u001b[0m\u001b[0;34m(\u001b[0m\u001b[0mcls\u001b[0m\u001b[0;34m,\u001b[0m \u001b[0;34m*\u001b[0m\u001b[0margs\u001b[0m\u001b[0;34m)\u001b[0m\u001b[0;34m:\u001b[0m\u001b[0;34m\u001b[0m\u001b[0m\n",
      "\u001b[0m\u001b[0;32m--> 924 \u001b[0;31m            \u001b[0;32mreturn\u001b[0m \u001b[0mcls\u001b[0m\u001b[0;34m.\u001b[0m\u001b[0m_blas\u001b[0m\u001b[0;34m(\u001b[0m\u001b[0mAddmm\u001b[0m\u001b[0;34m,\u001b[0m \u001b[0margs\u001b[0m\u001b[0;34m,\u001b[0m \u001b[0;32mFalse\u001b[0m\u001b[0;34m)\u001b[0m\u001b[0;34m\u001b[0m\u001b[0m\n",
      "\u001b[0m\u001b[0;32m    925 \u001b[0;31m\u001b[0;34m\u001b[0m\u001b[0m\n",
      "\u001b[0m\u001b[0;32m    926 \u001b[0;31m        \u001b[0;34m@\u001b[0m\u001b[0mclassmethod\u001b[0m\u001b[0;34m\u001b[0m\u001b[0m\n",
      "\u001b[0m\n",
      "ipdb> u\n",
      "> \u001b[0;32m/usr/local/lib/python3.5/dist-packages/torch/nn/functional.py\u001b[0m(553)\u001b[0;36mlinear\u001b[0;34m()\u001b[0m\n",
      "\u001b[0;32m    551 \u001b[0;31m    \u001b[0;32mif\u001b[0m \u001b[0minput\u001b[0m\u001b[0;34m.\u001b[0m\u001b[0mdim\u001b[0m\u001b[0;34m(\u001b[0m\u001b[0;34m)\u001b[0m \u001b[0;34m==\u001b[0m \u001b[0;36m2\u001b[0m \u001b[0;32mand\u001b[0m \u001b[0mbias\u001b[0m \u001b[0;32mis\u001b[0m \u001b[0;32mnot\u001b[0m \u001b[0;32mNone\u001b[0m\u001b[0;34m:\u001b[0m\u001b[0;34m\u001b[0m\u001b[0m\n",
      "\u001b[0m\u001b[0;32m    552 \u001b[0;31m        \u001b[0;31m# fused op is marginally faster\u001b[0m\u001b[0;34m\u001b[0m\u001b[0;34m\u001b[0m\u001b[0m\n",
      "\u001b[0m\u001b[0;32m--> 553 \u001b[0;31m        \u001b[0;32mreturn\u001b[0m \u001b[0mtorch\u001b[0m\u001b[0;34m.\u001b[0m\u001b[0maddmm\u001b[0m\u001b[0;34m(\u001b[0m\u001b[0mbias\u001b[0m\u001b[0;34m,\u001b[0m \u001b[0minput\u001b[0m\u001b[0;34m,\u001b[0m \u001b[0mweight\u001b[0m\u001b[0;34m.\u001b[0m\u001b[0mt\u001b[0m\u001b[0;34m(\u001b[0m\u001b[0;34m)\u001b[0m\u001b[0;34m)\u001b[0m\u001b[0;34m\u001b[0m\u001b[0m\n",
      "\u001b[0m\u001b[0;32m    554 \u001b[0;31m\u001b[0;34m\u001b[0m\u001b[0m\n",
      "\u001b[0m\u001b[0;32m    555 \u001b[0;31m    \u001b[0moutput\u001b[0m \u001b[0;34m=\u001b[0m \u001b[0minput\u001b[0m\u001b[0;34m.\u001b[0m\u001b[0mmatmul\u001b[0m\u001b[0;34m(\u001b[0m\u001b[0mweight\u001b[0m\u001b[0;34m.\u001b[0m\u001b[0mt\u001b[0m\u001b[0;34m(\u001b[0m\u001b[0;34m)\u001b[0m\u001b[0;34m)\u001b[0m\u001b[0;34m\u001b[0m\u001b[0m\n",
      "\u001b[0m\n",
      "ipdb> u\n",
      "> \u001b[0;32m/usr/local/lib/python3.5/dist-packages/torch/nn/modules/linear.py\u001b[0m(53)\u001b[0;36mforward\u001b[0;34m()\u001b[0m\n",
      "\u001b[0;32m     51 \u001b[0;31m\u001b[0;34m\u001b[0m\u001b[0m\n",
      "\u001b[0m\u001b[0;32m     52 \u001b[0;31m    \u001b[0;32mdef\u001b[0m \u001b[0mforward\u001b[0m\u001b[0;34m(\u001b[0m\u001b[0mself\u001b[0m\u001b[0;34m,\u001b[0m \u001b[0minput\u001b[0m\u001b[0;34m)\u001b[0m\u001b[0;34m:\u001b[0m\u001b[0;34m\u001b[0m\u001b[0m\n",
      "\u001b[0m\u001b[0;32m---> 53 \u001b[0;31m        \u001b[0;32mreturn\u001b[0m \u001b[0mF\u001b[0m\u001b[0;34m.\u001b[0m\u001b[0mlinear\u001b[0m\u001b[0;34m(\u001b[0m\u001b[0minput\u001b[0m\u001b[0;34m,\u001b[0m \u001b[0mself\u001b[0m\u001b[0;34m.\u001b[0m\u001b[0mweight\u001b[0m\u001b[0;34m,\u001b[0m \u001b[0mself\u001b[0m\u001b[0;34m.\u001b[0m\u001b[0mbias\u001b[0m\u001b[0;34m)\u001b[0m\u001b[0;34m\u001b[0m\u001b[0m\n",
      "\u001b[0m\u001b[0;32m     54 \u001b[0;31m\u001b[0;34m\u001b[0m\u001b[0m\n",
      "\u001b[0m\u001b[0;32m     55 \u001b[0;31m    \u001b[0;32mdef\u001b[0m \u001b[0m__repr__\u001b[0m\u001b[0;34m(\u001b[0m\u001b[0mself\u001b[0m\u001b[0;34m)\u001b[0m\u001b[0;34m:\u001b[0m\u001b[0;34m\u001b[0m\u001b[0m\n",
      "\u001b[0m\n",
      "ipdb> u\n",
      "> \u001b[0;32m/usr/local/lib/python3.5/dist-packages/torch/nn/modules/module.py\u001b[0m(224)\u001b[0;36m__call__\u001b[0;34m()\u001b[0m\n",
      "\u001b[0;32m    222 \u001b[0;31m        \u001b[0;32mfor\u001b[0m \u001b[0mhook\u001b[0m \u001b[0;32min\u001b[0m \u001b[0mself\u001b[0m\u001b[0;34m.\u001b[0m\u001b[0m_forward_pre_hooks\u001b[0m\u001b[0;34m.\u001b[0m\u001b[0mvalues\u001b[0m\u001b[0;34m(\u001b[0m\u001b[0;34m)\u001b[0m\u001b[0;34m:\u001b[0m\u001b[0;34m\u001b[0m\u001b[0m\n",
      "\u001b[0m\u001b[0;32m    223 \u001b[0;31m            \u001b[0mhook\u001b[0m\u001b[0;34m(\u001b[0m\u001b[0mself\u001b[0m\u001b[0;34m,\u001b[0m \u001b[0minput\u001b[0m\u001b[0;34m)\u001b[0m\u001b[0;34m\u001b[0m\u001b[0m\n",
      "\u001b[0m\u001b[0;32m--> 224 \u001b[0;31m        \u001b[0mresult\u001b[0m \u001b[0;34m=\u001b[0m \u001b[0mself\u001b[0m\u001b[0;34m.\u001b[0m\u001b[0mforward\u001b[0m\u001b[0;34m(\u001b[0m\u001b[0;34m*\u001b[0m\u001b[0minput\u001b[0m\u001b[0;34m,\u001b[0m \u001b[0;34m**\u001b[0m\u001b[0mkwargs\u001b[0m\u001b[0;34m)\u001b[0m\u001b[0;34m\u001b[0m\u001b[0m\n",
      "\u001b[0m\u001b[0;32m    225 \u001b[0;31m        \u001b[0;32mfor\u001b[0m \u001b[0mhook\u001b[0m \u001b[0;32min\u001b[0m \u001b[0mself\u001b[0m\u001b[0;34m.\u001b[0m\u001b[0m_forward_hooks\u001b[0m\u001b[0;34m.\u001b[0m\u001b[0mvalues\u001b[0m\u001b[0;34m(\u001b[0m\u001b[0;34m)\u001b[0m\u001b[0;34m:\u001b[0m\u001b[0;34m\u001b[0m\u001b[0m\n",
      "\u001b[0m\u001b[0;32m    226 \u001b[0;31m            \u001b[0mhook_result\u001b[0m \u001b[0;34m=\u001b[0m \u001b[0mhook\u001b[0m\u001b[0;34m(\u001b[0m\u001b[0mself\u001b[0m\u001b[0;34m,\u001b[0m \u001b[0minput\u001b[0m\u001b[0;34m,\u001b[0m \u001b[0mresult\u001b[0m\u001b[0;34m)\u001b[0m\u001b[0;34m\u001b[0m\u001b[0m\n",
      "\u001b[0m\n",
      "ipdb> u\n",
      "> \u001b[0;32m/usr/local/lib/python3.5/dist-packages/torch/nn/modules/container.py\u001b[0m(67)\u001b[0;36mforward\u001b[0;34m()\u001b[0m\n",
      "\u001b[0;32m     65 \u001b[0;31m    \u001b[0;32mdef\u001b[0m \u001b[0mforward\u001b[0m\u001b[0;34m(\u001b[0m\u001b[0mself\u001b[0m\u001b[0;34m,\u001b[0m \u001b[0minput\u001b[0m\u001b[0;34m)\u001b[0m\u001b[0;34m:\u001b[0m\u001b[0;34m\u001b[0m\u001b[0m\n",
      "\u001b[0m\u001b[0;32m     66 \u001b[0;31m        \u001b[0;32mfor\u001b[0m \u001b[0mmodule\u001b[0m \u001b[0;32min\u001b[0m \u001b[0mself\u001b[0m\u001b[0;34m.\u001b[0m\u001b[0m_modules\u001b[0m\u001b[0;34m.\u001b[0m\u001b[0mvalues\u001b[0m\u001b[0;34m(\u001b[0m\u001b[0;34m)\u001b[0m\u001b[0;34m:\u001b[0m\u001b[0;34m\u001b[0m\u001b[0m\n",
      "\u001b[0m\u001b[0;32m---> 67 \u001b[0;31m            \u001b[0minput\u001b[0m \u001b[0;34m=\u001b[0m \u001b[0mmodule\u001b[0m\u001b[0;34m(\u001b[0m\u001b[0minput\u001b[0m\u001b[0;34m)\u001b[0m\u001b[0;34m\u001b[0m\u001b[0m\n",
      "\u001b[0m\u001b[0;32m     68 \u001b[0;31m        \u001b[0;32mreturn\u001b[0m \u001b[0minput\u001b[0m\u001b[0;34m\u001b[0m\u001b[0m\n",
      "\u001b[0m\u001b[0;32m     69 \u001b[0;31m\u001b[0;34m\u001b[0m\u001b[0m\n",
      "\u001b[0m\n",
      "ipdb> u\n",
      "> \u001b[0;32m/usr/local/lib/python3.5/dist-packages/torch/nn/modules/module.py\u001b[0m(224)\u001b[0;36m__call__\u001b[0;34m()\u001b[0m\n",
      "\u001b[0;32m    222 \u001b[0;31m        \u001b[0;32mfor\u001b[0m \u001b[0mhook\u001b[0m \u001b[0;32min\u001b[0m \u001b[0mself\u001b[0m\u001b[0;34m.\u001b[0m\u001b[0m_forward_pre_hooks\u001b[0m\u001b[0;34m.\u001b[0m\u001b[0mvalues\u001b[0m\u001b[0;34m(\u001b[0m\u001b[0;34m)\u001b[0m\u001b[0;34m:\u001b[0m\u001b[0;34m\u001b[0m\u001b[0m\n",
      "\u001b[0m\u001b[0;32m    223 \u001b[0;31m            \u001b[0mhook\u001b[0m\u001b[0;34m(\u001b[0m\u001b[0mself\u001b[0m\u001b[0;34m,\u001b[0m \u001b[0minput\u001b[0m\u001b[0;34m)\u001b[0m\u001b[0;34m\u001b[0m\u001b[0m\n",
      "\u001b[0m\u001b[0;32m--> 224 \u001b[0;31m        \u001b[0mresult\u001b[0m \u001b[0;34m=\u001b[0m \u001b[0mself\u001b[0m\u001b[0;34m.\u001b[0m\u001b[0mforward\u001b[0m\u001b[0;34m(\u001b[0m\u001b[0;34m*\u001b[0m\u001b[0minput\u001b[0m\u001b[0;34m,\u001b[0m \u001b[0;34m**\u001b[0m\u001b[0mkwargs\u001b[0m\u001b[0;34m)\u001b[0m\u001b[0;34m\u001b[0m\u001b[0m\n",
      "\u001b[0m\u001b[0;32m    225 \u001b[0;31m        \u001b[0;32mfor\u001b[0m \u001b[0mhook\u001b[0m \u001b[0;32min\u001b[0m \u001b[0mself\u001b[0m\u001b[0;34m.\u001b[0m\u001b[0m_forward_hooks\u001b[0m\u001b[0;34m.\u001b[0m\u001b[0mvalues\u001b[0m\u001b[0;34m(\u001b[0m\u001b[0;34m)\u001b[0m\u001b[0;34m:\u001b[0m\u001b[0;34m\u001b[0m\u001b[0m\n",
      "\u001b[0m\u001b[0;32m    226 \u001b[0;31m            \u001b[0mhook_result\u001b[0m \u001b[0;34m=\u001b[0m \u001b[0mhook\u001b[0m\u001b[0;34m(\u001b[0m\u001b[0mself\u001b[0m\u001b[0;34m,\u001b[0m \u001b[0minput\u001b[0m\u001b[0;34m,\u001b[0m \u001b[0mresult\u001b[0m\u001b[0;34m)\u001b[0m\u001b[0;34m\u001b[0m\u001b[0m\n",
      "\u001b[0m\n",
      "ipdb> u\n",
      "> \u001b[0;32m/src/v1_likelihood/v1_likelihood/models.py\u001b[0m(39)\u001b[0;36mforward\u001b[0;34m()\u001b[0m\n",
      "\u001b[0;32m     37 \u001b[0;31m\u001b[0;34m\u001b[0m\u001b[0m\n",
      "\u001b[0m\u001b[0;32m     38 \u001b[0;31m    \u001b[0;32mdef\u001b[0m \u001b[0mforward\u001b[0m\u001b[0;34m(\u001b[0m\u001b[0mself\u001b[0m\u001b[0;34m,\u001b[0m \u001b[0mx\u001b[0m\u001b[0;34m)\u001b[0m\u001b[0;34m:\u001b[0m\u001b[0;34m\u001b[0m\u001b[0m\n",
      "\u001b[0m\u001b[0;32m---> 39 \u001b[0;31m        \u001b[0mx\u001b[0m \u001b[0;34m=\u001b[0m \u001b[0mself\u001b[0m\u001b[0;34m.\u001b[0m\u001b[0mhiddens\u001b[0m\u001b[0;34m(\u001b[0m\u001b[0mx\u001b[0m\u001b[0;34m)\u001b[0m\u001b[0;34m\u001b[0m\u001b[0m\n",
      "\u001b[0m\u001b[0;32m     40 \u001b[0;31m        \u001b[0mx\u001b[0m \u001b[0;34m=\u001b[0m \u001b[0mself\u001b[0m\u001b[0;34m.\u001b[0m\u001b[0mro_layer\u001b[0m\u001b[0;34m(\u001b[0m\u001b[0mx\u001b[0m\u001b[0;34m)\u001b[0m\u001b[0;34m\u001b[0m\u001b[0m\n",
      "\u001b[0m\u001b[0;32m     41 \u001b[0;31m        \u001b[0;32mreturn\u001b[0m \u001b[0mx\u001b[0m\u001b[0;34m\u001b[0m\u001b[0m\n",
      "\u001b[0m\n",
      "ipdb> x\n",
      "\n",
      "   11     0     0  ...      0    19     0\n",
      "    5     0     0  ...      3    17     0\n",
      "   12     0     0  ...      0    23     0\n",
      "       ...          ⋱          ...       \n",
      "    4     0     0  ...      0    28     1\n",
      "    2     1     0  ...      0    35     0\n",
      "    5     0     0  ...      0    27     0\n",
      "[torch.FloatTensor of size 770x96]\n",
      "\n",
      "--KeyboardInterrupt--\n"
     ]
    }
   ],
   "source": [
    "%debug"
   ]
  },
  {
   "cell_type": "code",
   "execution_count": null,
   "metadata": {},
   "outputs": [
    {
     "name": "stdout",
     "output_type": "stream",
     "text": [
      "> \u001b[0;32m/usr/local/lib/python3.5/dist-packages/torch/autograd/_functions/basic_ops.py\u001b[0m(104)\u001b[0;36mforward\u001b[0;34m()\u001b[0m\n",
      "\u001b[0;32m    102 \u001b[0;31m            \u001b[0;32mreturn\u001b[0m \u001b[0mtensor\u001b[0m\u001b[0;34m.\u001b[0m\u001b[0madd_\u001b[0m\u001b[0;34m(\u001b[0m\u001b[0mconstant\u001b[0m\u001b[0;34m)\u001b[0m\u001b[0;34m\u001b[0m\u001b[0m\n",
      "\u001b[0m\u001b[0;32m    103 \u001b[0;31m        \u001b[0;32melse\u001b[0m\u001b[0;34m:\u001b[0m\u001b[0;34m\u001b[0m\u001b[0m\n",
      "\u001b[0m\u001b[0;32m--> 104 \u001b[0;31m            \u001b[0;32mreturn\u001b[0m \u001b[0mtensor\u001b[0m\u001b[0;34m.\u001b[0m\u001b[0madd\u001b[0m\u001b[0;34m(\u001b[0m\u001b[0mconstant\u001b[0m\u001b[0;34m)\u001b[0m\u001b[0;34m\u001b[0m\u001b[0m\n",
      "\u001b[0m\u001b[0;32m    105 \u001b[0;31m\u001b[0;34m\u001b[0m\u001b[0m\n",
      "\u001b[0m\u001b[0;32m    106 \u001b[0;31m    \u001b[0;34m@\u001b[0m\u001b[0mstaticmethod\u001b[0m\u001b[0;34m\u001b[0m\u001b[0m\n",
      "\u001b[0m\n",
      "ipdb> u\n",
      "> \u001b[0;32m/usr/local/lib/python3.5/dist-packages/torch/autograd/variable.py\u001b[0m(316)\u001b[0;36m_add\u001b[0;34m()\u001b[0m\n",
      "\u001b[0;32m    314 \u001b[0;31m        \u001b[0;32melse\u001b[0m\u001b[0;34m:\u001b[0m\u001b[0;34m\u001b[0m\u001b[0m\n",
      "\u001b[0m\u001b[0;32m    315 \u001b[0;31m            \u001b[0;32massert\u001b[0m \u001b[0;32mnot\u001b[0m \u001b[0mtorch\u001b[0m\u001b[0;34m.\u001b[0m\u001b[0mis_tensor\u001b[0m\u001b[0;34m(\u001b[0m\u001b[0mother\u001b[0m\u001b[0;34m)\u001b[0m\u001b[0;34m\u001b[0m\u001b[0m\n",
      "\u001b[0m\u001b[0;32m--> 316 \u001b[0;31m            \u001b[0;32mreturn\u001b[0m \u001b[0mAddConstant\u001b[0m\u001b[0;34m.\u001b[0m\u001b[0mapply\u001b[0m\u001b[0;34m(\u001b[0m\u001b[0mself\u001b[0m\u001b[0;34m,\u001b[0m \u001b[0mother\u001b[0m\u001b[0;34m,\u001b[0m \u001b[0minplace\u001b[0m\u001b[0;34m)\u001b[0m\u001b[0;34m\u001b[0m\u001b[0m\n",
      "\u001b[0m\u001b[0;32m    317 \u001b[0;31m\u001b[0;34m\u001b[0m\u001b[0m\n",
      "\u001b[0m\u001b[0;32m    318 \u001b[0;31m    \u001b[0;32mdef\u001b[0m \u001b[0madd\u001b[0m\u001b[0;34m(\u001b[0m\u001b[0mself\u001b[0m\u001b[0;34m,\u001b[0m \u001b[0mother\u001b[0m\u001b[0;34m)\u001b[0m\u001b[0;34m:\u001b[0m\u001b[0;34m\u001b[0m\u001b[0m\n",
      "\u001b[0m\n",
      "ipdb> u\n",
      "> \u001b[0;32m/usr/local/lib/python3.5/dist-packages/torch/autograd/variable.py\u001b[0m(319)\u001b[0;36madd\u001b[0;34m()\u001b[0m\n",
      "\u001b[0;32m    317 \u001b[0;31m\u001b[0;34m\u001b[0m\u001b[0m\n",
      "\u001b[0m\u001b[0;32m    318 \u001b[0;31m    \u001b[0;32mdef\u001b[0m \u001b[0madd\u001b[0m\u001b[0;34m(\u001b[0m\u001b[0mself\u001b[0m\u001b[0;34m,\u001b[0m \u001b[0mother\u001b[0m\u001b[0;34m)\u001b[0m\u001b[0;34m:\u001b[0m\u001b[0;34m\u001b[0m\u001b[0m\n",
      "\u001b[0m\u001b[0;32m--> 319 \u001b[0;31m        \u001b[0;32mreturn\u001b[0m \u001b[0mself\u001b[0m\u001b[0;34m.\u001b[0m\u001b[0m_add\u001b[0m\u001b[0;34m(\u001b[0m\u001b[0mother\u001b[0m\u001b[0;34m,\u001b[0m \u001b[0;32mFalse\u001b[0m\u001b[0;34m)\u001b[0m\u001b[0;34m\u001b[0m\u001b[0m\n",
      "\u001b[0m\u001b[0;32m    320 \u001b[0;31m\u001b[0;34m\u001b[0m\u001b[0m\n",
      "\u001b[0m\u001b[0;32m    321 \u001b[0;31m    \u001b[0;32mdef\u001b[0m \u001b[0madd_\u001b[0m\u001b[0;34m(\u001b[0m\u001b[0mself\u001b[0m\u001b[0;34m,\u001b[0m \u001b[0mother\u001b[0m\u001b[0;34m)\u001b[0m\u001b[0;34m:\u001b[0m\u001b[0;34m\u001b[0m\u001b[0m\n",
      "\u001b[0m\n",
      "ipdb> u\n",
      "> \u001b[0;32m/usr/local/lib/python3.5/dist-packages/torch/autograd/variable.py\u001b[0m(813)\u001b[0;36m__add__\u001b[0;34m()\u001b[0m\n",
      "\u001b[0;32m    811 \u001b[0;31m\u001b[0;34m\u001b[0m\u001b[0m\n",
      "\u001b[0m\u001b[0;32m    812 \u001b[0;31m    \u001b[0;32mdef\u001b[0m \u001b[0m__add__\u001b[0m\u001b[0;34m(\u001b[0m\u001b[0mself\u001b[0m\u001b[0;34m,\u001b[0m \u001b[0mother\u001b[0m\u001b[0;34m)\u001b[0m\u001b[0;34m:\u001b[0m\u001b[0;34m\u001b[0m\u001b[0m\n",
      "\u001b[0m\u001b[0;32m--> 813 \u001b[0;31m        \u001b[0;32mreturn\u001b[0m \u001b[0mself\u001b[0m\u001b[0;34m.\u001b[0m\u001b[0madd\u001b[0m\u001b[0;34m(\u001b[0m\u001b[0mother\u001b[0m\u001b[0;34m)\u001b[0m\u001b[0;34m\u001b[0m\u001b[0m\n",
      "\u001b[0m\u001b[0;32m    814 \u001b[0;31m    \u001b[0m__radd__\u001b[0m \u001b[0;34m=\u001b[0m \u001b[0m__add__\u001b[0m\u001b[0;34m\u001b[0m\u001b[0m\n",
      "\u001b[0m\u001b[0;32m    815 \u001b[0;31m\u001b[0;34m\u001b[0m\u001b[0m\n",
      "\u001b[0m\n",
      "ipdb> u\n",
      "> \u001b[0;32m/src/v1_likelihood/v1_likelihood/train.py\u001b[0m(300)\u001b[0;36m_make_tuples\u001b[0;34m()\u001b[0m\n",
      "\u001b[0;32m    298 \u001b[0;31m                    \u001b[0msmoothness\u001b[0m \u001b[0;34m=\u001b[0m \u001b[0mnn\u001b[0m\u001b[0;34m.\u001b[0m\u001b[0mfunctional\u001b[0m\u001b[0;34m.\u001b[0m\u001b[0mconv1d\u001b[0m\u001b[0;34m(\u001b[0m\u001b[0my\u001b[0m\u001b[0;34m.\u001b[0m\u001b[0munsqueeze\u001b[0m\u001b[0;34m(\u001b[0m\u001b[0;36m1\u001b[0m\u001b[0;34m)\u001b[0m\u001b[0;34m,\u001b[0m \u001b[0mconv_filter\u001b[0m\u001b[0;34m)\u001b[0m\u001b[0;34m.\u001b[0m\u001b[0mpow\u001b[0m\u001b[0;34m(\u001b[0m\u001b[0;36m2\u001b[0m\u001b[0;34m)\u001b[0m\u001b[0;34m.\u001b[0m\u001b[0mmean\u001b[0m\u001b[0;34m(\u001b[0m\u001b[0;34m)\u001b[0m\u001b[0;34m\u001b[0m\u001b[0m\n",
      "\u001b[0m\u001b[0;32m    299 \u001b[0;31m                    \u001b[0mscore\u001b[0m \u001b[0;34m=\u001b[0m \u001b[0mloss\u001b[0m\u001b[0;34m(\u001b[0m\u001b[0mpost\u001b[0m\u001b[0;34m,\u001b[0m \u001b[0mt\u001b[0m\u001b[0;34m)\u001b[0m\u001b[0;34m\u001b[0m\u001b[0m\n",
      "\u001b[0m\u001b[0;32m--> 300 \u001b[0;31m                    \u001b[0mscore\u001b[0m \u001b[0;34m=\u001b[0m \u001b[0mscore\u001b[0m \u001b[0;34m+\u001b[0m \u001b[0malpha\u001b[0m \u001b[0;34m*\u001b[0m \u001b[0msmoothness\u001b[0m\u001b[0;34m\u001b[0m\u001b[0m\n",
      "\u001b[0m\u001b[0;32m    301 \u001b[0;31m                    \u001b[0mscore\u001b[0m\u001b[0;34m.\u001b[0m\u001b[0mbackward\u001b[0m\u001b[0;34m(\u001b[0m\u001b[0;34m)\u001b[0m\u001b[0;34m\u001b[0m\u001b[0m\n",
      "\u001b[0m\u001b[0;32m    302 \u001b[0;31m                    \u001b[0moptimizer\u001b[0m\u001b[0;34m.\u001b[0m\u001b[0mstep\u001b[0m\u001b[0;34m(\u001b[0m\u001b[0;34m)\u001b[0m\u001b[0;34m\u001b[0m\u001b[0m\n",
      "\u001b[0m\n",
      "ipdb> score\n",
      "Variable containing:\n",
      " 34.1734\n",
      "[torch.cuda.FloatTensor of size 1 (GPU 0)]\n",
      "\n",
      "ipdb> smoothness\n",
      "Variable containing:\n",
      "1.00000e-09 *\n",
      "  1.4164\n",
      "[torch.cuda.FloatTensor of size 1 (GPU 0)]\n",
      "\n",
      "ipdb> alpha\n",
      "0.29999999999999999\n"
     ]
    }
   ],
   "source": [
    "%debug"
   ]
  },
  {
   "cell_type": "code",
   "execution_count": null,
   "metadata": {},
   "outputs": [
    {
     "name": "stdout",
     "output_type": "stream",
     "text": [
      "> \u001b[0;32m/usr/local/lib/python3.5/dist-packages/torch/autograd/_functions/basic_ops.py\u001b[0m(17)\u001b[0;36mforward\u001b[0;34m()\u001b[0m\n",
      "\u001b[0;32m     15 \u001b[0;31m            \u001b[0;32mreturn\u001b[0m \u001b[0ma\u001b[0m\u001b[0;34m.\u001b[0m\u001b[0madd_\u001b[0m\u001b[0;34m(\u001b[0m\u001b[0mb\u001b[0m\u001b[0;34m)\u001b[0m\u001b[0;34m\u001b[0m\u001b[0m\n",
      "\u001b[0m\u001b[0;32m     16 \u001b[0;31m        \u001b[0;32melse\u001b[0m\u001b[0;34m:\u001b[0m\u001b[0;34m\u001b[0m\u001b[0m\n",
      "\u001b[0m\u001b[0;32m---> 17 \u001b[0;31m            \u001b[0;32mreturn\u001b[0m \u001b[0ma\u001b[0m\u001b[0;34m.\u001b[0m\u001b[0madd\u001b[0m\u001b[0;34m(\u001b[0m\u001b[0mb\u001b[0m\u001b[0;34m)\u001b[0m\u001b[0;34m\u001b[0m\u001b[0m\n",
      "\u001b[0m\u001b[0;32m     18 \u001b[0;31m\u001b[0;34m\u001b[0m\u001b[0m\n",
      "\u001b[0m\u001b[0;32m     19 \u001b[0;31m    \u001b[0;34m@\u001b[0m\u001b[0mstaticmethod\u001b[0m\u001b[0;34m\u001b[0m\u001b[0m\n",
      "\u001b[0m\n",
      "ipdb> u\n",
      "> \u001b[0;32m/usr/local/lib/python3.5/dist-packages/torch/autograd/variable.py\u001b[0m(313)\u001b[0;36m_add\u001b[0;34m()\u001b[0m\n",
      "\u001b[0;32m    311 \u001b[0;31m    \u001b[0;32mdef\u001b[0m \u001b[0m_add\u001b[0m\u001b[0;34m(\u001b[0m\u001b[0mself\u001b[0m\u001b[0;34m,\u001b[0m \u001b[0mother\u001b[0m\u001b[0;34m,\u001b[0m \u001b[0minplace\u001b[0m\u001b[0;34m)\u001b[0m\u001b[0;34m:\u001b[0m\u001b[0;34m\u001b[0m\u001b[0m\n",
      "\u001b[0m\u001b[0;32m    312 \u001b[0;31m        \u001b[0;32mif\u001b[0m \u001b[0misinstance\u001b[0m\u001b[0;34m(\u001b[0m\u001b[0mother\u001b[0m\u001b[0;34m,\u001b[0m \u001b[0mVariable\u001b[0m\u001b[0;34m)\u001b[0m\u001b[0;34m:\u001b[0m\u001b[0;34m\u001b[0m\u001b[0m\n",
      "\u001b[0m\u001b[0;32m--> 313 \u001b[0;31m            \u001b[0;32mreturn\u001b[0m \u001b[0mAdd\u001b[0m\u001b[0;34m.\u001b[0m\u001b[0mapply\u001b[0m\u001b[0;34m(\u001b[0m\u001b[0mself\u001b[0m\u001b[0;34m,\u001b[0m \u001b[0mother\u001b[0m\u001b[0;34m,\u001b[0m \u001b[0minplace\u001b[0m\u001b[0;34m)\u001b[0m\u001b[0;34m\u001b[0m\u001b[0m\n",
      "\u001b[0m\u001b[0;32m    314 \u001b[0;31m        \u001b[0;32melse\u001b[0m\u001b[0;34m:\u001b[0m\u001b[0;34m\u001b[0m\u001b[0m\n",
      "\u001b[0m\u001b[0;32m    315 \u001b[0;31m            \u001b[0;32massert\u001b[0m \u001b[0;32mnot\u001b[0m \u001b[0mtorch\u001b[0m\u001b[0;34m.\u001b[0m\u001b[0mis_tensor\u001b[0m\u001b[0;34m(\u001b[0m\u001b[0mother\u001b[0m\u001b[0;34m)\u001b[0m\u001b[0;34m\u001b[0m\u001b[0m\n",
      "\u001b[0m\n",
      "ipdb> u\n",
      "> \u001b[0;32m/usr/local/lib/python3.5/dist-packages/torch/autograd/variable.py\u001b[0m(319)\u001b[0;36madd\u001b[0;34m()\u001b[0m\n",
      "\u001b[0;32m    317 \u001b[0;31m\u001b[0;34m\u001b[0m\u001b[0m\n",
      "\u001b[0m\u001b[0;32m    318 \u001b[0;31m    \u001b[0;32mdef\u001b[0m \u001b[0madd\u001b[0m\u001b[0;34m(\u001b[0m\u001b[0mself\u001b[0m\u001b[0;34m,\u001b[0m \u001b[0mother\u001b[0m\u001b[0;34m)\u001b[0m\u001b[0;34m:\u001b[0m\u001b[0;34m\u001b[0m\u001b[0m\n",
      "\u001b[0m\u001b[0;32m--> 319 \u001b[0;31m        \u001b[0;32mreturn\u001b[0m \u001b[0mself\u001b[0m\u001b[0;34m.\u001b[0m\u001b[0m_add\u001b[0m\u001b[0;34m(\u001b[0m\u001b[0mother\u001b[0m\u001b[0;34m,\u001b[0m \u001b[0;32mFalse\u001b[0m\u001b[0;34m)\u001b[0m\u001b[0;34m\u001b[0m\u001b[0m\n",
      "\u001b[0m\u001b[0;32m    320 \u001b[0;31m\u001b[0;34m\u001b[0m\u001b[0m\n",
      "\u001b[0m\u001b[0;32m    321 \u001b[0;31m    \u001b[0;32mdef\u001b[0m \u001b[0madd_\u001b[0m\u001b[0;34m(\u001b[0m\u001b[0mself\u001b[0m\u001b[0;34m,\u001b[0m \u001b[0mother\u001b[0m\u001b[0;34m)\u001b[0m\u001b[0;34m:\u001b[0m\u001b[0;34m\u001b[0m\u001b[0m\n",
      "\u001b[0m\n",
      "ipdb> u\n",
      "> \u001b[0;32m/usr/local/lib/python3.5/dist-packages/torch/autograd/variable.py\u001b[0m(813)\u001b[0;36m__add__\u001b[0;34m()\u001b[0m\n",
      "\u001b[0;32m    811 \u001b[0;31m\u001b[0;34m\u001b[0m\u001b[0m\n",
      "\u001b[0m\u001b[0;32m    812 \u001b[0;31m    \u001b[0;32mdef\u001b[0m \u001b[0m__add__\u001b[0m\u001b[0;34m(\u001b[0m\u001b[0mself\u001b[0m\u001b[0;34m,\u001b[0m \u001b[0mother\u001b[0m\u001b[0;34m)\u001b[0m\u001b[0;34m:\u001b[0m\u001b[0;34m\u001b[0m\u001b[0m\n",
      "\u001b[0m\u001b[0;32m--> 813 \u001b[0;31m        \u001b[0;32mreturn\u001b[0m \u001b[0mself\u001b[0m\u001b[0;34m.\u001b[0m\u001b[0madd\u001b[0m\u001b[0;34m(\u001b[0m\u001b[0mother\u001b[0m\u001b[0;34m)\u001b[0m\u001b[0;34m\u001b[0m\u001b[0m\n",
      "\u001b[0m\u001b[0;32m    814 \u001b[0;31m    \u001b[0m__radd__\u001b[0m \u001b[0;34m=\u001b[0m \u001b[0m__add__\u001b[0m\u001b[0;34m\u001b[0m\u001b[0m\n",
      "\u001b[0m\u001b[0;32m    815 \u001b[0;31m\u001b[0;34m\u001b[0m\u001b[0m\n",
      "\u001b[0m\n",
      "ipdb> u\n",
      "> \u001b[0;32m/src/v1_likelihood/v1_likelihood/train.py\u001b[0m(264)\u001b[0;36mobjective\u001b[0;34m()\u001b[0m\n",
      "\u001b[0;32m    262 \u001b[0;31m            \u001b[0mnet\u001b[0m\u001b[0;34m.\u001b[0m\u001b[0meval\u001b[0m\u001b[0;34m(\u001b[0m\u001b[0;34m)\u001b[0m\u001b[0;34m\u001b[0m\u001b[0m\n",
      "\u001b[0m\u001b[0;32m    263 \u001b[0;31m            \u001b[0my\u001b[0m \u001b[0;34m=\u001b[0m \u001b[0mnet\u001b[0m\u001b[0;34m(\u001b[0m\u001b[0mx\u001b[0m\u001b[0;34m)\u001b[0m\u001b[0;34m\u001b[0m\u001b[0m\n",
      "\u001b[0m\u001b[0;32m--> 264 \u001b[0;31m            \u001b[0mposterior\u001b[0m \u001b[0;34m=\u001b[0m \u001b[0my\u001b[0m \u001b[0;34m+\u001b[0m \u001b[0mprior\u001b[0m\u001b[0;34m\u001b[0m\u001b[0m\n",
      "\u001b[0m\u001b[0;32m    265 \u001b[0;31m            \u001b[0m_\u001b[0m\u001b[0;34m,\u001b[0m \u001b[0mloc\u001b[0m \u001b[0;34m=\u001b[0m \u001b[0mtorch\u001b[0m\u001b[0;34m.\u001b[0m\u001b[0mmax\u001b[0m\u001b[0;34m(\u001b[0m\u001b[0mposterior\u001b[0m\u001b[0;34m,\u001b[0m \u001b[0mdim\u001b[0m\u001b[0;34m=\u001b[0m\u001b[0;36m1\u001b[0m\u001b[0;34m)\u001b[0m\u001b[0;34m\u001b[0m\u001b[0m\n",
      "\u001b[0m\u001b[0;32m    266 \u001b[0;31m            \u001b[0mv\u001b[0m \u001b[0;34m=\u001b[0m \u001b[0;34m(\u001b[0m\u001b[0mt\u001b[0m\u001b[0;34m.\u001b[0m\u001b[0mdouble\u001b[0m\u001b[0;34m(\u001b[0m\u001b[0;34m)\u001b[0m \u001b[0;34m-\u001b[0m \u001b[0mloc\u001b[0m\u001b[0;34m.\u001b[0m\u001b[0mdouble\u001b[0m\u001b[0;34m(\u001b[0m\u001b[0;34m)\u001b[0m\u001b[0;34m)\u001b[0m\u001b[0;34m.\u001b[0m\u001b[0mpow\u001b[0m\u001b[0;34m(\u001b[0m\u001b[0;36m2\u001b[0m\u001b[0;34m)\u001b[0m\u001b[0;34m.\u001b[0m\u001b[0mmean\u001b[0m\u001b[0;34m(\u001b[0m\u001b[0;34m)\u001b[0m\u001b[0;34m.\u001b[0m\u001b[0msqrt\u001b[0m\u001b[0;34m(\u001b[0m\u001b[0;34m)\u001b[0m \u001b[0;34m*\u001b[0m \u001b[0mbin_width\u001b[0m\u001b[0;34m\u001b[0m\u001b[0m\n",
      "\u001b[0m\n",
      "ipdb> prior\n",
      "Variable containing:\n",
      "-130.7081\n",
      "-131.7769\n",
      "-132.8503\n",
      "-133.9281\n",
      "-135.0103\n",
      "-136.0969\n",
      "-137.1880\n",
      "-138.2836\n",
      "-139.3836\n",
      "-140.4881\n",
      "-141.5969\n",
      "-142.7103\n",
      "-143.8280\n",
      "-144.9503\n",
      "-146.0769\n",
      "-147.2081\n",
      "-148.3436\n",
      "-149.4836\n",
      "-150.6281\n",
      "-151.7769\n",
      "-152.9303\n",
      "-154.0880\n",
      "-155.2503\n",
      "-156.4169\n",
      "-157.5880\n",
      "-158.7636\n",
      "-159.9436\n",
      "-161.1281\n",
      "-162.3169\n",
      "-163.5103\n",
      "-164.7081\n",
      "-165.9103\n",
      "-167.1169\n",
      "-168.3280\n",
      "-169.5436\n",
      "-170.7636\n",
      "-171.9881\n",
      "-173.2169\n",
      "-174.4503\n",
      "-175.6880\n",
      "-176.9303\n",
      "-178.1769\n",
      "-179.4281\n",
      "-180.6836\n",
      "-181.9436\n",
      "-183.2081\n",
      "-184.4769\n",
      "-185.7503\n",
      "-187.0280\n",
      "-188.3103\n",
      "-189.5969\n",
      "-190.8880\n",
      "-192.1836\n",
      "-193.4836\n",
      "-194.7881\n",
      "-196.0969\n",
      "-197.4103\n",
      "-198.7280\n",
      "-200.0503\n",
      "-201.3769\n",
      "-202.7081\n",
      "[torch.cuda.FloatTensor of size 61 (GPU 0)]\n",
      "\n",
      "ipdb> y\n",
      "Variable containing:\n",
      "1.00000e-05 *\n",
      " 2.1842 -5.7507  1.8661  ...   1.6711  1.5469 -4.8416\n",
      " 2.2174 -5.7197 -0.3073  ...   0.6840  1.1394 -3.1542\n",
      " 1.2068 -5.9192  0.1117  ...   1.2838  0.9565 -4.8594\n",
      "          ...             ⋱             ...          \n",
      " 0.6337 -5.6416  0.1396  ...   0.8111  0.2313 -3.4711\n",
      " 2.7789 -6.5950  1.0270  ...   1.1156 -0.0008 -4.2647\n",
      " 1.2530 -5.9531  0.8805  ...   0.4235  0.4317 -4.8990\n",
      "[torch.cuda.FloatTensor of size 189x51 (GPU 0)]\n",
      "\n"
     ]
    }
   ],
   "source": [
    "%debug"
   ]
  },
  {
   "cell_type": "code",
   "execution_count": null,
   "metadata": {},
   "outputs": [
    {
     "name": "stdout",
     "output_type": "stream",
     "text": [
      "> \u001b[0;32m/usr/local/lib/python3.5/dist-packages/torch/nn/modules/linear.py\u001b[0m(39)\u001b[0;36m__init__\u001b[0;34m()\u001b[0m\n",
      "\u001b[0;32m     37 \u001b[0;31m        \u001b[0mself\u001b[0m\u001b[0;34m.\u001b[0m\u001b[0min_features\u001b[0m \u001b[0;34m=\u001b[0m \u001b[0min_features\u001b[0m\u001b[0;34m\u001b[0m\u001b[0m\n",
      "\u001b[0m\u001b[0;32m     38 \u001b[0;31m        \u001b[0mself\u001b[0m\u001b[0;34m.\u001b[0m\u001b[0mout_features\u001b[0m \u001b[0;34m=\u001b[0m \u001b[0mout_features\u001b[0m\u001b[0;34m\u001b[0m\u001b[0m\n",
      "\u001b[0m\u001b[0;32m---> 39 \u001b[0;31m        \u001b[0mself\u001b[0m\u001b[0;34m.\u001b[0m\u001b[0mweight\u001b[0m \u001b[0;34m=\u001b[0m \u001b[0mParameter\u001b[0m\u001b[0;34m(\u001b[0m\u001b[0mtorch\u001b[0m\u001b[0;34m.\u001b[0m\u001b[0mTensor\u001b[0m\u001b[0;34m(\u001b[0m\u001b[0mout_features\u001b[0m\u001b[0;34m,\u001b[0m \u001b[0min_features\u001b[0m\u001b[0;34m)\u001b[0m\u001b[0;34m)\u001b[0m\u001b[0;34m\u001b[0m\u001b[0m\n",
      "\u001b[0m\u001b[0;32m     40 \u001b[0;31m        \u001b[0;32mif\u001b[0m \u001b[0mbias\u001b[0m\u001b[0;34m:\u001b[0m\u001b[0;34m\u001b[0m\u001b[0m\n",
      "\u001b[0m\u001b[0;32m     41 \u001b[0;31m            \u001b[0mself\u001b[0m\u001b[0;34m.\u001b[0m\u001b[0mbias\u001b[0m \u001b[0;34m=\u001b[0m \u001b[0mParameter\u001b[0m\u001b[0;34m(\u001b[0m\u001b[0mtorch\u001b[0m\u001b[0;34m.\u001b[0m\u001b[0mTensor\u001b[0m\u001b[0;34m(\u001b[0m\u001b[0mout_features\u001b[0m\u001b[0;34m)\u001b[0m\u001b[0;34m)\u001b[0m\u001b[0;34m\u001b[0m\u001b[0m\n",
      "\u001b[0m\n",
      "ipdb> u\n",
      "> \u001b[0;32m/src/v1_likelihood/v1_likelihood/models.py\u001b[0m(25)\u001b[0;36m__init__\u001b[0;34m()\u001b[0m\n",
      "\u001b[0;32m     23 \u001b[0;31m\u001b[0;34m\u001b[0m\u001b[0m\n",
      "\u001b[0m\u001b[0;32m     24 \u001b[0;31m        \u001b[0;32mfor\u001b[0m \u001b[0mn\u001b[0m \u001b[0;32min\u001b[0m \u001b[0mn_hidden\u001b[0m\u001b[0;34m:\u001b[0m\u001b[0;34m\u001b[0m\u001b[0m\n",
      "\u001b[0m\u001b[0;32m---> 25 \u001b[0;31m            \u001b[0mhiddens\u001b[0m\u001b[0;34m.\u001b[0m\u001b[0mappend\u001b[0m\u001b[0;34m(\u001b[0m\u001b[0mnn\u001b[0m\u001b[0;34m.\u001b[0m\u001b[0mLinear\u001b[0m\u001b[0;34m(\u001b[0m\u001b[0mn_prev\u001b[0m\u001b[0;34m,\u001b[0m \u001b[0mn\u001b[0m\u001b[0;34m)\u001b[0m\u001b[0;34m)\u001b[0m\u001b[0;34m\u001b[0m\u001b[0m\n",
      "\u001b[0m\u001b[0;32m     26 \u001b[0;31m            \u001b[0mhiddens\u001b[0m\u001b[0;34m.\u001b[0m\u001b[0mappend\u001b[0m\u001b[0;34m(\u001b[0m\u001b[0mnn\u001b[0m\u001b[0;34m.\u001b[0m\u001b[0mReLU\u001b[0m\u001b[0;34m(\u001b[0m\u001b[0;34m)\u001b[0m\u001b[0;34m)\u001b[0m\u001b[0;34m\u001b[0m\u001b[0m\n",
      "\u001b[0m\u001b[0;32m     27 \u001b[0;31m            \u001b[0;32mif\u001b[0m \u001b[0mdropout\u001b[0m \u001b[0;34m>\u001b[0m \u001b[0;36m0.0\u001b[0m\u001b[0;34m:\u001b[0m\u001b[0;34m\u001b[0m\u001b[0m\n",
      "\u001b[0m\n",
      "ipdb> u\n",
      "> \u001b[0;32m/src/v1_likelihood/v1_likelihood/train.py\u001b[0m(275)\u001b[0;36m_make_tuples\u001b[0;34m()\u001b[0m\n",
      "\u001b[0;32m    273 \u001b[0;31m        \u001b[0;31m## train the network\u001b[0m\u001b[0;34m\u001b[0m\u001b[0;34m\u001b[0m\u001b[0m\n",
      "\u001b[0m\u001b[0;32m    274 \u001b[0;31m        \u001b[0mset_seed\u001b[0m\u001b[0;34m(\u001b[0m\u001b[0mkey\u001b[0m\u001b[0;34m[\u001b[0m\u001b[0;34m'train_seed'\u001b[0m\u001b[0;34m]\u001b[0m\u001b[0;34m)\u001b[0m\u001b[0;34m\u001b[0m\u001b[0m\n",
      "\u001b[0m\u001b[0;32m--> 275 \u001b[0;31m        \u001b[0mnet\u001b[0m \u001b[0;34m=\u001b[0m \u001b[0mNet\u001b[0m\u001b[0;34m(\u001b[0m\u001b[0mn_hidden\u001b[0m\u001b[0;34m=\u001b[0m\u001b[0;34m[\u001b[0m\u001b[0mh1\u001b[0m\u001b[0;34m,\u001b[0m \u001b[0mh2\u001b[0m\u001b[0;34m]\u001b[0m\u001b[0;34m,\u001b[0m \u001b[0mstd\u001b[0m\u001b[0;34m=\u001b[0m\u001b[0minit_std\u001b[0m\u001b[0;34m,\u001b[0m \u001b[0mdropout\u001b[0m\u001b[0;34m=\u001b[0m\u001b[0mdropout\u001b[0m\u001b[0;34m)\u001b[0m\u001b[0;34m\u001b[0m\u001b[0m\n",
      "\u001b[0m\u001b[0;32m    276 \u001b[0;31m        \u001b[0mnet\u001b[0m\u001b[0;34m.\u001b[0m\u001b[0mcuda\u001b[0m\u001b[0;34m(\u001b[0m\u001b[0;34m)\u001b[0m\u001b[0;34m\u001b[0m\u001b[0m\n",
      "\u001b[0m\u001b[0;32m    277 \u001b[0;31m        \u001b[0mloss\u001b[0m \u001b[0;34m=\u001b[0m \u001b[0mnn\u001b[0m\u001b[0;34m.\u001b[0m\u001b[0mCrossEntropyLoss\u001b[0m\u001b[0;34m(\u001b[0m\u001b[0;34m)\u001b[0m\u001b[0;34m.\u001b[0m\u001b[0mcuda\u001b[0m\u001b[0;34m(\u001b[0m\u001b[0;34m)\u001b[0m\u001b[0;34m\u001b[0m\u001b[0m\n",
      "\u001b[0m\n"
     ]
    }
   ],
   "source": [
    "%debug"
   ]
  },
  {
   "cell_type": "code",
   "execution_count": 10,
   "metadata": {},
   "outputs": [],
   "source": [
    "x, y = train.LinearRegression().fetch('dataset_contrast', 'lr_testset_score')"
   ]
  },
  {
   "cell_type": "code",
   "execution_count": 13,
   "metadata": {},
   "outputs": [],
   "source": [
    "from matplotlib import pyplot as plt\n",
    "%matplotlib inline"
   ]
  },
  {
   "cell_type": "code",
   "execution_count": 14,
   "metadata": {},
   "outputs": [
    {
     "data": {
      "text/plain": [
       "<matplotlib.collections.PathCollection at 0x7efe01ba8f98>"
      ]
     },
     "execution_count": 14,
     "metadata": {},
     "output_type": "execute_result"
    },
    {
     "data": {
      "image/png": "[encoded data removed]",
      "text/plain": [
       "<matplotlib.figure.Figure at 0x7efe01d92c18>"
      ]
     },
     "metadata": {},
     "output_type": "display_data"
    }
   ],
   "source": [
    "plt.scatter(x.astype('float'), y)"
   ]
  },
  {
   "cell_type": "code",
   "execution_count": 7,
   "metadata": {},
   "outputs": [
    {
     "data": {
      "text/html": [
       "\n",
       "        \n",
       "        <style type=\"text/css\">\n",
       "            .Relation{\n",
       "                border-collapse:collapse;\n",
       "            }\n",
       "            .Relation th{\n",
       "                background: #A0A0A0; color: #ffffff; padding:4px; border:#f0e0e0 1px solid;\n",
       "                font-weight: normal; font-family: monospace; font-size: 75%;\n",
       "            }\n",
       "            .Relation td{\n",
       "                padding:4px; border:#f0e0e0 1px solid; font-size:75%;\n",
       "            }\n",
       "            .Relation tr:nth-child(odd){\n",
       "                background: #ffffff;\n",
       "            }\n",
       "            .Relation tr:nth-child(even){\n",
       "                background: #f3f1ff;\n",
       "            }\n",
       "            /* Tooltip container */\n",
       "            .djtooltip {\n",
       "            }\n",
       "\n",
       "            /* Tooltip text */\n",
       "            .djtooltip .djtooltiptext {\n",
       "                visibility: hidden;\n",
       "                width: 120px;\n",
       "                background-color: black;\n",
       "                color: #fff;\n",
       "                text-align: center;\n",
       "                padding: 5px 0;\n",
       "                border-radius: 6px;\n",
       "\n",
       "                /* Position the tooltip text - see examples below! */\n",
       "                position: absolute;\n",
       "                z-index: 1;\n",
       "            }\n",
       "\n",
       "\n",
       "            #primary {\n",
       "                font-weight: bold;\n",
       "                color: black;\n",
       "            }\n",
       "\n",
       "            #nonprimary {\n",
       "                font-weight: normal;\n",
       "                color: white;\n",
       "            }\n",
       "\n",
       "            /* Show the tooltip text when you mouse over the tooltip container */\n",
       "            .djtooltip:hover .djtooltiptext {\n",
       "                visibility: visible;\n",
       "            }\n",
       "        </style>\n",
       "        \n",
       "        <b></b>\n",
       "            <div style=\"max-height:1000px;max-width:1500px;overflow:auto;\">\n",
       "            <table border=\"1\" class=\"Relation\">\n",
       "                <thead> <tr style=\"text-align: right;\"> <th> <div class=\"djtooltip\">\n",
       "                                <p id=\"primary\">bin_config_id</p>\n",
       "                                <span class=\"djtooltiptext\">id</span>\n",
       "                            </div></th><th><div class=\"djtooltip\">\n",
       "                                <p id=\"primary\">csc_hash</p>\n",
       "                                <span class=\"djtooltiptext\">hash for clean spike count set</span>\n",
       "                            </div></th><th><div class=\"djtooltip\">\n",
       "                                <p id=\"primary\">dataset_contrast</p>\n",
       "                                <span class=\"djtooltiptext\">contrast of the stimulus</span>\n",
       "                            </div></th><th><div class=\"djtooltip\">\n",
       "                                <p id=\"primary\">cv_seed</p>\n",
       "                                <span class=\"djtooltiptext\">seed for the cv set</span>\n",
       "                            </div></th><th><div class=\"djtooltip\">\n",
       "                                <p id=\"primary\">cv_fraction</p>\n",
       "                                <span class=\"djtooltiptext\">fraction</span>\n",
       "                            </div></th><th><div class=\"djtooltip\">\n",
       "                                <p id=\"nonprimary\">lr_weights</p>\n",
       "                                <span class=\"djtooltiptext\">learned weights</span>\n",
       "                            </div></th><th><div class=\"djtooltip\">\n",
       "                                <p id=\"nonprimary\">lr_trainset_score</p>\n",
       "                                <span class=\"djtooltiptext\">score on trainset</span>\n",
       "                            </div></th><th><div class=\"djtooltip\">\n",
       "                                <p id=\"nonprimary\">lr_testset_score</p>\n",
       "                                <span class=\"djtooltiptext\">score on testset</span>\n",
       "                            </div> </th> </tr> </thead>\n",
       "                <tbody> <tr> <td>9c9248d6b67fe1d8348bc51605658447</td>\n",
       "<td>0534116fd0aea4c6fdc4b8908c1fa5fd3d48e5b7</td>\n",
       "<td>0.005</td>\n",
       "<td>35</td>\n",
       "<td>0.800</td>\n",
       "<td>=BLOB=</td>\n",
       "<td>8.80198</td>\n",
       "<td>10.3265</td></tr><tr><td>9c9248d6b67fe1d8348bc51605658447</td>\n",
       "<td>0534116fd0aea4c6fdc4b8908c1fa5fd3d48e5b7</td>\n",
       "<td>0.04</td>\n",
       "<td>35</td>\n",
       "<td>0.800</td>\n",
       "<td>=BLOB=</td>\n",
       "<td>4.12118</td>\n",
       "<td>4.83828</td></tr><tr><td>9c9248d6b67fe1d8348bc51605658447</td>\n",
       "<td>0534116fd0aea4c6fdc4b8908c1fa5fd3d48e5b7</td>\n",
       "<td>0.32</td>\n",
       "<td>35</td>\n",
       "<td>0.800</td>\n",
       "<td>=BLOB=</td>\n",
       "<td>2.47696</td>\n",
       "<td>2.92996</td></tr><tr><td>9c9248d6b67fe1d8348bc51605658447</td>\n",
       "<td>0732f2b73f4900ee4fa81f8853b48e460a42ee14</td>\n",
       "<td>0.02</td>\n",
       "<td>35</td>\n",
       "<td>0.800</td>\n",
       "<td>=BLOB=</td>\n",
       "<td>3.79281</td>\n",
       "<td>4.52524</td></tr><tr><td>9c9248d6b67fe1d8348bc51605658447</td>\n",
       "<td>0732f2b73f4900ee4fa81f8853b48e460a42ee14</td>\n",
       "<td>0.16</td>\n",
       "<td>35</td>\n",
       "<td>0.800</td>\n",
       "<td>=BLOB=</td>\n",
       "<td>2.12098</td>\n",
       "<td>2.67761</td></tr><tr><td>9c9248d6b67fe1d8348bc51605658447</td>\n",
       "<td>0732f2b73f4900ee4fa81f8853b48e460a42ee14</td>\n",
       "<td>1</td>\n",
       "<td>35</td>\n",
       "<td>0.800</td>\n",
       "<td>=BLOB=</td>\n",
       "<td>1.36246</td>\n",
       "<td>1.66398</td></tr><tr><td>9c9248d6b67fe1d8348bc51605658447</td>\n",
       "<td>0821d6c856639dcb7bb67b1dc8d0f2339b60e27f</td>\n",
       "<td>0.01</td>\n",
       "<td>35</td>\n",
       "<td>0.800</td>\n",
       "<td>=BLOB=</td>\n",
       "<td>6.79577</td>\n",
       "<td>8.38956</td> </tr> </tbody>\n",
       "            </table>\n",
       "            <p>...</p>\n",
       "            <p>31 tuples</p></div>\n",
       "            "
      ],
      "text/plain": [
       "*bin_config_id *csc_hash      *dataset_contr *cv_seed    *cv_fraction   lr_weights lr_trainset_sc lr_testset_sco\n",
       "+------------+ +------------+ +------------+ +---------+ +------------+ +--------+ +------------+ +------------+\n",
       "9c9248d6b67fe1 0534116fd0aea4 0.005          35          0.800          =BLOB=     8.80198        10.3265       \n",
       "9c9248d6b67fe1 0534116fd0aea4 0.04           35          0.800          =BLOB=     4.12118        4.83828       \n",
       "9c9248d6b67fe1 0534116fd0aea4 0.32           35          0.800          =BLOB=     2.47696        2.92996       \n",
       "9c9248d6b67fe1 0732f2b73f4900 0.02           35          0.800          =BLOB=     3.79281        4.52524       \n",
       "9c9248d6b67fe1 0732f2b73f4900 0.16           35          0.800          =BLOB=     2.12098        2.67761       \n",
       "9c9248d6b67fe1 0732f2b73f4900 1              35          0.800          =BLOB=     1.36246        1.66398       \n",
       "9c9248d6b67fe1 0821d6c856639d 0.01           35          0.800          =BLOB=     6.79577        8.38956       \n",
       "   ...\n",
       " (31 tuples)"
      ]
     },
     "execution_count": 7,
     "metadata": {},
     "output_type": "execute_result"
    }
   ],
   "source": [
    "train.LinearRegression()"
   ]
  },
  {
   "cell_type": "code",
   "execution_count": 5,
   "metadata": {},
   "outputs": [
    {
     "ename": "TypeError",
     "evalue": "__init__() got an unexpected keyword argument 'limit'",
     "output_type": "error",
     "traceback": [
      "\u001b[0;31m---------------------------------------------------------------------------\u001b[0m",
      "\u001b[0;31mTypeError\u001b[0m                                 Traceback (most recent call last)",
      "\u001b[0;32m<ipython-input-5-05f069f2ec8b>\u001b[0m in \u001b[0;36m<module>\u001b[0;34m()\u001b[0m\n\u001b[0;32m----> 1\u001b[0;31m \u001b[0mtrain\u001b[0m\u001b[0;34m.\u001b[0m\u001b[0mLinearRegression\u001b[0m\u001b[0;34m(\u001b[0m\u001b[0mlimit\u001b[0m\u001b[0;34m=\u001b[0m\u001b[0;36m30\u001b[0m\u001b[0;34m)\u001b[0m\u001b[0;34m\u001b[0m\u001b[0m\n\u001b[0m",
      "\u001b[0;31mTypeError\u001b[0m: __init__() got an unexpected keyword argument 'limit'"
     ]
    }
   ],
   "source": [
    "train.LinearRegression(limit=30)"
   ]
  },
  {
   "cell_type": "code",
   "execution_count": 15,
   "metadata": {},
   "outputs": [],
   "source": [
    "import numpy as np"
   ]
  },
  {
   "cell_type": "code",
   "execution_count": 7,
   "metadata": {},
   "outputs": [],
   "source": [
    "key = train.CVSet().fetch(dj.key, limit=1)"
   ]
  },
  {
   "cell_type": "code",
   "execution_count": 9,
   "metadata": {},
   "outputs": [],
   "source": [
    "trainset, testset = (train.CVSet() & key).fetch_datasets()\n"
   ]
  },
  {
   "cell_type": "code",
   "execution_count": 10,
   "metadata": {},
   "outputs": [
    {
     "data": {
      "text/plain": [
       "786"
      ]
     },
     "execution_count": 10,
     "metadata": {},
     "output_type": "execute_result"
    }
   ],
   "source": [
    "len(trainset)"
   ]
  },
  {
   "cell_type": "code",
   "execution_count": 11,
   "metadata": {},
   "outputs": [
    {
     "data": {
      "text/plain": [
       "196"
      ]
     },
     "execution_count": 11,
     "metadata": {},
     "output_type": "execute_result"
    }
   ],
   "source": [
    "len(testset)"
   ]
  },
  {
   "cell_type": "code",
   "execution_count": 4,
   "metadata": {},
   "outputs": [
    {
     "data": {
      "text/html": [
       "\n",
       "        \n",
       "        <style type=\"text/css\">\n",
       "            .Relation{\n",
       "                border-collapse:collapse;\n",
       "            }\n",
       "            .Relation th{\n",
       "                background: #A0A0A0; color: #ffffff; padding:4px; border:#f0e0e0 1px solid;\n",
       "                font-weight: normal; font-family: monospace; font-size: 75%;\n",
       "            }\n",
       "            .Relation td{\n",
       "                padding:4px; border:#f0e0e0 1px solid; font-size:75%;\n",
       "            }\n",
       "            .Relation tr:nth-child(odd){\n",
       "                background: #ffffff;\n",
       "            }\n",
       "            .Relation tr:nth-child(even){\n",
       "                background: #f3f1ff;\n",
       "            }\n",
       "            /* Tooltip container */\n",
       "            .djtooltip {\n",
       "            }\n",
       "\n",
       "            /* Tooltip text */\n",
       "            .djtooltip .djtooltiptext {\n",
       "                visibility: hidden;\n",
       "                width: 120px;\n",
       "                background-color: black;\n",
       "                color: #fff;\n",
       "                text-align: center;\n",
       "                padding: 5px 0;\n",
       "                border-radius: 6px;\n",
       "\n",
       "                /* Position the tooltip text - see examples below! */\n",
       "                position: absolute;\n",
       "                z-index: 1;\n",
       "            }\n",
       "\n",
       "\n",
       "            #primary {\n",
       "                font-weight: bold;\n",
       "                color: black;\n",
       "            }\n",
       "\n",
       "            #nonprimary {\n",
       "                font-weight: normal;\n",
       "                color: white;\n",
       "            }\n",
       "\n",
       "            /* Show the tooltip text when you mouse over the tooltip container */\n",
       "            .djtooltip:hover .djtooltiptext {\n",
       "                visibility: visible;\n",
       "            }\n",
       "        </style>\n",
       "        \n",
       "        <b></b>\n",
       "            <div style=\"max-height:1000px;max-width:1500px;overflow:auto;\">\n",
       "            <table border=\"1\" class=\"Relation\">\n",
       "                <thead> <tr style=\"text-align: right;\"> <th> <div class=\"djtooltip\">\n",
       "                                <p id=\"primary\">csc_hash</p>\n",
       "                                <span class=\"djtooltiptext\">hash for clean spike count set</span>\n",
       "                            </div></th><th><div class=\"djtooltip\">\n",
       "                                <p id=\"primary\">dataset_contrast</p>\n",
       "                                <span class=\"djtooltiptext\">contrast of the stimulus</span>\n",
       "                            </div></th><th><div class=\"djtooltip\">\n",
       "                                <p id=\"primary\">cv_seed</p>\n",
       "                                <span class=\"djtooltiptext\">seed for the cv set</span>\n",
       "                            </div></th><th><div class=\"djtooltip\">\n",
       "                                <p id=\"primary\">cv_fraction</p>\n",
       "                                <span class=\"djtooltiptext\">fraction</span>\n",
       "                            </div></th><th><div class=\"djtooltip\">\n",
       "                                <p id=\"nonprimary\">train_index</p>\n",
       "                                <span class=\"djtooltiptext\">training indices</span>\n",
       "                            </div></th><th><div class=\"djtooltip\">\n",
       "                                <p id=\"nonprimary\">test_index</p>\n",
       "                                <span class=\"djtooltiptext\">testing indices</span>\n",
       "                            </div> </th> </tr> </thead>\n",
       "                <tbody> <tr>  </tr> </tbody>\n",
       "            </table>\n",
       "            \n",
       "            <p>0 tuples</p></div>\n",
       "            "
      ],
      "text/plain": [
       "*csc_hash    *dataset_contr *cv_seed    *cv_fraction   train_inde test_index\n",
       "+----------+ +------------+ +---------+ +------------+ +--------+ +--------+\n",
       "\n",
       " (0 tuples)"
      ]
     },
     "execution_count": 4,
     "metadata": {},
     "output_type": "execute_result"
    }
   ],
   "source": [
    "train.CVSet() & key"
   ]
  },
  {
   "cell_type": "code",
   "execution_count": 19,
   "metadata": {},
   "outputs": [],
   "source": [
    "train_counts = np.concatenate(trainset['counts'], 1).T"
   ]
  },
  {
   "cell_type": "code",
   "execution_count": 22,
   "metadata": {},
   "outputs": [],
   "source": [
    "train_ori = trainset['orientation']\n"
   ]
  },
  {
   "cell_type": "code",
   "execution_count": 24,
   "metadata": {},
   "outputs": [
    {
     "data": {
      "text/plain": [
       "30.525099999999991"
      ]
     },
     "execution_count": 24,
     "metadata": {},
     "output_type": "execute_result"
    }
   ],
   "source": [
    "np.percentile(np.abs(train_ori - 270), 98)"
   ]
  },
  {
   "cell_type": "code",
   "execution_count": 2,
   "metadata": {},
   "outputs": [
    {
     "data": {
      "text/html": [
       "\n",
       "        \n",
       "        <style type=\"text/css\">\n",
       "            .Relation{\n",
       "                border-collapse:collapse;\n",
       "            }\n",
       "            .Relation th{\n",
       "                background: #A0A0A0; color: #ffffff; padding:4px; border:#f0e0e0 1px solid;\n",
       "                font-weight: normal; font-family: monospace; font-size: 75%;\n",
       "            }\n",
       "            .Relation td{\n",
       "                padding:4px; border:#f0e0e0 1px solid; font-size:75%;\n",
       "            }\n",
       "            .Relation tr:nth-child(odd){\n",
       "                background: #ffffff;\n",
       "            }\n",
       "            .Relation tr:nth-child(even){\n",
       "                background: #f3f1ff;\n",
       "            }\n",
       "            /* Tooltip container */\n",
       "            .djtooltip {\n",
       "            }\n",
       "\n",
       "            /* Tooltip text */\n",
       "            .djtooltip .djtooltiptext {\n",
       "                visibility: hidden;\n",
       "                width: 120px;\n",
       "                background-color: black;\n",
       "                color: #fff;\n",
       "                text-align: center;\n",
       "                padding: 5px 0;\n",
       "                border-radius: 6px;\n",
       "\n",
       "                /* Position the tooltip text - see examples below! */\n",
       "                position: absolute;\n",
       "                z-index: 1;\n",
       "            }\n",
       "\n",
       "\n",
       "            #primary {\n",
       "                font-weight: bold;\n",
       "                color: black;\n",
       "            }\n",
       "\n",
       "            #nonprimary {\n",
       "                font-weight: normal;\n",
       "                color: white;\n",
       "            }\n",
       "\n",
       "            /* Show the tooltip text when you mouse over the tooltip container */\n",
       "            .djtooltip:hover .djtooltiptext {\n",
       "                visibility: visible;\n",
       "            }\n",
       "        </style>\n",
       "        \n",
       "        <b></b>\n",
       "            <div style=\"max-height:1000px;max-width:1500px;overflow:auto;\">\n",
       "            <table border=\"1\" class=\"Relation\">\n",
       "                <thead> <tr style=\"text-align: right;\"> <th> <div class=\"djtooltip\">\n",
       "                                <p id=\"primary\">cv_fraction</p>\n",
       "                                <span class=\"djtooltiptext\">fraction</span>\n",
       "                            </div> </th> </tr> </thead>\n",
       "                <tbody> <tr> <td>0.800</td> </tr> </tbody>\n",
       "            </table>\n",
       "            \n",
       "            <p>1 tuples</p></div>\n",
       "            "
      ],
      "text/plain": [
       "*cv_fraction  \n",
       "+------------+\n",
       "0.800         \n",
       " (1 tuples)"
      ]
     },
     "execution_count": 2,
     "metadata": {},
     "output_type": "execute_result"
    }
   ],
   "source": [
    "train.CVConfig()"
   ]
  },
  {
   "cell_type": "code",
   "execution_count": 4,
   "metadata": {},
   "outputs": [
    {
     "data": {
      "text/html": [
       "\n",
       "        \n",
       "        <style type=\"text/css\">\n",
       "            .Relation{\n",
       "                border-collapse:collapse;\n",
       "            }\n",
       "            .Relation th{\n",
       "                background: #A0A0A0; color: #ffffff; padding:4px; border:#f0e0e0 1px solid;\n",
       "                font-weight: normal; font-family: monospace; font-size: 75%;\n",
       "            }\n",
       "            .Relation td{\n",
       "                padding:4px; border:#f0e0e0 1px solid; font-size:75%;\n",
       "            }\n",
       "            .Relation tr:nth-child(odd){\n",
       "                background: #ffffff;\n",
       "            }\n",
       "            .Relation tr:nth-child(even){\n",
       "                background: #f3f1ff;\n",
       "            }\n",
       "            /* Tooltip container */\n",
       "            .djtooltip {\n",
       "            }\n",
       "\n",
       "            /* Tooltip text */\n",
       "            .djtooltip .djtooltiptext {\n",
       "                visibility: hidden;\n",
       "                width: 120px;\n",
       "                background-color: black;\n",
       "                color: #fff;\n",
       "                text-align: center;\n",
       "                padding: 5px 0;\n",
       "                border-radius: 6px;\n",
       "\n",
       "                /* Position the tooltip text - see examples below! */\n",
       "                position: absolute;\n",
       "                z-index: 1;\n",
       "            }\n",
       "\n",
       "\n",
       "            #primary {\n",
       "                font-weight: bold;\n",
       "                color: black;\n",
       "            }\n",
       "\n",
       "            #nonprimary {\n",
       "                font-weight: normal;\n",
       "                color: white;\n",
       "            }\n",
       "\n",
       "            /* Show the tooltip text when you mouse over the tooltip container */\n",
       "            .djtooltip:hover .djtooltiptext {\n",
       "                visibility: visible;\n",
       "            }\n",
       "        </style>\n",
       "        \n",
       "        <b></b>\n",
       "            <div style=\"max-height:1000px;max-width:1500px;overflow:auto;\">\n",
       "            <table border=\"1\" class=\"Relation\">\n",
       "                <thead> <tr style=\"text-align: right;\"> <th> <div class=\"djtooltip\">\n",
       "                                <p id=\"primary\">csc_hash</p>\n",
       "                                <span class=\"djtooltiptext\">hash for clean spike count set</span>\n",
       "                            </div></th><th><div class=\"djtooltip\">\n",
       "                                <p id=\"primary\">dataset_contrast</p>\n",
       "                                <span class=\"djtooltiptext\">contrast of the stimulus</span>\n",
       "                            </div></th><th><div class=\"djtooltip\">\n",
       "                                <p id=\"primary\">cv_seed</p>\n",
       "                                <span class=\"djtooltiptext\">seed for the cv set</span>\n",
       "                            </div></th><th><div class=\"djtooltip\">\n",
       "                                <p id=\"primary\">cv_fraction</p>\n",
       "                                <span class=\"djtooltiptext\">fraction</span>\n",
       "                            </div></th><th><div class=\"djtooltip\">\n",
       "                                <p id=\"nonprimary\">train_index</p>\n",
       "                                <span class=\"djtooltiptext\">training indices</span>\n",
       "                            </div></th><th><div class=\"djtooltip\">\n",
       "                                <p id=\"nonprimary\">test_index</p>\n",
       "                                <span class=\"djtooltiptext\">testing indices</span>\n",
       "                            </div> </th> </tr> </thead>\n",
       "                <tbody> <tr>  </tr> </tbody>\n",
       "            </table>\n",
       "            \n",
       "            <p>0 tuples</p></div>\n",
       "            "
      ],
      "text/plain": [
       "*csc_hash    *dataset_contr *cv_seed    *cv_fraction   train_inde test_index\n",
       "+----------+ +------------+ +---------+ +------------+ +--------+ +--------+\n",
       "\n",
       " (0 tuples)"
      ]
     },
     "execution_count": 4,
     "metadata": {},
     "output_type": "execute_result"
    }
   ],
   "source": [
    "train.CVSet()"
   ]
  },
  {
   "cell_type": "code",
   "execution_count": 2,
   "metadata": {},
   "outputs": [
    {
     "name": "stderr",
     "output_type": "stream",
     "text": [
      "\r",
      "  0%|          | 0/546 [00:00<?, ?it/s]"
     ]
    },
    {
     "name": "stdout",
     "output_type": "stream",
     "text": [
      "Working on  {'cv_fraction': Decimal('0.800'), 'csc_hash': '574db9f788473f56a4ac236a2bc85d4f569ef9d0', 'cv_seed': 35, 'dataset_contrast': '0.3'}\n"
     ]
    },
    {
     "name": "stderr",
     "output_type": "stream",
     "text": [
      "  0%|          | 2/546 [00:00<02:40,  3.40it/s]"
     ]
    },
    {
     "name": "stdout",
     "output_type": "stream",
     "text": [
      "Working on  {'cv_fraction': Decimal('0.800'), 'csc_hash': 'fda661587b2c4f5a874d8e6d6fd548d5b65ba946', 'cv_seed': 35, 'dataset_contrast': '0.04'}\n",
      "Working on  {'cv_fraction': Decimal('0.800'), 'csc_hash': '8bb906b3dbb93d13ab554508dbd52e4c847112c8', 'cv_seed': 35, 'dataset_contrast': '0.01'}\n"
     ]
    },
    {
     "name": "stderr",
     "output_type": "stream",
     "text": [
      "\r",
      "  1%|          | 3/546 [00:01<03:05,  2.92it/s]"
     ]
    },
    {
     "name": "stdout",
     "output_type": "stream",
     "text": [
      "Working on  {'cv_fraction': Decimal('0.800'), 'csc_hash': '475f38c7100db2ad340ea0cebf2e2e12316d5185', 'cv_seed': 35, 'dataset_contrast': '0.01'}\n"
     ]
    },
    {
     "name": "stderr",
     "output_type": "stream",
     "text": [
      "\r",
      "  1%|          | 4/546 [00:01<03:01,  2.99it/s]"
     ]
    },
    {
     "name": "stdout",
     "output_type": "stream",
     "text": [
      "Working on  {'cv_fraction': Decimal('0.800'), 'csc_hash': 'e836bece03509ad91ba6730b279ac2bbb0692837', 'cv_seed': 35, 'dataset_contrast': '0.03'}\n"
     ]
    },
    {
     "name": "stderr",
     "output_type": "stream",
     "text": [
      "\r",
      "  1%|          | 5/546 [00:01<02:55,  3.09it/s]"
     ]
    },
    {
     "name": "stdout",
     "output_type": "stream",
     "text": [
      "Working on  {'cv_fraction': Decimal('0.800'), 'csc_hash': '278e048c46b21ed361389623594ea8b38933a73e', 'cv_seed': 35, 'dataset_contrast': '0.01'}\n"
     ]
    },
    {
     "name": "stderr",
     "output_type": "stream",
     "text": [
      "\r",
      "  1%|          | 6/546 [00:02<03:08,  2.87it/s]"
     ]
    },
    {
     "name": "stdout",
     "output_type": "stream",
     "text": [
      "Working on  {'cv_fraction': Decimal('0.800'), 'csc_hash': 'e19611e63e2448a5a575112f05dea655901566da', 'cv_seed': 35, 'dataset_contrast': '0.16'}\n"
     ]
    },
    {
     "name": "stderr",
     "output_type": "stream",
     "text": [
      "\r",
      "  1%|▏         | 7/546 [00:02<03:12,  2.80it/s]"
     ]
    },
    {
     "name": "stdout",
     "output_type": "stream",
     "text": [
      "Working on  {'cv_fraction': Decimal('0.800'), 'csc_hash': 'c08355b6a9f2f4150768beed27a2f029b00afb7c', 'cv_seed': 35, 'dataset_contrast': '0.06'}\n"
     ]
    },
    {
     "name": "stderr",
     "output_type": "stream",
     "text": [
      "\r",
      "  1%|▏         | 8/546 [00:02<03:13,  2.78it/s]"
     ]
    },
    {
     "name": "stdout",
     "output_type": "stream",
     "text": [
      "Working on  {'cv_fraction': Decimal('0.800'), 'csc_hash': '51b960a5b405e0e962575d2243e7561adc7efbff', 'cv_seed': 35, 'dataset_contrast': '0.04'}\n"
     ]
    },
    {
     "name": "stderr",
     "output_type": "stream",
     "text": [
      "\r",
      "  2%|▏         | 9/546 [00:03<03:14,  2.77it/s]"
     ]
    },
    {
     "name": "stdout",
     "output_type": "stream",
     "text": [
      "Working on  {'cv_fraction': Decimal('0.800'), 'csc_hash': 'e01c5eaaf24f05760951aaecf409f03a37914614', 'cv_seed': 35, 'dataset_contrast': '0.32'}\n"
     ]
    },
    {
     "name": "stderr",
     "output_type": "stream",
     "text": [
      "\r",
      "  2%|▏         | 10/546 [00:03<03:06,  2.87it/s]"
     ]
    },
    {
     "name": "stdout",
     "output_type": "stream",
     "text": [
      "Working on  {'cv_fraction': Decimal('0.800'), 'csc_hash': '20a36a57428b6a5ed8bd864ca4a3e4c9138c2243', 'cv_seed': 35, 'dataset_contrast': '0.005'}\n"
     ]
    },
    {
     "name": "stderr",
     "output_type": "stream",
     "text": [
      "\r",
      "  2%|▏         | 11/546 [00:03<03:14,  2.75it/s]"
     ]
    },
    {
     "name": "stdout",
     "output_type": "stream",
     "text": [
      "Working on  {'cv_fraction': Decimal('0.800'), 'csc_hash': 'e487412b5a2cd5fee148f559ede07a9f9a01fefe', 'cv_seed': 35, 'dataset_contrast': '0.01'}\n"
     ]
    },
    {
     "name": "stderr",
     "output_type": "stream",
     "text": [
      "  2%|▏         | 13/546 [00:04<02:59,  2.97it/s]"
     ]
    },
    {
     "name": "stdout",
     "output_type": "stream",
     "text": [
      "Working on  {'cv_fraction': Decimal('0.800'), 'csc_hash': 'b0025d7ceed62df92948b7b9ee24ca5af4430819', 'cv_seed': 35, 'dataset_contrast': '0.32'}\n",
      "Working on  {'cv_fraction': Decimal('0.800'), 'csc_hash': '28c77b71e75b7840db8647d1b8c057d11bec0ac6', 'cv_seed': 35, 'dataset_contrast': '0.0075'}\n",
      "Working on  {'cv_fraction': Decimal('0.800'), 'csc_hash': 'ddcdce38e20102738ed904dcdd3382b628133670', 'cv_seed': 35, 'dataset_contrast': '0.9'}\n"
     ]
    },
    {
     "name": "stderr",
     "output_type": "stream",
     "text": [
      "\r",
      "  3%|▎         | 15/546 [00:04<02:46,  3.19it/s]"
     ]
    },
    {
     "name": "stdout",
     "output_type": "stream",
     "text": [
      "Working on  {'cv_fraction': Decimal('0.800'), 'csc_hash': '5fd8a24ea5da186d064a03cebcf1c7f00c055b32', 'cv_seed': 35, 'dataset_contrast': '0.04'}\n"
     ]
    },
    {
     "name": "stderr",
     "output_type": "stream",
     "text": [
      "\r",
      "  3%|▎         | 16/546 [00:04<02:43,  3.25it/s]"
     ]
    },
    {
     "name": "stdout",
     "output_type": "stream",
     "text": [
      "Working on  {'cv_fraction': Decimal('0.800'), 'csc_hash': '78e8463fc9152455bb0d127793479c1e79bc99db', 'cv_seed': 35, 'dataset_contrast': '0.03'}\n"
     ]
    },
    {
     "name": "stderr",
     "output_type": "stream",
     "text": [
      "\r",
      "  3%|▎         | 17/546 [00:05<02:40,  3.29it/s]"
     ]
    },
    {
     "name": "stdout",
     "output_type": "stream",
     "text": [
      "Working on  {'cv_fraction': Decimal('0.800'), 'csc_hash': '921f51f43417bd8069c1c6397b95ca87f99e62e9', 'cv_seed': 35, 'dataset_contrast': '0.0075'}\n"
     ]
    },
    {
     "name": "stderr",
     "output_type": "stream",
     "text": [
      "\r",
      "  3%|▎         | 18/546 [00:05<02:38,  3.33it/s]"
     ]
    },
    {
     "name": "stdout",
     "output_type": "stream",
     "text": [
      "Working on  {'cv_fraction': Decimal('0.800'), 'csc_hash': '62eb64f1639bcd29c9bdb9f49b9f0127d8a3e7ab', 'cv_seed': 35, 'dataset_contrast': '0.08'}\n"
     ]
    },
    {
     "name": "stderr",
     "output_type": "stream",
     "text": [
      "  4%|▎         | 20/546 [00:05<02:36,  3.37it/s]"
     ]
    },
    {
     "name": "stdout",
     "output_type": "stream",
     "text": [
      "Working on  {'cv_fraction': Decimal('0.800'), 'csc_hash': 'c0cdbfe32ed3bcf23585f5e492c48d2a12b70e88', 'cv_seed': 35, 'dataset_contrast': '0.005'}\n",
      "Working on  {'cv_fraction': Decimal('0.800'), 'csc_hash': '24770feca3fe6c70354771176ee82ce018f35fc3', 'cv_seed': 35, 'dataset_contrast': '0.12'}\n"
     ]
    },
    {
     "name": "stderr",
     "output_type": "stream",
     "text": [
      "  4%|▍         | 22/546 [00:06<02:33,  3.41it/s]"
     ]
    },
    {
     "name": "stdout",
     "output_type": "stream",
     "text": [
      "Working on  {'cv_fraction': Decimal('0.800'), 'csc_hash': '79d12eb4817ad9af0e1dde52b3781abf70e433c3', 'cv_seed': 35, 'dataset_contrast': '0.01'}\n",
      "Working on  {'cv_fraction': Decimal('0.800'), 'csc_hash': '64ffffc3f24c83fc605e0f961ec3a492b70e0c48', 'cv_seed': 35, 'dataset_contrast': '0.005'}\n"
     ]
    },
    {
     "name": "stderr",
     "output_type": "stream",
     "text": [
      "\r",
      "  4%|▍         | 23/546 [00:06<02:32,  3.42it/s]"
     ]
    },
    {
     "name": "stdout",
     "output_type": "stream",
     "text": [
      "Working on  {'cv_fraction': Decimal('0.800'), 'csc_hash': '28d193a484b1d17b97f974b84d3b7d84e1f6b399', 'cv_seed': 35, 'dataset_contrast': '1'}\n"
     ]
    },
    {
     "name": "stderr",
     "output_type": "stream",
     "text": [
      "  5%|▍         | 25/546 [00:07<02:32,  3.42it/s]"
     ]
    },
    {
     "name": "stdout",
     "output_type": "stream",
     "text": [
      "Working on  {'cv_fraction': Decimal('0.800'), 'csc_hash': 'f19561c9195be7722c1d2073406f97ffc359d63d', 'cv_seed': 35, 'dataset_contrast': '1'}\n",
      "Working on  {'cv_fraction': Decimal('0.800'), 'csc_hash': '993a53d8700df5e6739c48783231b7beb275d8fb', 'cv_seed': 35, 'dataset_contrast': '0.06'}\n"
     ]
    },
    {
     "name": "stderr",
     "output_type": "stream",
     "text": [
      "\r",
      "  5%|▍         | 26/546 [00:07<02:33,  3.40it/s]"
     ]
    },
    {
     "name": "stdout",
     "output_type": "stream",
     "text": [
      "Working on  {'cv_fraction': Decimal('0.800'), 'csc_hash': '20a36a57428b6a5ed8bd864ca4a3e4c9138c2243', 'cv_seed': 35, 'dataset_contrast': '1'}\n"
     ]
    },
    {
     "name": "stderr",
     "output_type": "stream",
     "text": [
      "\r",
      "  5%|▍         | 27/546 [00:08<02:37,  3.30it/s]"
     ]
    },
    {
     "name": "stdout",
     "output_type": "stream",
     "text": [
      "Working on  {'cv_fraction': Decimal('0.800'), 'csc_hash': '34f05caf601a3685942af9ca472161f466b80dbd', 'cv_seed': 35, 'dataset_contrast': '0.005'}\n"
     ]
    },
    {
     "name": "stderr",
     "output_type": "stream",
     "text": [
      "\r",
      "  5%|▌         | 28/546 [00:08<02:35,  3.33it/s]"
     ]
    },
    {
     "name": "stdout",
     "output_type": "stream",
     "text": [
      "Working on  {'cv_fraction': Decimal('0.800'), 'csc_hash': '0c962104ee2d677c7e2c50c109202dbe6df0f166', 'cv_seed': 35, 'dataset_contrast': '0.04'}\n"
     ]
    },
    {
     "name": "stderr",
     "output_type": "stream",
     "text": [
      "\r",
      "  5%|▌         | 29/546 [00:08<02:34,  3.34it/s]"
     ]
    },
    {
     "name": "stdout",
     "output_type": "stream",
     "text": [
      "Working on  {'cv_fraction': Decimal('0.800'), 'csc_hash': 'bce87e9de88daa25cd41adf7121ca8cc2b8e87f4', 'cv_seed': 35, 'dataset_contrast': '0.005'}\n"
     ]
    },
    {
     "name": "stderr",
     "output_type": "stream",
     "text": [
      "\r",
      "  5%|▌         | 30/546 [00:09<02:35,  3.31it/s]"
     ]
    },
    {
     "name": "stdout",
     "output_type": "stream",
     "text": [
      "Working on  {'cv_fraction': Decimal('0.800'), 'csc_hash': '0534116fd0aea4c6fdc4b8908c1fa5fd3d48e5b7', 'cv_seed': 35, 'dataset_contrast': '0.04'}\n"
     ]
    },
    {
     "name": "stderr",
     "output_type": "stream",
     "text": [
      "\r",
      "  6%|▌         | 31/546 [00:09<02:35,  3.31it/s]"
     ]
    },
    {
     "name": "stdout",
     "output_type": "stream",
     "text": [
      "Working on  {'cv_fraction': Decimal('0.800'), 'csc_hash': '2874cecca06db7eb61ecf6919002882749b57f5e', 'cv_seed': 35, 'dataset_contrast': '0.02'}\n"
     ]
    },
    {
     "name": "stderr",
     "output_type": "stream",
     "text": [
      "\r",
      "  6%|▌         | 32/546 [00:09<02:34,  3.32it/s]"
     ]
    },
    {
     "name": "stdout",
     "output_type": "stream",
     "text": [
      "Working on  {'cv_fraction': Decimal('0.800'), 'csc_hash': 'bce87e9de88daa25cd41adf7121ca8cc2b8e87f4', 'cv_seed': 35, 'dataset_contrast': '0.16'}\n"
     ]
    },
    {
     "name": "stderr",
     "output_type": "stream",
     "text": [
      "\r",
      "  6%|▌         | 33/546 [00:10<02:35,  3.29it/s]"
     ]
    },
    {
     "name": "stdout",
     "output_type": "stream",
     "text": [
      "Working on  {'cv_fraction': Decimal('0.800'), 'csc_hash': 'ed0b7c069ce7a54a69d117f86b23fd47aea167da', 'cv_seed': 35, 'dataset_contrast': '0.005'}\n"
     ]
    },
    {
     "name": "stderr",
     "output_type": "stream",
     "text": [
      "\r",
      "  6%|▌         | 34/546 [00:10<02:37,  3.26it/s]"
     ]
    },
    {
     "name": "stdout",
     "output_type": "stream",
     "text": [
      "Working on  {'cv_fraction': Decimal('0.800'), 'csc_hash': '32d0da84f717b430c94d198ab0c28ae6a61e7960', 'cv_seed': 35, 'dataset_contrast': '0.1'}\n"
     ]
    },
    {
     "name": "stderr",
     "output_type": "stream",
     "text": [
      "\r",
      "  6%|▋         | 35/546 [00:10<02:36,  3.26it/s]"
     ]
    },
    {
     "name": "stdout",
     "output_type": "stream",
     "text": [
      "Working on  {'cv_fraction': Decimal('0.800'), 'csc_hash': 'dd3a08df47c7b50bd9192dcecb31af5bdf191e88', 'cv_seed': 35, 'dataset_contrast': '0.0075'}\n"
     ]
    },
    {
     "name": "stderr",
     "output_type": "stream",
     "text": [
      "  7%|▋         | 37/546 [00:11<02:34,  3.30it/s]"
     ]
    },
    {
     "name": "stdout",
     "output_type": "stream",
     "text": [
      "Working on  {'cv_fraction': Decimal('0.800'), 'csc_hash': '1aed66333230d886982b798fc3a5ab34f42449d0', 'cv_seed': 35, 'dataset_contrast': '0.1'}\n",
      "Working on  {'cv_fraction': Decimal('0.800'), 'csc_hash': 'b0770636ec15e0cf6a0b0075f098916086573c79', 'cv_seed': 35, 'dataset_contrast': '0.0075'}\n"
     ]
    },
    {
     "name": "stderr",
     "output_type": "stream",
     "text": [
      "\r",
      "  7%|▋         | 38/546 [00:11<02:34,  3.29it/s]"
     ]
    },
    {
     "name": "stdout",
     "output_type": "stream",
     "text": [
      "Working on  {'cv_fraction': Decimal('0.800'), 'csc_hash': 'a36d70e445640a518daf60e852a8f72716479db8', 'cv_seed': 35, 'dataset_contrast': '0.8'}\n"
     ]
    },
    {
     "name": "stderr",
     "output_type": "stream",
     "text": [
      "  7%|▋         | 40/546 [00:12<02:34,  3.28it/s]"
     ]
    },
    {
     "name": "stdout",
     "output_type": "stream",
     "text": [
      "Working on  {'cv_fraction': Decimal('0.800'), 'csc_hash': 'c0cdbfe32ed3bcf23585f5e492c48d2a12b70e88', 'cv_seed': 35, 'dataset_contrast': '0.1'}\n"
     ]
    },
    {
     "name": "stderr",
     "output_type": "stream",
     "text": [
      "\r",
      "  8%|▊         | 41/546 [00:12<02:31,  3.33it/s]"
     ]
    },
    {
     "name": "stdout",
     "output_type": "stream",
     "text": [
      "Working on  {'cv_fraction': Decimal('0.800'), 'csc_hash': '9251fde390751ae17a47331d5d9fe43785bff226', 'cv_seed': 35, 'dataset_contrast': '0.005'}\n",
      "Working on  {'cv_fraction': Decimal('0.800'), 'csc_hash': 'b16b9965df7f1b5e5d53a4b230cb2d6431fbc4de', 'cv_seed': 35, 'dataset_contrast': '0.005'}\n"
     ]
    },
    {
     "name": "stderr",
     "output_type": "stream",
     "text": [
      "\r",
      "  8%|▊         | 42/546 [00:12<02:31,  3.32it/s]"
     ]
    },
    {
     "name": "stdout",
     "output_type": "stream",
     "text": [
      "Working on  {'cv_fraction': Decimal('0.800'), 'csc_hash': '8ec098f0eff3b20dab37294915f83a883ed89039', 'cv_seed': 35, 'dataset_contrast': '0.04'}\n"
     ]
    },
    {
     "name": "stderr",
     "output_type": "stream",
     "text": [
      "  8%|▊         | 44/546 [00:13<02:30,  3.33it/s]"
     ]
    },
    {
     "name": "stdout",
     "output_type": "stream",
     "text": [
      "Working on  {'cv_fraction': Decimal('0.800'), 'csc_hash': 'fd79483ca30feea2d7d5abf36d097bbc9b1d5862', 'cv_seed': 35, 'dataset_contrast': '0.005'}\n",
      "Working on  {'cv_fraction': Decimal('0.800'), 'csc_hash': 'ed0b7c069ce7a54a69d117f86b23fd47aea167da', 'cv_seed': 35, 'dataset_contrast': '0.16'}\n"
     ]
    },
    {
     "name": "stderr",
     "output_type": "stream",
     "text": [
      "\r",
      "  8%|▊         | 45/546 [00:13<02:30,  3.32it/s]"
     ]
    },
    {
     "name": "stdout",
     "output_type": "stream",
     "text": [
      "Working on  {'cv_fraction': Decimal('0.800'), 'csc_hash': '2874cecca06db7eb61ecf6919002882749b57f5e', 'cv_seed': 35, 'dataset_contrast': '0.05'}\n"
     ]
    },
    {
     "name": "stderr",
     "output_type": "stream",
     "text": [
      "\r",
      "  8%|▊         | 46/546 [00:13<02:30,  3.31it/s]"
     ]
    },
    {
     "name": "stdout",
     "output_type": "stream",
     "text": [
      "Working on  {'cv_fraction': Decimal('0.800'), 'csc_hash': 'e1c10126aa8e05160780201356872acee656c82f', 'cv_seed': 35, 'dataset_contrast': '0.02'}\n"
     ]
    },
    {
     "name": "stderr",
     "output_type": "stream",
     "text": [
      "\r",
      "  9%|▊         | 47/546 [00:14<02:29,  3.33it/s]"
     ]
    },
    {
     "name": "stdout",
     "output_type": "stream",
     "text": [
      "Working on  {'cv_fraction': Decimal('0.800'), 'csc_hash': '80c9c2cb0c2391c599471322e8299003a23698f0', 'cv_seed': 35, 'dataset_contrast': '0.04'}\n"
     ]
    },
    {
     "name": "stderr",
     "output_type": "stream",
     "text": [
      "\r",
      "  9%|▉         | 48/546 [00:14<02:30,  3.30it/s]"
     ]
    },
    {
     "name": "stdout",
     "output_type": "stream",
     "text": [
      "Working on  {'cv_fraction': Decimal('0.800'), 'csc_hash': 'fe61e21a3e13a93f11e9bc1f24663db66c409ae5', 'cv_seed': 35, 'dataset_contrast': '0.1'}\n"
     ]
    },
    {
     "name": "stderr",
     "output_type": "stream",
     "text": [
      "\r",
      "  9%|▉         | 49/546 [00:14<02:30,  3.30it/s]"
     ]
    },
    {
     "name": "stdout",
     "output_type": "stream",
     "text": [
      "Working on  {'cv_fraction': Decimal('0.800'), 'csc_hash': '97c8f15c66f1b50b7ae3065019d147918f3a7e70', 'cv_seed': 35, 'dataset_contrast': '0.64'}\n"
     ]
    },
    {
     "name": "stderr",
     "output_type": "stream",
     "text": [
      "\r",
      "  9%|▉         | 50/546 [00:15<02:30,  3.30it/s]"
     ]
    },
    {
     "name": "stdout",
     "output_type": "stream",
     "text": [
      "Working on  {'cv_fraction': Decimal('0.800'), 'csc_hash': '0821d6c856639dcb7bb67b1dc8d0f2339b60e27f', 'cv_seed': 35, 'dataset_contrast': '0.04'}\n"
     ]
    },
    {
     "name": "stderr",
     "output_type": "stream",
     "text": [
      "\r",
      "  9%|▉         | 51/546 [00:15<02:30,  3.29it/s]"
     ]
    },
    {
     "name": "stdout",
     "output_type": "stream",
     "text": [
      "Working on  {'cv_fraction': Decimal('0.800'), 'csc_hash': 'ed0b7c069ce7a54a69d117f86b23fd47aea167da', 'cv_seed': 35, 'dataset_contrast': '0.08'}\n"
     ]
    },
    {
     "name": "stderr",
     "output_type": "stream",
     "text": [
      "\r",
      " 10%|▉         | 52/546 [00:15<02:30,  3.27it/s]"
     ]
    },
    {
     "name": "stdout",
     "output_type": "stream",
     "text": [
      "Working on  {'cv_fraction': Decimal('0.800'), 'csc_hash': '574db9f788473f56a4ac236a2bc85d4f569ef9d0', 'cv_seed': 35, 'dataset_contrast': '0.0075'}\n"
     ]
    },
    {
     "name": "stderr",
     "output_type": "stream",
     "text": [
      "\r",
      " 10%|▉         | 53/546 [00:16<02:31,  3.26it/s]"
     ]
    },
    {
     "name": "stdout",
     "output_type": "stream",
     "text": [
      "Working on  {'cv_fraction': Decimal('0.800'), 'csc_hash': 'ddcdce38e20102738ed904dcdd3382b628133670', 'cv_seed': 35, 'dataset_contrast': '0.1'}\n"
     ]
    },
    {
     "name": "stderr",
     "output_type": "stream",
     "text": [
      "\r",
      " 10%|▉         | 54/546 [00:16<02:30,  3.26it/s]"
     ]
    },
    {
     "name": "stdout",
     "output_type": "stream",
     "text": [
      "Working on  {'cv_fraction': Decimal('0.800'), 'csc_hash': 'a36d70e445640a518daf60e852a8f72716479db8', 'cv_seed': 35, 'dataset_contrast': '0.3'}\n"
     ]
    },
    {
     "name": "stderr",
     "output_type": "stream",
     "text": [
      "\r",
      " 10%|█         | 55/546 [00:16<02:31,  3.24it/s]"
     ]
    },
    {
     "name": "stdout",
     "output_type": "stream",
     "text": [
      "Working on  {'cv_fraction': Decimal('0.800'), 'csc_hash': '475f38c7100db2ad340ea0cebf2e2e12316d5185', 'cv_seed': 35, 'dataset_contrast': '0.005'}\n"
     ]
    },
    {
     "name": "stderr",
     "output_type": "stream",
     "text": [
      "\r",
      " 10%|█         | 56/546 [00:17<02:31,  3.24it/s]"
     ]
    },
    {
     "name": "stdout",
     "output_type": "stream",
     "text": [
      "Working on  {'cv_fraction': Decimal('0.800'), 'csc_hash': '25f592a512ad65e9a57919e7b3275088426f038a', 'cv_seed': 35, 'dataset_contrast': '0.04'}\n"
     ]
    },
    {
     "name": "stderr",
     "output_type": "stream",
     "text": [
      "\r",
      " 10%|█         | 57/546 [00:17<02:31,  3.23it/s]"
     ]
    },
    {
     "name": "stdout",
     "output_type": "stream",
     "text": [
      "Working on  {'cv_fraction': Decimal('0.800'), 'csc_hash': 'f2bb838d18277349a62ea2d930d0888f432a461e', 'cv_seed': 35, 'dataset_contrast': '0.04'}\n"
     ]
    },
    {
     "name": "stderr",
     "output_type": "stream",
     "text": [
      "\r",
      " 11%|█         | 58/546 [00:17<02:30,  3.24it/s]"
     ]
    },
    {
     "name": "stdout",
     "output_type": "stream",
     "text": [
      "Working on  {'cv_fraction': Decimal('0.800'), 'csc_hash': 'da82473ef9ed7a9774c6bcaea8c3bd28d5fcf1cc', 'cv_seed': 35, 'dataset_contrast': '0.01'}\n"
     ]
    },
    {
     "name": "stderr",
     "output_type": "stream",
     "text": [
      "\r",
      " 11%|█         | 59/546 [00:18<02:31,  3.22it/s]"
     ]
    },
    {
     "name": "stdout",
     "output_type": "stream",
     "text": [
      "Working on  {'cv_fraction': Decimal('0.800'), 'csc_hash': '8bb906b3dbb93d13ab554508dbd52e4c847112c8', 'cv_seed': 35, 'dataset_contrast': '0.08'}\n"
     ]
    },
    {
     "name": "stderr",
     "output_type": "stream",
     "text": [
      "\r",
      " 11%|█         | 60/546 [00:18<02:31,  3.20it/s]"
     ]
    },
    {
     "name": "stdout",
     "output_type": "stream",
     "text": [
      "Working on  {'cv_fraction': Decimal('0.800'), 'csc_hash': '8fa512d98266eb90a060819cc5e751ba72649ca7', 'cv_seed': 35, 'dataset_contrast': '0.0075'}\n"
     ]
    },
    {
     "name": "stderr",
     "output_type": "stream",
     "text": [
      "\r",
      " 11%|█         | 61/546 [00:18<02:30,  3.22it/s]"
     ]
    },
    {
     "name": "stdout",
     "output_type": "stream",
     "text": [
      "Working on  {'cv_fraction': Decimal('0.800'), 'csc_hash': 'e3f0fe623e38121668a6e556fa0f4d0dc8a5747d', 'cv_seed': 35, 'dataset_contrast': '0.01'}\n"
     ]
    },
    {
     "name": "stderr",
     "output_type": "stream",
     "text": [
      " 12%|█▏        | 63/546 [00:19<02:29,  3.23it/s]"
     ]
    },
    {
     "name": "stdout",
     "output_type": "stream",
     "text": [
      "Working on  {'cv_fraction': Decimal('0.800'), 'csc_hash': 'f19561c9195be7722c1d2073406f97ffc359d63d', 'cv_seed': 35, 'dataset_contrast': '0.0075'}\n",
      "Working on  {'cv_fraction': Decimal('0.800'), 'csc_hash': '0ab391586f486b3f48e18f056a2b136480255965', 'cv_seed': 35, 'dataset_contrast': '0.08'}\n"
     ]
    },
    {
     "name": "stderr",
     "output_type": "stream",
     "text": [
      "\r",
      " 12%|█▏        | 64/546 [00:19<02:29,  3.23it/s]"
     ]
    },
    {
     "name": "stdout",
     "output_type": "stream",
     "text": [
      "Working on  {'cv_fraction': Decimal('0.800'), 'csc_hash': '63c91a4642efd7c59d1a3d6fd9617ce01965a321', 'cv_seed': 35, 'dataset_contrast': '0.02'}\n"
     ]
    },
    {
     "name": "stderr",
     "output_type": "stream",
     "text": [
      "\r",
      " 12%|█▏        | 65/546 [00:20<02:28,  3.23it/s]"
     ]
    },
    {
     "name": "stdout",
     "output_type": "stream",
     "text": [
      "Working on  {'cv_fraction': Decimal('0.800'), 'csc_hash': '921f51f43417bd8069c1c6397b95ca87f99e62e9', 'cv_seed': 35, 'dataset_contrast': '0.02'}\n"
     ]
    },
    {
     "name": "stderr",
     "output_type": "stream",
     "text": [
      "\r",
      " 12%|█▏        | 66/546 [00:20<02:28,  3.24it/s]"
     ]
    },
    {
     "name": "stdout",
     "output_type": "stream",
     "text": [
      "Working on  {'cv_fraction': Decimal('0.800'), 'csc_hash': '0534116fd0aea4c6fdc4b8908c1fa5fd3d48e5b7', 'cv_seed': 35, 'dataset_contrast': '0.32'}\n"
     ]
    },
    {
     "name": "stderr",
     "output_type": "stream",
     "text": [
      "\r",
      " 12%|█▏        | 67/546 [00:20<02:27,  3.24it/s]"
     ]
    },
    {
     "name": "stdout",
     "output_type": "stream",
     "text": [
      "Working on  {'cv_fraction': Decimal('0.800'), 'csc_hash': 'a36d70e445640a518daf60e852a8f72716479db8', 'cv_seed': 35, 'dataset_contrast': '1'}\n"
     ]
    },
    {
     "name": "stderr",
     "output_type": "stream",
     "text": [
      "\r",
      " 12%|█▏        | 68/546 [00:21<02:28,  3.22it/s]"
     ]
    },
    {
     "name": "stdout",
     "output_type": "stream",
     "text": [
      "Working on  {'cv_fraction': Decimal('0.800'), 'csc_hash': '8bb906b3dbb93d13ab554508dbd52e4c847112c8', 'cv_seed': 35, 'dataset_contrast': '0.005'}\n"
     ]
    },
    {
     "name": "stderr",
     "output_type": "stream",
     "text": [
      "\r",
      " 13%|█▎        | 69/546 [00:21<02:28,  3.20it/s]"
     ]
    },
    {
     "name": "stdout",
     "output_type": "stream",
     "text": [
      "Working on  {'cv_fraction': Decimal('0.800'), 'csc_hash': '0e923470fc00654ba73820360da5af6e80f2e3d4', 'cv_seed': 35, 'dataset_contrast': '0.16'}\n"
     ]
    },
    {
     "name": "stderr",
     "output_type": "stream",
     "text": [
      "\r",
      " 13%|█▎        | 70/546 [00:21<02:28,  3.20it/s]"
     ]
    },
    {
     "name": "stdout",
     "output_type": "stream",
     "text": [
      "Working on  {'cv_fraction': Decimal('0.800'), 'csc_hash': 'e487412b5a2cd5fee148f559ede07a9f9a01fefe', 'cv_seed': 35, 'dataset_contrast': '0.1'}\n"
     ]
    },
    {
     "name": "stderr",
     "output_type": "stream",
     "text": [
      "\r",
      " 13%|█▎        | 71/546 [00:22<02:27,  3.21it/s]"
     ]
    },
    {
     "name": "stdout",
     "output_type": "stream",
     "text": [
      "Working on  {'cv_fraction': Decimal('0.800'), 'csc_hash': '1e1c78836c0115d40394bd38973b788d4158d4af', 'cv_seed': 35, 'dataset_contrast': '0.05'}\n"
     ]
    },
    {
     "name": "stderr",
     "output_type": "stream",
     "text": [
      "\r",
      " 13%|█▎        | 72/546 [00:22<02:26,  3.22it/s]"
     ]
    },
    {
     "name": "stdout",
     "output_type": "stream",
     "text": [
      "Working on  {'cv_fraction': Decimal('0.800'), 'csc_hash': '8bb906b3dbb93d13ab554508dbd52e4c847112c8', 'cv_seed': 35, 'dataset_contrast': '0.5'}\n"
     ]
    },
    {
     "name": "stderr",
     "output_type": "stream",
     "text": [
      "\r",
      " 13%|█▎        | 73/546 [00:22<02:27,  3.21it/s]"
     ]
    },
    {
     "name": "stdout",
     "output_type": "stream",
     "text": [
      "Working on  {'cv_fraction': Decimal('0.800'), 'csc_hash': '2441b179d24aa5ce319adfc6c94609737cd167c6', 'cv_seed': 35, 'dataset_contrast': '0.32'}\n"
     ]
    },
    {
     "name": "stderr",
     "output_type": "stream",
     "text": [
      "\r",
      " 14%|█▎        | 74/546 [00:23<02:26,  3.22it/s]"
     ]
    },
    {
     "name": "stdout",
     "output_type": "stream",
     "text": [
      "Working on  {'cv_fraction': Decimal('0.800'), 'csc_hash': '8f9104716b85c7f752851679c69d15b514ebd679', 'cv_seed': 35, 'dataset_contrast': '0.0075'}\n"
     ]
    },
    {
     "name": "stderr",
     "output_type": "stream",
     "text": [
      "\r",
      " 14%|█▎        | 75/546 [00:23<02:26,  3.22it/s]"
     ]
    },
    {
     "name": "stdout",
     "output_type": "stream",
     "text": [
      "Working on  {'cv_fraction': Decimal('0.800'), 'csc_hash': 'b6fe0cd3e7186030efe8b3537ec6b7f6eda9d493', 'cv_seed': 35, 'dataset_contrast': '0.32'}\n"
     ]
    },
    {
     "name": "stderr",
     "output_type": "stream",
     "text": [
      " 14%|█▍        | 77/546 [00:23<02:24,  3.24it/s]"
     ]
    },
    {
     "name": "stdout",
     "output_type": "stream",
     "text": [
      "Working on  {'cv_fraction': Decimal('0.800'), 'csc_hash': 'f19561c9195be7722c1d2073406f97ffc359d63d', 'cv_seed': 35, 'dataset_contrast': '0.06'}\n",
      "Working on  {'cv_fraction': Decimal('0.800'), 'csc_hash': '28d193a484b1d17b97f974b84d3b7d84e1f6b399', 'cv_seed': 35, 'dataset_contrast': '0.16'}\n"
     ]
    },
    {
     "name": "stderr",
     "output_type": "stream",
     "text": [
      "\r",
      " 14%|█▍        | 78/546 [00:24<02:24,  3.23it/s]"
     ]
    },
    {
     "name": "stdout",
     "output_type": "stream",
     "text": [
      "Working on  {'cv_fraction': Decimal('0.800'), 'csc_hash': '7240493ec90558085126e57ff8babdab870b0f6a', 'cv_seed': 35, 'dataset_contrast': '0.32'}\n"
     ]
    },
    {
     "name": "stderr",
     "output_type": "stream",
     "text": [
      "\r",
      " 14%|█▍        | 79/546 [00:24<02:25,  3.22it/s]"
     ]
    },
    {
     "name": "stdout",
     "output_type": "stream",
     "text": [
      "Working on  {'cv_fraction': Decimal('0.800'), 'csc_hash': '78e8463fc9152455bb0d127793479c1e79bc99db', 'cv_seed': 35, 'dataset_contrast': '0.1'}\n"
     ]
    },
    {
     "name": "stderr",
     "output_type": "stream",
     "text": [
      "\r",
      " 15%|█▍        | 80/546 [00:24<02:24,  3.22it/s]"
     ]
    },
    {
     "name": "stdout",
     "output_type": "stream",
     "text": [
      "Working on  {'cv_fraction': Decimal('0.800'), 'csc_hash': '79d12eb4817ad9af0e1dde52b3781abf70e433c3', 'cv_seed': 35, 'dataset_contrast': '0.04'}\n"
     ]
    },
    {
     "name": "stderr",
     "output_type": "stream",
     "text": [
      " 15%|█▌        | 82/546 [00:25<02:22,  3.26it/s]"
     ]
    },
    {
     "name": "stdout",
     "output_type": "stream",
     "text": [
      "Working on  {'cv_fraction': Decimal('0.800'), 'csc_hash': '91e16dafba5483f2d23552a98451f57a92357a4f', 'cv_seed': 35, 'dataset_contrast': '0.04'}\n",
      "Working on  {'cv_fraction': Decimal('0.800'), 'csc_hash': '93c32a7a1ab86a004775787e8de6ffa9bcc151d0', 'cv_seed': 35, 'dataset_contrast': '0.1'}\n"
     ]
    },
    {
     "name": "stderr",
     "output_type": "stream",
     "text": [
      "\r",
      " 15%|█▌        | 83/546 [00:25<02:21,  3.27it/s]"
     ]
    },
    {
     "name": "stdout",
     "output_type": "stream",
     "text": [
      "Working on  {'cv_fraction': Decimal('0.800'), 'csc_hash': '574db9f788473f56a4ac236a2bc85d4f569ef9d0', 'cv_seed': 35, 'dataset_contrast': '0.8'}\n"
     ]
    },
    {
     "name": "stderr",
     "output_type": "stream",
     "text": [
      "\r",
      " 15%|█▌        | 84/546 [00:25<02:21,  3.27it/s]"
     ]
    },
    {
     "name": "stdout",
     "output_type": "stream",
     "text": [
      "Working on  {'cv_fraction': Decimal('0.800'), 'csc_hash': 'b0770636ec15e0cf6a0b0075f098916086573c79', 'cv_seed': 35, 'dataset_contrast': '1'}\n"
     ]
    },
    {
     "name": "stderr",
     "output_type": "stream",
     "text": [
      " 16%|█▌        | 86/546 [00:26<02:20,  3.29it/s]"
     ]
    },
    {
     "name": "stdout",
     "output_type": "stream",
     "text": [
      "Working on  {'cv_fraction': Decimal('0.800'), 'csc_hash': 'b9f76f14cb3f856fae883a6840561821a77371bd', 'cv_seed': 35, 'dataset_contrast': '0.02'}\n",
      "Working on  {'cv_fraction': Decimal('0.800'), 'csc_hash': '968ccebe5a33a8b1512d1df15913951240160c2c', 'cv_seed': 35, 'dataset_contrast': '0.04'}\n"
     ]
    },
    {
     "name": "stderr",
     "output_type": "stream",
     "text": [
      "\r",
      " 16%|█▌        | 87/546 [00:26<02:19,  3.29it/s]"
     ]
    },
    {
     "name": "stdout",
     "output_type": "stream",
     "text": [
      "Working on  {'cv_fraction': Decimal('0.800'), 'csc_hash': '4ed410917f1ddd18c4244db0eeb1cc8e43e3bdf4', 'cv_seed': 35, 'dataset_contrast': '0.2'}\n",
      "Working on  {'cv_fraction': Decimal('0.800'), 'csc_hash': 'a36d70e445640a518daf60e852a8f72716479db8', 'cv_seed': 35, 'dataset_contrast': '0.03'}\n"
     ]
    },
    {
     "name": "stderr",
     "output_type": "stream",
     "text": [
      " 16%|█▋        | 90/546 [00:27<02:17,  3.32it/s]"
     ]
    },
    {
     "name": "stdout",
     "output_type": "stream",
     "text": [
      "Working on  {'cv_fraction': Decimal('0.800'), 'csc_hash': '34f05caf601a3685942af9ca472161f466b80dbd', 'cv_seed': 35, 'dataset_contrast': '0.01'}\n",
      "Working on  {'cv_fraction': Decimal('0.800'), 'csc_hash': '20a36a57428b6a5ed8bd864ca4a3e4c9138c2243', 'cv_seed': 35, 'dataset_contrast': '0.08'}\n"
     ]
    },
    {
     "name": "stderr",
     "output_type": "stream",
     "text": [
      "\r",
      " 17%|█▋        | 91/546 [00:27<02:17,  3.31it/s]"
     ]
    },
    {
     "name": "stdout",
     "output_type": "stream",
     "text": [
      "Working on  {'cv_fraction': Decimal('0.800'), 'csc_hash': 'b0770636ec15e0cf6a0b0075f098916086573c79', 'cv_seed': 35, 'dataset_contrast': '0.005'}\n"
     ]
    },
    {
     "name": "stderr",
     "output_type": "stream",
     "text": [
      "\r",
      " 17%|█▋        | 92/546 [00:27<02:17,  3.31it/s]"
     ]
    },
    {
     "name": "stdout",
     "output_type": "stream",
     "text": [
      "Working on  {'cv_fraction': Decimal('0.800'), 'csc_hash': '2a40a1ed593276618990e54ebcbfa55e71d5a4ee', 'cv_seed': 35, 'dataset_contrast': '0.32'}\n"
     ]
    },
    {
     "name": "stderr",
     "output_type": "stream",
     "text": [
      "\r",
      " 17%|█▋        | 93/546 [00:28<02:17,  3.29it/s]"
     ]
    },
    {
     "name": "stdout",
     "output_type": "stream",
     "text": [
      "Working on  {'cv_fraction': Decimal('0.800'), 'csc_hash': 'e88233833d92c0cd7f912ddf8be1f127523eb7a2', 'cv_seed': 35, 'dataset_contrast': '0.02'}\n"
     ]
    },
    {
     "name": "stderr",
     "output_type": "stream",
     "text": [
      " 17%|█▋        | 95/546 [00:28<02:16,  3.32it/s]"
     ]
    },
    {
     "name": "stdout",
     "output_type": "stream",
     "text": [
      "Working on  {'cv_fraction': Decimal('0.800'), 'csc_hash': 'f19561c9195be7722c1d2073406f97ffc359d63d', 'cv_seed': 35, 'dataset_contrast': '0.5'}\n",
      "Working on  {'cv_fraction': Decimal('0.800'), 'csc_hash': '9fbcc29a6f2bcca8ebb94a15afc38db71fbd8e60', 'cv_seed': 35, 'dataset_contrast': '0.01'}\n"
     ]
    },
    {
     "name": "stderr",
     "output_type": "stream",
     "text": [
      "\r",
      " 18%|█▊        | 96/546 [00:29<02:16,  3.31it/s]"
     ]
    },
    {
     "name": "stdout",
     "output_type": "stream",
     "text": [
      "Working on  {'cv_fraction': Decimal('0.800'), 'csc_hash': '1f2c689e507320b1285689c255932d663a92d13c', 'cv_seed': 35, 'dataset_contrast': '0.01'}\n"
     ]
    },
    {
     "name": "stderr",
     "output_type": "stream",
     "text": [
      "\r",
      " 18%|█▊        | 97/546 [00:29<02:15,  3.32it/s]"
     ]
    },
    {
     "name": "stdout",
     "output_type": "stream",
     "text": [
      "Working on  {'cv_fraction': Decimal('0.800'), 'csc_hash': 'e1c10126aa8e05160780201356872acee656c82f', 'cv_seed': 35, 'dataset_contrast': '0.05'}\n"
     ]
    },
    {
     "name": "stderr",
     "output_type": "stream",
     "text": [
      "\r",
      " 18%|█▊        | 98/546 [00:29<02:14,  3.32it/s]"
     ]
    },
    {
     "name": "stdout",
     "output_type": "stream",
     "text": [
      "Working on  {'cv_fraction': Decimal('0.800'), 'csc_hash': 'bce87e9de88daa25cd41adf7121ca8cc2b8e87f4', 'cv_seed': 35, 'dataset_contrast': '0.5'}\n"
     ]
    },
    {
     "name": "stderr",
     "output_type": "stream",
     "text": [
      "\r",
      " 18%|█▊        | 99/546 [00:29<02:14,  3.32it/s]"
     ]
    },
    {
     "name": "stdout",
     "output_type": "stream",
     "text": [
      "Working on  {'cv_fraction': Decimal('0.800'), 'csc_hash': '1f2c689e507320b1285689c255932d663a92d13c', 'cv_seed': 35, 'dataset_contrast': '0.02'}\n"
     ]
    },
    {
     "name": "stderr",
     "output_type": "stream",
     "text": [
      " 18%|█▊        | 101/546 [00:30<02:13,  3.35it/s]"
     ]
    },
    {
     "name": "stdout",
     "output_type": "stream",
     "text": [
      "Working on  {'cv_fraction': Decimal('0.800'), 'csc_hash': 'f19561c9195be7722c1d2073406f97ffc359d63d', 'cv_seed': 35, 'dataset_contrast': '0.8'}\n",
      "Working on  {'cv_fraction': Decimal('0.800'), 'csc_hash': '465361b0d23c7ba52f10d70ddf3527f1e10fd266', 'cv_seed': 35, 'dataset_contrast': '0.01'}\n"
     ]
    },
    {
     "name": "stderr",
     "output_type": "stream",
     "text": [
      "\r",
      " 19%|█▊        | 102/546 [00:30<02:12,  3.35it/s]"
     ]
    },
    {
     "name": "stdout",
     "output_type": "stream",
     "text": [
      "Working on  {'cv_fraction': Decimal('0.800'), 'csc_hash': '8b19498cf522fff44c6f14c2c6a33cc5955d18a7', 'cv_seed': 35, 'dataset_contrast': '0.01'}\n"
     ]
    },
    {
     "name": "stderr",
     "output_type": "stream",
     "text": [
      "\r",
      " 19%|█▉        | 103/546 [00:30<02:12,  3.35it/s]"
     ]
    },
    {
     "name": "stdout",
     "output_type": "stream",
     "text": [
      "Working on  {'cv_fraction': Decimal('0.800'), 'csc_hash': 'bce87e9de88daa25cd41adf7121ca8cc2b8e87f4', 'cv_seed': 35, 'dataset_contrast': '0.0075'}\n"
     ]
    },
    {
     "name": "stderr",
     "output_type": "stream",
     "text": [
      "\r",
      " 19%|█▉        | 104/546 [00:31<02:12,  3.34it/s]"
     ]
    },
    {
     "name": "stdout",
     "output_type": "stream",
     "text": [
      "Working on  {'cv_fraction': Decimal('0.800'), 'csc_hash': '465361b0d23c7ba52f10d70ddf3527f1e10fd266', 'cv_seed': 35, 'dataset_contrast': '0.04'}\n"
     ]
    },
    {
     "name": "stderr",
     "output_type": "stream",
     "text": [
      " 19%|█▉        | 106/546 [00:31<02:10,  3.36it/s]"
     ]
    },
    {
     "name": "stdout",
     "output_type": "stream",
     "text": [
      "Working on  {'cv_fraction': Decimal('0.800'), 'csc_hash': '24b07dfa5c6deddc1e99948823ec85b14d5bfd79', 'cv_seed': 35, 'dataset_contrast': '0.1'}\n",
      "Working on  {'cv_fraction': Decimal('0.800'), 'csc_hash': '74e4a59f52b629b1ecaeaf6a22419ec3fdabdb85', 'cv_seed': 35, 'dataset_contrast': '0.08'}\n"
     ]
    },
    {
     "name": "stderr",
     "output_type": "stream",
     "text": [
      "\r",
      " 20%|█▉        | 107/546 [00:31<02:10,  3.36it/s]"
     ]
    },
    {
     "name": "stdout",
     "output_type": "stream",
     "text": [
      "Working on  {'cv_fraction': Decimal('0.800'), 'csc_hash': 'b047337460082b62b44a8bc4ccfb4c400b6c9e95', 'cv_seed': 35, 'dataset_contrast': '0.1'}\n"
     ]
    },
    {
     "name": "stderr",
     "output_type": "stream",
     "text": [
      "\r",
      " 20%|█▉        | 108/546 [00:32<02:10,  3.36it/s]"
     ]
    },
    {
     "name": "stdout",
     "output_type": "stream",
     "text": [
      "Working on  {'cv_fraction': Decimal('0.800'), 'csc_hash': '96b93b6ef16edd857585e98aaec2645e3c38a8e2', 'cv_seed': 35, 'dataset_contrast': '0.08'}\n"
     ]
    },
    {
     "name": "stderr",
     "output_type": "stream",
     "text": [
      "\r",
      " 20%|█▉        | 109/546 [00:32<02:10,  3.35it/s]"
     ]
    },
    {
     "name": "stdout",
     "output_type": "stream",
     "text": [
      "Working on  {'cv_fraction': Decimal('0.800'), 'csc_hash': '1e1c78836c0115d40394bd38973b788d4158d4af', 'cv_seed': 35, 'dataset_contrast': '0.02'}\n"
     ]
    },
    {
     "name": "stderr",
     "output_type": "stream",
     "text": [
      "\r",
      " 20%|██        | 110/546 [00:32<02:09,  3.35it/s]"
     ]
    },
    {
     "name": "stdout",
     "output_type": "stream",
     "text": [
      "Working on  {'cv_fraction': Decimal('0.800'), 'csc_hash': '96b93b6ef16edd857585e98aaec2645e3c38a8e2', 'cv_seed': 35, 'dataset_contrast': '0.005'}\n"
     ]
    },
    {
     "name": "stderr",
     "output_type": "stream",
     "text": [
      "\r",
      " 20%|██        | 111/546 [00:33<02:09,  3.35it/s]"
     ]
    },
    {
     "name": "stdout",
     "output_type": "stream",
     "text": [
      "Working on  {'cv_fraction': Decimal('0.800'), 'csc_hash': '574db9f788473f56a4ac236a2bc85d4f569ef9d0', 'cv_seed': 35, 'dataset_contrast': '0.64'}\n"
     ]
    },
    {
     "name": "stderr",
     "output_type": "stream",
     "text": [
      " 21%|██        | 113/546 [00:33<02:09,  3.35it/s]"
     ]
    },
    {
     "name": "stdout",
     "output_type": "stream",
     "text": [
      "Working on  {'cv_fraction': Decimal('0.800'), 'csc_hash': '93c32a7a1ab86a004775787e8de6ffa9bcc151d0', 'cv_seed': 35, 'dataset_contrast': '0.04'}\n",
      "Working on  {'cv_fraction': Decimal('0.800'), 'csc_hash': 'c72789c65f74388f1c6e96ffd83577c0fa70719c', 'cv_seed': 35, 'dataset_contrast': '0.04'}\n"
     ]
    },
    {
     "name": "stderr",
     "output_type": "stream",
     "text": [
      "\r",
      " 21%|██        | 114/546 [00:33<02:08,  3.37it/s]"
     ]
    },
    {
     "name": "stdout",
     "output_type": "stream",
     "text": [
      "Working on  {'cv_fraction': Decimal('0.800'), 'csc_hash': '9c9e578669108f91a2ed8f7787e9a9b9ce42235d', 'cv_seed': 35, 'dataset_contrast': '0.005'}\n"
     ]
    },
    {
     "name": "stderr",
     "output_type": "stream",
     "text": [
      "\r",
      " 21%|██        | 115/546 [00:34<02:07,  3.38it/s]"
     ]
    },
    {
     "name": "stdout",
     "output_type": "stream",
     "text": [
      "Working on  {'cv_fraction': Decimal('0.800'), 'csc_hash': 'a36d70e445640a518daf60e852a8f72716479db8', 'cv_seed': 35, 'dataset_contrast': '0.005'}\n"
     ]
    },
    {
     "name": "stderr",
     "output_type": "stream",
     "text": [
      "\r",
      " 21%|██        | 116/546 [00:34<02:07,  3.36it/s]"
     ]
    },
    {
     "name": "stdout",
     "output_type": "stream",
     "text": [
      "Working on  {'cv_fraction': Decimal('0.800'), 'csc_hash': '7240493ec90558085126e57ff8babdab870b0f6a', 'cv_seed': 35, 'dataset_contrast': '0.04'}\n"
     ]
    },
    {
     "name": "stderr",
     "output_type": "stream",
     "text": [
      "\r",
      " 21%|██▏       | 117/546 [00:34<02:07,  3.36it/s]"
     ]
    },
    {
     "name": "stdout",
     "output_type": "stream",
     "text": [
      "Working on  {'cv_fraction': Decimal('0.800'), 'csc_hash': '96b93b6ef16edd857585e98aaec2645e3c38a8e2', 'cv_seed': 35, 'dataset_contrast': '0.02'}\n"
     ]
    },
    {
     "name": "stderr",
     "output_type": "stream",
     "text": [
      "\r",
      " 22%|██▏       | 118/546 [00:35<02:07,  3.35it/s]"
     ]
    },
    {
     "name": "stdout",
     "output_type": "stream",
     "text": [
      "Working on  {'cv_fraction': Decimal('0.800'), 'csc_hash': 'a9e108bcb428ab08b62af7ef0ede6029156cd7b7', 'cv_seed': 35, 'dataset_contrast': '0.02'}\n"
     ]
    },
    {
     "name": "stderr",
     "output_type": "stream",
     "text": [
      " 22%|██▏       | 120/546 [00:35<02:06,  3.36it/s]"
     ]
    },
    {
     "name": "stdout",
     "output_type": "stream",
     "text": [
      "Working on  {'cv_fraction': Decimal('0.800'), 'csc_hash': 'f21bf02bd65af0d4231e09274c2ded58199836b6', 'cv_seed': 35, 'dataset_contrast': '0.0075'}\n",
      "Working on  {'cv_fraction': Decimal('0.800'), 'csc_hash': 'd16d2c47ce599997c4559c7f112a6389d9e8b6b7', 'cv_seed': 35, 'dataset_contrast': '0.08'}\n"
     ]
    },
    {
     "name": "stderr",
     "output_type": "stream",
     "text": [
      "\r",
      " 22%|██▏       | 121/546 [00:36<02:06,  3.36it/s]"
     ]
    },
    {
     "name": "stdout",
     "output_type": "stream",
     "text": [
      "Working on  {'cv_fraction': Decimal('0.800'), 'csc_hash': 'ed0b7c069ce7a54a69d117f86b23fd47aea167da', 'cv_seed': 35, 'dataset_contrast': '0.03'}\n"
     ]
    },
    {
     "name": "stderr",
     "output_type": "stream",
     "text": [
      "\r",
      " 22%|██▏       | 122/546 [00:36<02:06,  3.36it/s]"
     ]
    },
    {
     "name": "stdout",
     "output_type": "stream",
     "text": [
      "Working on  {'cv_fraction': Decimal('0.800'), 'csc_hash': '1efcb0c7d005269e44696dca6dfbb06b72cc6164', 'cv_seed': 35, 'dataset_contrast': '0.32'}\n"
     ]
    },
    {
     "name": "stderr",
     "output_type": "stream",
     "text": [
      "\r",
      " 23%|██▎       | 123/546 [00:36<02:06,  3.34it/s]"
     ]
    },
    {
     "name": "stdout",
     "output_type": "stream",
     "text": [
      "Working on  {'cv_fraction': Decimal('0.800'), 'csc_hash': '993a53d8700df5e6739c48783231b7beb275d8fb', 'cv_seed': 35, 'dataset_contrast': '0.02'}\n"
     ]
    },
    {
     "name": "stderr",
     "output_type": "stream",
     "text": [
      " 23%|██▎       | 125/546 [00:37<02:06,  3.34it/s]"
     ]
    },
    {
     "name": "stdout",
     "output_type": "stream",
     "text": [
      "Working on  {'cv_fraction': Decimal('0.800'), 'csc_hash': '93c32a7a1ab86a004775787e8de6ffa9bcc151d0', 'cv_seed': 35, 'dataset_contrast': '0.02'}\n",
      "Working on  {'cv_fraction': Decimal('0.800'), 'csc_hash': '0534116fd0aea4c6fdc4b8908c1fa5fd3d48e5b7', 'cv_seed': 35, 'dataset_contrast': '0.005'}\n"
     ]
    },
    {
     "name": "stderr",
     "output_type": "stream",
     "text": [
      "\r",
      " 23%|██▎       | 126/546 [00:37<02:05,  3.34it/s]"
     ]
    },
    {
     "name": "stdout",
     "output_type": "stream",
     "text": [
      "Working on  {'cv_fraction': Decimal('0.800'), 'csc_hash': 'b16b9965df7f1b5e5d53a4b230cb2d6431fbc4de', 'cv_seed': 35, 'dataset_contrast': '0.08'}\n"
     ]
    },
    {
     "name": "stderr",
     "output_type": "stream",
     "text": [
      "\r",
      " 23%|██▎       | 127/546 [00:37<02:05,  3.34it/s]"
     ]
    },
    {
     "name": "stdout",
     "output_type": "stream",
     "text": [
      "Working on  {'cv_fraction': Decimal('0.800'), 'csc_hash': '51b960a5b405e0e962575d2243e7561adc7efbff', 'cv_seed': 35, 'dataset_contrast': '0.01'}\n"
     ]
    },
    {
     "name": "stderr",
     "output_type": "stream",
     "text": [
      "\r",
      " 23%|██▎       | 128/546 [00:38<02:05,  3.34it/s]"
     ]
    },
    {
     "name": "stdout",
     "output_type": "stream",
     "text": [
      "Working on  {'cv_fraction': Decimal('0.800'), 'csc_hash': '0821d6c856639dcb7bb67b1dc8d0f2339b60e27f', 'cv_seed': 35, 'dataset_contrast': '0.12'}\n"
     ]
    },
    {
     "name": "stderr",
     "output_type": "stream",
     "text": [
      "\r",
      " 24%|██▎       | 129/546 [00:38<02:04,  3.34it/s]"
     ]
    },
    {
     "name": "stdout",
     "output_type": "stream",
     "text": [
      "Working on  {'cv_fraction': Decimal('0.800'), 'csc_hash': '9c3317bb2daafd989122764cd1c9327819128fd6', 'cv_seed': 35, 'dataset_contrast': '0.1'}\n"
     ]
    },
    {
     "name": "stderr",
     "output_type": "stream",
     "text": [
      "\r",
      " 24%|██▍       | 130/546 [00:38<02:04,  3.33it/s]"
     ]
    },
    {
     "name": "stdout",
     "output_type": "stream",
     "text": [
      "Working on  {'cv_fraction': Decimal('0.800'), 'csc_hash': 'd82223c0d1988ac47c998690800763aeb47bb898', 'cv_seed': 35, 'dataset_contrast': '0.04'}\n"
     ]
    },
    {
     "name": "stderr",
     "output_type": "stream",
     "text": [
      "\r",
      " 24%|██▍       | 131/546 [00:39<02:04,  3.33it/s]"
     ]
    },
    {
     "name": "stdout",
     "output_type": "stream",
     "text": [
      "Working on  {'cv_fraction': Decimal('0.800'), 'csc_hash': 'e1c10126aa8e05160780201356872acee656c82f', 'cv_seed': 35, 'dataset_contrast': '0.3'}\n"
     ]
    },
    {
     "name": "stderr",
     "output_type": "stream",
     "text": [
      "\r",
      " 24%|██▍       | 132/546 [00:39<02:04,  3.33it/s]"
     ]
    },
    {
     "name": "stdout",
     "output_type": "stream",
     "text": [
      "Working on  {'cv_fraction': Decimal('0.800'), 'csc_hash': 'b0770636ec15e0cf6a0b0075f098916086573c79', 'cv_seed': 35, 'dataset_contrast': '0.3'}\n"
     ]
    },
    {
     "name": "stderr",
     "output_type": "stream",
     "text": [
      "\r",
      " 24%|██▍       | 133/546 [00:39<02:03,  3.33it/s]"
     ]
    },
    {
     "name": "stdout",
     "output_type": "stream",
     "text": [
      "Working on  {'cv_fraction': Decimal('0.800'), 'csc_hash': '9c9e578669108f91a2ed8f7787e9a9b9ce42235d', 'cv_seed': 35, 'dataset_contrast': '0.04'}\n"
     ]
    },
    {
     "name": "stderr",
     "output_type": "stream",
     "text": [
      "\r",
      " 25%|██▍       | 134/546 [00:40<02:03,  3.34it/s]"
     ]
    },
    {
     "name": "stdout",
     "output_type": "stream",
     "text": [
      "Working on  {'cv_fraction': Decimal('0.800'), 'csc_hash': 'd82223c0d1988ac47c998690800763aeb47bb898', 'cv_seed': 35, 'dataset_contrast': '0.32'}\n"
     ]
    },
    {
     "name": "stderr",
     "output_type": "stream",
     "text": [
      "\r",
      " 25%|██▍       | 135/546 [00:40<02:03,  3.34it/s]"
     ]
    },
    {
     "name": "stdout",
     "output_type": "stream",
     "text": [
      "Working on  {'cv_fraction': Decimal('0.800'), 'csc_hash': '108f54ba64caf901230c7a9db910d25691b98177', 'cv_seed': 35, 'dataset_contrast': '0.1'}\n"
     ]
    },
    {
     "name": "stderr",
     "output_type": "stream",
     "text": [
      "\r",
      " 25%|██▍       | 136/546 [00:40<02:02,  3.34it/s]"
     ]
    },
    {
     "name": "stdout",
     "output_type": "stream",
     "text": [
      "Working on  {'cv_fraction': Decimal('0.800'), 'csc_hash': 'a9e108bcb428ab08b62af7ef0ede6029156cd7b7', 'cv_seed': 35, 'dataset_contrast': '0.04'}\n"
     ]
    },
    {
     "name": "stderr",
     "output_type": "stream",
     "text": [
      "\r",
      " 25%|██▌       | 137/546 [00:41<02:02,  3.33it/s]"
     ]
    },
    {
     "name": "stdout",
     "output_type": "stream",
     "text": [
      "Working on  {'cv_fraction': Decimal('0.800'), 'csc_hash': '278e048c46b21ed361389623594ea8b38933a73e', 'cv_seed': 35, 'dataset_contrast': '0.08'}\n"
     ]
    },
    {
     "name": "stderr",
     "output_type": "stream",
     "text": [
      "\r",
      " 25%|██▌       | 138/546 [00:41<02:02,  3.32it/s]"
     ]
    },
    {
     "name": "stdout",
     "output_type": "stream",
     "text": [
      "Working on  {'cv_fraction': Decimal('0.800'), 'csc_hash': '28d193a484b1d17b97f974b84d3b7d84e1f6b399', 'cv_seed': 35, 'dataset_contrast': '0.02'}\n"
     ]
    },
    {
     "name": "stderr",
     "output_type": "stream",
     "text": [
      "\r",
      " 25%|██▌       | 139/546 [00:41<02:02,  3.31it/s]"
     ]
    },
    {
     "name": "stdout",
     "output_type": "stream",
     "text": [
      "Working on  {'cv_fraction': Decimal('0.800'), 'csc_hash': '20a36a57428b6a5ed8bd864ca4a3e4c9138c2243', 'cv_seed': 35, 'dataset_contrast': '0.3'}\n"
     ]
    },
    {
     "name": "stderr",
     "output_type": "stream",
     "text": [
      "\r",
      " 26%|██▌       | 140/546 [00:42<02:03,  3.30it/s]"
     ]
    },
    {
     "name": "stdout",
     "output_type": "stream",
     "text": [
      "Working on  {'cv_fraction': Decimal('0.800'), 'csc_hash': 'b0770636ec15e0cf6a0b0075f098916086573c79', 'cv_seed': 35, 'dataset_contrast': '0.5'}\n"
     ]
    },
    {
     "name": "stderr",
     "output_type": "stream",
     "text": [
      "\r",
      " 26%|██▌       | 141/546 [00:42<02:02,  3.30it/s]"
     ]
    },
    {
     "name": "stdout",
     "output_type": "stream",
     "text": [
      "Working on  {'cv_fraction': Decimal('0.800'), 'csc_hash': 'bce87e9de88daa25cd41adf7121ca8cc2b8e87f4', 'cv_seed': 35, 'dataset_contrast': '0.64'}\n"
     ]
    },
    {
     "name": "stderr",
     "output_type": "stream",
     "text": [
      "\r",
      " 26%|██▌       | 142/546 [00:43<02:02,  3.29it/s]"
     ]
    },
    {
     "name": "stdout",
     "output_type": "stream",
     "text": [
      "Working on  {'cv_fraction': Decimal('0.800'), 'csc_hash': '34f05caf601a3685942af9ca472161f466b80dbd', 'cv_seed': 35, 'dataset_contrast': '0.04'}\n"
     ]
    },
    {
     "name": "stderr",
     "output_type": "stream",
     "text": [
      "\r",
      " 26%|██▌       | 143/546 [00:43<02:02,  3.30it/s]"
     ]
    },
    {
     "name": "stdout",
     "output_type": "stream",
     "text": [
      "Working on  {'cv_fraction': Decimal('0.800'), 'csc_hash': 'b6fe0cd3e7186030efe8b3537ec6b7f6eda9d493', 'cv_seed': 35, 'dataset_contrast': '0.005'}\n"
     ]
    },
    {
     "name": "stderr",
     "output_type": "stream",
     "text": [
      " 27%|██▋       | 145/546 [00:43<02:00,  3.31it/s]"
     ]
    },
    {
     "name": "stdout",
     "output_type": "stream",
     "text": [
      "Working on  {'cv_fraction': Decimal('0.800'), 'csc_hash': 'f2bb838d18277349a62ea2d930d0888f432a461e', 'cv_seed': 35, 'dataset_contrast': '0.02'}\n",
      "Working on  {'cv_fraction': Decimal('0.800'), 'csc_hash': '921f51f43417bd8069c1c6397b95ca87f99e62e9', 'cv_seed': 35, 'dataset_contrast': '0.05'}\n"
     ]
    },
    {
     "name": "stderr",
     "output_type": "stream",
     "text": [
      "\r",
      " 27%|██▋       | 146/546 [00:44<02:00,  3.32it/s]"
     ]
    },
    {
     "name": "stdout",
     "output_type": "stream",
     "text": [
      "Working on  {'cv_fraction': Decimal('0.800'), 'csc_hash': '475f38c7100db2ad340ea0cebf2e2e12316d5185', 'cv_seed': 35, 'dataset_contrast': '0.02'}\n"
     ]
    },
    {
     "name": "stderr",
     "output_type": "stream",
     "text": [
      "\r",
      " 27%|██▋       | 147/546 [00:44<02:00,  3.31it/s]"
     ]
    },
    {
     "name": "stdout",
     "output_type": "stream",
     "text": [
      "Working on  {'cv_fraction': Decimal('0.800'), 'csc_hash': 'e19611e63e2448a5a575112f05dea655901566da', 'cv_seed': 35, 'dataset_contrast': '0.02'}\n"
     ]
    },
    {
     "name": "stderr",
     "output_type": "stream",
     "text": [
      "\r",
      " 27%|██▋       | 148/546 [00:44<02:00,  3.31it/s]"
     ]
    },
    {
     "name": "stdout",
     "output_type": "stream",
     "text": [
      "Working on  {'cv_fraction': Decimal('0.800'), 'csc_hash': 'b16b9965df7f1b5e5d53a4b230cb2d6431fbc4de', 'cv_seed': 35, 'dataset_contrast': '0.02'}\n"
     ]
    },
    {
     "name": "stderr",
     "output_type": "stream",
     "text": [
      "\r",
      " 27%|██▋       | 149/546 [00:44<01:59,  3.31it/s]"
     ]
    },
    {
     "name": "stdout",
     "output_type": "stream",
     "text": [
      "Working on  {'cv_fraction': Decimal('0.800'), 'csc_hash': '96b93b6ef16edd857585e98aaec2645e3c38a8e2', 'cv_seed': 35, 'dataset_contrast': '0.04'}\n"
     ]
    },
    {
     "name": "stderr",
     "output_type": "stream",
     "text": [
      " 28%|██▊       | 151/546 [00:45<01:59,  3.32it/s]"
     ]
    },
    {
     "name": "stdout",
     "output_type": "stream",
     "text": [
      "Working on  {'cv_fraction': Decimal('0.800'), 'csc_hash': 'f19561c9195be7722c1d2073406f97ffc359d63d', 'cv_seed': 35, 'dataset_contrast': '0.03'}\n",
      "Working on  {'cv_fraction': Decimal('0.800'), 'csc_hash': '553a9592ed56d0033490db2ba04731e7b498b275', 'cv_seed': 35, 'dataset_contrast': '0.12'}\n"
     ]
    },
    {
     "name": "stderr",
     "output_type": "stream",
     "text": [
      "\r",
      " 28%|██▊       | 152/546 [00:45<01:58,  3.32it/s]"
     ]
    },
    {
     "name": "stdout",
     "output_type": "stream",
     "text": [
      "Working on  {'cv_fraction': Decimal('0.800'), 'csc_hash': 'ed0b7c069ce7a54a69d117f86b23fd47aea167da', 'cv_seed': 35, 'dataset_contrast': '0.06'}\n"
     ]
    },
    {
     "name": "stderr",
     "output_type": "stream",
     "text": [
      "\r",
      " 28%|██▊       | 153/546 [00:46<01:58,  3.32it/s]"
     ]
    },
    {
     "name": "stdout",
     "output_type": "stream",
     "text": [
      "Working on  {'cv_fraction': Decimal('0.800'), 'csc_hash': '5d0f2e629bac9ccc5f234d4034a828366c03f7b3', 'cv_seed': 35, 'dataset_contrast': '0.0075'}\n"
     ]
    },
    {
     "name": "stderr",
     "output_type": "stream",
     "text": [
      "\r",
      " 28%|██▊       | 154/546 [00:46<01:58,  3.32it/s]"
     ]
    },
    {
     "name": "stdout",
     "output_type": "stream",
     "text": [
      "Working on  {'cv_fraction': Decimal('0.800'), 'csc_hash': 'f49ad1e8da0f4319517adf77a2eb6a422789c6f4', 'cv_seed': 35, 'dataset_contrast': '0.0075'}\n"
     ]
    },
    {
     "name": "stderr",
     "output_type": "stream",
     "text": [
      "\r",
      " 28%|██▊       | 155/546 [00:46<01:57,  3.32it/s]"
     ]
    },
    {
     "name": "stdout",
     "output_type": "stream",
     "text": [
      "Working on  {'cv_fraction': Decimal('0.800'), 'csc_hash': 'a1b288c2bb73075f7dc8e3246075436c6a009fc9', 'cv_seed': 35, 'dataset_contrast': '0.07'}\n"
     ]
    },
    {
     "name": "stderr",
     "output_type": "stream",
     "text": [
      "\r",
      " 29%|██▊       | 156/546 [00:46<01:57,  3.33it/s]"
     ]
    },
    {
     "name": "stdout",
     "output_type": "stream",
     "text": [
      "Working on  {'cv_fraction': Decimal('0.800'), 'csc_hash': '24297f914b18e048669c88c7a33eff8c0c09edc3', 'cv_seed': 35, 'dataset_contrast': '1'}\n"
     ]
    },
    {
     "name": "stderr",
     "output_type": "stream",
     "text": [
      "\r",
      " 29%|██▉       | 157/546 [00:47<01:56,  3.33it/s]"
     ]
    },
    {
     "name": "stdout",
     "output_type": "stream",
     "text": [
      "Working on  {'cv_fraction': Decimal('0.800'), 'csc_hash': '4ed410917f1ddd18c4244db0eeb1cc8e43e3bdf4', 'cv_seed': 35, 'dataset_contrast': '0.04'}\n",
      "Working on  {'cv_fraction': Decimal('0.800'), 'csc_hash': '0c89c7a274be7c782e3b476f0596834add7e5b97', 'cv_seed': 35, 'dataset_contrast': '0.04'}\n"
     ]
    },
    {
     "name": "stderr",
     "output_type": "stream",
     "text": [
      "\r",
      " 29%|██▉       | 159/546 [00:47<01:55,  3.35it/s]"
     ]
    },
    {
     "name": "stdout",
     "output_type": "stream",
     "text": [
      "Working on  {'cv_fraction': Decimal('0.800'), 'csc_hash': '20a36a57428b6a5ed8bd864ca4a3e4c9138c2243', 'cv_seed': 35, 'dataset_contrast': '0.64'}\n"
     ]
    },
    {
     "name": "stderr",
     "output_type": "stream",
     "text": [
      " 29%|██▉       | 161/546 [00:48<01:55,  3.35it/s]"
     ]
    },
    {
     "name": "stdout",
     "output_type": "stream",
     "text": [
      "Working on  {'cv_fraction': Decimal('0.800'), 'csc_hash': 'fd79483ca30feea2d7d5abf36d097bbc9b1d5862', 'cv_seed': 35, 'dataset_contrast': '0.1'}\n",
      "Working on  {'cv_fraction': Decimal('0.800'), 'csc_hash': '60e397c41a1315a5bb31fee7e34067ea85c45449', 'cv_seed': 35, 'dataset_contrast': '0.03'}\n"
     ]
    },
    {
     "name": "stderr",
     "output_type": "stream",
     "text": [
      "\r",
      " 30%|██▉       | 162/546 [00:48<01:54,  3.35it/s]"
     ]
    },
    {
     "name": "stdout",
     "output_type": "stream",
     "text": [
      "Working on  {'cv_fraction': Decimal('0.800'), 'csc_hash': 'a36d70e445640a518daf60e852a8f72716479db8', 'cv_seed': 35, 'dataset_contrast': '0.06'}\n"
     ]
    },
    {
     "name": "stderr",
     "output_type": "stream",
     "text": [
      "\r",
      " 30%|██▉       | 163/546 [00:48<01:54,  3.34it/s]"
     ]
    },
    {
     "name": "stdout",
     "output_type": "stream",
     "text": [
      "Working on  {'cv_fraction': Decimal('0.800'), 'csc_hash': '993a53d8700df5e6739c48783231b7beb275d8fb', 'cv_seed': 35, 'dataset_contrast': '0.2'}\n"
     ]
    },
    {
     "name": "stderr",
     "output_type": "stream",
     "text": [
      "\r",
      " 30%|███       | 164/546 [00:49<01:54,  3.33it/s]"
     ]
    },
    {
     "name": "stdout",
     "output_type": "stream",
     "text": [
      "Working on  {'cv_fraction': Decimal('0.800'), 'csc_hash': '2a40a1ed593276618990e54ebcbfa55e71d5a4ee', 'cv_seed': 35, 'dataset_contrast': '0.005'}\n"
     ]
    },
    {
     "name": "stderr",
     "output_type": "stream",
     "text": [
      "\r",
      " 30%|███       | 165/546 [00:49<01:54,  3.33it/s]"
     ]
    },
    {
     "name": "stdout",
     "output_type": "stream",
     "text": [
      "Working on  {'cv_fraction': Decimal('0.800'), 'csc_hash': '28c77b71e75b7840db8647d1b8c057d11bec0ac6', 'cv_seed': 35, 'dataset_contrast': '0.03'}\n",
      "Working on  {'cv_fraction': Decimal('0.800'), 'csc_hash': '64ffffc3f24c83fc605e0f961ec3a492b70e0c48', 'cv_seed': 35, 'dataset_contrast': '0.04'}\n"
     ]
    },
    {
     "name": "stderr",
     "output_type": "stream",
     "text": [
      "\r",
      " 31%|███       | 167/546 [00:49<01:53,  3.35it/s]"
     ]
    },
    {
     "name": "stdout",
     "output_type": "stream",
     "text": [
      "Working on  {'cv_fraction': Decimal('0.800'), 'csc_hash': 'bce87e9de88daa25cd41adf7121ca8cc2b8e87f4', 'cv_seed': 35, 'dataset_contrast': '0.04'}\n"
     ]
    },
    {
     "name": "stderr",
     "output_type": "stream",
     "text": [
      " 31%|███       | 169/546 [00:50<01:52,  3.35it/s]"
     ]
    },
    {
     "name": "stdout",
     "output_type": "stream",
     "text": [
      "Working on  {'cv_fraction': Decimal('0.800'), 'csc_hash': '108f54ba64caf901230c7a9db910d25691b98177', 'cv_seed': 35, 'dataset_contrast': '0.04'}\n",
      "Working on  {'cv_fraction': Decimal('0.800'), 'csc_hash': '574db9f788473f56a4ac236a2bc85d4f569ef9d0', 'cv_seed': 35, 'dataset_contrast': '0.01'}\n"
     ]
    },
    {
     "name": "stderr",
     "output_type": "stream",
     "text": [
      "\r",
      " 31%|███       | 170/546 [00:50<01:52,  3.35it/s]"
     ]
    },
    {
     "name": "stdout",
     "output_type": "stream",
     "text": [
      "Working on  {'cv_fraction': Decimal('0.800'), 'csc_hash': '51b960a5b405e0e962575d2243e7561adc7efbff', 'cv_seed': 35, 'dataset_contrast': '0.02'}\n"
     ]
    },
    {
     "name": "stderr",
     "output_type": "stream",
     "text": [
      " 32%|███▏      | 172/546 [00:51<01:51,  3.35it/s]"
     ]
    },
    {
     "name": "stdout",
     "output_type": "stream",
     "text": [
      "Working on  {'cv_fraction': Decimal('0.800'), 'csc_hash': 'f98f67b4367c709244d14544631835147e53d742', 'cv_seed': 35, 'dataset_contrast': '0.04'}\n",
      "Working on  {'cv_fraction': Decimal('0.800'), 'csc_hash': '8bb906b3dbb93d13ab554508dbd52e4c847112c8', 'cv_seed': 35, 'dataset_contrast': '0.64'}\n"
     ]
    },
    {
     "name": "stderr",
     "output_type": "stream",
     "text": [
      "\r",
      " 32%|███▏      | 173/546 [00:51<01:51,  3.34it/s]"
     ]
    },
    {
     "name": "stdout",
     "output_type": "stream",
     "text": [
      "Working on  {'cv_fraction': Decimal('0.800'), 'csc_hash': '80c9c2cb0c2391c599471322e8299003a23698f0', 'cv_seed': 35, 'dataset_contrast': '0.005'}\n"
     ]
    },
    {
     "name": "stderr",
     "output_type": "stream",
     "text": [
      "\r",
      " 32%|███▏      | 174/546 [00:52<01:51,  3.33it/s]"
     ]
    },
    {
     "name": "stdout",
     "output_type": "stream",
     "text": [
      "Working on  {'cv_fraction': Decimal('0.800'), 'csc_hash': 'f49ad1e8da0f4319517adf77a2eb6a422789c6f4', 'cv_seed': 35, 'dataset_contrast': '0.05'}\n"
     ]
    },
    {
     "name": "stderr",
     "output_type": "stream",
     "text": [
      " 32%|███▏      | 176/546 [00:52<01:51,  3.33it/s]"
     ]
    },
    {
     "name": "stdout",
     "output_type": "stream",
     "text": [
      "Working on  {'cv_fraction': Decimal('0.800'), 'csc_hash': 'e88233833d92c0cd7f912ddf8be1f127523eb7a2', 'cv_seed': 35, 'dataset_contrast': '0.1'}\n",
      "Working on  {'cv_fraction': Decimal('0.800'), 'csc_hash': 'bce87e9de88daa25cd41adf7121ca8cc2b8e87f4', 'cv_seed': 35, 'dataset_contrast': '0.06'}\n"
     ]
    },
    {
     "name": "stderr",
     "output_type": "stream",
     "text": [
      "\r",
      " 32%|███▏      | 177/546 [00:53<01:50,  3.33it/s]"
     ]
    },
    {
     "name": "stdout",
     "output_type": "stream",
     "text": [
      "Working on  {'cv_fraction': Decimal('0.800'), 'csc_hash': 'b16b9965df7f1b5e5d53a4b230cb2d6431fbc4de', 'cv_seed': 35, 'dataset_contrast': '1'}\n"
     ]
    },
    {
     "name": "stderr",
     "output_type": "stream",
     "text": [
      "\r",
      " 33%|███▎      | 178/546 [00:53<01:50,  3.33it/s]"
     ]
    },
    {
     "name": "stdout",
     "output_type": "stream",
     "text": [
      "Working on  {'cv_fraction': Decimal('0.800'), 'csc_hash': '574db9f788473f56a4ac236a2bc85d4f569ef9d0', 'cv_seed': 35, 'dataset_contrast': '0.08'}\n"
     ]
    },
    {
     "name": "stderr",
     "output_type": "stream",
     "text": [
      "\r",
      " 33%|███▎      | 179/546 [00:53<01:50,  3.33it/s]"
     ]
    },
    {
     "name": "stdout",
     "output_type": "stream",
     "text": [
      "Working on  {'cv_fraction': Decimal('0.800'), 'csc_hash': '968ccebe5a33a8b1512d1df15913951240160c2c', 'cv_seed': 35, 'dataset_contrast': '0.32'}\n"
     ]
    },
    {
     "name": "stderr",
     "output_type": "stream",
     "text": [
      "\r",
      " 33%|███▎      | 180/546 [00:54<01:49,  3.33it/s]"
     ]
    },
    {
     "name": "stdout",
     "output_type": "stream",
     "text": [
      "Working on  {'cv_fraction': Decimal('0.800'), 'csc_hash': 'dd3a08df47c7b50bd9192dcecb31af5bdf191e88', 'cv_seed': 35, 'dataset_contrast': '0.1'}\n"
     ]
    },
    {
     "name": "stderr",
     "output_type": "stream",
     "text": [
      " 33%|███▎      | 182/546 [00:54<01:49,  3.34it/s]"
     ]
    },
    {
     "name": "stdout",
     "output_type": "stream",
     "text": [
      "Working on  {'cv_fraction': Decimal('0.800'), 'csc_hash': '1aed66333230d886982b798fc3a5ab34f42449d0', 'cv_seed': 35, 'dataset_contrast': '0.01'}\n",
      "Working on  {'cv_fraction': Decimal('0.800'), 'csc_hash': '6a4d8b005dd1891872e1b85c2da1a580425f5f27', 'cv_seed': 35, 'dataset_contrast': '0.02'}\n"
     ]
    },
    {
     "name": "stderr",
     "output_type": "stream",
     "text": [
      "\r",
      " 34%|███▎      | 183/546 [00:54<01:48,  3.34it/s]"
     ]
    },
    {
     "name": "stdout",
     "output_type": "stream",
     "text": [
      "Working on  {'cv_fraction': Decimal('0.800'), 'csc_hash': 'b16b9965df7f1b5e5d53a4b230cb2d6431fbc4de', 'cv_seed': 35, 'dataset_contrast': '0.0075'}\n"
     ]
    },
    {
     "name": "stderr",
     "output_type": "stream",
     "text": [
      "\r",
      " 34%|███▎      | 184/546 [00:55<01:48,  3.34it/s]"
     ]
    },
    {
     "name": "stdout",
     "output_type": "stream",
     "text": [
      "Working on  {'cv_fraction': Decimal('0.800'), 'csc_hash': '0c962104ee2d677c7e2c50c109202dbe6df0f166', 'cv_seed': 35, 'dataset_contrast': '0.01'}\n"
     ]
    },
    {
     "name": "stderr",
     "output_type": "stream",
     "text": [
      "\r",
      " 34%|███▍      | 185/546 [00:55<01:47,  3.34it/s]"
     ]
    },
    {
     "name": "stdout",
     "output_type": "stream",
     "text": [
      "Working on  {'cv_fraction': Decimal('0.800'), 'csc_hash': 'c08355b6a9f2f4150768beed27a2f029b00afb7c', 'cv_seed': 35, 'dataset_contrast': '0.8'}\n"
     ]
    },
    {
     "name": "stderr",
     "output_type": "stream",
     "text": [
      "\r",
      " 34%|███▍      | 186/546 [00:55<01:47,  3.34it/s]"
     ]
    },
    {
     "name": "stdout",
     "output_type": "stream",
     "text": [
      "Working on  {'cv_fraction': Decimal('0.800'), 'csc_hash': '28ea56824ec4e06ca7fc20de77eb8d15f33a9978', 'cv_seed': 35, 'dataset_contrast': '0.02'}\n"
     ]
    },
    {
     "name": "stderr",
     "output_type": "stream",
     "text": [
      "\r",
      " 34%|███▍      | 187/546 [00:55<01:47,  3.34it/s]"
     ]
    },
    {
     "name": "stdout",
     "output_type": "stream",
     "text": [
      "Working on  {'cv_fraction': Decimal('0.800'), 'csc_hash': '968ccebe5a33a8b1512d1df15913951240160c2c', 'cv_seed': 35, 'dataset_contrast': '0.005'}\n"
     ]
    },
    {
     "name": "stderr",
     "output_type": "stream",
     "text": [
      " 35%|███▍      | 189/546 [00:56<01:46,  3.35it/s]"
     ]
    },
    {
     "name": "stdout",
     "output_type": "stream",
     "text": [
      "Working on  {'cv_fraction': Decimal('0.800'), 'csc_hash': '9bab0018aa5d12daee5c32eca25623cb5af6605d', 'cv_seed': 35, 'dataset_contrast': '0.005'}\n",
      "Working on  {'cv_fraction': Decimal('0.800'), 'csc_hash': 'e836bece03509ad91ba6730b279ac2bbb0692837', 'cv_seed': 35, 'dataset_contrast': '0.1'}\n"
     ]
    },
    {
     "name": "stderr",
     "output_type": "stream",
     "text": [
      "\r",
      " 35%|███▍      | 190/546 [00:56<01:46,  3.35it/s]"
     ]
    },
    {
     "name": "stdout",
     "output_type": "stream",
     "text": [
      "Working on  {'cv_fraction': Decimal('0.800'), 'csc_hash': '8bb906b3dbb93d13ab554508dbd52e4c847112c8', 'cv_seed': 35, 'dataset_contrast': '0.8'}\n"
     ]
    },
    {
     "name": "stderr",
     "output_type": "stream",
     "text": [
      "\r",
      " 35%|███▍      | 191/546 [00:57<01:46,  3.35it/s]"
     ]
    },
    {
     "name": "stdout",
     "output_type": "stream",
     "text": [
      "Working on  {'cv_fraction': Decimal('0.800'), 'csc_hash': '25f592a512ad65e9a57919e7b3275088426f038a', 'cv_seed': 35, 'dataset_contrast': '0.08'}\n"
     ]
    },
    {
     "name": "stderr",
     "output_type": "stream",
     "text": [
      "\r",
      " 35%|███▌      | 192/546 [00:57<01:45,  3.34it/s]"
     ]
    },
    {
     "name": "stdout",
     "output_type": "stream",
     "text": [
      "Working on  {'cv_fraction': Decimal('0.800'), 'csc_hash': 'ed0b7c069ce7a54a69d117f86b23fd47aea167da', 'cv_seed': 35, 'dataset_contrast': '0.64'}\n"
     ]
    },
    {
     "name": "stderr",
     "output_type": "stream",
     "text": [
      "\r",
      " 35%|███▌      | 193/546 [00:57<01:45,  3.34it/s]"
     ]
    },
    {
     "name": "stdout",
     "output_type": "stream",
     "text": [
      "Working on  {'cv_fraction': Decimal('0.800'), 'csc_hash': '24b07dfa5c6deddc1e99948823ec85b14d5bfd79', 'cv_seed': 35, 'dataset_contrast': '0.01'}\n",
      "Working on  {'cv_fraction': Decimal('0.800'), 'csc_hash': 'df21315eaf04da025674457f2264e30b99b2a384', 'cv_seed': 35, 'dataset_contrast': '0.01'}\n"
     ]
    },
    {
     "name": "stderr",
     "output_type": "stream",
     "text": [
      "\r",
      " 36%|███▌      | 195/546 [00:58<01:44,  3.35it/s]"
     ]
    },
    {
     "name": "stdout",
     "output_type": "stream",
     "text": [
      "Working on  {'cv_fraction': Decimal('0.800'), 'csc_hash': 'da82473ef9ed7a9774c6bcaea8c3bd28d5fcf1cc', 'cv_seed': 35, 'dataset_contrast': '0.08'}\n"
     ]
    },
    {
     "name": "stderr",
     "output_type": "stream",
     "text": [
      "\r",
      " 36%|███▌      | 196/546 [00:58<01:44,  3.35it/s]"
     ]
    },
    {
     "name": "stdout",
     "output_type": "stream",
     "text": [
      "Working on  {'cv_fraction': Decimal('0.800'), 'csc_hash': 'b6fe0cd3e7186030efe8b3537ec6b7f6eda9d493', 'cv_seed': 35, 'dataset_contrast': '0.04'}\n"
     ]
    },
    {
     "name": "stderr",
     "output_type": "stream",
     "text": [
      " 36%|███▋      | 198/546 [00:59<01:43,  3.35it/s]"
     ]
    },
    {
     "name": "stdout",
     "output_type": "stream",
     "text": [
      "Working on  {'cv_fraction': Decimal('0.800'), 'csc_hash': '5fd8a24ea5da186d064a03cebcf1c7f00c055b32', 'cv_seed': 35, 'dataset_contrast': '0.01'}\n",
      "Working on  {'cv_fraction': Decimal('0.800'), 'csc_hash': '4c4bacdbd55d0d42ee8f8aa9fbd0a24ecae5d5ae', 'cv_seed': 35, 'dataset_contrast': '0.32'}\n"
     ]
    },
    {
     "name": "stderr",
     "output_type": "stream",
     "text": [
      "\r",
      " 36%|███▋      | 199/546 [00:59<01:43,  3.35it/s]"
     ]
    },
    {
     "name": "stdout",
     "output_type": "stream",
     "text": [
      "Working on  {'cv_fraction': Decimal('0.800'), 'csc_hash': '1820f02d5f66cd31fe765f02ee8ee16347908062', 'cv_seed': 35, 'dataset_contrast': '0.02'}\n"
     ]
    },
    {
     "name": "stderr",
     "output_type": "stream",
     "text": [
      "\r",
      " 37%|███▋      | 200/546 [00:59<01:43,  3.35it/s]"
     ]
    },
    {
     "name": "stdout",
     "output_type": "stream",
     "text": [
      "Working on  {'cv_fraction': Decimal('0.800'), 'csc_hash': 'ec603f8b8a92fc50109dfce4737e0faf9b9cfab6', 'cv_seed': 35, 'dataset_contrast': '0.005'}\n"
     ]
    },
    {
     "name": "stderr",
     "output_type": "stream",
     "text": [
      "\r",
      " 37%|███▋      | 201/546 [01:00<01:43,  3.35it/s]"
     ]
    },
    {
     "name": "stdout",
     "output_type": "stream",
     "text": [
      "Working on  {'cv_fraction': Decimal('0.800'), 'csc_hash': 'b16b9965df7f1b5e5d53a4b230cb2d6431fbc4de', 'cv_seed': 35, 'dataset_contrast': '0.64'}\n"
     ]
    },
    {
     "name": "stderr",
     "output_type": "stream",
     "text": [
      " 37%|███▋      | 203/546 [01:00<01:42,  3.36it/s]"
     ]
    },
    {
     "name": "stdout",
     "output_type": "stream",
     "text": [
      "Working on  {'cv_fraction': Decimal('0.800'), 'csc_hash': 'c72789c65f74388f1c6e96ffd83577c0fa70719c', 'cv_seed': 35, 'dataset_contrast': '0.005'}\n",
      "Working on  {'cv_fraction': Decimal('0.800'), 'csc_hash': '108980c00a18467e2b772039631928b8af1dbed0', 'cv_seed': 35, 'dataset_contrast': '0.03'}\n"
     ]
    },
    {
     "name": "stderr",
     "output_type": "stream",
     "text": [
      "\r",
      " 37%|███▋      | 204/546 [01:00<01:41,  3.36it/s]"
     ]
    },
    {
     "name": "stdout",
     "output_type": "stream",
     "text": [
      "Working on  {'cv_fraction': Decimal('0.800'), 'csc_hash': '91e16dafba5483f2d23552a98451f57a92357a4f', 'cv_seed': 35, 'dataset_contrast': '0.1'}\n"
     ]
    },
    {
     "name": "stderr",
     "output_type": "stream",
     "text": [
      "\r",
      " 38%|███▊      | 205/546 [01:01<01:41,  3.36it/s]"
     ]
    },
    {
     "name": "stdout",
     "output_type": "stream",
     "text": [
      "Working on  {'cv_fraction': Decimal('0.800'), 'csc_hash': 'a424e60370de168262de958c27bd68b9b391dd21', 'cv_seed': 35, 'dataset_contrast': '0.01'}\n"
     ]
    },
    {
     "name": "stderr",
     "output_type": "stream",
     "text": [
      "\r",
      " 38%|███▊      | 206/546 [01:01<01:41,  3.36it/s]"
     ]
    },
    {
     "name": "stdout",
     "output_type": "stream",
     "text": [
      "Working on  {'cv_fraction': Decimal('0.800'), 'csc_hash': '9c3317bb2daafd989122764cd1c9327819128fd6', 'cv_seed': 35, 'dataset_contrast': '0.01'}\n"
     ]
    },
    {
     "name": "stderr",
     "output_type": "stream",
     "text": [
      " 38%|███▊      | 208/546 [01:01<01:40,  3.36it/s]"
     ]
    },
    {
     "name": "stdout",
     "output_type": "stream",
     "text": [
      "Working on  {'cv_fraction': Decimal('0.800'), 'csc_hash': '9bab0018aa5d12daee5c32eca25623cb5af6605d', 'cv_seed': 35, 'dataset_contrast': '0.01'}\n",
      "Working on  {'cv_fraction': Decimal('0.800'), 'csc_hash': 'bf5a18a571096d97bd28810f742771b6a7057ca3', 'cv_seed': 35, 'dataset_contrast': '0.64'}\n"
     ]
    },
    {
     "name": "stderr",
     "output_type": "stream",
     "text": [
      " 38%|███▊      | 210/546 [01:02<01:39,  3.37it/s]"
     ]
    },
    {
     "name": "stdout",
     "output_type": "stream",
     "text": [
      "Working on  {'cv_fraction': Decimal('0.800'), 'csc_hash': '9251fde390751ae17a47331d5d9fe43785bff226', 'cv_seed': 35, 'dataset_contrast': '0.01'}\n",
      "Working on  {'cv_fraction': Decimal('0.800'), 'csc_hash': 'bce87e9de88daa25cd41adf7121ca8cc2b8e87f4', 'cv_seed': 35, 'dataset_contrast': '0.01'}\n"
     ]
    },
    {
     "name": "stderr",
     "output_type": "stream",
     "text": [
      " 39%|███▉      | 212/546 [01:02<01:39,  3.37it/s]"
     ]
    },
    {
     "name": "stdout",
     "output_type": "stream",
     "text": [
      "Working on  {'cv_fraction': Decimal('0.800'), 'csc_hash': 'f19561c9195be7722c1d2073406f97ffc359d63d', 'cv_seed': 35, 'dataset_contrast': '0.3'}\n",
      "Working on  {'cv_fraction': Decimal('0.800'), 'csc_hash': '97c8f15c66f1b50b7ae3065019d147918f3a7e70', 'cv_seed': 35, 'dataset_contrast': '0.08'}\n"
     ]
    },
    {
     "name": "stderr",
     "output_type": "stream",
     "text": [
      "\r",
      " 39%|███▉      | 213/546 [01:03<01:38,  3.37it/s]"
     ]
    },
    {
     "name": "stdout",
     "output_type": "stream",
     "text": [
      "Working on  {'cv_fraction': Decimal('0.800'), 'csc_hash': '1efcb0c7d005269e44696dca6dfbb06b72cc6164', 'cv_seed': 35, 'dataset_contrast': '0.005'}\n"
     ]
    },
    {
     "name": "stderr",
     "output_type": "stream",
     "text": [
      "\r",
      " 39%|███▉      | 214/546 [01:03<01:38,  3.37it/s]"
     ]
    },
    {
     "name": "stdout",
     "output_type": "stream",
     "text": [
      "Working on  {'cv_fraction': Decimal('0.800'), 'csc_hash': 'baebbcc5c78ffc9f21e992f59ae7938ebd917b39', 'cv_seed': 35, 'dataset_contrast': '0.01'}\n",
      "Working on  {'cv_fraction': Decimal('0.800'), 'csc_hash': 'a36d70e445640a518daf60e852a8f72716479db8', 'cv_seed': 35, 'dataset_contrast': '0.5'}\n"
     ]
    },
    {
     "name": "stderr",
     "output_type": "stream",
     "text": [
      "\r",
      " 40%|███▉      | 216/546 [01:04<01:37,  3.37it/s]"
     ]
    },
    {
     "name": "stdout",
     "output_type": "stream",
     "text": [
      "Working on  {'cv_fraction': Decimal('0.800'), 'csc_hash': 'ed0b7c069ce7a54a69d117f86b23fd47aea167da', 'cv_seed': 35, 'dataset_contrast': '1'}\n"
     ]
    },
    {
     "name": "stderr",
     "output_type": "stream",
     "text": [
      "\r",
      " 40%|███▉      | 217/546 [01:04<01:37,  3.36it/s]"
     ]
    },
    {
     "name": "stdout",
     "output_type": "stream",
     "text": [
      "Working on  {'cv_fraction': Decimal('0.800'), 'csc_hash': '28ea56824ec4e06ca7fc20de77eb8d15f33a9978', 'cv_seed': 35, 'dataset_contrast': '0.01'}\n"
     ]
    },
    {
     "name": "stderr",
     "output_type": "stream",
     "text": [
      "\r",
      " 40%|███▉      | 218/546 [01:04<01:37,  3.36it/s]"
     ]
    },
    {
     "name": "stdout",
     "output_type": "stream",
     "text": [
      "Working on  {'cv_fraction': Decimal('0.800'), 'csc_hash': 'b16b9965df7f1b5e5d53a4b230cb2d6431fbc4de', 'cv_seed': 35, 'dataset_contrast': '0.01'}\n"
     ]
    },
    {
     "name": "stderr",
     "output_type": "stream",
     "text": [
      "\r",
      " 40%|████      | 219/546 [01:05<01:37,  3.35it/s]"
     ]
    },
    {
     "name": "stdout",
     "output_type": "stream",
     "text": [
      "Working on  {'cv_fraction': Decimal('0.800'), 'csc_hash': '8a6cddc59433de7eff7d19258ad73cad9e6b9ff9', 'cv_seed': 35, 'dataset_contrast': '0.02'}\n"
     ]
    },
    {
     "name": "stderr",
     "output_type": "stream",
     "text": [
      "\r",
      " 40%|████      | 220/546 [01:05<01:37,  3.35it/s]"
     ]
    },
    {
     "name": "stdout",
     "output_type": "stream",
     "text": [
      "Working on  {'cv_fraction': Decimal('0.800'), 'csc_hash': 'b16b9965df7f1b5e5d53a4b230cb2d6431fbc4de', 'cv_seed': 35, 'dataset_contrast': '0.03'}\n"
     ]
    },
    {
     "name": "stderr",
     "output_type": "stream",
     "text": [
      "\r",
      " 40%|████      | 221/546 [01:05<01:37,  3.35it/s]"
     ]
    },
    {
     "name": "stdout",
     "output_type": "stream",
     "text": [
      "Working on  {'cv_fraction': Decimal('0.800'), 'csc_hash': '8bb906b3dbb93d13ab554508dbd52e4c847112c8', 'cv_seed': 35, 'dataset_contrast': '0.0075'}\n"
     ]
    },
    {
     "name": "stderr",
     "output_type": "stream",
     "text": [
      "\r",
      " 41%|████      | 222/546 [01:06<01:36,  3.34it/s]"
     ]
    },
    {
     "name": "stdout",
     "output_type": "stream",
     "text": [
      "Working on  {'cv_fraction': Decimal('0.800'), 'csc_hash': 'ea44daec7864bcec20de3b17d73ad6e831f117a7', 'cv_seed': 35, 'dataset_contrast': '0.02'}\n"
     ]
    },
    {
     "name": "stderr",
     "output_type": "stream",
     "text": [
      "\r",
      " 41%|████      | 223/546 [01:06<01:36,  3.34it/s]"
     ]
    },
    {
     "name": "stdout",
     "output_type": "stream",
     "text": [
      "Working on  {'cv_fraction': Decimal('0.800'), 'csc_hash': 'd16d2c47ce599997c4559c7f112a6389d9e8b6b7', 'cv_seed': 35, 'dataset_contrast': '0.64'}\n"
     ]
    },
    {
     "name": "stderr",
     "output_type": "stream",
     "text": [
      "\r",
      " 41%|████      | 224/546 [01:06<01:36,  3.35it/s]"
     ]
    },
    {
     "name": "stdout",
     "output_type": "stream",
     "text": [
      "Working on  {'cv_fraction': Decimal('0.800'), 'csc_hash': '574db9f788473f56a4ac236a2bc85d4f569ef9d0', 'cv_seed': 35, 'dataset_contrast': '0.04'}\n"
     ]
    },
    {
     "name": "stderr",
     "output_type": "stream",
     "text": [
      "\r",
      " 41%|████      | 225/546 [01:07<01:36,  3.34it/s]"
     ]
    },
    {
     "name": "stdout",
     "output_type": "stream",
     "text": [
      "Working on  {'cv_fraction': Decimal('0.800'), 'csc_hash': 'a36d70e445640a518daf60e852a8f72716479db8', 'cv_seed': 35, 'dataset_contrast': '0.01'}\n"
     ]
    },
    {
     "name": "stderr",
     "output_type": "stream",
     "text": [
      "\r",
      " 41%|████▏     | 226/546 [01:07<01:35,  3.34it/s]"
     ]
    },
    {
     "name": "stdout",
     "output_type": "stream",
     "text": [
      "Working on  {'cv_fraction': Decimal('0.800'), 'csc_hash': '0c89c7a274be7c782e3b476f0596834add7e5b97', 'cv_seed': 35, 'dataset_contrast': '0.02'}\n"
     ]
    },
    {
     "name": "stderr",
     "output_type": "stream",
     "text": [
      "\r",
      " 42%|████▏     | 227/546 [01:07<01:35,  3.34it/s]"
     ]
    },
    {
     "name": "stdout",
     "output_type": "stream",
     "text": [
      "Working on  {'cv_fraction': Decimal('0.800'), 'csc_hash': '78e8463fc9152455bb0d127793479c1e79bc99db', 'cv_seed': 35, 'dataset_contrast': '0.9'}\n"
     ]
    },
    {
     "name": "stderr",
     "output_type": "stream",
     "text": [
      "\r",
      " 42%|████▏     | 228/546 [01:08<01:35,  3.34it/s]"
     ]
    },
    {
     "name": "stdout",
     "output_type": "stream",
     "text": [
      "Working on  {'cv_fraction': Decimal('0.800'), 'csc_hash': 'f2bb838d18277349a62ea2d930d0888f432a461e', 'cv_seed': 35, 'dataset_contrast': '0.01'}\n"
     ]
    },
    {
     "name": "stderr",
     "output_type": "stream",
     "text": [
      "\r",
      " 42%|████▏     | 229/546 [01:08<01:34,  3.35it/s]"
     ]
    },
    {
     "name": "stdout",
     "output_type": "stream",
     "text": [
      "Working on  {'cv_fraction': Decimal('0.800'), 'csc_hash': 'ed0b7c069ce7a54a69d117f86b23fd47aea167da', 'cv_seed': 35, 'dataset_contrast': '0.8'}\n"
     ]
    },
    {
     "name": "stderr",
     "output_type": "stream",
     "text": [
      "\r",
      " 42%|████▏     | 230/546 [01:08<01:34,  3.34it/s]"
     ]
    },
    {
     "name": "stdout",
     "output_type": "stream",
     "text": [
      "Working on  {'cv_fraction': Decimal('0.800'), 'csc_hash': '12e94de405dabfcfeb093aa3347051dc873e5530', 'cv_seed': 35, 'dataset_contrast': '0.005'}\n"
     ]
    },
    {
     "name": "stderr",
     "output_type": "stream",
     "text": [
      "\r",
      " 42%|████▏     | 231/546 [01:09<01:34,  3.34it/s]"
     ]
    },
    {
     "name": "stdout",
     "output_type": "stream",
     "text": [
      "Working on  {'cv_fraction': Decimal('0.800'), 'csc_hash': '24297f914b18e048669c88c7a33eff8c0c09edc3', 'cv_seed': 35, 'dataset_contrast': '0.02'}\n"
     ]
    },
    {
     "name": "stderr",
     "output_type": "stream",
     "text": [
      "\r",
      " 42%|████▏     | 232/546 [01:09<01:33,  3.34it/s]"
     ]
    },
    {
     "name": "stdout",
     "output_type": "stream",
     "text": [
      "Working on  {'cv_fraction': Decimal('0.800'), 'csc_hash': '96b93b6ef16edd857585e98aaec2645e3c38a8e2', 'cv_seed': 35, 'dataset_contrast': '0.0075'}\n"
     ]
    },
    {
     "name": "stderr",
     "output_type": "stream",
     "text": [
      "\r",
      " 43%|████▎     | 233/546 [01:09<01:33,  3.34it/s]"
     ]
    },
    {
     "name": "stdout",
     "output_type": "stream",
     "text": [
      "Working on  {'cv_fraction': Decimal('0.800'), 'csc_hash': '1820f02d5f66cd31fe765f02ee8ee16347908062', 'cv_seed': 35, 'dataset_contrast': '0.1'}\n"
     ]
    },
    {
     "name": "stderr",
     "output_type": "stream",
     "text": [
      "\r",
      " 43%|████▎     | 234/546 [01:10<01:33,  3.34it/s]"
     ]
    },
    {
     "name": "stdout",
     "output_type": "stream",
     "text": [
      "Working on  {'cv_fraction': Decimal('0.800'), 'csc_hash': '96b93b6ef16edd857585e98aaec2645e3c38a8e2', 'cv_seed': 35, 'dataset_contrast': '1'}\n"
     ]
    },
    {
     "name": "stderr",
     "output_type": "stream",
     "text": [
      "\r",
      " 43%|████▎     | 235/546 [01:10<01:33,  3.33it/s]"
     ]
    },
    {
     "name": "stdout",
     "output_type": "stream",
     "text": [
      "Working on  {'cv_fraction': Decimal('0.800'), 'csc_hash': '8b19498cf522fff44c6f14c2c6a33cc5955d18a7', 'cv_seed': 35, 'dataset_contrast': '0.08'}\n"
     ]
    },
    {
     "name": "stderr",
     "output_type": "stream",
     "text": [
      " 43%|████▎     | 237/546 [01:11<01:32,  3.34it/s]"
     ]
    },
    {
     "name": "stdout",
     "output_type": "stream",
     "text": [
      "Working on  {'cv_fraction': Decimal('0.800'), 'csc_hash': '575528d55fb503411e5378845ad2778d350a3ed7', 'cv_seed': 35, 'dataset_contrast': '0.04'}\n",
      "Working on  {'cv_fraction': Decimal('0.800'), 'csc_hash': 'c74908bc87dfa1737e2e5f8153bb4048ba3afb58', 'cv_seed': 35, 'dataset_contrast': '0.08'}\n"
     ]
    },
    {
     "name": "stderr",
     "output_type": "stream",
     "text": [
      "\r",
      " 44%|████▎     | 238/546 [01:11<01:32,  3.33it/s]"
     ]
    },
    {
     "name": "stdout",
     "output_type": "stream",
     "text": [
      "Working on  {'cv_fraction': Decimal('0.800'), 'csc_hash': 'df21315eaf04da025674457f2264e30b99b2a384', 'cv_seed': 35, 'dataset_contrast': '0.02'}\n"
     ]
    },
    {
     "name": "stderr",
     "output_type": "stream",
     "text": [
      "\r",
      " 44%|████▍     | 239/546 [01:11<01:32,  3.34it/s]"
     ]
    },
    {
     "name": "stdout",
     "output_type": "stream",
     "text": [
      "Working on  {'cv_fraction': Decimal('0.800'), 'csc_hash': '108f54ba64caf901230c7a9db910d25691b98177', 'cv_seed': 35, 'dataset_contrast': '0.01'}\n"
     ]
    },
    {
     "name": "stderr",
     "output_type": "stream",
     "text": [
      " 44%|████▍     | 241/546 [01:12<01:31,  3.35it/s]"
     ]
    },
    {
     "name": "stdout",
     "output_type": "stream",
     "text": [
      "Working on  {'cv_fraction': Decimal('0.800'), 'csc_hash': '93c32a7a1ab86a004775787e8de6ffa9bcc151d0', 'cv_seed': 35, 'dataset_contrast': '0.06'}\n",
      "Working on  {'cv_fraction': Decimal('0.800'), 'csc_hash': 'b0025d7ceed62df92948b7b9ee24ca5af4430819', 'cv_seed': 35, 'dataset_contrast': '0.005'}\n"
     ]
    },
    {
     "name": "stderr",
     "output_type": "stream",
     "text": [
      " 45%|████▍     | 243/546 [01:12<01:30,  3.36it/s]"
     ]
    },
    {
     "name": "stdout",
     "output_type": "stream",
     "text": [
      "Working on  {'cv_fraction': Decimal('0.800'), 'csc_hash': '1aed66333230d886982b798fc3a5ab34f42449d0', 'cv_seed': 35, 'dataset_contrast': '0.04'}\n",
      "Working on  {'cv_fraction': Decimal('0.800'), 'csc_hash': '62eb64f1639bcd29c9bdb9f49b9f0127d8a3e7ab', 'cv_seed': 35, 'dataset_contrast': '0.005'}\n"
     ]
    },
    {
     "name": "stderr",
     "output_type": "stream",
     "text": [
      "\r",
      " 45%|████▍     | 244/546 [01:12<01:29,  3.36it/s]"
     ]
    },
    {
     "name": "stdout",
     "output_type": "stream",
     "text": [
      "Working on  {'cv_fraction': Decimal('0.800'), 'csc_hash': '54f710d6550d828c2716ceda1de380d4068098e6', 'cv_seed': 35, 'dataset_contrast': '0.64'}\n"
     ]
    },
    {
     "name": "stderr",
     "output_type": "stream",
     "text": [
      "\r",
      " 45%|████▍     | 245/546 [01:12<01:29,  3.36it/s]"
     ]
    },
    {
     "name": "stdout",
     "output_type": "stream",
     "text": [
      "Working on  {'cv_fraction': Decimal('0.800'), 'csc_hash': 'f1ca738665a3a291d9e9180fc8957033eae30fbc', 'cv_seed': 35, 'dataset_contrast': '0.04'}\n"
     ]
    },
    {
     "name": "stderr",
     "output_type": "stream",
     "text": [
      "\r",
      " 45%|████▌     | 246/546 [01:13<01:29,  3.36it/s]"
     ]
    },
    {
     "name": "stdout",
     "output_type": "stream",
     "text": [
      "Working on  {'cv_fraction': Decimal('0.800'), 'csc_hash': '2441b179d24aa5ce319adfc6c94609737cd167c6', 'cv_seed': 35, 'dataset_contrast': '0.005'}\n"
     ]
    },
    {
     "name": "stderr",
     "output_type": "stream",
     "text": [
      "\r",
      " 45%|████▌     | 247/546 [01:13<01:29,  3.36it/s]"
     ]
    },
    {
     "name": "stdout",
     "output_type": "stream",
     "text": [
      "Working on  {'cv_fraction': Decimal('0.800'), 'csc_hash': 'ddcdce38e20102738ed904dcdd3382b628133670', 'cv_seed': 35, 'dataset_contrast': '0.01'}\n"
     ]
    },
    {
     "name": "stderr",
     "output_type": "stream",
     "text": [
      "\r",
      " 45%|████▌     | 248/546 [01:13<01:28,  3.36it/s]"
     ]
    },
    {
     "name": "stdout",
     "output_type": "stream",
     "text": [
      "Working on  {'cv_fraction': Decimal('0.800'), 'csc_hash': '7220694d6791142a7d40df644503c74b3e93c448', 'cv_seed': 35, 'dataset_contrast': '0.02'}\n"
     ]
    },
    {
     "name": "stderr",
     "output_type": "stream",
     "text": [
      "\r",
      " 46%|████▌     | 249/546 [01:14<01:28,  3.36it/s]"
     ]
    },
    {
     "name": "stdout",
     "output_type": "stream",
     "text": [
      "Working on  {'cv_fraction': Decimal('0.800'), 'csc_hash': '1e1c78836c0115d40394bd38973b788d4158d4af', 'cv_seed': 35, 'dataset_contrast': '0.0075'}\n"
     ]
    },
    {
     "name": "stderr",
     "output_type": "stream",
     "text": [
      "\r",
      " 46%|████▌     | 250/546 [01:14<01:28,  3.36it/s]"
     ]
    },
    {
     "name": "stdout",
     "output_type": "stream",
     "text": [
      "Working on  {'cv_fraction': Decimal('0.800'), 'csc_hash': '574db9f788473f56a4ac236a2bc85d4f569ef9d0', 'cv_seed': 35, 'dataset_contrast': '0.005'}\n"
     ]
    },
    {
     "name": "stderr",
     "output_type": "stream",
     "text": [
      "\r",
      " 46%|████▌     | 251/546 [01:14<01:27,  3.36it/s]"
     ]
    },
    {
     "name": "stdout",
     "output_type": "stream",
     "text": [
      "Working on  {'cv_fraction': Decimal('0.800'), 'csc_hash': '574db9f788473f56a4ac236a2bc85d4f569ef9d0', 'cv_seed': 35, 'dataset_contrast': '0.02'}\n"
     ]
    },
    {
     "name": "stderr",
     "output_type": "stream",
     "text": [
      "\r",
      " 46%|████▌     | 252/546 [01:15<01:27,  3.35it/s]"
     ]
    },
    {
     "name": "stdout",
     "output_type": "stream",
     "text": [
      "Working on  {'cv_fraction': Decimal('0.800'), 'csc_hash': '64afce80ce243c83f35f0d2ecd872c56800eca07', 'cv_seed': 35, 'dataset_contrast': '0.07'}\n",
      "Working on  {'cv_fraction': Decimal('0.800'), 'csc_hash': '64ffffc3f24c83fc605e0f961ec3a492b70e0c48', 'cv_seed': 35, 'dataset_contrast': '0.32'}\n"
     ]
    },
    {
     "name": "stderr",
     "output_type": "stream",
     "text": [
      "\r",
      " 47%|████▋     | 254/546 [01:15<01:26,  3.36it/s]"
     ]
    },
    {
     "name": "stdout",
     "output_type": "stream",
     "text": [
      "Working on  {'cv_fraction': Decimal('0.800'), 'csc_hash': '4c4bacdbd55d0d42ee8f8aa9fbd0a24ecae5d5ae', 'cv_seed': 35, 'dataset_contrast': '0.04'}\n"
     ]
    },
    {
     "name": "stderr",
     "output_type": "stream",
     "text": [
      " 47%|████▋     | 256/546 [01:16<01:26,  3.37it/s]"
     ]
    },
    {
     "name": "stdout",
     "output_type": "stream",
     "text": [
      "Working on  {'cv_fraction': Decimal('0.800'), 'csc_hash': 'b9f76f14cb3f856fae883a6840561821a77371bd', 'cv_seed': 35, 'dataset_contrast': '0.04'}\n",
      "Working on  {'cv_fraction': Decimal('0.800'), 'csc_hash': 'ed0b7c069ce7a54a69d117f86b23fd47aea167da', 'cv_seed': 35, 'dataset_contrast': '0.02'}\n"
     ]
    },
    {
     "name": "stderr",
     "output_type": "stream",
     "text": [
      "\r",
      " 47%|████▋     | 257/546 [01:16<01:25,  3.36it/s]"
     ]
    },
    {
     "name": "stdout",
     "output_type": "stream",
     "text": [
      "Working on  {'cv_fraction': Decimal('0.800'), 'csc_hash': 'b60f6eaac04b071793fe70a3c130fa108439489b', 'cv_seed': 35, 'dataset_contrast': '0.32'}\n"
     ]
    },
    {
     "name": "stderr",
     "output_type": "stream",
     "text": [
      "\r",
      " 47%|████▋     | 258/546 [01:16<01:25,  3.36it/s]"
     ]
    },
    {
     "name": "stdout",
     "output_type": "stream",
     "text": [
      "Working on  {'cv_fraction': Decimal('0.800'), 'csc_hash': 'c08355b6a9f2f4150768beed27a2f029b00afb7c', 'cv_seed': 35, 'dataset_contrast': '0.02'}\n"
     ]
    },
    {
     "name": "stderr",
     "output_type": "stream",
     "text": [
      "\r",
      " 47%|████▋     | 259/546 [01:17<01:25,  3.35it/s]"
     ]
    },
    {
     "name": "stdout",
     "output_type": "stream",
     "text": [
      "Working on  {'cv_fraction': Decimal('0.800'), 'csc_hash': '465361b0d23c7ba52f10d70ddf3527f1e10fd266', 'cv_seed': 35, 'dataset_contrast': '0.02'}\n"
     ]
    },
    {
     "name": "stderr",
     "output_type": "stream",
     "text": [
      "\r",
      " 48%|████▊     | 260/546 [01:17<01:25,  3.35it/s]"
     ]
    },
    {
     "name": "stdout",
     "output_type": "stream",
     "text": [
      "Working on  {'cv_fraction': Decimal('0.800'), 'csc_hash': '7220694d6791142a7d40df644503c74b3e93c448', 'cv_seed': 35, 'dataset_contrast': '0.05'}\n"
     ]
    },
    {
     "name": "stderr",
     "output_type": "stream",
     "text": [
      "\r",
      " 48%|████▊     | 261/546 [01:17<01:25,  3.35it/s]"
     ]
    },
    {
     "name": "stdout",
     "output_type": "stream",
     "text": [
      "Working on  {'cv_fraction': Decimal('0.800'), 'csc_hash': '20a36a57428b6a5ed8bd864ca4a3e4c9138c2243', 'cv_seed': 35, 'dataset_contrast': '0.0075'}\n"
     ]
    },
    {
     "name": "stderr",
     "output_type": "stream",
     "text": [
      " 48%|████▊     | 263/546 [01:18<01:24,  3.35it/s]"
     ]
    },
    {
     "name": "stdout",
     "output_type": "stream",
     "text": [
      "Working on  {'cv_fraction': Decimal('0.800'), 'csc_hash': 'fd79483ca30feea2d7d5abf36d097bbc9b1d5862', 'cv_seed': 35, 'dataset_contrast': '0.02'}\n",
      "Working on  {'cv_fraction': Decimal('0.800'), 'csc_hash': 'b0770636ec15e0cf6a0b0075f098916086573c79', 'cv_seed': 35, 'dataset_contrast': '0.08'}\n"
     ]
    },
    {
     "name": "stderr",
     "output_type": "stream",
     "text": [
      "\r",
      " 48%|████▊     | 264/546 [01:18<01:24,  3.35it/s]"
     ]
    },
    {
     "name": "stdout",
     "output_type": "stream",
     "text": [
      "Working on  {'cv_fraction': Decimal('0.800'), 'csc_hash': 'b16b9965df7f1b5e5d53a4b230cb2d6431fbc4de', 'cv_seed': 35, 'dataset_contrast': '0.8'}\n"
     ]
    },
    {
     "name": "stderr",
     "output_type": "stream",
     "text": [
      "\r",
      " 49%|████▊     | 265/546 [01:19<01:24,  3.34it/s]"
     ]
    },
    {
     "name": "stdout",
     "output_type": "stream",
     "text": [
      "Working on  {'cv_fraction': Decimal('0.800'), 'csc_hash': '8bb906b3dbb93d13ab554508dbd52e4c847112c8', 'cv_seed': 35, 'dataset_contrast': '0.04'}\n"
     ]
    },
    {
     "name": "stderr",
     "output_type": "stream",
     "text": [
      "\r",
      " 49%|████▊     | 266/546 [01:19<01:23,  3.34it/s]"
     ]
    },
    {
     "name": "stdout",
     "output_type": "stream",
     "text": [
      "Working on  {'cv_fraction': Decimal('0.800'), 'csc_hash': '7240493ec90558085126e57ff8babdab870b0f6a', 'cv_seed': 35, 'dataset_contrast': '0.005'}\n"
     ]
    },
    {
     "name": "stderr",
     "output_type": "stream",
     "text": [
      "\r",
      " 49%|████▉     | 267/546 [01:20<01:23,  3.34it/s]"
     ]
    },
    {
     "name": "stdout",
     "output_type": "stream",
     "text": [
      "Working on  {'cv_fraction': Decimal('0.800'), 'csc_hash': 'a36d70e445640a518daf60e852a8f72716479db8', 'cv_seed': 35, 'dataset_contrast': '0.08'}\n"
     ]
    },
    {
     "name": "stderr",
     "output_type": "stream",
     "text": [
      "\r",
      " 49%|████▉     | 268/546 [01:20<01:23,  3.33it/s]"
     ]
    },
    {
     "name": "stdout",
     "output_type": "stream",
     "text": [
      "Working on  {'cv_fraction': Decimal('0.800'), 'csc_hash': '574db9f788473f56a4ac236a2bc85d4f569ef9d0', 'cv_seed': 35, 'dataset_contrast': '1'}\n"
     ]
    },
    {
     "name": "stderr",
     "output_type": "stream",
     "text": [
      "\r",
      " 49%|████▉     | 269/546 [01:20<01:23,  3.33it/s]"
     ]
    },
    {
     "name": "stdout",
     "output_type": "stream",
     "text": [
      "Working on  {'cv_fraction': Decimal('0.800'), 'csc_hash': '9fbcc29a6f2bcca8ebb94a15afc38db71fbd8e60', 'cv_seed': 35, 'dataset_contrast': '0.64'}\n"
     ]
    },
    {
     "name": "stderr",
     "output_type": "stream",
     "text": [
      "\r",
      " 49%|████▉     | 270/546 [01:21<01:22,  3.33it/s]"
     ]
    },
    {
     "name": "stdout",
     "output_type": "stream",
     "text": [
      "Working on  {'cv_fraction': Decimal('0.800'), 'csc_hash': 'a424e60370de168262de958c27bd68b9b391dd21', 'cv_seed': 35, 'dataset_contrast': '0.12'}\n"
     ]
    },
    {
     "name": "stderr",
     "output_type": "stream",
     "text": [
      "\r",
      " 50%|████▉     | 271/546 [01:21<01:22,  3.33it/s]"
     ]
    },
    {
     "name": "stdout",
     "output_type": "stream",
     "text": [
      "Working on  {'cv_fraction': Decimal('0.800'), 'csc_hash': '993a53d8700df5e6739c48783231b7beb275d8fb', 'cv_seed': 35, 'dataset_contrast': '0.1'}\n"
     ]
    },
    {
     "name": "stderr",
     "output_type": "stream",
     "text": [
      " 50%|█████     | 273/546 [01:21<01:21,  3.33it/s]"
     ]
    },
    {
     "name": "stdout",
     "output_type": "stream",
     "text": [
      "Working on  {'cv_fraction': Decimal('0.800'), 'csc_hash': '575528d55fb503411e5378845ad2778d350a3ed7', 'cv_seed': 35, 'dataset_contrast': '0.01'}\n",
      "Working on  {'cv_fraction': Decimal('0.800'), 'csc_hash': 'f1ca738665a3a291d9e9180fc8957033eae30fbc', 'cv_seed': 35, 'dataset_contrast': '0.02'}\n"
     ]
    },
    {
     "name": "stderr",
     "output_type": "stream",
     "text": [
      "\r",
      " 50%|█████     | 274/546 [01:22<01:21,  3.33it/s]"
     ]
    },
    {
     "name": "stdout",
     "output_type": "stream",
     "text": [
      "Working on  {'cv_fraction': Decimal('0.800'), 'csc_hash': '60e397c41a1315a5bb31fee7e34067ea85c45449', 'cv_seed': 35, 'dataset_contrast': '0.0075'}\n"
     ]
    },
    {
     "name": "stderr",
     "output_type": "stream",
     "text": [
      "\r",
      " 50%|█████     | 275/546 [01:22<01:21,  3.33it/s]"
     ]
    },
    {
     "name": "stdout",
     "output_type": "stream",
     "text": [
      "Working on  {'cv_fraction': Decimal('0.800'), 'csc_hash': '993a53d8700df5e6739c48783231b7beb275d8fb', 'cv_seed': 35, 'dataset_contrast': '0.04'}\n"
     ]
    },
    {
     "name": "stderr",
     "output_type": "stream",
     "text": [
      "\r",
      " 51%|█████     | 276/546 [01:22<01:21,  3.33it/s]"
     ]
    },
    {
     "name": "stdout",
     "output_type": "stream",
     "text": [
      "Working on  {'cv_fraction': Decimal('0.800'), 'csc_hash': 'e487412b5a2cd5fee148f559ede07a9f9a01fefe', 'cv_seed': 35, 'dataset_contrast': '0.02'}\n"
     ]
    },
    {
     "name": "stderr",
     "output_type": "stream",
     "text": [
      "\r",
      " 51%|█████     | 277/546 [01:23<01:20,  3.33it/s]"
     ]
    },
    {
     "name": "stdout",
     "output_type": "stream",
     "text": [
      "Working on  {'cv_fraction': Decimal('0.800'), 'csc_hash': '32d0da84f717b430c94d198ab0c28ae6a61e7960', 'cv_seed': 35, 'dataset_contrast': '0.03'}\n"
     ]
    },
    {
     "name": "stderr",
     "output_type": "stream",
     "text": [
      "\r",
      " 51%|█████     | 278/546 [01:23<01:20,  3.34it/s]"
     ]
    },
    {
     "name": "stdout",
     "output_type": "stream",
     "text": [
      "Working on  {'cv_fraction': Decimal('0.800'), 'csc_hash': '1820f02d5f66cd31fe765f02ee8ee16347908062', 'cv_seed': 35, 'dataset_contrast': '0.04'}\n"
     ]
    },
    {
     "name": "stderr",
     "output_type": "stream",
     "text": [
      "\r",
      " 51%|█████     | 279/546 [01:23<01:20,  3.34it/s]"
     ]
    },
    {
     "name": "stdout",
     "output_type": "stream",
     "text": [
      "Working on  {'cv_fraction': Decimal('0.800'), 'csc_hash': '3565e65b12fd3384b2e791f091c998e6dec931f7', 'cv_seed': 35, 'dataset_contrast': '0.1'}\n"
     ]
    },
    {
     "name": "stderr",
     "output_type": "stream",
     "text": [
      " 51%|█████▏    | 281/546 [01:24<01:19,  3.34it/s]"
     ]
    },
    {
     "name": "stdout",
     "output_type": "stream",
     "text": [
      "Working on  {'cv_fraction': Decimal('0.800'), 'csc_hash': '9bab0018aa5d12daee5c32eca25623cb5af6605d', 'cv_seed': 35, 'dataset_contrast': '0.02'}\n",
      "Working on  {'cv_fraction': Decimal('0.800'), 'csc_hash': 'c72789c65f74388f1c6e96ffd83577c0fa70719c', 'cv_seed': 35, 'dataset_contrast': '0.02'}\n"
     ]
    },
    {
     "name": "stderr",
     "output_type": "stream",
     "text": [
      "\r",
      " 52%|█████▏    | 282/546 [01:24<01:18,  3.35it/s]"
     ]
    },
    {
     "name": "stdout",
     "output_type": "stream",
     "text": [
      "Working on  {'cv_fraction': Decimal('0.800'), 'csc_hash': 'c2922d3f721b13122fcfafc76231c956e4b16a02', 'cv_seed': 35, 'dataset_contrast': '0.05'}\n"
     ]
    },
    {
     "name": "stderr",
     "output_type": "stream",
     "text": [
      "\r",
      " 52%|█████▏    | 283/546 [01:24<01:18,  3.35it/s]"
     ]
    },
    {
     "name": "stdout",
     "output_type": "stream",
     "text": [
      "Working on  {'cv_fraction': Decimal('0.800'), 'csc_hash': 'b0770636ec15e0cf6a0b0075f098916086573c79', 'cv_seed': 35, 'dataset_contrast': '0.04'}\n"
     ]
    },
    {
     "name": "stderr",
     "output_type": "stream",
     "text": [
      " 52%|█████▏    | 285/546 [01:24<01:17,  3.36it/s]"
     ]
    },
    {
     "name": "stdout",
     "output_type": "stream",
     "text": [
      "Working on  {'cv_fraction': Decimal('0.800'), 'csc_hash': 'c3770af2071d9b3411ba365b8fa8b80d6169278d', 'cv_seed': 35, 'dataset_contrast': '0.1'}\n",
      "Working on  {'cv_fraction': Decimal('0.800'), 'csc_hash': '0732f2b73f4900ee4fa81f8853b48e460a42ee14', 'cv_seed': 35, 'dataset_contrast': '1'}\n"
     ]
    },
    {
     "name": "stderr",
     "output_type": "stream",
     "text": [
      "\r",
      " 52%|█████▏    | 286/546 [01:25<01:17,  3.36it/s]"
     ]
    },
    {
     "name": "stdout",
     "output_type": "stream",
     "text": [
      "Working on  {'cv_fraction': Decimal('0.800'), 'csc_hash': '96b93b6ef16edd857585e98aaec2645e3c38a8e2', 'cv_seed': 35, 'dataset_contrast': '0.8'}\n"
     ]
    },
    {
     "name": "stderr",
     "output_type": "stream",
     "text": [
      "\r",
      " 53%|█████▎    | 287/546 [01:25<01:17,  3.35it/s]"
     ]
    },
    {
     "name": "stdout",
     "output_type": "stream",
     "text": [
      "Working on  {'cv_fraction': Decimal('0.800'), 'csc_hash': '9c3317bb2daafd989122764cd1c9327819128fd6', 'cv_seed': 35, 'dataset_contrast': '0.04'}\n"
     ]
    },
    {
     "name": "stderr",
     "output_type": "stream",
     "text": [
      "\r",
      " 53%|█████▎    | 288/546 [01:25<01:16,  3.35it/s]"
     ]
    },
    {
     "name": "stdout",
     "output_type": "stream",
     "text": [
      "Working on  {'cv_fraction': Decimal('0.800'), 'csc_hash': '4c4bacdbd55d0d42ee8f8aa9fbd0a24ecae5d5ae', 'cv_seed': 35, 'dataset_contrast': '0.005'}\n"
     ]
    },
    {
     "name": "stderr",
     "output_type": "stream",
     "text": [
      "\r",
      " 53%|█████▎    | 289/546 [01:26<01:16,  3.35it/s]"
     ]
    },
    {
     "name": "stdout",
     "output_type": "stream",
     "text": [
      "Working on  {'cv_fraction': Decimal('0.800'), 'csc_hash': '8a6cddc59433de7eff7d19258ad73cad9e6b9ff9', 'cv_seed': 35, 'dataset_contrast': '0.005'}\n"
     ]
    },
    {
     "name": "stderr",
     "output_type": "stream",
     "text": [
      "\r",
      " 53%|█████▎    | 290/546 [01:26<01:16,  3.35it/s]"
     ]
    },
    {
     "name": "stdout",
     "output_type": "stream",
     "text": [
      "Working on  {'cv_fraction': Decimal('0.800'), 'csc_hash': '8bb906b3dbb93d13ab554508dbd52e4c847112c8', 'cv_seed': 35, 'dataset_contrast': '1'}\n"
     ]
    },
    {
     "name": "stderr",
     "output_type": "stream",
     "text": [
      " 53%|█████▎    | 292/546 [01:27<01:15,  3.35it/s]"
     ]
    },
    {
     "name": "stdout",
     "output_type": "stream",
     "text": [
      "Working on  {'cv_fraction': Decimal('0.800'), 'csc_hash': 'a28e6247ac06f2162d8dad6f744a08465f72d1cf', 'cv_seed': 35, 'dataset_contrast': '0.03'}\n",
      "Working on  {'cv_fraction': Decimal('0.800'), 'csc_hash': 'f19561c9195be7722c1d2073406f97ffc359d63d', 'cv_seed': 35, 'dataset_contrast': '0.01'}\n"
     ]
    },
    {
     "name": "stderr",
     "output_type": "stream",
     "text": [
      "\r",
      " 54%|█████▎    | 293/546 [01:27<01:15,  3.36it/s]"
     ]
    },
    {
     "name": "stdout",
     "output_type": "stream",
     "text": [
      "Working on  {'cv_fraction': Decimal('0.800'), 'csc_hash': '6a4d8b005dd1891872e1b85c2da1a580425f5f27', 'cv_seed': 35, 'dataset_contrast': '0.04'}\n"
     ]
    },
    {
     "name": "stderr",
     "output_type": "stream",
     "text": [
      "\r",
      " 54%|█████▍    | 294/546 [01:27<01:15,  3.36it/s]"
     ]
    },
    {
     "name": "stdout",
     "output_type": "stream",
     "text": [
      "Working on  {'cv_fraction': Decimal('0.800'), 'csc_hash': 'fe61e21a3e13a93f11e9bc1f24663db66c409ae5', 'cv_seed': 35, 'dataset_contrast': '0.03'}\n"
     ]
    },
    {
     "name": "stderr",
     "output_type": "stream",
     "text": [
      "\r",
      " 54%|█████▍    | 295/546 [01:27<01:14,  3.36it/s]"
     ]
    },
    {
     "name": "stdout",
     "output_type": "stream",
     "text": [
      "Working on  {'cv_fraction': Decimal('0.800'), 'csc_hash': '8bb906b3dbb93d13ab554508dbd52e4c847112c8', 'cv_seed': 35, 'dataset_contrast': '0.02'}\n"
     ]
    },
    {
     "name": "stderr",
     "output_type": "stream",
     "text": [
      " 54%|█████▍    | 297/546 [01:28<01:14,  3.36it/s]"
     ]
    },
    {
     "name": "stdout",
     "output_type": "stream",
     "text": [
      "Working on  {'cv_fraction': Decimal('0.800'), 'csc_hash': 'fda661587b2c4f5a874d8e6d6fd548d5b65ba946', 'cv_seed': 35, 'dataset_contrast': '0.02'}\n",
      "Working on  {'cv_fraction': Decimal('0.800'), 'csc_hash': 'c74908bc87dfa1737e2e5f8153bb4048ba3afb58', 'cv_seed': 35, 'dataset_contrast': '0.64'}\n"
     ]
    },
    {
     "name": "stderr",
     "output_type": "stream",
     "text": [
      "\r",
      " 55%|█████▍    | 298/546 [01:28<01:13,  3.36it/s]"
     ]
    },
    {
     "name": "stdout",
     "output_type": "stream",
     "text": [
      "Working on  {'cv_fraction': Decimal('0.800'), 'csc_hash': 'df21315eaf04da025674457f2264e30b99b2a384', 'cv_seed': 35, 'dataset_contrast': '0.04'}\n"
     ]
    },
    {
     "name": "stderr",
     "output_type": "stream",
     "text": [
      "\r",
      " 55%|█████▍    | 299/546 [01:28<01:13,  3.36it/s]"
     ]
    },
    {
     "name": "stdout",
     "output_type": "stream",
     "text": [
      "Working on  {'cv_fraction': Decimal('0.800'), 'csc_hash': '574db9f788473f56a4ac236a2bc85d4f569ef9d0', 'cv_seed': 35, 'dataset_contrast': '0.06'}\n"
     ]
    },
    {
     "name": "stderr",
     "output_type": "stream",
     "text": [
      "\r",
      " 55%|█████▍    | 300/546 [01:29<01:13,  3.36it/s]"
     ]
    },
    {
     "name": "stdout",
     "output_type": "stream",
     "text": [
      "Working on  {'cv_fraction': Decimal('0.800'), 'csc_hash': 'ed0b7c069ce7a54a69d117f86b23fd47aea167da', 'cv_seed': 35, 'dataset_contrast': '0.04'}\n"
     ]
    },
    {
     "name": "stderr",
     "output_type": "stream",
     "text": [
      "\r",
      " 55%|█████▌    | 301/546 [01:29<01:13,  3.35it/s]"
     ]
    },
    {
     "name": "stdout",
     "output_type": "stream",
     "text": [
      "Working on  {'cv_fraction': Decimal('0.800'), 'csc_hash': '465361b0d23c7ba52f10d70ddf3527f1e10fd266', 'cv_seed': 35, 'dataset_contrast': '0.1'}\n"
     ]
    },
    {
     "name": "stderr",
     "output_type": "stream",
     "text": [
      "\r",
      " 55%|█████▌    | 302/546 [01:29<01:12,  3.36it/s]"
     ]
    },
    {
     "name": "stdout",
     "output_type": "stream",
     "text": [
      "Working on  {'cv_fraction': Decimal('0.800'), 'csc_hash': '4ed2dadf906380a1dd9b8e613cf3f4e88891f170', 'cv_seed': 35, 'dataset_contrast': '0.005'}\n"
     ]
    },
    {
     "name": "stderr",
     "output_type": "stream",
     "text": [
      "\r",
      " 55%|█████▌    | 303/546 [01:30<01:12,  3.35it/s]"
     ]
    },
    {
     "name": "stdout",
     "output_type": "stream",
     "text": [
      "Working on  {'cv_fraction': Decimal('0.800'), 'csc_hash': '6f18eaab799c2ee5a14d82553dc993a73fa7e73e', 'cv_seed': 35, 'dataset_contrast': '0.64'}\n"
     ]
    },
    {
     "name": "stderr",
     "output_type": "stream",
     "text": [
      "\r",
      " 56%|█████▌    | 304/546 [01:30<01:12,  3.34it/s]"
     ]
    },
    {
     "name": "stdout",
     "output_type": "stream",
     "text": [
      "Working on  {'cv_fraction': Decimal('0.800'), 'csc_hash': '96b93b6ef16edd857585e98aaec2645e3c38a8e2', 'cv_seed': 35, 'dataset_contrast': '0.3'}\n"
     ]
    },
    {
     "name": "stderr",
     "output_type": "stream",
     "text": [
      "\r",
      " 56%|█████▌    | 305/546 [01:31<01:12,  3.34it/s]"
     ]
    },
    {
     "name": "stdout",
     "output_type": "stream",
     "text": [
      "Working on  {'cv_fraction': Decimal('0.800'), 'csc_hash': '96b93b6ef16edd857585e98aaec2645e3c38a8e2', 'cv_seed': 35, 'dataset_contrast': '0.06'}\n"
     ]
    },
    {
     "name": "stderr",
     "output_type": "stream",
     "text": [
      "\r",
      " 56%|█████▌    | 306/546 [01:31<01:11,  3.34it/s]"
     ]
    },
    {
     "name": "stdout",
     "output_type": "stream",
     "text": [
      "Working on  {'cv_fraction': Decimal('0.800'), 'csc_hash': 'baebbcc5c78ffc9f21e992f59ae7938ebd917b39', 'cv_seed': 35, 'dataset_contrast': '0.02'}\n",
      "Working on  {'cv_fraction': Decimal('0.800'), 'csc_hash': 'b0770636ec15e0cf6a0b0075f098916086573c79', 'cv_seed': 35, 'dataset_contrast': '0.8'}\n"
     ]
    },
    {
     "name": "stderr",
     "output_type": "stream",
     "text": [
      "\r",
      " 56%|█████▋    | 308/546 [01:31<01:11,  3.35it/s]"
     ]
    },
    {
     "name": "stdout",
     "output_type": "stream",
     "text": [
      "Working on  {'cv_fraction': Decimal('0.800'), 'csc_hash': '8ec098f0eff3b20dab37294915f83a883ed89039', 'cv_seed': 35, 'dataset_contrast': '0.02'}\n"
     ]
    },
    {
     "name": "stderr",
     "output_type": "stream",
     "text": [
      "\r",
      " 57%|█████▋    | 309/546 [01:32<01:10,  3.35it/s]"
     ]
    },
    {
     "name": "stdout",
     "output_type": "stream",
     "text": [
      "Working on  {'cv_fraction': Decimal('0.800'), 'csc_hash': '24297f914b18e048669c88c7a33eff8c0c09edc3', 'cv_seed': 35, 'dataset_contrast': '0.16'}\n"
     ]
    },
    {
     "name": "stderr",
     "output_type": "stream",
     "text": [
      "\r",
      " 57%|█████▋    | 310/546 [01:32<01:10,  3.35it/s]"
     ]
    },
    {
     "name": "stdout",
     "output_type": "stream",
     "text": [
      "Working on  {'cv_fraction': Decimal('0.800'), 'csc_hash': '97c8f15c66f1b50b7ae3065019d147918f3a7e70', 'cv_seed': 35, 'dataset_contrast': '0.01'}\n"
     ]
    },
    {
     "name": "stderr",
     "output_type": "stream",
     "text": [
      "\r",
      " 57%|█████▋    | 311/546 [01:33<01:10,  3.34it/s]"
     ]
    },
    {
     "name": "stdout",
     "output_type": "stream",
     "text": [
      "Working on  {'cv_fraction': Decimal('0.800'), 'csc_hash': 'ed0b7c069ce7a54a69d117f86b23fd47aea167da', 'cv_seed': 35, 'dataset_contrast': '0.3'}\n"
     ]
    },
    {
     "name": "stderr",
     "output_type": "stream",
     "text": [
      " 57%|█████▋    | 313/546 [01:33<01:09,  3.35it/s]"
     ]
    },
    {
     "name": "stdout",
     "output_type": "stream",
     "text": [
      "Working on  {'cv_fraction': Decimal('0.800'), 'csc_hash': '9bab0018aa5d12daee5c32eca25623cb5af6605d', 'cv_seed': 35, 'dataset_contrast': '0.04'}\n",
      "Working on  {'cv_fraction': Decimal('0.800'), 'csc_hash': '116ae91919191b3b084d0067e8431d13d19f759d', 'cv_seed': 35, 'dataset_contrast': '0.04'}\n"
     ]
    },
    {
     "name": "stderr",
     "output_type": "stream",
     "text": [
      "\r",
      " 58%|█████▊    | 314/546 [01:33<01:09,  3.34it/s]"
     ]
    },
    {
     "name": "stdout",
     "output_type": "stream",
     "text": [
      "Working on  {'cv_fraction': Decimal('0.800'), 'csc_hash': 'fe61e21a3e13a93f11e9bc1f24663db66c409ae5', 'cv_seed': 35, 'dataset_contrast': '0.9'}\n"
     ]
    },
    {
     "name": "stderr",
     "output_type": "stream",
     "text": [
      "\r",
      " 58%|█████▊    | 315/546 [01:34<01:09,  3.34it/s]"
     ]
    },
    {
     "name": "stdout",
     "output_type": "stream",
     "text": [
      "Working on  {'cv_fraction': Decimal('0.800'), 'csc_hash': '604d54f0a005f8ed357cc6371e723ba3e9236d78', 'cv_seed': 35, 'dataset_contrast': '0.01'}\n"
     ]
    },
    {
     "name": "stderr",
     "output_type": "stream",
     "text": [
      " 58%|█████▊    | 317/546 [01:34<01:08,  3.35it/s]"
     ]
    },
    {
     "name": "stdout",
     "output_type": "stream",
     "text": [
      "Working on  {'cv_fraction': Decimal('0.800'), 'csc_hash': 'f19561c9195be7722c1d2073406f97ffc359d63d', 'cv_seed': 35, 'dataset_contrast': '0.16'}\n",
      "Working on  {'cv_fraction': Decimal('0.800'), 'csc_hash': '20a36a57428b6a5ed8bd864ca4a3e4c9138c2243', 'cv_seed': 35, 'dataset_contrast': '0.03'}\n"
     ]
    },
    {
     "name": "stderr",
     "output_type": "stream",
     "text": [
      "\r",
      " 58%|█████▊    | 318/546 [01:35<01:08,  3.34it/s]"
     ]
    },
    {
     "name": "stdout",
     "output_type": "stream",
     "text": [
      "Working on  {'cv_fraction': Decimal('0.800'), 'csc_hash': '574db9f788473f56a4ac236a2bc85d4f569ef9d0', 'cv_seed': 35, 'dataset_contrast': '0.5'}\n"
     ]
    },
    {
     "name": "stderr",
     "output_type": "stream",
     "text": [
      "\r",
      " 58%|█████▊    | 319/546 [01:35<01:07,  3.34it/s]"
     ]
    },
    {
     "name": "stdout",
     "output_type": "stream",
     "text": [
      "Working on  {'cv_fraction': Decimal('0.800'), 'csc_hash': 'c08355b6a9f2f4150768beed27a2f029b00afb7c', 'cv_seed': 35, 'dataset_contrast': '0.3'}\n"
     ]
    },
    {
     "name": "stderr",
     "output_type": "stream",
     "text": [
      " 59%|█████▉    | 321/546 [01:35<01:07,  3.35it/s]"
     ]
    },
    {
     "name": "stdout",
     "output_type": "stream",
     "text": [
      "Working on  {'cv_fraction': Decimal('0.800'), 'csc_hash': 'f19561c9195be7722c1d2073406f97ffc359d63d', 'cv_seed': 35, 'dataset_contrast': '0.04'}\n",
      "Working on  {'cv_fraction': Decimal('0.800'), 'csc_hash': '900c1eb204bf5e5437b9a886194d850002f6a8a3', 'cv_seed': 35, 'dataset_contrast': '0.08'}\n"
     ]
    },
    {
     "name": "stderr",
     "output_type": "stream",
     "text": [
      "\r",
      " 59%|█████▉    | 322/546 [01:36<01:06,  3.35it/s]"
     ]
    },
    {
     "name": "stdout",
     "output_type": "stream",
     "text": [
      "Working on  {'cv_fraction': Decimal('0.800'), 'csc_hash': '20a36a57428b6a5ed8bd864ca4a3e4c9138c2243', 'cv_seed': 35, 'dataset_contrast': '0.8'}\n"
     ]
    },
    {
     "name": "stderr",
     "output_type": "stream",
     "text": [
      "\r",
      " 59%|█████▉    | 323/546 [01:36<01:06,  3.35it/s]"
     ]
    },
    {
     "name": "stdout",
     "output_type": "stream",
     "text": [
      "Working on  {'cv_fraction': Decimal('0.800'), 'csc_hash': '574db9f788473f56a4ac236a2bc85d4f569ef9d0', 'cv_seed': 35, 'dataset_contrast': '0.03'}\n"
     ]
    },
    {
     "name": "stderr",
     "output_type": "stream",
     "text": [
      "\r",
      " 59%|█████▉    | 324/546 [01:36<01:06,  3.35it/s]"
     ]
    },
    {
     "name": "stdout",
     "output_type": "stream",
     "text": [
      "Working on  {'cv_fraction': Decimal('0.800'), 'csc_hash': 'e3f0fe623e38121668a6e556fa0f4d0dc8a5747d', 'cv_seed': 35, 'dataset_contrast': '0.64'}\n"
     ]
    },
    {
     "name": "stderr",
     "output_type": "stream",
     "text": [
      "\r",
      " 60%|█████▉    | 325/546 [01:37<01:06,  3.34it/s]"
     ]
    },
    {
     "name": "stdout",
     "output_type": "stream",
     "text": [
      "Working on  {'cv_fraction': Decimal('0.800'), 'csc_hash': '6a4d8b005dd1891872e1b85c2da1a580425f5f27', 'cv_seed': 35, 'dataset_contrast': '0.01'}\n"
     ]
    },
    {
     "name": "stderr",
     "output_type": "stream",
     "text": [
      " 60%|█████▉    | 327/546 [01:37<01:05,  3.35it/s]"
     ]
    },
    {
     "name": "stdout",
     "output_type": "stream",
     "text": [
      "Working on  {'cv_fraction': Decimal('0.800'), 'csc_hash': '2d59ea9940ebacec7585892e78ea8d175029e905', 'cv_seed': 35, 'dataset_contrast': '0.01'}\n",
      "Working on  {'cv_fraction': Decimal('0.800'), 'csc_hash': '2441b179d24aa5ce319adfc6c94609737cd167c6', 'cv_seed': 35, 'dataset_contrast': '0.04'}\n"
     ]
    },
    {
     "name": "stderr",
     "output_type": "stream",
     "text": [
      "\r",
      " 60%|██████    | 328/546 [01:37<01:05,  3.35it/s]"
     ]
    },
    {
     "name": "stdout",
     "output_type": "stream",
     "text": [
      "Working on  {'cv_fraction': Decimal('0.800'), 'csc_hash': '0821d6c856639dcb7bb67b1dc8d0f2339b60e27f', 'cv_seed': 35, 'dataset_contrast': '0.01'}\n"
     ]
    },
    {
     "name": "stderr",
     "output_type": "stream",
     "text": [
      "\r",
      " 60%|██████    | 329/546 [01:38<01:04,  3.35it/s]"
     ]
    },
    {
     "name": "stdout",
     "output_type": "stream",
     "text": [
      "Working on  {'cv_fraction': Decimal('0.800'), 'csc_hash': '8b19498cf522fff44c6f14c2c6a33cc5955d18a7', 'cv_seed': 35, 'dataset_contrast': '0.64'}\n"
     ]
    },
    {
     "name": "stderr",
     "output_type": "stream",
     "text": [
      "\r",
      " 60%|██████    | 330/546 [01:38<01:04,  3.35it/s]"
     ]
    },
    {
     "name": "stdout",
     "output_type": "stream",
     "text": [
      "Working on  {'cv_fraction': Decimal('0.800'), 'csc_hash': '4ed2dadf906380a1dd9b8e613cf3f4e88891f170', 'cv_seed': 35, 'dataset_contrast': '0.01'}\n"
     ]
    },
    {
     "name": "stderr",
     "output_type": "stream",
     "text": [
      "\r",
      " 61%|██████    | 331/546 [01:38<01:04,  3.35it/s]"
     ]
    },
    {
     "name": "stdout",
     "output_type": "stream",
     "text": [
      "Working on  {'cv_fraction': Decimal('0.800'), 'csc_hash': '20a36a57428b6a5ed8bd864ca4a3e4c9138c2243', 'cv_seed': 35, 'dataset_contrast': '0.06'}\n"
     ]
    },
    {
     "name": "stderr",
     "output_type": "stream",
     "text": [
      "\r",
      " 61%|██████    | 332/546 [01:39<01:03,  3.35it/s]"
     ]
    },
    {
     "name": "stdout",
     "output_type": "stream",
     "text": [
      "Working on  {'cv_fraction': Decimal('0.800'), 'csc_hash': '4ed410917f1ddd18c4244db0eeb1cc8e43e3bdf4', 'cv_seed': 35, 'dataset_contrast': '0.02'}\n",
      "Working on  {'cv_fraction': Decimal('0.800'), 'csc_hash': '157306139821e1a561dd536b8abb7e2d5005945b', 'cv_seed': 35, 'dataset_contrast': '0.12'}\n"
     ]
    },
    {
     "name": "stderr",
     "output_type": "stream",
     "text": [
      "\r",
      " 61%|██████    | 334/546 [01:39<01:03,  3.36it/s]"
     ]
    },
    {
     "name": "stdout",
     "output_type": "stream",
     "text": [
      "Working on  {'cv_fraction': Decimal('0.800'), 'csc_hash': 'b0770636ec15e0cf6a0b0075f098916086573c79', 'cv_seed': 35, 'dataset_contrast': '0.01'}\n"
     ]
    },
    {
     "name": "stderr",
     "output_type": "stream",
     "text": [
      "\r",
      " 61%|██████▏   | 335/546 [01:39<01:02,  3.36it/s]"
     ]
    },
    {
     "name": "stdout",
     "output_type": "stream",
     "text": [
      "Working on  {'cv_fraction': Decimal('0.800'), 'csc_hash': 'b16b9965df7f1b5e5d53a4b230cb2d6431fbc4de', 'cv_seed': 35, 'dataset_contrast': '0.16'}\n"
     ]
    },
    {
     "name": "stderr",
     "output_type": "stream",
     "text": [
      "\r",
      " 62%|██████▏   | 336/546 [01:40<01:02,  3.36it/s]"
     ]
    },
    {
     "name": "stdout",
     "output_type": "stream",
     "text": [
      "Working on  {'cv_fraction': Decimal('0.800'), 'csc_hash': '0c962104ee2d677c7e2c50c109202dbe6df0f166', 'cv_seed': 35, 'dataset_contrast': '0.12'}\n"
     ]
    },
    {
     "name": "stderr",
     "output_type": "stream",
     "text": [
      "\r",
      " 62%|██████▏   | 337/546 [01:40<01:02,  3.36it/s]"
     ]
    },
    {
     "name": "stdout",
     "output_type": "stream",
     "text": [
      "Working on  {'cv_fraction': Decimal('0.800'), 'csc_hash': '157306139821e1a561dd536b8abb7e2d5005945b', 'cv_seed': 35, 'dataset_contrast': '0.04'}\n"
     ]
    },
    {
     "name": "stderr",
     "output_type": "stream",
     "text": [
      "\r",
      " 62%|██████▏   | 338/546 [01:40<01:01,  3.36it/s]"
     ]
    },
    {
     "name": "stdout",
     "output_type": "stream",
     "text": [
      "Working on  {'cv_fraction': Decimal('0.800'), 'csc_hash': '0ab391586f486b3f48e18f056a2b136480255965', 'cv_seed': 35, 'dataset_contrast': '0.64'}\n"
     ]
    },
    {
     "name": "stderr",
     "output_type": "stream",
     "text": [
      "\r",
      " 62%|██████▏   | 339/546 [01:40<01:01,  3.36it/s]"
     ]
    },
    {
     "name": "stdout",
     "output_type": "stream",
     "text": [
      "Working on  {'cv_fraction': Decimal('0.800'), 'csc_hash': '80c9c2cb0c2391c599471322e8299003a23698f0', 'cv_seed': 35, 'dataset_contrast': '0.32'}\n"
     ]
    },
    {
     "name": "stderr",
     "output_type": "stream",
     "text": [
      "\r",
      " 62%|██████▏   | 340/546 [01:41<01:01,  3.36it/s]"
     ]
    },
    {
     "name": "stdout",
     "output_type": "stream",
     "text": [
      "Working on  {'cv_fraction': Decimal('0.800'), 'csc_hash': 'c08355b6a9f2f4150768beed27a2f029b00afb7c', 'cv_seed': 35, 'dataset_contrast': '0.64'}\n"
     ]
    },
    {
     "name": "stderr",
     "output_type": "stream",
     "text": [
      "\r",
      " 62%|██████▏   | 341/546 [01:41<01:01,  3.36it/s]"
     ]
    },
    {
     "name": "stdout",
     "output_type": "stream",
     "text": [
      "Working on  {'cv_fraction': Decimal('0.800'), 'csc_hash': 'c08355b6a9f2f4150768beed27a2f029b00afb7c', 'cv_seed': 35, 'dataset_contrast': '1'}\n"
     ]
    },
    {
     "name": "stderr",
     "output_type": "stream",
     "text": [
      "\r",
      " 63%|██████▎   | 342/546 [01:41<01:00,  3.36it/s]"
     ]
    },
    {
     "name": "stdout",
     "output_type": "stream",
     "text": [
      "Working on  {'cv_fraction': Decimal('0.800'), 'csc_hash': 'df21315eaf04da025674457f2264e30b99b2a384', 'cv_seed': 35, 'dataset_contrast': '0.1'}\n"
     ]
    },
    {
     "name": "stderr",
     "output_type": "stream",
     "text": [
      "\r",
      " 63%|██████▎   | 343/546 [01:42<01:00,  3.36it/s]"
     ]
    },
    {
     "name": "stdout",
     "output_type": "stream",
     "text": [
      "Working on  {'cv_fraction': Decimal('0.800'), 'csc_hash': 'c74908bc87dfa1737e2e5f8153bb4048ba3afb58', 'cv_seed': 35, 'dataset_contrast': '0.01'}\n"
     ]
    },
    {
     "name": "stderr",
     "output_type": "stream",
     "text": [
      " 63%|██████▎   | 345/546 [01:42<00:59,  3.36it/s]"
     ]
    },
    {
     "name": "stdout",
     "output_type": "stream",
     "text": [
      "Working on  {'cv_fraction': Decimal('0.800'), 'csc_hash': 'f98f67b4367c709244d14544631835147e53d742', 'cv_seed': 35, 'dataset_contrast': '0.01'}\n",
      "Working on  {'cv_fraction': Decimal('0.800'), 'csc_hash': '8bb906b3dbb93d13ab554508dbd52e4c847112c8', 'cv_seed': 35, 'dataset_contrast': '0.3'}\n"
     ]
    },
    {
     "name": "stderr",
     "output_type": "stream",
     "text": [
      "\r",
      " 63%|██████▎   | 346/546 [01:43<00:59,  3.36it/s]"
     ]
    },
    {
     "name": "stdout",
     "output_type": "stream",
     "text": [
      "Working on  {'cv_fraction': Decimal('0.800'), 'csc_hash': '8bb906b3dbb93d13ab554508dbd52e4c847112c8', 'cv_seed': 35, 'dataset_contrast': '0.06'}\n"
     ]
    },
    {
     "name": "stderr",
     "output_type": "stream",
     "text": [
      "\r",
      " 64%|██████▎   | 347/546 [01:43<00:59,  3.36it/s]"
     ]
    },
    {
     "name": "stdout",
     "output_type": "stream",
     "text": [
      "Working on  {'cv_fraction': Decimal('0.800'), 'csc_hash': '853f697fc9cf7c18ecc0a01bd912798386b53b9e', 'cv_seed': 35, 'dataset_contrast': '0.01'}\n"
     ]
    },
    {
     "name": "stderr",
     "output_type": "stream",
     "text": [
      " 64%|██████▍   | 349/546 [01:43<00:58,  3.36it/s]"
     ]
    },
    {
     "name": "stdout",
     "output_type": "stream",
     "text": [
      "Working on  {'cv_fraction': Decimal('0.800'), 'csc_hash': '93c32a7a1ab86a004775787e8de6ffa9bcc151d0', 'cv_seed': 35, 'dataset_contrast': '0.2'}\n",
      "Working on  {'cv_fraction': Decimal('0.800'), 'csc_hash': 'f4691aa78879a0531374e4a60d23e2e6fd99eb7b', 'cv_seed': 35, 'dataset_contrast': '0.01'}\n"
     ]
    },
    {
     "name": "stderr",
     "output_type": "stream",
     "text": [
      " 64%|██████▍   | 351/546 [01:44<00:57,  3.37it/s]"
     ]
    },
    {
     "name": "stdout",
     "output_type": "stream",
     "text": [
      "Working on  {'cv_fraction': Decimal('0.800'), 'csc_hash': '2d59ea9940ebacec7585892e78ea8d175029e905', 'cv_seed': 35, 'dataset_contrast': '0.1'}\n",
      "Working on  {'cv_fraction': Decimal('0.800'), 'csc_hash': '157306139821e1a561dd536b8abb7e2d5005945b', 'cv_seed': 35, 'dataset_contrast': '0.01'}\n"
     ]
    },
    {
     "name": "stderr",
     "output_type": "stream",
     "text": [
      " 65%|██████▍   | 353/546 [01:44<00:57,  3.38it/s]"
     ]
    },
    {
     "name": "stdout",
     "output_type": "stream",
     "text": [
      "Working on  {'cv_fraction': Decimal('0.800'), 'csc_hash': '91e16dafba5483f2d23552a98451f57a92357a4f', 'cv_seed': 35, 'dataset_contrast': '0.02'}\n",
      "Working on  {'cv_fraction': Decimal('0.800'), 'csc_hash': '12e94de405dabfcfeb093aa3347051dc873e5530', 'cv_seed': 35, 'dataset_contrast': '0.32'}\n"
     ]
    },
    {
     "name": "stderr",
     "output_type": "stream",
     "text": [
      "\r",
      " 65%|██████▍   | 354/546 [01:44<00:56,  3.38it/s]"
     ]
    },
    {
     "name": "stdout",
     "output_type": "stream",
     "text": [
      "Working on  {'cv_fraction': Decimal('0.800'), 'csc_hash': '1f2c689e507320b1285689c255932d663a92d13c', 'cv_seed': 35, 'dataset_contrast': '0.005'}\n"
     ]
    },
    {
     "name": "stderr",
     "output_type": "stream",
     "text": [
      "\r",
      " 65%|██████▌   | 355/546 [01:45<00:56,  3.38it/s]"
     ]
    },
    {
     "name": "stdout",
     "output_type": "stream",
     "text": [
      "Working on  {'cv_fraction': Decimal('0.800'), 'csc_hash': 'd16d2c47ce599997c4559c7f112a6389d9e8b6b7', 'cv_seed': 35, 'dataset_contrast': '0.01'}\n"
     ]
    },
    {
     "name": "stderr",
     "output_type": "stream",
     "text": [
      " 65%|██████▌   | 357/546 [01:45<00:55,  3.38it/s]"
     ]
    },
    {
     "name": "stdout",
     "output_type": "stream",
     "text": [
      "Working on  {'cv_fraction': Decimal('0.800'), 'csc_hash': 'f19561c9195be7722c1d2073406f97ffc359d63d', 'cv_seed': 35, 'dataset_contrast': '0.005'}\n",
      "Working on  {'cv_fraction': Decimal('0.800'), 'csc_hash': '96b93b6ef16edd857585e98aaec2645e3c38a8e2', 'cv_seed': 35, 'dataset_contrast': '0.03'}\n"
     ]
    },
    {
     "name": "stderr",
     "output_type": "stream",
     "text": [
      "\r",
      " 66%|██████▌   | 358/546 [01:45<00:55,  3.38it/s]"
     ]
    },
    {
     "name": "stdout",
     "output_type": "stream",
     "text": [
      "Working on  {'cv_fraction': Decimal('0.800'), 'csc_hash': 'c08355b6a9f2f4150768beed27a2f029b00afb7c', 'cv_seed': 35, 'dataset_contrast': '0.005'}\n"
     ]
    },
    {
     "name": "stderr",
     "output_type": "stream",
     "text": [
      " 66%|██████▌   | 360/546 [01:46<00:54,  3.38it/s]"
     ]
    },
    {
     "name": "stdout",
     "output_type": "stream",
     "text": [
      "Working on  {'cv_fraction': Decimal('0.800'), 'csc_hash': 'e01c5eaaf24f05760951aaecf409f03a37914614', 'cv_seed': 35, 'dataset_contrast': '0.005'}\n",
      "Working on  {'cv_fraction': Decimal('0.800'), 'csc_hash': '96b93b6ef16edd857585e98aaec2645e3c38a8e2', 'cv_seed': 35, 'dataset_contrast': '0.01'}\n"
     ]
    },
    {
     "name": "stderr",
     "output_type": "stream",
     "text": [
      "\r",
      " 66%|██████▌   | 361/546 [01:46<00:54,  3.38it/s]"
     ]
    },
    {
     "name": "stdout",
     "output_type": "stream",
     "text": [
      "Working on  {'cv_fraction': Decimal('0.800'), 'csc_hash': 'b0770636ec15e0cf6a0b0075f098916086573c79', 'cv_seed': 35, 'dataset_contrast': '0.06'}\n"
     ]
    },
    {
     "name": "stderr",
     "output_type": "stream",
     "text": [
      "\r",
      " 66%|██████▋   | 362/546 [01:47<00:54,  3.38it/s]"
     ]
    },
    {
     "name": "stdout",
     "output_type": "stream",
     "text": [
      "Working on  {'cv_fraction': Decimal('0.800'), 'csc_hash': 'b047337460082b62b44a8bc4ccfb4c400b6c9e95', 'cv_seed': 35, 'dataset_contrast': '0.01'}\n"
     ]
    },
    {
     "name": "stderr",
     "output_type": "stream",
     "text": [
      "\r",
      " 66%|██████▋   | 363/546 [01:47<00:54,  3.38it/s]"
     ]
    },
    {
     "name": "stdout",
     "output_type": "stream",
     "text": [
      "Working on  {'cv_fraction': Decimal('0.800'), 'csc_hash': 'c08355b6a9f2f4150768beed27a2f029b00afb7c', 'cv_seed': 35, 'dataset_contrast': '0.16'}\n"
     ]
    },
    {
     "name": "stderr",
     "output_type": "stream",
     "text": [
      "\r",
      " 67%|██████▋   | 364/546 [01:47<00:53,  3.38it/s]"
     ]
    },
    {
     "name": "stdout",
     "output_type": "stream",
     "text": [
      "Working on  {'cv_fraction': Decimal('0.800'), 'csc_hash': 'a36d70e445640a518daf60e852a8f72716479db8', 'cv_seed': 35, 'dataset_contrast': '0.16'}\n"
     ]
    },
    {
     "name": "stderr",
     "output_type": "stream",
     "text": [
      "\r",
      " 67%|██████▋   | 365/546 [01:48<00:53,  3.38it/s]"
     ]
    },
    {
     "name": "stdout",
     "output_type": "stream",
     "text": [
      "Working on  {'cv_fraction': Decimal('0.800'), 'csc_hash': '1820f02d5f66cd31fe765f02ee8ee16347908062', 'cv_seed': 35, 'dataset_contrast': '0.005'}\n"
     ]
    },
    {
     "name": "stderr",
     "output_type": "stream",
     "text": [
      "\r",
      " 67%|██████▋   | 366/546 [01:48<00:53,  3.38it/s]"
     ]
    },
    {
     "name": "stdout",
     "output_type": "stream",
     "text": [
      "Working on  {'cv_fraction': Decimal('0.800'), 'csc_hash': '108980c00a18467e2b772039631928b8af1dbed0', 'cv_seed': 35, 'dataset_contrast': '0.1'}\n"
     ]
    },
    {
     "name": "stderr",
     "output_type": "stream",
     "text": [
      " 67%|██████▋   | 368/546 [01:48<00:52,  3.38it/s]"
     ]
    },
    {
     "name": "stdout",
     "output_type": "stream",
     "text": [
      "Working on  {'cv_fraction': Decimal('0.800'), 'csc_hash': '79d12eb4817ad9af0e1dde52b3781abf70e433c3', 'cv_seed': 35, 'dataset_contrast': '0.02'}\n",
      "Working on  {'cv_fraction': Decimal('0.800'), 'csc_hash': '25f592a512ad65e9a57919e7b3275088426f038a', 'cv_seed': 35, 'dataset_contrast': '0.02'}\n"
     ]
    },
    {
     "name": "stderr",
     "output_type": "stream",
     "text": [
      "\r",
      " 68%|██████▊   | 369/546 [01:49<00:52,  3.38it/s]"
     ]
    },
    {
     "name": "stdout",
     "output_type": "stream",
     "text": [
      "Working on  {'cv_fraction': Decimal('0.800'), 'csc_hash': 'bce87e9de88daa25cd41adf7121ca8cc2b8e87f4', 'cv_seed': 35, 'dataset_contrast': '0.08'}\n"
     ]
    },
    {
     "name": "stderr",
     "output_type": "stream",
     "text": [
      "\r",
      " 68%|██████▊   | 370/546 [01:49<00:52,  3.38it/s]"
     ]
    },
    {
     "name": "stdout",
     "output_type": "stream",
     "text": [
      "Working on  {'cv_fraction': Decimal('0.800'), 'csc_hash': 'c08355b6a9f2f4150768beed27a2f029b00afb7c', 'cv_seed': 35, 'dataset_contrast': '0.01'}\n"
     ]
    },
    {
     "name": "stderr",
     "output_type": "stream",
     "text": [
      "\r",
      " 68%|██████▊   | 371/546 [01:49<00:51,  3.38it/s]"
     ]
    },
    {
     "name": "stdout",
     "output_type": "stream",
     "text": [
      "Working on  {'cv_fraction': Decimal('0.800'), 'csc_hash': '1820f02d5f66cd31fe765f02ee8ee16347908062', 'cv_seed': 35, 'dataset_contrast': '0.2'}\n"
     ]
    },
    {
     "name": "stderr",
     "output_type": "stream",
     "text": [
      " 68%|██████▊   | 373/546 [01:50<00:51,  3.38it/s]"
     ]
    },
    {
     "name": "stdout",
     "output_type": "stream",
     "text": [
      "Working on  {'cv_fraction': Decimal('0.800'), 'csc_hash': 'c3770af2071d9b3411ba365b8fa8b80d6169278d', 'cv_seed': 35, 'dataset_contrast': '0.0075'}\n",
      "Working on  {'cv_fraction': Decimal('0.800'), 'csc_hash': '4ed2dadf906380a1dd9b8e613cf3f4e88891f170', 'cv_seed': 35, 'dataset_contrast': '0.02'}\n"
     ]
    },
    {
     "name": "stderr",
     "output_type": "stream",
     "text": [
      " 69%|██████▊   | 375/546 [01:50<00:50,  3.39it/s]"
     ]
    },
    {
     "name": "stdout",
     "output_type": "stream",
     "text": [
      "Working on  {'cv_fraction': Decimal('0.800'), 'csc_hash': 'f19561c9195be7722c1d2073406f97ffc359d63d', 'cv_seed': 35, 'dataset_contrast': '0.02'}\n",
      "Working on  {'cv_fraction': Decimal('0.800'), 'csc_hash': '9446a84e2e7511517b5e6d491426d3fb7c37a1ec', 'cv_seed': 35, 'dataset_contrast': '0.02'}\n"
     ]
    },
    {
     "name": "stderr",
     "output_type": "stream",
     "text": [
      "\r",
      " 69%|██████▉   | 376/546 [01:51<00:50,  3.39it/s]"
     ]
    },
    {
     "name": "stdout",
     "output_type": "stream",
     "text": [
      "Working on  {'cv_fraction': Decimal('0.800'), 'csc_hash': '60e397c41a1315a5bb31fee7e34067ea85c45449', 'cv_seed': 35, 'dataset_contrast': '0.1'}\n"
     ]
    },
    {
     "name": "stderr",
     "output_type": "stream",
     "text": [
      "\r",
      " 69%|██████▉   | 377/546 [01:51<00:49,  3.39it/s]"
     ]
    },
    {
     "name": "stdout",
     "output_type": "stream",
     "text": [
      "Working on  {'cv_fraction': Decimal('0.800'), 'csc_hash': '8a6cddc59433de7eff7d19258ad73cad9e6b9ff9', 'cv_seed': 35, 'dataset_contrast': '0.01'}\n"
     ]
    },
    {
     "name": "stderr",
     "output_type": "stream",
     "text": [
      "\r",
      " 69%|██████▉   | 378/546 [01:51<00:49,  3.39it/s]"
     ]
    },
    {
     "name": "stdout",
     "output_type": "stream",
     "text": [
      "Working on  {'cv_fraction': Decimal('0.800'), 'csc_hash': 'baebbcc5c78ffc9f21e992f59ae7938ebd917b39', 'cv_seed': 35, 'dataset_contrast': '0.1'}\n",
      "Working on  {'cv_fraction': Decimal('0.800'), 'csc_hash': 'c08355b6a9f2f4150768beed27a2f029b00afb7c', 'cv_seed': 35, 'dataset_contrast': '0.0075'}\n"
     ]
    },
    {
     "name": "stderr",
     "output_type": "stream",
     "text": [
      " 70%|██████▉   | 381/546 [01:52<00:48,  3.40it/s]"
     ]
    },
    {
     "name": "stdout",
     "output_type": "stream",
     "text": [
      "Working on  {'cv_fraction': Decimal('0.800'), 'csc_hash': 'f4691aa78879a0531374e4a60d23e2e6fd99eb7b', 'cv_seed': 35, 'dataset_contrast': '0.04'}\n",
      "Working on  {'cv_fraction': Decimal('0.800'), 'csc_hash': 'c08355b6a9f2f4150768beed27a2f029b00afb7c', 'cv_seed': 35, 'dataset_contrast': '0.08'}\n"
     ]
    },
    {
     "name": "stderr",
     "output_type": "stream",
     "text": [
      "\r",
      " 70%|██████▉   | 382/546 [01:52<00:48,  3.39it/s]"
     ]
    },
    {
     "name": "stdout",
     "output_type": "stream",
     "text": [
      "Working on  {'cv_fraction': Decimal('0.800'), 'csc_hash': 'e01c5eaaf24f05760951aaecf409f03a37914614', 'cv_seed': 35, 'dataset_contrast': '0.04'}\n"
     ]
    },
    {
     "name": "stderr",
     "output_type": "stream",
     "text": [
      "\r",
      " 70%|███████   | 383/546 [01:52<00:48,  3.39it/s]"
     ]
    },
    {
     "name": "stdout",
     "output_type": "stream",
     "text": [
      "Working on  {'cv_fraction': Decimal('0.800'), 'csc_hash': '0ab391586f486b3f48e18f056a2b136480255965', 'cv_seed': 35, 'dataset_contrast': '0.01'}\n"
     ]
    },
    {
     "name": "stderr",
     "output_type": "stream",
     "text": [
      "\r",
      " 70%|███████   | 384/546 [01:53<00:47,  3.40it/s]"
     ]
    },
    {
     "name": "stdout",
     "output_type": "stream",
     "text": [
      "Working on  {'cv_fraction': Decimal('0.800'), 'csc_hash': '116ae91919191b3b084d0067e8431d13d19f759d', 'cv_seed': 35, 'dataset_contrast': '0.005'}\n"
     ]
    },
    {
     "name": "stderr",
     "output_type": "stream",
     "text": [
      "\r",
      " 71%|███████   | 385/546 [01:53<00:47,  3.39it/s]"
     ]
    },
    {
     "name": "stdout",
     "output_type": "stream",
     "text": [
      "Working on  {'cv_fraction': Decimal('0.800'), 'csc_hash': '6a166d452ca91dc91f604c9cecf88fa4ca2d9548', 'cv_seed': 35, 'dataset_contrast': '0.02'}\n"
     ]
    },
    {
     "name": "stderr",
     "output_type": "stream",
     "text": [
      "\r",
      " 71%|███████   | 386/546 [01:53<00:47,  3.39it/s]"
     ]
    },
    {
     "name": "stdout",
     "output_type": "stream",
     "text": [
      "Working on  {'cv_fraction': Decimal('0.800'), 'csc_hash': 'f9746d186a263982de28ac99bc68356b5edd3e6e', 'cv_seed': 35, 'dataset_contrast': '0.16'}\n"
     ]
    },
    {
     "name": "stderr",
     "output_type": "stream",
     "text": [
      "\r",
      " 71%|███████   | 387/546 [01:54<00:46,  3.39it/s]"
     ]
    },
    {
     "name": "stdout",
     "output_type": "stream",
     "text": [
      "Working on  {'cv_fraction': Decimal('0.800'), 'csc_hash': '604d54f0a005f8ed357cc6371e723ba3e9236d78', 'cv_seed': 35, 'dataset_contrast': '0.08'}\n"
     ]
    },
    {
     "name": "stderr",
     "output_type": "stream",
     "text": [
      "\r",
      " 71%|███████   | 388/546 [01:54<00:46,  3.39it/s]"
     ]
    },
    {
     "name": "stdout",
     "output_type": "stream",
     "text": [
      "Working on  {'cv_fraction': Decimal('0.800'), 'csc_hash': '7fe8184b94793b302d194481ff11493333a52799', 'cv_seed': 35, 'dataset_contrast': '0.005'}\n"
     ]
    },
    {
     "name": "stderr",
     "output_type": "stream",
     "text": [
      "\r",
      " 71%|███████   | 389/546 [01:54<00:46,  3.39it/s]"
     ]
    },
    {
     "name": "stdout",
     "output_type": "stream",
     "text": [
      "Working on  {'cv_fraction': Decimal('0.800'), 'csc_hash': '8fa512d98266eb90a060819cc5e751ba72649ca7', 'cv_seed': 35, 'dataset_contrast': '0.03'}\n"
     ]
    },
    {
     "name": "stderr",
     "output_type": "stream",
     "text": [
      "\r",
      " 71%|███████▏  | 390/546 [01:54<00:45,  3.39it/s]"
     ]
    },
    {
     "name": "stdout",
     "output_type": "stream",
     "text": [
      "Working on  {'cv_fraction': Decimal('0.800'), 'csc_hash': '20a36a57428b6a5ed8bd864ca4a3e4c9138c2243', 'cv_seed': 35, 'dataset_contrast': '0.01'}\n"
     ]
    },
    {
     "name": "stderr",
     "output_type": "stream",
     "text": [
      "\r",
      " 72%|███████▏  | 391/546 [01:55<00:45,  3.39it/s]"
     ]
    },
    {
     "name": "stdout",
     "output_type": "stream",
     "text": [
      "Working on  {'cv_fraction': Decimal('0.800'), 'csc_hash': '63c91a4642efd7c59d1a3d6fd9617ce01965a321', 'cv_seed': 35, 'dataset_contrast': '1'}\n"
     ]
    },
    {
     "name": "stderr",
     "output_type": "stream",
     "text": [
      " 72%|███████▏  | 393/546 [01:55<00:45,  3.39it/s]"
     ]
    },
    {
     "name": "stdout",
     "output_type": "stream",
     "text": [
      "Working on  {'cv_fraction': Decimal('0.800'), 'csc_hash': 'e836bece03509ad91ba6730b279ac2bbb0692837', 'cv_seed': 35, 'dataset_contrast': '0.0075'}\n",
      "Working on  {'cv_fraction': Decimal('0.800'), 'csc_hash': 'e3f0fe623e38121668a6e556fa0f4d0dc8a5747d', 'cv_seed': 35, 'dataset_contrast': '0.08'}\n"
     ]
    },
    {
     "name": "stderr",
     "output_type": "stream",
     "text": [
      " 72%|███████▏  | 395/546 [01:56<00:44,  3.39it/s]"
     ]
    },
    {
     "name": "stdout",
     "output_type": "stream",
     "text": [
      "Working on  {'cv_fraction': Decimal('0.800'), 'csc_hash': 'fd79483ca30feea2d7d5abf36d097bbc9b1d5862', 'cv_seed': 35, 'dataset_contrast': '0.2'}\n",
      "Working on  {'cv_fraction': Decimal('0.800'), 'csc_hash': 'ed0b7c069ce7a54a69d117f86b23fd47aea167da', 'cv_seed': 35, 'dataset_contrast': '0.01'}\n"
     ]
    },
    {
     "name": "stderr",
     "output_type": "stream",
     "text": [
      "\r",
      " 73%|███████▎  | 396/546 [01:56<00:44,  3.39it/s]"
     ]
    },
    {
     "name": "stdout",
     "output_type": "stream",
     "text": [
      "Working on  {'cv_fraction': Decimal('0.800'), 'csc_hash': 'bf5a18a571096d97bd28810f742771b6a7057ca3', 'cv_seed': 35, 'dataset_contrast': '0.01'}\n"
     ]
    },
    {
     "name": "stderr",
     "output_type": "stream",
     "text": [
      "\r",
      " 73%|███████▎  | 397/546 [01:57<00:43,  3.39it/s]"
     ]
    },
    {
     "name": "stdout",
     "output_type": "stream",
     "text": [
      "Working on  {'cv_fraction': Decimal('0.800'), 'csc_hash': 'b16b9965df7f1b5e5d53a4b230cb2d6431fbc4de', 'cv_seed': 35, 'dataset_contrast': '0.5'}\n"
     ]
    },
    {
     "name": "stderr",
     "output_type": "stream",
     "text": [
      "\r",
      " 73%|███████▎  | 398/546 [01:57<00:43,  3.39it/s]"
     ]
    },
    {
     "name": "stdout",
     "output_type": "stream",
     "text": [
      "Working on  {'cv_fraction': Decimal('0.800'), 'csc_hash': '5d0f2e629bac9ccc5f234d4034a828366c03f7b3', 'cv_seed': 35, 'dataset_contrast': '0.05'}\n"
     ]
    },
    {
     "name": "stderr",
     "output_type": "stream",
     "text": [
      "\r",
      " 73%|███████▎  | 399/546 [01:57<00:43,  3.39it/s]"
     ]
    },
    {
     "name": "stdout",
     "output_type": "stream",
     "text": [
      "Working on  {'cv_fraction': Decimal('0.800'), 'csc_hash': 'bce87e9de88daa25cd41adf7121ca8cc2b8e87f4', 'cv_seed': 35, 'dataset_contrast': '1'}\n"
     ]
    },
    {
     "name": "stderr",
     "output_type": "stream",
     "text": [
      "\r",
      " 73%|███████▎  | 400/546 [01:58<00:43,  3.39it/s]"
     ]
    },
    {
     "name": "stdout",
     "output_type": "stream",
     "text": [
      "Working on  {'cv_fraction': Decimal('0.800'), 'csc_hash': 'a424e60370de168262de958c27bd68b9b391dd21', 'cv_seed': 35, 'dataset_contrast': '0.04'}\n"
     ]
    },
    {
     "name": "stderr",
     "output_type": "stream",
     "text": [
      " 74%|███████▎  | 402/546 [01:58<00:42,  3.39it/s]"
     ]
    },
    {
     "name": "stdout",
     "output_type": "stream",
     "text": [
      "Working on  {'cv_fraction': Decimal('0.800'), 'csc_hash': '108f54ba64caf901230c7a9db910d25691b98177', 'cv_seed': 35, 'dataset_contrast': '0.02'}\n",
      "Working on  {'cv_fraction': Decimal('0.800'), 'csc_hash': 'f1ca738665a3a291d9e9180fc8957033eae30fbc', 'cv_seed': 35, 'dataset_contrast': '0.08'}\n"
     ]
    },
    {
     "name": "stderr",
     "output_type": "stream",
     "text": [
      "\r",
      " 74%|███████▍  | 403/546 [01:58<00:42,  3.39it/s]"
     ]
    },
    {
     "name": "stdout",
     "output_type": "stream",
     "text": [
      "Working on  {'cv_fraction': Decimal('0.800'), 'csc_hash': 'c08355b6a9f2f4150768beed27a2f029b00afb7c', 'cv_seed': 35, 'dataset_contrast': '0.04'}\n"
     ]
    },
    {
     "name": "stderr",
     "output_type": "stream",
     "text": [
      "\r",
      " 74%|███████▍  | 404/546 [01:59<00:41,  3.39it/s]"
     ]
    },
    {
     "name": "stdout",
     "output_type": "stream",
     "text": [
      "Working on  {'cv_fraction': Decimal('0.800'), 'csc_hash': 'b047337460082b62b44a8bc4ccfb4c400b6c9e95', 'cv_seed': 35, 'dataset_contrast': '0.9'}\n"
     ]
    },
    {
     "name": "stderr",
     "output_type": "stream",
     "text": [
      "\r",
      " 74%|███████▍  | 405/546 [01:59<00:41,  3.39it/s]"
     ]
    },
    {
     "name": "stdout",
     "output_type": "stream",
     "text": [
      "Working on  {'cv_fraction': Decimal('0.800'), 'csc_hash': 'e487412b5a2cd5fee148f559ede07a9f9a01fefe', 'cv_seed': 35, 'dataset_contrast': '0.04'}\n"
     ]
    },
    {
     "name": "stderr",
     "output_type": "stream",
     "text": [
      "\r",
      " 74%|███████▍  | 406/546 [01:59<00:41,  3.39it/s]"
     ]
    },
    {
     "name": "stdout",
     "output_type": "stream",
     "text": [
      "Working on  {'cv_fraction': Decimal('0.800'), 'csc_hash': 'f9746d186a263982de28ac99bc68356b5edd3e6e', 'cv_seed': 35, 'dataset_contrast': '0.02'}\n"
     ]
    },
    {
     "name": "stderr",
     "output_type": "stream",
     "text": [
      "\r",
      " 75%|███████▍  | 407/546 [02:00<00:41,  3.38it/s]"
     ]
    },
    {
     "name": "stdout",
     "output_type": "stream",
     "text": [
      "Working on  {'cv_fraction': Decimal('0.800'), 'csc_hash': '3565e65b12fd3384b2e791f091c998e6dec931f7', 'cv_seed': 35, 'dataset_contrast': '0.03'}\n"
     ]
    },
    {
     "name": "stderr",
     "output_type": "stream",
     "text": [
      "\r",
      " 75%|███████▍  | 408/546 [02:00<00:40,  3.39it/s]"
     ]
    },
    {
     "name": "stdout",
     "output_type": "stream",
     "text": [
      "Working on  {'cv_fraction': Decimal('0.800'), 'csc_hash': '20a36a57428b6a5ed8bd864ca4a3e4c9138c2243', 'cv_seed': 35, 'dataset_contrast': '0.04'}\n"
     ]
    },
    {
     "name": "stderr",
     "output_type": "stream",
     "text": [
      " 75%|███████▌  | 410/546 [02:01<00:40,  3.39it/s]"
     ]
    },
    {
     "name": "stdout",
     "output_type": "stream",
     "text": [
      "Working on  {'cv_fraction': Decimal('0.800'), 'csc_hash': 'fd79483ca30feea2d7d5abf36d097bbc9b1d5862', 'cv_seed': 35, 'dataset_contrast': '0.04'}\n",
      "Working on  {'cv_fraction': Decimal('0.800'), 'csc_hash': 'c08355b6a9f2f4150768beed27a2f029b00afb7c', 'cv_seed': 35, 'dataset_contrast': '0.03'}\n"
     ]
    },
    {
     "name": "stderr",
     "output_type": "stream",
     "text": [
      "\r",
      " 75%|███████▌  | 411/546 [02:01<00:39,  3.38it/s]"
     ]
    },
    {
     "name": "stdout",
     "output_type": "stream",
     "text": [
      "Working on  {'cv_fraction': Decimal('0.800'), 'csc_hash': '8ec098f0eff3b20dab37294915f83a883ed89039', 'cv_seed': 35, 'dataset_contrast': '0.01'}\n"
     ]
    },
    {
     "name": "stderr",
     "output_type": "stream",
     "text": [
      "\r",
      " 75%|███████▌  | 412/546 [02:01<00:39,  3.38it/s]"
     ]
    },
    {
     "name": "stdout",
     "output_type": "stream",
     "text": [
      "Working on  {'cv_fraction': Decimal('0.800'), 'csc_hash': '28c77b71e75b7840db8647d1b8c057d11bec0ac6', 'cv_seed': 35, 'dataset_contrast': '0.1'}\n",
      "Working on  {'cv_fraction': Decimal('0.800'), 'csc_hash': 'b16b9965df7f1b5e5d53a4b230cb2d6431fbc4de', 'cv_seed': 35, 'dataset_contrast': '0.06'}\n"
     ]
    },
    {
     "name": "stderr",
     "output_type": "stream",
     "text": [
      " 76%|███████▌  | 415/546 [02:02<00:38,  3.39it/s]"
     ]
    },
    {
     "name": "stdout",
     "output_type": "stream",
     "text": [
      "Working on  {'cv_fraction': Decimal('0.800'), 'csc_hash': 'fda661587b2c4f5a874d8e6d6fd548d5b65ba946', 'cv_seed': 35, 'dataset_contrast': '0.01'}\n",
      "Working on  {'cv_fraction': Decimal('0.800'), 'csc_hash': '74e4a59f52b629b1ecaeaf6a22419ec3fdabdb85', 'cv_seed': 35, 'dataset_contrast': '0.01'}\n"
     ]
    },
    {
     "name": "stderr",
     "output_type": "stream",
     "text": [
      "\r",
      " 76%|███████▌  | 416/546 [02:02<00:38,  3.39it/s]"
     ]
    },
    {
     "name": "stdout",
     "output_type": "stream",
     "text": [
      "Working on  {'cv_fraction': Decimal('0.800'), 'csc_hash': 'b0770636ec15e0cf6a0b0075f098916086573c79', 'cv_seed': 35, 'dataset_contrast': '0.03'}\n"
     ]
    },
    {
     "name": "stderr",
     "output_type": "stream",
     "text": [
      "\r",
      " 76%|███████▋  | 417/546 [02:03<00:38,  3.39it/s]"
     ]
    },
    {
     "name": "stdout",
     "output_type": "stream",
     "text": [
      "Working on  {'cv_fraction': Decimal('0.800'), 'csc_hash': 'f49ad1e8da0f4319517adf77a2eb6a422789c6f4', 'cv_seed': 35, 'dataset_contrast': '0.02'}\n"
     ]
    },
    {
     "name": "stderr",
     "output_type": "stream",
     "text": [
      " 77%|███████▋  | 419/546 [02:03<00:37,  3.39it/s]"
     ]
    },
    {
     "name": "stdout",
     "output_type": "stream",
     "text": [
      "Working on  {'cv_fraction': Decimal('0.800'), 'csc_hash': '900c1eb204bf5e5437b9a886194d850002f6a8a3', 'cv_seed': 35, 'dataset_contrast': '0.64'}\n",
      "Working on  {'cv_fraction': Decimal('0.800'), 'csc_hash': '4ed410917f1ddd18c4244db0eeb1cc8e43e3bdf4', 'cv_seed': 35, 'dataset_contrast': '0.1'}\n"
     ]
    },
    {
     "name": "stderr",
     "output_type": "stream",
     "text": [
      "\r",
      " 77%|███████▋  | 421/546 [02:03<00:36,  3.40it/s]"
     ]
    },
    {
     "name": "stdout",
     "output_type": "stream",
     "text": [
      "Working on  {'cv_fraction': Decimal('0.800'), 'csc_hash': '4ed410917f1ddd18c4244db0eeb1cc8e43e3bdf4', 'cv_seed': 35, 'dataset_contrast': '0.06'}\n",
      "Working on  {'cv_fraction': Decimal('0.800'), 'csc_hash': '6f18eaab799c2ee5a14d82553dc993a73fa7e73e', 'cv_seed': 35, 'dataset_contrast': '0.08'}\n"
     ]
    },
    {
     "name": "stderr",
     "output_type": "stream",
     "text": [
      "\r",
      " 77%|███████▋  | 422/546 [02:04<00:36,  3.40it/s]"
     ]
    },
    {
     "name": "stdout",
     "output_type": "stream",
     "text": [
      "Working on  {'cv_fraction': Decimal('0.800'), 'csc_hash': '853f697fc9cf7c18ecc0a01bd912798386b53b9e', 'cv_seed': 35, 'dataset_contrast': '0.08'}\n"
     ]
    },
    {
     "name": "stderr",
     "output_type": "stream",
     "text": [
      "\r",
      " 77%|███████▋  | 423/546 [02:04<00:36,  3.40it/s]"
     ]
    },
    {
     "name": "stdout",
     "output_type": "stream",
     "text": [
      "Working on  {'cv_fraction': Decimal('0.800'), 'csc_hash': '9c9e578669108f91a2ed8f7787e9a9b9ce42235d', 'cv_seed': 35, 'dataset_contrast': '0.01'}\n"
     ]
    },
    {
     "name": "stderr",
     "output_type": "stream",
     "text": [
      "\r",
      " 78%|███████▊  | 424/546 [02:04<00:35,  3.40it/s]"
     ]
    },
    {
     "name": "stdout",
     "output_type": "stream",
     "text": [
      "Working on  {'cv_fraction': Decimal('0.800'), 'csc_hash': 'b0770636ec15e0cf6a0b0075f098916086573c79', 'cv_seed': 35, 'dataset_contrast': '0.64'}\n"
     ]
    },
    {
     "name": "stderr",
     "output_type": "stream",
     "text": [
      "\r",
      " 78%|███████▊  | 425/546 [02:05<00:35,  3.40it/s]"
     ]
    },
    {
     "name": "stdout",
     "output_type": "stream",
     "text": [
      "Working on  {'cv_fraction': Decimal('0.800'), 'csc_hash': '63c91a4642efd7c59d1a3d6fd9617ce01965a321', 'cv_seed': 35, 'dataset_contrast': '0.16'}\n"
     ]
    },
    {
     "name": "stderr",
     "output_type": "stream",
     "text": [
      "\r",
      " 78%|███████▊  | 426/546 [02:05<00:35,  3.40it/s]"
     ]
    },
    {
     "name": "stdout",
     "output_type": "stream",
     "text": [
      "Working on  {'cv_fraction': Decimal('0.800'), 'csc_hash': '7fe8184b94793b302d194481ff11493333a52799', 'cv_seed': 35, 'dataset_contrast': '0.32'}\n"
     ]
    },
    {
     "name": "stderr",
     "output_type": "stream",
     "text": [
      "\r",
      " 78%|███████▊  | 427/546 [02:05<00:35,  3.40it/s]"
     ]
    },
    {
     "name": "stdout",
     "output_type": "stream",
     "text": [
      "Working on  {'cv_fraction': Decimal('0.800'), 'csc_hash': '0e923470fc00654ba73820360da5af6e80f2e3d4', 'cv_seed': 35, 'dataset_contrast': '1'}\n"
     ]
    },
    {
     "name": "stderr",
     "output_type": "stream",
     "text": [
      "\r",
      " 78%|███████▊  | 428/546 [02:06<00:34,  3.40it/s]"
     ]
    },
    {
     "name": "stdout",
     "output_type": "stream",
     "text": [
      "Working on  {'cv_fraction': Decimal('0.800'), 'csc_hash': 'bf5a18a571096d97bd28810f742771b6a7057ca3', 'cv_seed': 35, 'dataset_contrast': '0.08'}\n"
     ]
    },
    {
     "name": "stderr",
     "output_type": "stream",
     "text": [
      " 79%|███████▉  | 430/546 [02:06<00:34,  3.40it/s]"
     ]
    },
    {
     "name": "stdout",
     "output_type": "stream",
     "text": [
      "Working on  {'cv_fraction': Decimal('0.800'), 'csc_hash': 'b0025d7ceed62df92948b7b9ee24ca5af4430819', 'cv_seed': 35, 'dataset_contrast': '0.04'}\n",
      "Working on  {'cv_fraction': Decimal('0.800'), 'csc_hash': '574db9f788473f56a4ac236a2bc85d4f569ef9d0', 'cv_seed': 35, 'dataset_contrast': '0.16'}\n"
     ]
    },
    {
     "name": "stderr",
     "output_type": "stream",
     "text": [
      "\r",
      " 79%|███████▉  | 431/546 [02:06<00:33,  3.39it/s]"
     ]
    },
    {
     "name": "stdout",
     "output_type": "stream",
     "text": [
      "Working on  {'cv_fraction': Decimal('0.800'), 'csc_hash': '7fe8184b94793b302d194481ff11493333a52799', 'cv_seed': 35, 'dataset_contrast': '0.04'}\n"
     ]
    },
    {
     "name": "stderr",
     "output_type": "stream",
     "text": [
      "\r",
      " 79%|███████▉  | 432/546 [02:07<00:33,  3.39it/s]"
     ]
    },
    {
     "name": "stdout",
     "output_type": "stream",
     "text": [
      "Working on  {'cv_fraction': Decimal('0.800'), 'csc_hash': '9446a84e2e7511517b5e6d491426d3fb7c37a1ec', 'cv_seed': 35, 'dataset_contrast': '0.05'}\n"
     ]
    },
    {
     "name": "stderr",
     "output_type": "stream",
     "text": [
      "\r",
      " 79%|███████▉  | 433/546 [02:07<00:33,  3.39it/s]"
     ]
    },
    {
     "name": "stdout",
     "output_type": "stream",
     "text": [
      "Working on  {'cv_fraction': Decimal('0.800'), 'csc_hash': '6a166d452ca91dc91f604c9cecf88fa4ca2d9548', 'cv_seed': 35, 'dataset_contrast': '0.01'}\n"
     ]
    },
    {
     "name": "stderr",
     "output_type": "stream",
     "text": [
      " 80%|███████▉  | 435/546 [02:08<00:32,  3.39it/s]"
     ]
    },
    {
     "name": "stdout",
     "output_type": "stream",
     "text": [
      "Working on  {'cv_fraction': Decimal('0.800'), 'csc_hash': 'f19561c9195be7722c1d2073406f97ffc359d63d', 'cv_seed': 35, 'dataset_contrast': '0.64'}\n",
      "Working on  {'cv_fraction': Decimal('0.800'), 'csc_hash': '6a166d452ca91dc91f604c9cecf88fa4ca2d9548', 'cv_seed': 35, 'dataset_contrast': '0.005'}\n"
     ]
    },
    {
     "name": "stderr",
     "output_type": "stream",
     "text": [
      "\r",
      " 80%|███████▉  | 436/546 [02:08<00:32,  3.39it/s]"
     ]
    },
    {
     "name": "stdout",
     "output_type": "stream",
     "text": [
      "Working on  {'cv_fraction': Decimal('0.800'), 'csc_hash': 'd82223c0d1988ac47c998690800763aeb47bb898', 'cv_seed': 35, 'dataset_contrast': '0.005'}\n"
     ]
    },
    {
     "name": "stderr",
     "output_type": "stream",
     "text": [
      "\r",
      " 80%|████████  | 437/546 [02:08<00:32,  3.39it/s]"
     ]
    },
    {
     "name": "stdout",
     "output_type": "stream",
     "text": [
      "Working on  {'cv_fraction': Decimal('0.800'), 'csc_hash': 'b0770636ec15e0cf6a0b0075f098916086573c79', 'cv_seed': 35, 'dataset_contrast': '0.16'}\n"
     ]
    },
    {
     "name": "stderr",
     "output_type": "stream",
     "text": [
      "\r",
      " 80%|████████  | 438/546 [02:09<00:31,  3.39it/s]"
     ]
    },
    {
     "name": "stdout",
     "output_type": "stream",
     "text": [
      "Working on  {'cv_fraction': Decimal('0.800'), 'csc_hash': 'c08355b6a9f2f4150768beed27a2f029b00afb7c', 'cv_seed': 35, 'dataset_contrast': '0.5'}\n"
     ]
    },
    {
     "name": "stderr",
     "output_type": "stream",
     "text": [
      "\r",
      " 80%|████████  | 439/546 [02:09<00:31,  3.38it/s]"
     ]
    },
    {
     "name": "stdout",
     "output_type": "stream",
     "text": [
      "Working on  {'cv_fraction': Decimal('0.800'), 'csc_hash': '74e4a59f52b629b1ecaeaf6a22419ec3fdabdb85', 'cv_seed': 35, 'dataset_contrast': '0.64'}\n"
     ]
    },
    {
     "name": "stderr",
     "output_type": "stream",
     "text": [
      "\r",
      " 81%|████████  | 440/546 [02:10<00:31,  3.38it/s]"
     ]
    },
    {
     "name": "stdout",
     "output_type": "stream",
     "text": [
      "Working on  {'cv_fraction': Decimal('0.800'), 'csc_hash': '54f710d6550d828c2716ceda1de380d4068098e6', 'cv_seed': 35, 'dataset_contrast': '0.08'}\n"
     ]
    },
    {
     "name": "stderr",
     "output_type": "stream",
     "text": [
      " 81%|████████  | 442/546 [02:10<00:30,  3.38it/s]"
     ]
    },
    {
     "name": "stdout",
     "output_type": "stream",
     "text": [
      "Working on  {'cv_fraction': Decimal('0.800'), 'csc_hash': '93c32a7a1ab86a004775787e8de6ffa9bcc151d0', 'cv_seed': 35, 'dataset_contrast': '0.005'}\n",
      "Working on  {'cv_fraction': Decimal('0.800'), 'csc_hash': '46604ae37d7a7e230faf2b784a1742351a7cf2b3', 'cv_seed': 35, 'dataset_contrast': '0.3'}\n"
     ]
    },
    {
     "name": "stderr",
     "output_type": "stream",
     "text": [
      "\r",
      " 81%|████████  | 443/546 [02:10<00:30,  3.38it/s]"
     ]
    },
    {
     "name": "stdout",
     "output_type": "stream",
     "text": [
      "Working on  {'cv_fraction': Decimal('0.800'), 'csc_hash': '34f05caf601a3685942af9ca472161f466b80dbd', 'cv_seed': 35, 'dataset_contrast': '0.02'}\n"
     ]
    },
    {
     "name": "stderr",
     "output_type": "stream",
     "text": [
      "\r",
      " 81%|████████▏ | 444/546 [02:11<00:30,  3.39it/s]"
     ]
    },
    {
     "name": "stdout",
     "output_type": "stream",
     "text": [
      "Working on  {'cv_fraction': Decimal('0.800'), 'csc_hash': '8f9104716b85c7f752851679c69d15b514ebd679', 'cv_seed': 35, 'dataset_contrast': '0.02'}\n"
     ]
    },
    {
     "name": "stderr",
     "output_type": "stream",
     "text": [
      " 82%|████████▏ | 446/546 [02:11<00:29,  3.39it/s]"
     ]
    },
    {
     "name": "stdout",
     "output_type": "stream",
     "text": [
      "Working on  {'cv_fraction': Decimal('0.800'), 'csc_hash': '9251fde390751ae17a47331d5d9fe43785bff226', 'cv_seed': 35, 'dataset_contrast': '0.02'}\n",
      "Working on  {'cv_fraction': Decimal('0.800'), 'csc_hash': '24770feca3fe6c70354771176ee82ce018f35fc3', 'cv_seed': 35, 'dataset_contrast': '0.04'}\n"
     ]
    },
    {
     "name": "stderr",
     "output_type": "stream",
     "text": [
      " 82%|████████▏ | 448/546 [02:12<00:28,  3.39it/s]"
     ]
    },
    {
     "name": "stdout",
     "output_type": "stream",
     "text": [
      "Working on  {'cv_fraction': Decimal('0.800'), 'csc_hash': '91e16dafba5483f2d23552a98451f57a92357a4f', 'cv_seed': 35, 'dataset_contrast': '0.01'}\n",
      "Working on  {'cv_fraction': Decimal('0.800'), 'csc_hash': 'ed0b7c069ce7a54a69d117f86b23fd47aea167da', 'cv_seed': 35, 'dataset_contrast': '0.5'}\n"
     ]
    },
    {
     "name": "stderr",
     "output_type": "stream",
     "text": [
      "\r",
      " 82%|████████▏ | 449/546 [02:12<00:28,  3.39it/s]"
     ]
    },
    {
     "name": "stdout",
     "output_type": "stream",
     "text": [
      "Working on  {'cv_fraction': Decimal('0.800'), 'csc_hash': 'a36d70e445640a518daf60e852a8f72716479db8', 'cv_seed': 35, 'dataset_contrast': '0.02'}\n"
     ]
    },
    {
     "name": "stderr",
     "output_type": "stream",
     "text": [
      "\r",
      " 82%|████████▏ | 450/546 [02:12<00:28,  3.39it/s]"
     ]
    },
    {
     "name": "stdout",
     "output_type": "stream",
     "text": [
      "Working on  {'cv_fraction': Decimal('0.800'), 'csc_hash': '28ea56824ec4e06ca7fc20de77eb8d15f33a9978', 'cv_seed': 35, 'dataset_contrast': '0.005'}\n"
     ]
    },
    {
     "name": "stderr",
     "output_type": "stream",
     "text": [
      "\r",
      " 83%|████████▎ | 451/546 [02:13<00:28,  3.39it/s]"
     ]
    },
    {
     "name": "stdout",
     "output_type": "stream",
     "text": [
      "Working on  {'cv_fraction': Decimal('0.800'), 'csc_hash': '9c9e578669108f91a2ed8f7787e9a9b9ce42235d', 'cv_seed': 35, 'dataset_contrast': '0.02'}\n"
     ]
    },
    {
     "name": "stderr",
     "output_type": "stream",
     "text": [
      "\r",
      " 83%|████████▎ | 452/546 [02:13<00:27,  3.39it/s]"
     ]
    },
    {
     "name": "stdout",
     "output_type": "stream",
     "text": [
      "Working on  {'cv_fraction': Decimal('0.800'), 'csc_hash': '108980c00a18467e2b772039631928b8af1dbed0', 'cv_seed': 35, 'dataset_contrast': '0.9'}\n"
     ]
    },
    {
     "name": "stderr",
     "output_type": "stream",
     "text": [
      "\r",
      " 83%|████████▎ | 453/546 [02:13<00:27,  3.39it/s]"
     ]
    },
    {
     "name": "stdout",
     "output_type": "stream",
     "text": [
      "Working on  {'cv_fraction': Decimal('0.800'), 'csc_hash': 'e19611e63e2448a5a575112f05dea655901566da', 'cv_seed': 35, 'dataset_contrast': '1'}\n"
     ]
    },
    {
     "name": "stderr",
     "output_type": "stream",
     "text": [
      "\r",
      " 83%|████████▎ | 454/546 [02:14<00:27,  3.38it/s]"
     ]
    },
    {
     "name": "stdout",
     "output_type": "stream",
     "text": [
      "Working on  {'cv_fraction': Decimal('0.800'), 'csc_hash': 'ec603f8b8a92fc50109dfce4737e0faf9b9cfab6', 'cv_seed': 35, 'dataset_contrast': '0.04'}\n"
     ]
    },
    {
     "name": "stderr",
     "output_type": "stream",
     "text": [
      "\r",
      " 83%|████████▎ | 455/546 [02:14<00:26,  3.38it/s]"
     ]
    },
    {
     "name": "stdout",
     "output_type": "stream",
     "text": [
      "Working on  {'cv_fraction': Decimal('0.800'), 'csc_hash': 'ec603f8b8a92fc50109dfce4737e0faf9b9cfab6', 'cv_seed': 35, 'dataset_contrast': '0.32'}\n"
     ]
    },
    {
     "name": "stderr",
     "output_type": "stream",
     "text": [
      "\r",
      " 84%|████████▎ | 456/546 [02:14<00:26,  3.38it/s]"
     ]
    },
    {
     "name": "stdout",
     "output_type": "stream",
     "text": [
      "Working on  {'cv_fraction': Decimal('0.800'), 'csc_hash': '96b93b6ef16edd857585e98aaec2645e3c38a8e2', 'cv_seed': 35, 'dataset_contrast': '0.16'}\n"
     ]
    },
    {
     "name": "stderr",
     "output_type": "stream",
     "text": [
      "\r",
      " 84%|████████▎ | 457/546 [02:15<00:26,  3.38it/s]"
     ]
    },
    {
     "name": "stdout",
     "output_type": "stream",
     "text": [
      "Working on  {'cv_fraction': Decimal('0.800'), 'csc_hash': '46604ae37d7a7e230faf2b784a1742351a7cf2b3', 'cv_seed': 35, 'dataset_contrast': '0.05'}\n"
     ]
    },
    {
     "name": "stderr",
     "output_type": "stream",
     "text": [
      "\r",
      " 84%|████████▍ | 458/546 [02:15<00:26,  3.38it/s]"
     ]
    },
    {
     "name": "stdout",
     "output_type": "stream",
     "text": [
      "Working on  {'cv_fraction': Decimal('0.800'), 'csc_hash': '553a9592ed56d0033490db2ba04731e7b498b275', 'cv_seed': 35, 'dataset_contrast': '0.01'}\n"
     ]
    },
    {
     "name": "stderr",
     "output_type": "stream",
     "text": [
      "\r",
      " 84%|████████▍ | 459/546 [02:15<00:25,  3.39it/s]"
     ]
    },
    {
     "name": "stdout",
     "output_type": "stream",
     "text": [
      "Working on  {'cv_fraction': Decimal('0.800'), 'csc_hash': 'b0770636ec15e0cf6a0b0075f098916086573c79', 'cv_seed': 35, 'dataset_contrast': '0.02'}\n"
     ]
    },
    {
     "name": "stderr",
     "output_type": "stream",
     "text": [
      "\r",
      " 84%|████████▍ | 460/546 [02:15<00:25,  3.38it/s]"
     ]
    },
    {
     "name": "stdout",
     "output_type": "stream",
     "text": [
      "Working on  {'cv_fraction': Decimal('0.800'), 'csc_hash': '0732f2b73f4900ee4fa81f8853b48e460a42ee14', 'cv_seed': 35, 'dataset_contrast': '0.16'}\n"
     ]
    },
    {
     "name": "stderr",
     "output_type": "stream",
     "text": [
      "\r",
      " 84%|████████▍ | 461/546 [02:16<00:25,  3.38it/s]"
     ]
    },
    {
     "name": "stdout",
     "output_type": "stream",
     "text": [
      "Working on  {'cv_fraction': Decimal('0.800'), 'csc_hash': '54f710d6550d828c2716ceda1de380d4068098e6', 'cv_seed': 35, 'dataset_contrast': '0.01'}\n"
     ]
    },
    {
     "name": "stderr",
     "output_type": "stream",
     "text": [
      "\r",
      " 85%|████████▍ | 462/546 [02:16<00:24,  3.38it/s]"
     ]
    },
    {
     "name": "stdout",
     "output_type": "stream",
     "text": [
      "Working on  {'cv_fraction': Decimal('0.800'), 'csc_hash': '96b93b6ef16edd857585e98aaec2645e3c38a8e2', 'cv_seed': 35, 'dataset_contrast': '0.64'}\n"
     ]
    },
    {
     "name": "stderr",
     "output_type": "stream",
     "text": [
      "\r",
      " 85%|████████▍ | 463/546 [02:17<00:24,  3.38it/s]"
     ]
    },
    {
     "name": "stdout",
     "output_type": "stream",
     "text": [
      "Working on  {'cv_fraction': Decimal('0.800'), 'csc_hash': '993a53d8700df5e6739c48783231b7beb275d8fb', 'cv_seed': 35, 'dataset_contrast': '0.005'}\n"
     ]
    },
    {
     "name": "stderr",
     "output_type": "stream",
     "text": [
      " 85%|████████▌ | 465/546 [02:17<00:23,  3.38it/s]"
     ]
    },
    {
     "name": "stdout",
     "output_type": "stream",
     "text": [
      "Working on  {'cv_fraction': Decimal('0.800'), 'csc_hash': 'f98f67b4367c709244d14544631835147e53d742', 'cv_seed': 35, 'dataset_contrast': '0.12'}\n",
      "Working on  {'cv_fraction': Decimal('0.800'), 'csc_hash': 'ea44daec7864bcec20de3b17d73ad6e831f117a7', 'cv_seed': 35, 'dataset_contrast': '0.01'}\n"
     ]
    },
    {
     "name": "stderr",
     "output_type": "stream",
     "text": [
      "\r",
      " 85%|████████▌ | 466/546 [02:17<00:23,  3.38it/s]"
     ]
    },
    {
     "name": "stdout",
     "output_type": "stream",
     "text": [
      "Working on  {'cv_fraction': Decimal('0.800'), 'csc_hash': 'ea44daec7864bcec20de3b17d73ad6e831f117a7', 'cv_seed': 35, 'dataset_contrast': '0.005'}\n"
     ]
    },
    {
     "name": "stderr",
     "output_type": "stream",
     "text": [
      "\r",
      " 86%|████████▌ | 467/546 [02:18<00:23,  3.38it/s]"
     ]
    },
    {
     "name": "stdout",
     "output_type": "stream",
     "text": [
      "Working on  {'cv_fraction': Decimal('0.800'), 'csc_hash': '20a36a57428b6a5ed8bd864ca4a3e4c9138c2243', 'cv_seed': 35, 'dataset_contrast': '0.5'}\n"
     ]
    },
    {
     "name": "stderr",
     "output_type": "stream",
     "text": [
      " 86%|████████▌ | 469/546 [02:18<00:22,  3.38it/s]"
     ]
    },
    {
     "name": "stdout",
     "output_type": "stream",
     "text": [
      "Working on  {'cv_fraction': Decimal('0.800'), 'csc_hash': 'a28e6247ac06f2162d8dad6f744a08465f72d1cf', 'cv_seed': 35, 'dataset_contrast': '0.1'}\n",
      "Working on  {'cv_fraction': Decimal('0.800'), 'csc_hash': '853f697fc9cf7c18ecc0a01bd912798386b53b9e', 'cv_seed': 35, 'dataset_contrast': '0.64'}\n"
     ]
    },
    {
     "name": "stderr",
     "output_type": "stream",
     "text": [
      " 86%|████████▋ | 471/546 [02:19<00:22,  3.39it/s]"
     ]
    },
    {
     "name": "stdout",
     "output_type": "stream",
     "text": [
      "Working on  {'cv_fraction': Decimal('0.800'), 'csc_hash': '5fd8a24ea5da186d064a03cebcf1c7f00c055b32', 'cv_seed': 35, 'dataset_contrast': '0.005'}\n",
      "Working on  {'cv_fraction': Decimal('0.800'), 'csc_hash': '9fbcc29a6f2bcca8ebb94a15afc38db71fbd8e60', 'cv_seed': 35, 'dataset_contrast': '0.08'}\n"
     ]
    },
    {
     "name": "stderr",
     "output_type": "stream",
     "text": [
      " 87%|████████▋ | 473/546 [02:19<00:21,  3.39it/s]"
     ]
    },
    {
     "name": "stdout",
     "output_type": "stream",
     "text": [
      "Working on  {'cv_fraction': Decimal('0.800'), 'csc_hash': 'f21bf02bd65af0d4231e09274c2ded58199836b6', 'cv_seed': 35, 'dataset_contrast': '0.03'}\n",
      "Working on  {'cv_fraction': Decimal('0.800'), 'csc_hash': 'bce87e9de88daa25cd41adf7121ca8cc2b8e87f4', 'cv_seed': 35, 'dataset_contrast': '0.8'}\n"
     ]
    },
    {
     "name": "stderr",
     "output_type": "stream",
     "text": [
      "\r",
      " 87%|████████▋ | 474/546 [02:20<00:21,  3.38it/s]"
     ]
    },
    {
     "name": "stdout",
     "output_type": "stream",
     "text": [
      "Working on  {'cv_fraction': Decimal('0.800'), 'csc_hash': '9446a84e2e7511517b5e6d491426d3fb7c37a1ec', 'cv_seed': 35, 'dataset_contrast': '0.0075'}\n"
     ]
    },
    {
     "name": "stderr",
     "output_type": "stream",
     "text": [
      "\r",
      " 87%|████████▋ | 475/546 [02:20<00:20,  3.38it/s]"
     ]
    },
    {
     "name": "stdout",
     "output_type": "stream",
     "text": [
      "Working on  {'cv_fraction': Decimal('0.800'), 'csc_hash': '46604ae37d7a7e230faf2b784a1742351a7cf2b3', 'cv_seed': 35, 'dataset_contrast': '0.02'}\n"
     ]
    },
    {
     "name": "stderr",
     "output_type": "stream",
     "text": [
      " 87%|████████▋ | 477/546 [02:20<00:20,  3.39it/s]"
     ]
    },
    {
     "name": "stdout",
     "output_type": "stream",
     "text": [
      "Working on  {'cv_fraction': Decimal('0.800'), 'csc_hash': 'c72789c65f74388f1c6e96ffd83577c0fa70719c', 'cv_seed': 35, 'dataset_contrast': '0.01'}\n",
      "Working on  {'cv_fraction': Decimal('0.800'), 'csc_hash': 'a28e6247ac06f2162d8dad6f744a08465f72d1cf', 'cv_seed': 35, 'dataset_contrast': '0.0075'}\n"
     ]
    },
    {
     "name": "stderr",
     "output_type": "stream",
     "text": [
      "\r",
      " 88%|████████▊ | 478/546 [02:20<00:20,  3.39it/s]"
     ]
    },
    {
     "name": "stdout",
     "output_type": "stream",
     "text": [
      "Working on  {'cv_fraction': Decimal('0.800'), 'csc_hash': 'dd3a08df47c7b50bd9192dcecb31af5bdf191e88', 'cv_seed': 35, 'dataset_contrast': '0.03'}\n"
     ]
    },
    {
     "name": "stderr",
     "output_type": "stream",
     "text": [
      "\r",
      " 88%|████████▊ | 479/546 [02:21<00:19,  3.39it/s]"
     ]
    },
    {
     "name": "stdout",
     "output_type": "stream",
     "text": [
      "Working on  {'cv_fraction': Decimal('0.800'), 'csc_hash': '278e048c46b21ed361389623594ea8b38933a73e', 'cv_seed': 35, 'dataset_contrast': '0.64'}\n"
     ]
    },
    {
     "name": "stderr",
     "output_type": "stream",
     "text": [
      "\r",
      " 88%|████████▊ | 480/546 [02:21<00:19,  3.39it/s]"
     ]
    },
    {
     "name": "stdout",
     "output_type": "stream",
     "text": [
      "Working on  {'cv_fraction': Decimal('0.800'), 'csc_hash': '0732f2b73f4900ee4fa81f8853b48e460a42ee14', 'cv_seed': 35, 'dataset_contrast': '0.02'}\n"
     ]
    },
    {
     "name": "stderr",
     "output_type": "stream",
     "text": [
      "\r",
      " 88%|████████▊ | 481/546 [02:22<00:19,  3.39it/s]"
     ]
    },
    {
     "name": "stdout",
     "output_type": "stream",
     "text": [
      "Working on  {'cv_fraction': Decimal('0.800'), 'csc_hash': 'c2922d3f721b13122fcfafc76231c956e4b16a02', 'cv_seed': 35, 'dataset_contrast': '0.02'}\n"
     ]
    },
    {
     "name": "stderr",
     "output_type": "stream",
     "text": [
      " 88%|████████▊ | 483/546 [02:22<00:18,  3.39it/s]"
     ]
    },
    {
     "name": "stdout",
     "output_type": "stream",
     "text": [
      "Working on  {'cv_fraction': Decimal('0.800'), 'csc_hash': 'fda661587b2c4f5a874d8e6d6fd548d5b65ba946', 'cv_seed': 35, 'dataset_contrast': '0.1'}\n",
      "Working on  {'cv_fraction': Decimal('0.800'), 'csc_hash': 'a36d70e445640a518daf60e852a8f72716479db8', 'cv_seed': 35, 'dataset_contrast': '0.04'}\n"
     ]
    },
    {
     "name": "stderr",
     "output_type": "stream",
     "text": [
      "\r",
      " 89%|████████▊ | 484/546 [02:22<00:18,  3.39it/s]"
     ]
    },
    {
     "name": "stdout",
     "output_type": "stream",
     "text": [
      "Working on  {'cv_fraction': Decimal('0.800'), 'csc_hash': '8bb906b3dbb93d13ab554508dbd52e4c847112c8', 'cv_seed': 35, 'dataset_contrast': '0.03'}\n"
     ]
    },
    {
     "name": "stderr",
     "output_type": "stream",
     "text": [
      "\r",
      " 89%|████████▉ | 485/546 [02:23<00:18,  3.39it/s]"
     ]
    },
    {
     "name": "stdout",
     "output_type": "stream",
     "text": [
      "Working on  {'cv_fraction': Decimal('0.800'), 'csc_hash': 'bce87e9de88daa25cd41adf7121ca8cc2b8e87f4', 'cv_seed': 35, 'dataset_contrast': '0.03'}\n"
     ]
    },
    {
     "name": "stderr",
     "output_type": "stream",
     "text": [
      "\r",
      " 89%|████████▉ | 486/546 [02:23<00:17,  3.38it/s]"
     ]
    },
    {
     "name": "stdout",
     "output_type": "stream",
     "text": [
      "Working on  {'cv_fraction': Decimal('0.800'), 'csc_hash': 'bce87e9de88daa25cd41adf7121ca8cc2b8e87f4', 'cv_seed': 35, 'dataset_contrast': '0.02'}\n"
     ]
    },
    {
     "name": "stderr",
     "output_type": "stream",
     "text": [
      " 89%|████████▉ | 488/546 [02:24<00:17,  3.39it/s]"
     ]
    },
    {
     "name": "stdout",
     "output_type": "stream",
     "text": [
      "Working on  {'cv_fraction': Decimal('0.800'), 'csc_hash': 'c3770af2071d9b3411ba365b8fa8b80d6169278d', 'cv_seed': 35, 'dataset_contrast': '0.03'}\n",
      "Working on  {'cv_fraction': Decimal('0.800'), 'csc_hash': '96b93b6ef16edd857585e98aaec2645e3c38a8e2', 'cv_seed': 35, 'dataset_contrast': '0.5'}\n"
     ]
    },
    {
     "name": "stderr",
     "output_type": "stream",
     "text": [
      "\r",
      " 90%|████████▉ | 489/546 [02:24<00:16,  3.39it/s]"
     ]
    },
    {
     "name": "stdout",
     "output_type": "stream",
     "text": [
      "Working on  {'cv_fraction': Decimal('0.800'), 'csc_hash': '1820f02d5f66cd31fe765f02ee8ee16347908062', 'cv_seed': 35, 'dataset_contrast': '0.06'}\n"
     ]
    },
    {
     "name": "stderr",
     "output_type": "stream",
     "text": [
      "\r",
      " 90%|████████▉ | 490/546 [02:24<00:16,  3.39it/s]"
     ]
    },
    {
     "name": "stdout",
     "output_type": "stream",
     "text": [
      "Working on  {'cv_fraction': Decimal('0.800'), 'csc_hash': 'baebbcc5c78ffc9f21e992f59ae7938ebd917b39', 'cv_seed': 35, 'dataset_contrast': '0.04'}\n",
      "Working on  {'cv_fraction': Decimal('0.800'), 'csc_hash': '8bb906b3dbb93d13ab554508dbd52e4c847112c8', 'cv_seed': 35, 'dataset_contrast': '0.16'}\n"
     ]
    },
    {
     "name": "stderr",
     "output_type": "stream",
     "text": [
      "\r",
      " 90%|█████████ | 492/546 [02:25<00:15,  3.39it/s]"
     ]
    },
    {
     "name": "stdout",
     "output_type": "stream",
     "text": [
      "Working on  {'cv_fraction': Decimal('0.800'), 'csc_hash': 'b16b9965df7f1b5e5d53a4b230cb2d6431fbc4de', 'cv_seed': 35, 'dataset_contrast': '0.04'}\n"
     ]
    },
    {
     "name": "stderr",
     "output_type": "stream",
     "text": [
      "\r",
      " 90%|█████████ | 493/546 [02:25<00:15,  3.39it/s]"
     ]
    },
    {
     "name": "stdout",
     "output_type": "stream",
     "text": [
      "Working on  {'cv_fraction': Decimal('0.800'), 'csc_hash': '4ed410917f1ddd18c4244db0eeb1cc8e43e3bdf4', 'cv_seed': 35, 'dataset_contrast': '0.005'}\n",
      "Working on  {'cv_fraction': Decimal('0.800'), 'csc_hash': '575528d55fb503411e5378845ad2778d350a3ed7', 'cv_seed': 35, 'dataset_contrast': '0.005'}\n"
     ]
    },
    {
     "name": "stderr",
     "output_type": "stream",
     "text": [
      "\r",
      " 91%|█████████ | 495/546 [02:25<00:15,  3.39it/s]"
     ]
    },
    {
     "name": "stdout",
     "output_type": "stream",
     "text": [
      "Working on  {'cv_fraction': Decimal('0.800'), 'csc_hash': 'b9f76f14cb3f856fae883a6840561821a77371bd', 'cv_seed': 35, 'dataset_contrast': '0.01'}\n"
     ]
    },
    {
     "name": "stderr",
     "output_type": "stream",
     "text": [
      "\r",
      " 91%|█████████ | 496/546 [02:26<00:14,  3.39it/s]"
     ]
    },
    {
     "name": "stdout",
     "output_type": "stream",
     "text": [
      "Working on  {'cv_fraction': Decimal('0.800'), 'csc_hash': '8f9104716b85c7f752851679c69d15b514ebd679', 'cv_seed': 35, 'dataset_contrast': '0.05'}\n"
     ]
    },
    {
     "name": "stderr",
     "output_type": "stream",
     "text": [
      "\r",
      " 91%|█████████ | 497/546 [02:26<00:14,  3.39it/s]"
     ]
    },
    {
     "name": "stdout",
     "output_type": "stream",
     "text": [
      "Working on  {'cv_fraction': Decimal('0.800'), 'csc_hash': 'b60f6eaac04b071793fe70a3c130fa108439489b', 'cv_seed': 35, 'dataset_contrast': '0.04'}\n"
     ]
    },
    {
     "name": "stderr",
     "output_type": "stream",
     "text": [
      "\r",
      " 91%|█████████ | 498/546 [02:26<00:14,  3.39it/s]"
     ]
    },
    {
     "name": "stdout",
     "output_type": "stream",
     "text": [
      "Working on  {'cv_fraction': Decimal('0.800'), 'csc_hash': '26a285b01f9095878baec9a1c27a3c8f4532f001', 'cv_seed': 35, 'dataset_contrast': '0.01'}\n"
     ]
    },
    {
     "name": "stderr",
     "output_type": "stream",
     "text": [
      "\r",
      " 91%|█████████▏| 499/546 [02:27<00:13,  3.39it/s]"
     ]
    },
    {
     "name": "stdout",
     "output_type": "stream",
     "text": [
      "Working on  {'cv_fraction': Decimal('0.800'), 'csc_hash': '5d0f2e629bac9ccc5f234d4034a828366c03f7b3', 'cv_seed': 35, 'dataset_contrast': '0.02'}\n"
     ]
    },
    {
     "name": "stderr",
     "output_type": "stream",
     "text": [
      "\r",
      " 92%|█████████▏| 500/546 [02:27<00:13,  3.39it/s]"
     ]
    },
    {
     "name": "stdout",
     "output_type": "stream",
     "text": [
      "Working on  {'cv_fraction': Decimal('0.800'), 'csc_hash': '8fa512d98266eb90a060819cc5e751ba72649ca7', 'cv_seed': 35, 'dataset_contrast': '0.1'}\n"
     ]
    },
    {
     "name": "stderr",
     "output_type": "stream",
     "text": [
      "\r",
      " 92%|█████████▏| 501/546 [02:27<00:13,  3.40it/s]"
     ]
    },
    {
     "name": "stdout",
     "output_type": "stream",
     "text": [
      "Working on  {'cv_fraction': Decimal('0.800'), 'csc_hash': 'a36d70e445640a518daf60e852a8f72716479db8', 'cv_seed': 35, 'dataset_contrast': '0.0075'}\n"
     ]
    },
    {
     "name": "stderr",
     "output_type": "stream",
     "text": [
      " 92%|█████████▏| 503/546 [02:28<00:12,  3.40it/s]"
     ]
    },
    {
     "name": "stdout",
     "output_type": "stream",
     "text": [
      "Working on  {'cv_fraction': Decimal('0.800'), 'csc_hash': '553a9592ed56d0033490db2ba04731e7b498b275', 'cv_seed': 35, 'dataset_contrast': '0.04'}\n",
      "Working on  {'cv_fraction': Decimal('0.800'), 'csc_hash': '32d0da84f717b430c94d198ab0c28ae6a61e7960', 'cv_seed': 35, 'dataset_contrast': '0.9'}\n"
     ]
    },
    {
     "name": "stderr",
     "output_type": "stream",
     "text": [
      "\r",
      " 92%|█████████▏| 504/546 [02:28<00:12,  3.40it/s]"
     ]
    },
    {
     "name": "stdout",
     "output_type": "stream",
     "text": [
      "Working on  {'cv_fraction': Decimal('0.800'), 'csc_hash': '116ae91919191b3b084d0067e8431d13d19f759d', 'cv_seed': 35, 'dataset_contrast': '0.32'}\n"
     ]
    },
    {
     "name": "stderr",
     "output_type": "stream",
     "text": [
      " 93%|█████████▎| 506/546 [02:28<00:11,  3.40it/s]"
     ]
    },
    {
     "name": "stdout",
     "output_type": "stream",
     "text": [
      "Working on  {'cv_fraction': Decimal('0.800'), 'csc_hash': '900c1eb204bf5e5437b9a886194d850002f6a8a3', 'cv_seed': 35, 'dataset_contrast': '0.01'}\n",
      "Working on  {'cv_fraction': Decimal('0.800'), 'csc_hash': 'f19561c9195be7722c1d2073406f97ffc359d63d', 'cv_seed': 35, 'dataset_contrast': '0.08'}\n"
     ]
    },
    {
     "name": "stderr",
     "output_type": "stream",
     "text": [
      "\r",
      " 93%|█████████▎| 507/546 [02:29<00:11,  3.40it/s]"
     ]
    },
    {
     "name": "stdout",
     "output_type": "stream",
     "text": [
      "Working on  {'cv_fraction': Decimal('0.800'), 'csc_hash': 'da82473ef9ed7a9774c6bcaea8c3bd28d5fcf1cc', 'cv_seed': 35, 'dataset_contrast': '0.64'}\n"
     ]
    },
    {
     "name": "stderr",
     "output_type": "stream",
     "text": [
      "\r",
      " 93%|█████████▎| 508/546 [02:29<00:11,  3.40it/s]"
     ]
    },
    {
     "name": "stdout",
     "output_type": "stream",
     "text": [
      "Working on  {'cv_fraction': Decimal('0.800'), 'csc_hash': 'c2922d3f721b13122fcfafc76231c956e4b16a02', 'cv_seed': 35, 'dataset_contrast': '0.3'}\n"
     ]
    },
    {
     "name": "stderr",
     "output_type": "stream",
     "text": [
      "\r",
      " 93%|█████████▎| 509/546 [02:29<00:10,  3.40it/s]"
     ]
    },
    {
     "name": "stdout",
     "output_type": "stream",
     "text": [
      "Working on  {'cv_fraction': Decimal('0.800'), 'csc_hash': 'a9e108bcb428ab08b62af7ef0ede6029156cd7b7', 'cv_seed': 35, 'dataset_contrast': '0.01'}\n"
     ]
    },
    {
     "name": "stderr",
     "output_type": "stream",
     "text": [
      " 94%|█████████▎| 511/546 [02:30<00:10,  3.40it/s]"
     ]
    },
    {
     "name": "stdout",
     "output_type": "stream",
     "text": [
      "Working on  {'cv_fraction': Decimal('0.800'), 'csc_hash': 'f4691aa78879a0531374e4a60d23e2e6fd99eb7b', 'cv_seed': 35, 'dataset_contrast': '0.02'}\n",
      "Working on  {'cv_fraction': Decimal('0.800'), 'csc_hash': '2a40a1ed593276618990e54ebcbfa55e71d5a4ee', 'cv_seed': 35, 'dataset_contrast': '0.04'}\n"
     ]
    },
    {
     "name": "stderr",
     "output_type": "stream",
     "text": [
      "\r",
      " 94%|█████████▍| 512/546 [02:30<00:10,  3.40it/s]"
     ]
    },
    {
     "name": "stdout",
     "output_type": "stream",
     "text": [
      "Working on  {'cv_fraction': Decimal('0.800'), 'csc_hash': '62eb64f1639bcd29c9bdb9f49b9f0127d8a3e7ab', 'cv_seed': 35, 'dataset_contrast': '0.02'}\n"
     ]
    },
    {
     "name": "stderr",
     "output_type": "stream",
     "text": [
      "\r",
      " 94%|█████████▍| 513/546 [02:31<00:09,  3.39it/s]"
     ]
    },
    {
     "name": "stdout",
     "output_type": "stream",
     "text": [
      "Working on  {'cv_fraction': Decimal('0.800'), 'csc_hash': '0c89c7a274be7c782e3b476f0596834add7e5b97', 'cv_seed': 35, 'dataset_contrast': '0.08'}\n"
     ]
    },
    {
     "name": "stderr",
     "output_type": "stream",
     "text": [
      "\r",
      " 94%|█████████▍| 514/546 [02:31<00:09,  3.39it/s]"
     ]
    },
    {
     "name": "stdout",
     "output_type": "stream",
     "text": [
      "Working on  {'cv_fraction': Decimal('0.800'), 'csc_hash': '20a36a57428b6a5ed8bd864ca4a3e4c9138c2243', 'cv_seed': 35, 'dataset_contrast': '0.16'}\n"
     ]
    },
    {
     "name": "stderr",
     "output_type": "stream",
     "text": [
      "\r",
      " 94%|█████████▍| 515/546 [02:31<00:09,  3.39it/s]"
     ]
    },
    {
     "name": "stdout",
     "output_type": "stream",
     "text": [
      "Working on  {'cv_fraction': Decimal('0.800'), 'csc_hash': '0e923470fc00654ba73820360da5af6e80f2e3d4', 'cv_seed': 35, 'dataset_contrast': '0.02'}\n"
     ]
    },
    {
     "name": "stderr",
     "output_type": "stream",
     "text": [
      " 95%|█████████▍| 517/546 [02:32<00:08,  3.40it/s]"
     ]
    },
    {
     "name": "stdout",
     "output_type": "stream",
     "text": [
      "Working on  {'cv_fraction': Decimal('0.800'), 'csc_hash': 'f4691aa78879a0531374e4a60d23e2e6fd99eb7b', 'cv_seed': 35, 'dataset_contrast': '0.1'}\n",
      "Working on  {'cv_fraction': Decimal('0.800'), 'csc_hash': '1aed66333230d886982b798fc3a5ab34f42449d0', 'cv_seed': 35, 'dataset_contrast': '0.02'}\n"
     ]
    },
    {
     "name": "stderr",
     "output_type": "stream",
     "text": [
      " 95%|█████████▌| 519/546 [02:32<00:07,  3.40it/s]"
     ]
    },
    {
     "name": "stdout",
     "output_type": "stream",
     "text": [
      "Working on  {'cv_fraction': Decimal('0.800'), 'csc_hash': 'e88233833d92c0cd7f912ddf8be1f127523eb7a2', 'cv_seed': 35, 'dataset_contrast': '0.01'}\n",
      "Working on  {'cv_fraction': Decimal('0.800'), 'csc_hash': '7220694d6791142a7d40df644503c74b3e93c448', 'cv_seed': 35, 'dataset_contrast': '0.0075'}\n"
     ]
    },
    {
     "name": "stderr",
     "output_type": "stream",
     "text": [
      "\r",
      " 95%|█████████▌| 520/546 [02:32<00:07,  3.40it/s]"
     ]
    },
    {
     "name": "stdout",
     "output_type": "stream",
     "text": [
      "Working on  {'cv_fraction': Decimal('0.800'), 'csc_hash': '2874cecca06db7eb61ecf6919002882749b57f5e', 'cv_seed': 35, 'dataset_contrast': '0.3'}\n"
     ]
    },
    {
     "name": "stderr",
     "output_type": "stream",
     "text": [
      " 96%|█████████▌| 522/546 [02:33<00:07,  3.40it/s]"
     ]
    },
    {
     "name": "stdout",
     "output_type": "stream",
     "text": [
      "Working on  {'cv_fraction': Decimal('0.800'), 'csc_hash': 'f2bb838d18277349a62ea2d930d0888f432a461e', 'cv_seed': 35, 'dataset_contrast': '0.005'}\n",
      "Working on  {'cv_fraction': Decimal('0.800'), 'csc_hash': 'fd79483ca30feea2d7d5abf36d097bbc9b1d5862', 'cv_seed': 35, 'dataset_contrast': '0.06'}\n"
     ]
    },
    {
     "name": "stderr",
     "output_type": "stream",
     "text": [
      " 96%|█████████▌| 524/546 [02:33<00:06,  3.41it/s]"
     ]
    },
    {
     "name": "stdout",
     "output_type": "stream",
     "text": [
      "Working on  {'cv_fraction': Decimal('0.800'), 'csc_hash': 'b9f76f14cb3f856fae883a6840561821a77371bd', 'cv_seed': 35, 'dataset_contrast': '0.005'}\n",
      "Working on  {'cv_fraction': Decimal('0.800'), 'csc_hash': '6f18eaab799c2ee5a14d82553dc993a73fa7e73e', 'cv_seed': 35, 'dataset_contrast': '0.01'}\n"
     ]
    },
    {
     "name": "stderr",
     "output_type": "stream",
     "text": [
      "\r",
      " 96%|█████████▌| 525/546 [02:34<00:06,  3.40it/s]"
     ]
    },
    {
     "name": "stdout",
     "output_type": "stream",
     "text": [
      "Working on  {'cv_fraction': Decimal('0.800'), 'csc_hash': '9c3317bb2daafd989122764cd1c9327819128fd6', 'cv_seed': 35, 'dataset_contrast': '0.02'}\n"
     ]
    },
    {
     "name": "stderr",
     "output_type": "stream",
     "text": [
      "\r",
      " 96%|█████████▋| 526/546 [02:34<00:05,  3.40it/s]"
     ]
    },
    {
     "name": "stdout",
     "output_type": "stream",
     "text": [
      "Working on  {'cv_fraction': Decimal('0.800'), 'csc_hash': 'b16b9965df7f1b5e5d53a4b230cb2d6431fbc4de', 'cv_seed': 35, 'dataset_contrast': '0.3'}\n"
     ]
    },
    {
     "name": "stderr",
     "output_type": "stream",
     "text": [
      "\r",
      " 97%|█████████▋| 527/546 [02:35<00:05,  3.40it/s]"
     ]
    },
    {
     "name": "stdout",
     "output_type": "stream",
     "text": [
      "Working on  {'cv_fraction': Decimal('0.800'), 'csc_hash': '1efcb0c7d005269e44696dca6dfbb06b72cc6164', 'cv_seed': 35, 'dataset_contrast': '0.04'}\n"
     ]
    },
    {
     "name": "stderr",
     "output_type": "stream",
     "text": [
      "\r",
      " 97%|█████████▋| 528/546 [02:35<00:05,  3.40it/s]"
     ]
    },
    {
     "name": "stdout",
     "output_type": "stream",
     "text": [
      "Working on  {'cv_fraction': Decimal('0.800'), 'csc_hash': '20a36a57428b6a5ed8bd864ca4a3e4c9138c2243', 'cv_seed': 35, 'dataset_contrast': '0.02'}\n"
     ]
    },
    {
     "name": "stderr",
     "output_type": "stream",
     "text": [
      "\r",
      " 97%|█████████▋| 529/546 [02:35<00:05,  3.39it/s]"
     ]
    },
    {
     "name": "stdout",
     "output_type": "stream",
     "text": [
      "Working on  {'cv_fraction': Decimal('0.800'), 'csc_hash': '26a285b01f9095878baec9a1c27a3c8f4532f001', 'cv_seed': 35, 'dataset_contrast': '0.1'}\n"
     ]
    },
    {
     "name": "stderr",
     "output_type": "stream",
     "text": [
      " 97%|█████████▋| 531/546 [02:36<00:04,  3.40it/s]"
     ]
    },
    {
     "name": "stdout",
     "output_type": "stream",
     "text": [
      "Working on  {'cv_fraction': Decimal('0.800'), 'csc_hash': 'c0cdbfe32ed3bcf23585f5e492c48d2a12b70e88', 'cv_seed': 35, 'dataset_contrast': '0.03'}\n",
      "Working on  {'cv_fraction': Decimal('0.800'), 'csc_hash': 'f9746d186a263982de28ac99bc68356b5edd3e6e', 'cv_seed': 35, 'dataset_contrast': '1'}\n"
     ]
    },
    {
     "name": "stderr",
     "output_type": "stream",
     "text": [
      " 98%|█████████▊| 533/546 [02:36<00:03,  3.40it/s]"
     ]
    },
    {
     "name": "stdout",
     "output_type": "stream",
     "text": [
      "Working on  {'cv_fraction': Decimal('0.800'), 'csc_hash': 'e88233833d92c0cd7f912ddf8be1f127523eb7a2', 'cv_seed': 35, 'dataset_contrast': '0.04'}\n",
      "Working on  {'cv_fraction': Decimal('0.800'), 'csc_hash': 'ed0b7c069ce7a54a69d117f86b23fd47aea167da', 'cv_seed': 35, 'dataset_contrast': '0.0075'}\n"
     ]
    },
    {
     "name": "stderr",
     "output_type": "stream",
     "text": [
      "\r",
      " 98%|█████████▊| 534/546 [02:37<00:03,  3.39it/s]"
     ]
    },
    {
     "name": "stdout",
     "output_type": "stream",
     "text": [
      "Working on  {'cv_fraction': Decimal('0.800'), 'csc_hash': '12e94de405dabfcfeb093aa3347051dc873e5530', 'cv_seed': 35, 'dataset_contrast': '0.04'}\n"
     ]
    },
    {
     "name": "stderr",
     "output_type": "stream",
     "text": [
      " 98%|█████████▊| 536/546 [02:37<00:02,  3.40it/s]"
     ]
    },
    {
     "name": "stdout",
     "output_type": "stream",
     "text": [
      "Working on  {'cv_fraction': Decimal('0.800'), 'csc_hash': '9251fde390751ae17a47331d5d9fe43785bff226', 'cv_seed': 35, 'dataset_contrast': '0.04'}\n",
      "Working on  {'cv_fraction': Decimal('0.800'), 'csc_hash': '575528d55fb503411e5378845ad2778d350a3ed7', 'cv_seed': 35, 'dataset_contrast': '0.02'}\n"
     ]
    },
    {
     "name": "stderr",
     "output_type": "stream",
     "text": [
      "\r",
      " 98%|█████████▊| 537/546 [02:38<00:02,  3.40it/s]"
     ]
    },
    {
     "name": "stdout",
     "output_type": "stream",
     "text": [
      "Working on  {'cv_fraction': Decimal('0.800'), 'csc_hash': '3565e65b12fd3384b2e791f091c998e6dec931f7', 'cv_seed': 35, 'dataset_contrast': '0.0075'}\n"
     ]
    },
    {
     "name": "stderr",
     "output_type": "stream",
     "text": [
      " 99%|█████████▊| 539/546 [02:38<00:02,  3.40it/s]"
     ]
    },
    {
     "name": "stdout",
     "output_type": "stream",
     "text": [
      "Working on  {'cv_fraction': Decimal('0.800'), 'csc_hash': 'f21bf02bd65af0d4231e09274c2ded58199836b6', 'cv_seed': 35, 'dataset_contrast': '0.1'}\n",
      "Working on  {'cv_fraction': Decimal('0.800'), 'csc_hash': '5fd8a24ea5da186d064a03cebcf1c7f00c055b32', 'cv_seed': 35, 'dataset_contrast': '0.02'}\n"
     ]
    },
    {
     "name": "stderr",
     "output_type": "stream",
     "text": [
      "\r",
      " 99%|█████████▉| 540/546 [02:38<00:01,  3.40it/s]"
     ]
    },
    {
     "name": "stdout",
     "output_type": "stream",
     "text": [
      "Working on  {'cv_fraction': Decimal('0.800'), 'csc_hash': 'a36d70e445640a518daf60e852a8f72716479db8', 'cv_seed': 35, 'dataset_contrast': '0.64'}\n"
     ]
    },
    {
     "name": "stderr",
     "output_type": "stream",
     "text": [
      "\r",
      " 99%|█████████▉| 541/546 [02:39<00:01,  3.40it/s]"
     ]
    },
    {
     "name": "stdout",
     "output_type": "stream",
     "text": [
      "Working on  {'cv_fraction': Decimal('0.800'), 'csc_hash': 'bce87e9de88daa25cd41adf7121ca8cc2b8e87f4', 'cv_seed': 35, 'dataset_contrast': '0.3'}\n"
     ]
    },
    {
     "name": "stderr",
     "output_type": "stream",
     "text": [
      "\r",
      " 99%|█████████▉| 542/546 [02:39<00:01,  3.40it/s]"
     ]
    },
    {
     "name": "stdout",
     "output_type": "stream",
     "text": [
      "Working on  {'cv_fraction': Decimal('0.800'), 'csc_hash': '604d54f0a005f8ed357cc6371e723ba3e9236d78', 'cv_seed': 35, 'dataset_contrast': '0.64'}\n"
     ]
    },
    {
     "name": "stderr",
     "output_type": "stream",
     "text": [
      "\r",
      " 99%|█████████▉| 543/546 [02:39<00:00,  3.39it/s]"
     ]
    },
    {
     "name": "stdout",
     "output_type": "stream",
     "text": [
      "Working on  {'cv_fraction': Decimal('0.800'), 'csc_hash': '4ed2dadf906380a1dd9b8e613cf3f4e88891f170', 'cv_seed': 35, 'dataset_contrast': '0.05'}\n"
     ]
    },
    {
     "name": "stderr",
     "output_type": "stream",
     "text": [
      "\r",
      "100%|█████████▉| 544/546 [02:40<00:00,  3.40it/s]"
     ]
    },
    {
     "name": "stdout",
     "output_type": "stream",
     "text": [
      "Working on  {'cv_fraction': Decimal('0.800'), 'csc_hash': 'b60f6eaac04b071793fe70a3c130fa108439489b', 'cv_seed': 35, 'dataset_contrast': '0.005'}\n"
     ]
    },
    {
     "name": "stderr",
     "output_type": "stream",
     "text": [
      "\r",
      "100%|█████████▉| 545/546 [02:40<00:00,  3.39it/s]"
     ]
    },
    {
     "name": "stdout",
     "output_type": "stream",
     "text": [
      "Working on  {'cv_fraction': Decimal('0.800'), 'csc_hash': '6a4d8b005dd1891872e1b85c2da1a580425f5f27', 'cv_seed': 35, 'dataset_contrast': '0.1'}\n"
     ]
    },
    {
     "name": "stderr",
     "output_type": "stream",
     "text": [
      "100%|██████████| 546/546 [02:40<00:00,  3.39it/s]\n"
     ]
    }
   ],
   "source": [
    "train.CVSet().populate(display_progress=True)"
   ]
  },
  {
   "cell_type": "code",
   "execution_count": null,
   "metadata": {},
   "outputs": [],
   "source": []
  },
  {
   "cell_type": "code",
   "execution_count": 6,
   "metadata": {},
   "outputs": [
    {
     "name": "stdout",
     "output_type": "stream",
     "text": [
      "`edgar_cd_ml`.`__c_v_config` (0 tuples)\n",
      "`edgar_cd_ml`.`__c_v_set` (0 tuples)\n",
      "Proceed? [yes, No]: yes\n",
      "Tables dropped.  Restart kernel.\n"
     ]
    }
   ],
   "source": [
    "train.CVConfig().drop()"
   ]
  },
  {
   "cell_type": "code",
   "execution_count": 5,
   "metadata": {},
   "outputs": [],
   "source": [
    "key = train.CleanContrastSessionDataSet().fetch(limit=1)"
   ]
  },
  {
   "cell_type": "code",
   "execution_count": 2,
   "metadata": {},
   "outputs": [],
   "source": [
    "import numpy as np"
   ]
  },
  {
   "cell_type": "code",
   "execution_count": 3,
   "metadata": {},
   "outputs": [],
   "source": [
    "np.random.seed?"
   ]
  },
  {
   "cell_type": "code",
   "execution_count": 2,
   "metadata": {},
   "outputs": [],
   "source": [
    "from v1_likelihood.train import cd_dataset, class_discrimination"
   ]
  },
  {
   "cell_type": "code",
   "execution_count": 7,
   "metadata": {},
   "outputs": [],
   "source": [
    "key = cd_dataset.CleanContrastSessionDataSet().fetch(limit=1)"
   ]
  },
  {
   "cell_type": "code",
   "execution_count": 18,
   "metadata": {},
   "outputs": [
    {
     "data": {
      "text/plain": [
       "0.3"
      ]
     },
     "execution_count": 18,
     "metadata": {},
     "output_type": "execute_result"
    }
   ],
   "source": [
    "key['dataset_contrast'][0]"
   ]
  },
  {
   "cell_type": "code",
   "execution_count": 33,
   "metadata": {},
   "outputs": [],
   "source": [
    "rel = class_discrimination.ClassDiscriminationTrial * class_discrimination.SpikeCountTrials() & class_discrimination.CleanSpikeCountTrials() & (class_discrimination.CSCLookup() &  key)"
   ]
  },
  {
   "cell_type": "code",
   "execution_count": null,
   "metadata": {},
   "outputs": [],
   "source": [
    "function dataSet = fetchDataSet(self, pack)\n",
    "            if nargin < 2\n",
    "                pack = true;\n",
    "            end\n",
    "            assert(count(self)==1, 'Only can fetch one dataset at a time!');\n",
    "            data = fetch(class_discrimination.ClassDiscriminationTrial * class_discrimination.SpikeCountTrials * class_discrimination.CSCLookup  & class_discrimination.CleanSpikeCountTrials & self, '*');\n",
    "            data = dj.struct.sort(data, 'trial_num');\n",
    "            contrast = fetchn(self, 'dataset_contrast');\n",
    "            all_contrast = arrayfun(@num2str, [data.contrast], 'UniformOutput', false);\n",
    "            pos = strcmp(all_contrast, contrast);\n",
    "            dataSet = data(pos);\n",
    "            if pack\n",
    "                dataSet = packData(dataSet);\n",
    "            end\n",
    "        end"
   ]
  },
  {
   "cell_type": "code",
   "execution_count": 68,
   "metadata": {},
   "outputs": [],
   "source": [
    "@cd_dataset.schema\n",
    "class CleanContrastSessionDataSet(dj.Computed):\n",
    "    def fetch_dataset(self):\n",
    "        assert len(self)==1, 'Only can fetch one dataset at a time!'\n",
    "        data = (class_discrimination.ClassDiscriminationTrial() * class_discrimination.SpikeCountTrials() * class_discrimination.CSCLookup() & class_discrimination.CleanSpikeCountTrials() & self).fetch(order_by='trial_num')\n",
    "        contrast = float(self.fetch1('dataset_contrast'))\n",
    "        f = data['contrast'] == contrast\n",
    "        return data[f]"
   ]
  },
  {
   "cell_type": "code",
   "execution_count": 69,
   "metadata": {},
   "outputs": [],
   "source": [
    "key = CleanContrastSessionDataSet().fetch(limit=1)"
   ]
  },
  {
   "cell_type": "code",
   "execution_count": 70,
   "metadata": {},
   "outputs": [],
   "source": [
    "d = (CleanContrastSessionDataSet() & key).fetch_dataset()"
   ]
  },
  {
   "cell_type": "code",
   "execution_count": 72,
   "metadata": {},
   "outputs": [
    {
     "data": {
      "text/plain": [
       "209"
      ]
     },
     "execution_count": 72,
     "metadata": {},
     "output_type": "execute_result"
    }
   ],
   "source": []
  },
  {
   "cell_type": "code",
   "execution_count": 61,
   "metadata": {},
   "outputs": [
    {
     "data": {
      "text/plain": [
       "2826"
      ]
     },
     "execution_count": 61,
     "metadata": {},
     "output_type": "execute_result"
    }
   ],
   "source": [
    "len(d[0])"
   ]
  },
  {
   "cell_type": "code",
   "execution_count": 62,
   "metadata": {},
   "outputs": [],
   "source": [
    "rel = CleanContrastSessionDataSet() & key"
   ]
  },
  {
   "cell_type": "code",
   "execution_count": 65,
   "metadata": {},
   "outputs": [
    {
     "data": {
      "text/plain": [
       "'0.3'"
      ]
     },
     "execution_count": 65,
     "metadata": {},
     "output_type": "execute_result"
    }
   ],
   "source": [
    "rel.fetch1('dataset_contrast')"
   ]
  },
  {
   "cell_type": "code",
   "execution_count": 56,
   "metadata": {},
   "outputs": [
    {
     "data": {
      "text/plain": [
       "array([],\n",
       "      dtype=[('subject_id', '<i8'), ('setup', '<i8'), ('session_start_time', '<i8'), ('stim_start_time', '<i8'), ('trial_num', '<i8'), ('event_type', 'O'), ('pre_stim_time', '<i8'), ('post_stim_time', '<i8'), ('ephys_start_time', '<i8'), ('detect_method_num', '<i8'), ('sort_method_num', '<i8'), ('count_start', '<i8'), ('count_stop', '<i8'), ('csc_hash', 'O'), ('delay_time', '<i8'), ('stimulus_class', 'O'), ('selected_class', 'O'), ('correct_response', '<i8'), ('correct_direction', 'O'), ('selected_direction', 'O'), ('orientation', '<f8'), ('posterior_a', '<f8'), ('contrast', '<f8'), ('classdiscriminationtrial_ts', 'O'), ('stim_time', '<i8'), ('counts', 'O'), ('n', '<i8'), ('scu_id', '<i8')])"
      ]
     },
     "execution_count": 56,
     "metadata": {},
     "output_type": "execute_result"
    }
   ],
   "source": [
    "d"
   ]
  },
  {
   "cell_type": "code",
   "execution_count": 34,
   "metadata": {},
   "outputs": [],
   "source": [
    "data = rel.fetch()"
   ]
  },
  {
   "cell_type": "code",
   "execution_count": 29,
   "metadata": {},
   "outputs": [],
   "source": [
    "import numpy as np"
   ]
  },
  {
   "cell_type": "code",
   "execution_count": 43,
   "metadata": {},
   "outputs": [
    {
     "data": {
      "text/plain": [
       "array(['0.3'], dtype=object)"
      ]
     },
     "execution_count": 43,
     "metadata": {},
     "output_type": "execute_result"
    }
   ],
   "source": [
    "key['dataset_contrast']"
   ]
  },
  {
   "cell_type": "code",
   "execution_count": 45,
   "metadata": {},
   "outputs": [],
   "source": [
    "f = data['contrast'] == float(key['dataset_contrast'][0])"
   ]
  },
  {
   "cell_type": "code",
   "execution_count": 40,
   "metadata": {},
   "outputs": [],
   "source": [
    "counts = np.concatenate(data['counts'], 1).T"
   ]
  },
  {
   "cell_type": "code",
   "execution_count": 41,
   "metadata": {},
   "outputs": [
    {
     "data": {
      "text/plain": [
       "(2826, 96)"
      ]
     },
     "execution_count": 41,
     "metadata": {},
     "output_type": "execute_result"
    }
   ],
   "source": [
    "counts.shape"
   ]
  },
  {
   "cell_type": "code",
   "execution_count": 5,
   "metadata": {},
   "outputs": [
    {
     "data": {
      "text/plain": [
       "# Cleaned up spike counts trials\n",
       "subject_id           : int unsigned                 # unique identifier for subject\n",
       "setup                : tinyint unsigned             # setup number\n",
       "session_start_time   : bigint                       # start session timestamp\n",
       "stim_start_time      : bigint                       # timestamp for stimulation start\n",
       "event_type           : enum('showStimulus')         # Type of stimulation event\n",
       "pre_stim_time        : int unsigned                 # Time to bin before alignment event\n",
       "post_stim_time       : int unsigned                 # Time after bin before alignment event\n",
       "ephys_start_time     : bigint                       # start session timestamp\n",
       "detect_method_num    : tinyint unsigned             # detection method index\n",
       "sort_method_num      : tinyint unsigned             # clustering method index\n",
       "count_start          : int                          # time in ms to start counting spikes\n",
       "count_stop           : int                          # time in ms to stop counting spikes\n",
       "scu_id               : int                          # unique id\n",
       "trial_num            : int unsigned                 # Trial number"
      ]
     },
     "execution_count": 5,
     "metadata": {},
     "output_type": "execute_result"
    }
   ],
   "source": [
    "class_discrimination.SpikeCountTrials() & class_discrimination.CleanSpikeCountTrials()"
   ]
  },
  {
   "cell_type": "code",
   "execution_count": null,
   "metadata": {},
   "outputs": [],
   "source": []
  }
 ],
 "metadata": {
  "kernelspec": {
   "display_name": "Python 3",
   "language": "python",
   "name": "python3"
  },
  "language_info": {
   "codemirror_mode": {
    "name": "ipython",
    "version": 3
   },
   "file_extension": ".py",
   "mimetype": "text/x-python",
   "name": "python",
   "nbconvert_exporter": "python",
   "pygments_lexer": "ipython3",
   "version": "3.5.2"
  }
 },
 "nbformat": 4,
 "nbformat_minor": 2
}
