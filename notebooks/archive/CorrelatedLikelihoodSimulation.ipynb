{
 "cells": [
  {
   "cell_type": "markdown",
   "metadata": {},
   "source": [
    "# Simulation of likelhood fitting"
   ]
  },
  {
   "cell_type": "markdown",
   "metadata": {},
   "source": [
    "In this notebook, I simulate spike counts data from a known distribution, and fit a DNN to recover the likelihood function. I then compare the recovered likelihood functions to the \"ground-truth\" likelhood functions computed from the known distribution."
   ]
  },
  {
   "cell_type": "code",
   "execution_count": 292,
   "metadata": {},
   "outputs": [],
   "source": [
    "import datajoint as dj\n",
    "import numpy as np\n",
    "import torch\n",
    "from torch.autograd import Variable\n",
    "from torch.nn.init import normal, constant\n",
    "from torch import nn\n",
    "from matplotlib import pyplot as plt\n",
    "from attorch.train import early_stopping\n",
    "from torch.utils.data import TensorDataset, DataLoader\n",
    "import seaborn as sns\n",
    "sns.set_context('notebook', font_scale=1.3)\n",
    "\n",
    "%matplotlib inline\n",
    "\n",
    "from numpy.linalg import inv, svd\n",
    "\n",
    "from v1_likelihood import train\n",
    "from v1_likelihood.train import CVTrainedModel, ModelDesign, BinConfig, CVSet, CVTrainedModel\n",
    "\n",
    "dj.config['display.limit'] = 40"
   ]
  },
  {
   "cell_type": "code",
   "execution_count": 293,
   "metadata": {},
   "outputs": [],
   "source": [
    "def stat_logp(lp):\n",
    "    nbins = lp.size(1)\n",
    "    v = lp - lp.max(dim=1, keepdim=True)[0]\n",
    "    post = torch.exp(v)\n",
    "    ro_pos = Variable(torch.arange(nbins).type(post.data.type()))\n",
    "    mu = (ro_pos*post).sum(dim=1, keepdim=True) / post.sum(dim=1, keepdim=True)\n",
    "    sigma = torch.sqrt(((ro_pos - mu).pow(2)*post).sum(dim=1) / post.sum(dim=1))\n",
    "    mu = mu.view(mu.numel())\n",
    "    return mu, sigma"
   ]
  },
  {
   "cell_type": "markdown",
   "metadata": {},
   "source": [
    "## Simulate data"
   ]
  },
  {
   "cell_type": "markdown",
   "metadata": {},
   "source": [
    "First, I simulate stimulus orientation drawn from the mixture of two Gaussian distributions. Both have $\\mu=270^\\circ$ but standard deviations differ $\\sigma_A = 3^\\circ$ and $\\sigma_B = 15^\\circ$."
   ]
  },
  {
   "cell_type": "code",
   "execution_count": 294,
   "metadata": {},
   "outputs": [],
   "source": [
    "sigmaA = 3\n",
    "sigmaB = 15\n",
    "stim_center = 270"
   ]
  },
  {
   "cell_type": "code",
   "execution_count": 295,
   "metadata": {},
   "outputs": [],
   "source": [
    "n_trials = 1000\n",
    "sv = np.random.choice([sigmaA, sigmaB], size=n_trials)\n",
    "ori = np.random.randn(n_trials) * sv + stim_center"
   ]
  },
  {
   "cell_type": "markdown",
   "metadata": {},
   "source": [
    "Now I simulate spike counts over an array consisting of 96 \"multi-units\". I assign a preferred orientation $\\theta$ to each multi-unit. Each multi-unit has a Gaussian orietation tuning curve centered at it's preferred orientation. The standard deviation and the amplitude of the Gaussian tuning curves are identical for all multi-units in this simple simulation."
   ]
  },
  {
   "cell_type": "markdown",
   "metadata": {},
   "source": [
    "### Prepare, a random fixed correlation"
   ]
  },
  {
   "cell_type": "code",
   "execution_count": 544,
   "metadata": {},
   "outputs": [],
   "source": [
    "from numpy.linalg import matrix_rank\n",
    "\n",
    "from numpy.linalg import inv\n",
    "\n",
    "a = np.random.rand(96, 10) - 0.5\n",
    "s = a @ a.T + np.eye(96)*0.1\n",
    "\n",
    "f = np.diag(1/np.sqrt(np.diag(s)))\n",
    "\n",
    "ss = f @ s @ f   # normalize the marginals\n",
    "\n",
    "assert matrix_rank(ss)==96\n",
    "\n",
    "np.abs(ss - np.eye(96)).mean()"
   ]
  },
  {
   "cell_type": "code",
   "execution_count": 545,
   "metadata": {},
   "outputs": [],
   "source": [
    "def sample_normal(N, sigma):\n",
    "    u, sv, ht = svd(sigma)\n",
    "    x = np.random.randn(96, N)\n",
    "    return u @ np.diag(np.sqrt(sv)) @ x"
   ]
  },
  {
   "cell_type": "code",
   "execution_count": 546,
   "metadata": {},
   "outputs": [],
   "source": [
    "noise = sample_normal(n_trials, ss).T"
   ]
  },
  {
   "cell_type": "code",
   "execution_count": 696,
   "metadata": {},
   "outputs": [
    {
     "data": {
      "text/plain": [
       "(1000, 96)"
      ]
     },
     "execution_count": 696,
     "metadata": {},
     "output_type": "execute_result"
    }
   ],
   "source": [
    "noise.shape"
   ]
  },
  {
   "cell_type": "code",
   "execution_count": 700,
   "metadata": {},
   "outputs": [],
   "source": [
    "n_ch = 96\n",
    "centers = np.linspace(-40, 40, n_ch)[:, None] + 270\n",
    "sigmas = 30\n",
    "#amplitude = 10 \n",
    "#amplitude = np.random.rand(n_trials)*0 + 1.5\n",
    "#amplitude = 3 * np.ones(n_trials)#np.random.rand(n_trials)*3 + 1.5\n",
    "amplitude = np.random.choice([1], size=n_trials)\n",
    "\n",
    "# this is the expected value of the spike counts for each stimulus\n",
    "mus = (amplitude * np.exp(-(ori - centers)**2/2/sigmas**2)).T\n",
    "\n",
    "# we then draw spike count samples from the independent Poisson distribution\n",
    "counts = mus + noise * np.sqrt(mus)\n",
    "\n",
    "prior_raw = np.log(np.exp(- pv**2 / 2 / sigmaA**2) / sigmaA + np.exp(- pv**2 / 2 / sigmaB**2) / sigmaB)"
   ]
  },
  {
   "cell_type": "markdown",
   "metadata": {},
   "source": [
    "Specify orientation binning parameters and center of bins"
   ]
  },
  {
   "cell_type": "code",
   "execution_count": 701,
   "metadata": {},
   "outputs": [],
   "source": [
    "nbins = 91\n",
    "delta = 1\n",
    "pv = (np.arange(nbins) - nbins//2) * delta"
   ]
  },
  {
   "cell_type": "markdown",
   "metadata": {},
   "source": [
    "Here I go ahead and compute the log-likelihood $\\log p(\\mathbf{r}|s)$ already. The prior is computed here as well."
   ]
  },
  {
   "cell_type": "code",
   "execution_count": 729,
   "metadata": {},
   "outputs": [],
   "source": [
    "f = amplitude[:, None, None] * np.exp(-(centers-pv-270)**2 /2/sigmas**2)\n",
    "logl = (counts[..., None] * np.log(f)).sum(axis=1) - f.sum(axis=1)\n",
    "#f = amplitude * np.exp(-(centers-pv-270)**2 / sigmas**2)\n",
    "#logl = counts @ np.log(f) - f.sum(axis=0)"
   ]
  },
  {
   "cell_type": "markdown",
   "metadata": {},
   "source": [
    "Correct way to compute logl"
   ]
  },
  {
   "cell_type": "code",
   "execution_count": 703,
   "metadata": {},
   "outputs": [],
   "source": [
    "f = amplitude[:, None, None] * np.exp(-(centers-pv-270)**2 /2/sigmas**2)\n",
    "v = (counts[..., None] - f) / np.sqrt(f)\n",
    "\n",
    "ss_inv = inv(ss)\n",
    "\n",
    "vv = np.transpose(v, [1, 2, 0])\n",
    "shape = vv.shape\n",
    "vv = vv.reshape(shape[0], -1)\n",
    "\n",
    "logl = (-(vv * (ss_inv @ vv)).sum(axis=0)/2).reshape(*shape[1:]).T"
   ]
  },
  {
   "cell_type": "code",
   "execution_count": 704,
   "metadata": {},
   "outputs": [
    {
     "data": {
      "text/plain": [
       "(array([  0.79310536, 239.83889529,  27.17364465]),\n",
       " array([[ 9.71665458e-03, -6.05624984e-01,  2.60220181e-01],\n",
       "        [-6.05624984e-01,  6.77653225e+01, -4.23469756e+01],\n",
       "        [ 2.60220181e-01, -4.23469756e+01,  3.10324549e+01]]))"
      ]
     },
     "execution_count": 704,
     "metadata": {},
     "output_type": "execute_result"
    }
   ],
   "source": [
    "ct = counts.T\n",
    "\n",
    "mu_counts = (ct * ori).sum(axis=1, keepdims=True) / ct.sum(axis=1, keepdims=True)\n",
    "sigma_counts = np.sqrt((ct * ori**2).sum(axis=1, keepdims=True) / ct.sum(axis=1, keepdims=True) - mu_counts**2)\n",
    "max_counts = counts.max(axis=0)\n",
    "\n",
    "from scipy.optimize import curve_fit\n",
    "\n",
    "\n",
    "def gaus(x,a,x0,sigma):\n",
    "    return a*np.exp(-(x-x0)**2/2/(sigma**2))\n",
    "\n",
    "curve_fit(gaus, ori, counts[:, 0], p0=[max_counts[0], mu_counts[0], sigma_counts[0]])"
   ]
  },
  {
   "cell_type": "code",
   "execution_count": 732,
   "metadata": {},
   "outputs": [],
   "source": [
    "p = np.round((ori - stim_center)/ delta) + (nbins//2)\n",
    "pos = (p >= 0) & (p < nbins)\n",
    "\n",
    "# remove trials with orientation falling out of the binned orientation domain\n",
    "p_p = p[pos]\n",
    "counts_p = counts[pos]\n",
    "logl_p = logl[pos]\n",
    "amplitude_p = amplitude[pos]\n",
    "\n",
    "# split into train, validation, and test set\n",
    "fraction = 0.8\n",
    "N = len(counts_p)\n",
    "np.random.seed(123)\n",
    "split = round(N * fraction)\n",
    "pos = np.random.permutation(N)\n",
    "train_pos = pos[:split]\n",
    "valid_pos = pos[split:]\n",
    "\n",
    "train_counts = counts_p[train_pos]\n",
    "train_ori = p_p[train_pos]\n",
    "train_logl = logl_p[train_pos]\n",
    "train_logl = train_logl - train_logl.max(axis=1, keepdims=True)\n",
    "train_amp = amplitude_p[train_pos]\n",
    "\n",
    "valid_counts = counts_p[valid_pos]\n",
    "valid_ori = p_p[valid_pos]\n",
    "\n",
    "valid_logl = logl_p[valid_pos]\n",
    "valid_logl = valid_logl - valid_logl.max(axis=1, keepdims=True)\n",
    "valid_amp = amplitude_p[valid_pos]"
   ]
  },
  {
   "cell_type": "markdown",
   "metadata": {},
   "source": [
    "Turn datasets into tensors and place them on GPU as needed."
   ]
  },
  {
   "cell_type": "code",
   "execution_count": 733,
   "metadata": {},
   "outputs": [],
   "source": [
    "train_x = torch.Tensor(train_counts)\n",
    "train_t = torch.Tensor(train_ori).type(torch.LongTensor)\n",
    "\n",
    "valid_x = Variable(torch.Tensor(valid_counts)).cuda()\n",
    "valid_t = Variable(torch.Tensor(valid_ori).type(torch.LongTensor)).cuda()\n",
    "\n",
    "prior = Variable(torch.Tensor(prior_raw)).cuda()\n",
    "\n",
    "train_dataset = TensorDataset(train_x, train_t)\n",
    "valid_dataset = TensorDataset(valid_x, valid_t)"
   ]
  },
  {
   "cell_type": "markdown",
   "metadata": {},
   "source": [
    "## Network definition and training"
   ]
  },
  {
   "cell_type": "markdown",
   "metadata": {},
   "source": [
    "Define the simple multi-layer fully-connected neural network."
   ]
  },
  {
   "cell_type": "code",
   "execution_count": 708,
   "metadata": {},
   "outputs": [],
   "source": [
    "class Net(nn.Module):\n",
    "    def __init__(self, n_channel=96, n_hidden=100, n_output=nbins, dropout=0.1, std=0.01):\n",
    "        super().__init__()\n",
    "        self.n_channel = n_channel\n",
    "        self.std = std\n",
    "        self.n_output = n_output\n",
    "        self.dropout = dropout\n",
    "        \n",
    "        if not isinstance(n_hidden, (list, tuple)):\n",
    "            n_hidden = (n_hidden,)\n",
    "        \n",
    "        self.n_hidden = n_hidden\n",
    "        \n",
    "        n_prev = n_channel\n",
    "        \n",
    "        hiddens = []\n",
    "        \n",
    "        for n in n_hidden:\n",
    "            hiddens.append(nn.Linear(n_prev, n))\n",
    "            hiddens.append(nn.ReLU())\n",
    "            if dropout > 0.0:\n",
    "                hiddens.append(nn.Dropout(p=dropout, inplace=True))\n",
    "            n_prev = n\n",
    "        if len(hiddens) > 0:\n",
    "            self.hiddens = nn.Sequential(*hiddens)\n",
    "        else:\n",
    "            self.hiddens = None\n",
    "        self.ro_layer = nn.Linear(n_prev, n_output)\n",
    "        \n",
    "        self.initialize()\n",
    "        \n",
    "        \n",
    "    def forward(self, x):\n",
    "        if self.hiddens is not None:\n",
    "            x = self.hiddens(x)\n",
    "        x = self.ro_layer(x)\n",
    "        return x\n",
    "    \n",
    "    def initialize(self):\n",
    "        def fn(mod):\n",
    "            if isinstance(mod, nn.Linear):\n",
    "                normal(mod.weight, std=self.std)\n",
    "                constant(mod.bias, 0)\n",
    "        self.apply(fn)"
   ]
  },
  {
   "cell_type": "markdown",
   "metadata": {},
   "source": [
    "Also define the objective function used during early-stopping"
   ]
  },
  {
   "cell_type": "code",
   "execution_count": 709,
   "metadata": {},
   "outputs": [],
   "source": [
    "def stat_logp(lp):\n",
    "    nbins = lp.size(1)\n",
    "    v = lp - lp.max(dim=1, keepdim=True)[0]\n",
    "    post = torch.exp(v)\n",
    "    ro_pos = Variable(torch.arange(nbins).type(post.data.type()))\n",
    "    mu = (ro_pos*post).sum(dim=1, keepdim=True) / post.sum(dim=1, keepdim=True)\n",
    "    sigma = torch.sqrt(((ro_pos - mu).pow(2)*post).sum(dim=1) / post.sum(dim=1))\n",
    "    mu = mu.view(mu.numel())\n",
    "    return mu, sigma"
   ]
  },
  {
   "cell_type": "code",
   "execution_count": 710,
   "metadata": {},
   "outputs": [],
   "source": [
    "def objective(net, x=None, t=None):\n",
    "    if x is None and t is None:\n",
    "        x = valid_x\n",
    "        t = valid_t\n",
    "    net.eval()\n",
    "    y = net(x)\n",
    "    posterior = y + prior\n",
    "    #_, loc = torch.max(posterior, dim=1)\n",
    "    loc, _ = stat_logp(posterior)\n",
    "    diff = t.double() - loc.double()\n",
    "    v =diff.pow(2).mean().sqrt() * delta\n",
    "    return v.data.cpu().numpy()[0]\n",
    "    #return loss(valid_y, valid_t).data.cpu().numpy()[0]"
   ]
  },
  {
   "cell_type": "markdown",
   "metadata": {},
   "source": [
    "## Try linear regression"
   ]
  },
  {
   "cell_type": "code",
   "execution_count": 711,
   "metadata": {},
   "outputs": [
    {
     "data": {
      "text/plain": [
       "<matplotlib.collections.PathCollection at 0x7fd748835e48>"
      ]
     },
     "execution_count": 711,
     "metadata": {},
     "output_type": "execute_result"
    },
    {
     "data": {
      "image/png": "[encoded data removed]",
      "text/plain": [
       "<Figure size 432x288 with 1 Axes>"
      ]
     },
     "metadata": {},
     "output_type": "display_data"
    }
   ],
   "source": [
    "def extend_ones(x):\n",
    "    return np.concatenate([x, np.ones([x.shape[0], 1])], axis=1)\n",
    "\n",
    "tc = extend_ones(train_counts)\n",
    "\n",
    "w = inv(tc.T @ tc + np.diag(np.ones(tc.shape[1]) * 0.0001)) @ tc.T @ train_ori\n",
    "\n",
    "t_hat = extend_ones(valid_counts) @ w\n",
    "\n",
    "plt.scatter(t_hat, valid_ori)"
   ]
  },
  {
   "cell_type": "code",
   "execution_count": 712,
   "metadata": {},
   "outputs": [
    {
     "data": {
      "text/plain": [
       "2.866085783337903"
      ]
     },
     "execution_count": 712,
     "metadata": {},
     "output_type": "execute_result"
    }
   ],
   "source": [
    "np.sqrt(np.mean((t_hat - valid_ori)**2)) * delta"
   ]
  },
  {
   "cell_type": "markdown",
   "metadata": {},
   "source": [
    "## Fit NN"
   ]
  },
  {
   "cell_type": "code",
   "execution_count": 713,
   "metadata": {},
   "outputs": [],
   "source": [
    "net = Net(n_channel=n_ch, n_output=nbins, n_hidden=[400, 400], std=0.0001, dropout=0.4)\n",
    "net.cuda()\n",
    "loss = nn.CrossEntropyLoss().cuda()"
   ]
  },
  {
   "cell_type": "code",
   "execution_count": 714,
   "metadata": {},
   "outputs": [
    {
     "data": {
      "text/plain": [
       "<matplotlib.collections.PathCollection at 0x7fd748808f60>"
      ]
     },
     "execution_count": 714,
     "metadata": {},
     "output_type": "execute_result"
    },
    {
     "data": {
      "image/png": "[encoded data removed]",
      "text/plain": [
       "<Figure size 432x288 with 1 Axes>"
      ]
     },
     "metadata": {},
     "output_type": "display_data"
    }
   ],
   "source": [
    "yv = net(valid_x).data.cpu().numpy()\n",
    "loc = np.argmax(yv, axis=1)\n",
    "plt.scatter(loc, valid_ori)"
   ]
  },
  {
   "cell_type": "markdown",
   "metadata": {},
   "source": [
    "## Ground truth"
   ]
  },
  {
   "cell_type": "markdown",
   "metadata": {},
   "source": [
    "On training set"
   ]
  },
  {
   "cell_type": "code",
   "execution_count": 734,
   "metadata": {},
   "outputs": [
    {
     "name": "stdout",
     "output_type": "stream",
     "text": [
      "4.354285 5.05843051728949\n"
     ]
    },
    {
     "data": {
      "text/plain": [
       "[<matplotlib.lines.Line2D at 0x7fd72b3614a8>]"
      ]
     },
     "execution_count": 734,
     "metadata": {},
     "output_type": "execute_result"
    },
    {
     "data": {
      "image/png": "[encoded data removed]",
      "text/plain": [
       "<Figure size 432x288 with 2 Axes>"
      ]
     },
     "metadata": {},
     "output_type": "display_data"
    }
   ],
   "source": [
    "y = Variable(torch.Tensor(train_logl).cuda())\n",
    "y = y + prior\n",
    "gt_sigma =  (stat_logp(y)[1] * delta).data.cpu().numpy().mean()\n",
    "#idx, _ = stat_logp(y)\n",
    "val, idx = torch.max(y, 1)\n",
    "yd = y.data.cpu().numpy()\n",
    "\n",
    "\n",
    "plt.subplot(211)\n",
    "t_hat = idx.data.cpu().numpy()\n",
    "plt.scatter(t_hat, train_ori)\n",
    "\n",
    "\n",
    "print(gt_sigma, np.sqrt(np.mean((t_hat.ravel() - train_ori)**2)) * delta)\n",
    "\n",
    "plt.subplot(212)\n",
    "\n",
    "plt.plot(yd[47])"
   ]
  },
  {
   "cell_type": "markdown",
   "metadata": {},
   "source": [
    "On validation set"
   ]
  },
  {
   "cell_type": "code",
   "execution_count": 735,
   "metadata": {},
   "outputs": [
    {
     "name": "stdout",
     "output_type": "stream",
     "text": [
      "4.2555428 5.246903848937962\n"
     ]
    },
    {
     "data": {
      "text/plain": [
       "[<matplotlib.lines.Line2D at 0x7fd74839a390>]"
      ]
     },
     "execution_count": 735,
     "metadata": {},
     "output_type": "execute_result"
    },
    {
     "data": {
      "image/png": "[encoded data removed]",
      "text/plain": [
       "<Figure size 432x288 with 2 Axes>"
      ]
     },
     "metadata": {},
     "output_type": "display_data"
    }
   ],
   "source": [
    "y = Variable(torch.Tensor(valid_logl).cuda())\n",
    "y = y + prior\n",
    "gt_sigma =  (stat_logp(y)[1] * delta).data.cpu().numpy().mean()\n",
    "#idx, _ = stat_logp(y)\n",
    "val, idx = torch.max(y, 1)\n",
    "yd = y.data.cpu().numpy()\n",
    "\n",
    "\n",
    "plt.subplot(211)\n",
    "t_hat = idx.data.cpu().numpy()\n",
    "plt.scatter(t_hat, valid_ori)\n",
    "\n",
    "\n",
    "print(gt_sigma, np.sqrt(np.mean((t_hat.ravel() - valid_ori)**2)) * delta)\n",
    "\n",
    "plt.subplot(212)\n",
    "\n",
    "plt.plot(yd[47])"
   ]
  },
  {
   "cell_type": "code",
   "execution_count": 717,
   "metadata": {},
   "outputs": [
    {
     "name": "stdout",
     "output_type": "stream",
     "text": [
      "10.68335 10.868532559642079\n"
     ]
    },
    {
     "data": {
      "text/plain": [
       "[<matplotlib.lines.Line2D at 0x7fd748bd5898>]"
      ]
     },
     "execution_count": 717,
     "metadata": {},
     "output_type": "execute_result"
    },
    {
     "data": {
      "image/png": "[encoded data removed]",
      "text/plain": [
       "<Figure size 432x288 with 2 Axes>"
      ]
     },
     "metadata": {},
     "output_type": "display_data"
    }
   ],
   "source": [
    "net.eval()\n",
    "y = net(valid_x)\n",
    "y = y + prior\n",
    "\n",
    "gt_sigma =  (stat_logp(y)[1] * delta).data.cpu().numpy().mean()\n",
    "\n",
    "\n",
    "idx, _ = stat_logp(y)\n",
    "#val, idx = torch.max(y, 1)\n",
    "yd = y.data.cpu().numpy()\n",
    "\n",
    "\n",
    "plt.subplot(211)\n",
    "t_hat = idx.data.cpu().numpy()\n",
    "plt.scatter(t_hat, valid_ori)\n",
    "\n",
    "\n",
    "print(gt_sigma, np.sqrt(np.mean((t_hat - valid_ori)**2)) * delta)\n",
    "\n",
    "plt.subplot(212)\n",
    "\n",
    "plt.plot(yd[64])"
   ]
  },
  {
   "cell_type": "code",
   "execution_count": 718,
   "metadata": {
    "scrolled": false
   },
   "outputs": [
    {
     "name": "stdout",
     "output_type": "stream",
     "text": [
      "\n",
      "\n",
      "\n",
      "\n",
      " LEARNING RATE: 0.03\n",
      "Score: 3.8946080207824707\n",
      "Score: 3.6383473873138428\n",
      "[120|00/20] ---> 10.868296673913504\n",
      "Score: 3.680233955383301\n",
      "Score: 3.468032121658325\n",
      "[140|00/20] ---> 10.868064473641773\n",
      "Score: 3.620710849761963\n",
      "Score: 3.605020046234131\n",
      "[160|00/20] ---> 10.867908038007085\n",
      "Score: 3.5508880615234375\n",
      "Score: 3.5791609287261963\n",
      "[180|00/20] ---> 10.867755641753629\n",
      "Score: 3.6914782524108887\n",
      "Score: 3.4007387161254883\n",
      "[200|00/20] ---> 10.867537881496963\n",
      "Score: 3.8411669731140137\n",
      "Score: 3.6348280906677246\n",
      "[220|00/20] ---> 10.867288202781651\n",
      "Score: 3.141352891921997\n",
      "Score: 3.4688069820404053\n",
      "[240|00/20] ---> 10.866870082509076\n",
      "Score: 3.490068197250366\n",
      "Score: 3.5452919006347656\n",
      "[260|00/20] ---> 10.866374519775668\n",
      "Score: 3.683680534362793\n",
      "Score: 3.525083541870117\n",
      "[280|00/20] ---> 10.86567169231398\n",
      "Score: 3.86249041557312\n",
      "Score: 3.320330858230591\n",
      "[300|00/20] ---> 10.864732130957155\n",
      "Score: 3.9535090923309326\n",
      "Score: 3.473276138305664\n",
      "[320|00/20] ---> 10.86345957903812\n",
      "Score: 3.3811113834381104\n",
      "Score: 3.5040547847747803\n",
      "[340|00/20] ---> 10.861634823933118\n",
      "Score: 3.1262524127960205\n",
      "Score: 3.367269515991211\n",
      "[360|00/20] ---> 10.85904699137818\n",
      "Score: 3.614950656890869\n",
      "Score: 3.444033622741699\n",
      "[380|00/20] ---> 10.855068723210735\n",
      "Score: 4.011693000793457\n",
      "Score: 3.6677567958831787\n",
      "[400|00/20] ---> 10.849018605506352\n",
      "Score: 3.516280174255371\n",
      "Score: 3.808464765548706\n",
      "[420|00/20] ---> 10.839196986021577\n",
      "Score: 3.4221038818359375\n",
      "Score: 3.695143938064575\n",
      "[440|00/20] ---> 10.82250678810596\n",
      "Score: 3.7892210483551025\n",
      "Score: 3.878920793533325\n",
      "[460|00/20] ---> 10.79246854294829\n",
      "Score: 3.5035033226013184\n",
      "Score: 3.553952932357788\n",
      "[480|00/20] ---> 10.73206329330412\n",
      "Score: 3.461700677871704\n",
      "Score: 3.5816495418548584\n",
      "[500|00/20] ---> 10.60080218751123\n",
      "Score: 3.657820463180542\n",
      "Score: 3.651862621307373\n",
      "[520|00/20] ---> 10.28716150113972\n",
      "Score: 3.1516575813293457\n",
      "Score: 3.2585880756378174\n",
      "[540|00/20] ---> 9.610807889332504\n",
      "Score: 3.559433698654175\n",
      "Score: 3.242180347442627\n",
      "[560|00/20] ---> 8.496185203183316\n",
      "Score: 3.606785297393799\n",
      "Score: 3.365865468978882\n",
      "[580|00/20] ---> 7.451016605110739\n",
      "Score: 3.0233805179595947\n",
      "Score: 3.1834299564361572\n",
      "[600|00/20] ---> 6.830528340028198\n",
      "Score: 3.433798313140869\n",
      "Score: 3.7264063358306885\n",
      "[620|00/20] ---> 6.231421403105812\n",
      "Score: 2.7542757987976074\n",
      "Score: 3.2698097229003906\n",
      "[640|00/20] ---> 5.713032724856562\n",
      "Score: 3.9630305767059326\n",
      "Score: 2.8265984058380127\n",
      "[660|00/20] ---> 5.076042185955206\n",
      "Score: 2.935533285140991\n",
      "Score: 3.1222665309906006\n",
      "[680|00/20] ---> 4.778627631034981\n",
      "Score: 2.9393839836120605\n",
      "Score: 2.9116570949554443\n",
      "[700|00/20] ---> 4.492946774076644\n",
      "Score: 2.813403844833374\n",
      "Score: 2.7002079486846924\n",
      "[720|00/20] ---> 4.299781416602092\n",
      "Score: 3.023897647857666\n",
      "Score: 2.7656261920928955\n",
      "[740|00/20] ---> 4.178329533562049\n",
      "Score: 2.6798348426818848\n",
      "Score: 2.557098150253296\n",
      "[760|01/20] -/-> 4.258177741496156\n",
      "Score: 3.2097959518432617\n",
      "Score: 2.6571052074432373\n",
      "[780|01/20] ---> 3.8523367280802234\n",
      "Score: 2.9071109294891357\n",
      "Score: 2.886094093322754\n",
      "[800|00/20] ---> 3.733203777918736\n",
      "Score: 3.025733232498169\n",
      "Score: 2.5188684463500977\n",
      "[820|00/20] ---> 3.7124403535449813\n",
      "Score: 2.669394016265869\n",
      "Score: 2.5545761585235596\n",
      "[840|00/20] ---> 3.6271714890055544\n",
      "Score: 2.7770299911499023\n",
      "Score: 2.5860071182250977\n",
      "[860|00/20] ---> 3.5189747333856705\n",
      "Score: 2.490668535232544\n",
      "Score: 2.5354857444763184\n",
      "[880|00/20] ---> 3.514454593284396\n",
      "Score: 2.5591344833374023\n",
      "Score: 2.8366613388061523\n",
      "[900|00/20] ---> 3.5135082961524016\n",
      "Score: 2.46267032623291\n",
      "Score: 2.68355131149292\n",
      "[920|00/20] ---> 3.4304058244077\n",
      "Score: 2.5230672359466553\n",
      "Score: 2.607200860977173\n",
      "[940|01/20] -/-> 3.4313541165950125\n",
      "Score: 2.7201428413391113\n",
      "Score: 2.475937604904175\n",
      "[960|01/20] ---> 3.3384167426065576\n",
      "Score: 2.3426008224487305\n",
      "Score: 2.443830966949463\n",
      "[980|00/20] ---> 3.331190832662026\n",
      "Score: 2.515026569366455\n",
      "Score: 2.510255813598633\n",
      "[1000|00/20] ---> 3.2663314893782633\n",
      "Score: 2.3074474334716797\n",
      "Score: 2.535222291946411\n",
      "[1020|00/20] ---> 3.2408290935923048\n",
      "Score: 2.21528697013855\n",
      "Score: 2.381561040878296\n",
      "[1040|00/20] ---> 3.203656344406817\n",
      "Score: 2.3504321575164795\n",
      "Score: 2.4653501510620117\n",
      "[1060|00/20] ---> 3.163231867762876\n",
      "Score: 2.6516945362091064\n",
      "Score: 2.614607572555542\n",
      "[1080|00/20] ---> 3.1294622318114964\n",
      "Score: 2.1602020263671875\n",
      "Score: 2.453615665435791\n",
      "[1100|00/20] ---> 3.10048087386604\n",
      "Score: 2.381394624710083\n",
      "Score: 2.402911901473999\n",
      "[1120|00/20] ---> 3.0550038469735483\n",
      "Score: 2.4317684173583984\n",
      "Score: 2.4712302684783936\n",
      "[1140|00/20] ---> 3.0427479590082287\n",
      "Score: 2.31881046295166\n",
      "Score: 2.0562143325805664\n",
      "[1160|00/20] ---> 3.010205739653161\n",
      "Score: 2.296041488647461\n",
      "Score: 2.427422285079956\n",
      "[1180|00/20] ---> 3.00072257270916\n",
      "Score: 2.3990609645843506\n",
      "Score: 2.1263298988342285\n",
      "[1200|00/20] ---> 2.9796797051632864\n",
      "Score: 2.233833074569702\n",
      "Score: 2.1880998611450195\n",
      "[1220|00/20] ---> 2.9580856783834046\n",
      "Score: 2.521876096725464\n",
      "Score: 2.4053773880004883\n",
      "[1240|00/20] ---> 2.9391993263805003\n",
      "Score: 2.3504080772399902\n",
      "Score: 2.213758945465088\n",
      "[1260|00/20] ---> 2.8832379784170685\n",
      "Score: 2.329529047012329\n",
      "Score: 2.308779001235962\n",
      "[1280|01/20] -/-> 2.922313370183523\n",
      "Score: 2.2071480751037598\n",
      "Score: 2.0564122200012207\n",
      "[1300|01/20] ---> 2.861928540272776\n",
      "Score: 2.1638169288635254\n",
      "Score: 2.096600294113159\n",
      "[1320|00/20] ---> 2.8367419042965745\n",
      "Score: 2.396409273147583\n",
      "Score: 2.449843168258667\n",
      "[1340|01/20] -/-> 2.840221650928776\n",
      "Score: 2.151193857192993\n",
      "Score: 2.144894599914551\n",
      "[1360|01/20] ---> 2.8162783430930123\n",
      "Score: 2.081885576248169\n",
      "Score: 2.1314048767089844\n",
      "[1380|00/20] ---> 2.7972173914805794\n",
      "Score: 2.271632432937622\n",
      "Score: 2.338981866836548\n",
      "[1400|01/20] -/-> 2.8182422838618955\n",
      "Score: 2.22176456451416\n",
      "Score: 2.1855697631835938\n",
      "[1420|01/20] ---> 2.790690010693246\n",
      "Score: 2.117626905441284\n",
      "Score: 2.104060649871826\n",
      "[1440|00/20] ---> 2.7569286964698003\n",
      "Score: 2.247809886932373\n",
      "Score: 2.23710298538208\n",
      "[1460|00/20] ---> 2.7285369277910267\n",
      "Score: 2.0402920246124268\n",
      "Score: 2.330209493637085\n",
      "[1480|00/20] ---> 2.7252924352607213\n",
      "Score: 2.097731113433838\n",
      "Score: 2.126218557357788\n",
      "[1500|00/20] ---> 2.71936201639285\n",
      "Score: 2.105210065841675\n",
      "Score: 2.1983509063720703\n",
      "[1520|00/20] ---> 2.709329602669173\n",
      "Score: 1.9650319814682007\n",
      "Score: 2.182433843612671\n",
      "[1540|00/20] ---> 2.6810767911991915\n",
      "Score: 2.1443254947662354\n",
      "Score: 2.0869829654693604\n",
      "[1560|00/20] ---> 2.6563760996591865\n",
      "Score: 1.9619520902633667\n",
      "Score: 1.9749810695648193\n",
      "[1580|00/20] ---> 2.6542599338649833\n",
      "Score: 2.0833609104156494\n",
      "Score: 2.096585273742676\n",
      "[1600|01/20] -/-> 2.675624803150398\n",
      "Score: 2.2675423622131348\n",
      "Score: 1.936812400817871\n",
      "[1620|02/20] -/-> 2.6622360611599385\n",
      "Score: 2.0237996578216553\n",
      "Score: 2.1787140369415283\n",
      "[1640|03/20] -/-> 2.6584844413999242\n",
      "Score: 2.033005714416504\n",
      "Score: 2.0541648864746094\n",
      "[1660|03/20] ---> 2.643989039923\n",
      "Score: 2.0913281440734863\n",
      "Score: 2.1355791091918945\n",
      "[1680|01/20] -/-> 2.6709619291990716\n",
      "Score: 2.0144684314727783\n",
      "Score: 2.3326356410980225\n",
      "[1700|02/20] -/-> 2.6467601104719156\n",
      "Score: 1.9688873291015625\n",
      "Score: 1.86475670337677\n",
      "[1720|02/20] ---> 2.6131739711497626\n",
      "Score: 2.058616876602173\n",
      "Score: 2.061983585357666\n",
      "[1740|01/20] -/-> 2.633696170216868\n",
      "Score: 2.1518983840942383\n",
      "Score: 1.9246505498886108\n",
      "[1760|02/20] -/-> 2.648713255459473\n",
      "Score: 1.9716075658798218\n",
      "Score: 1.9194738864898682\n",
      "[1780|03/20] -/-> 2.6340322624700687\n",
      "Score: 2.04897403717041\n",
      "Score: 1.9030249118804932\n",
      "[1800|04/20] -/-> 2.6636107991435596\n",
      "Score: 2.4497175216674805\n",
      "Score: 2.1454434394836426\n",
      "[1820|05/20] -/-> 2.624398916073831\n",
      "Score: 1.9923267364501953\n",
      "Score: 1.922478199005127\n",
      "[1840|06/20] -/-> 2.6358514435388902\n",
      "Score: 2.029038667678833\n",
      "Score: 2.0465056896209717\n",
      "[1860|07/20] -/-> 2.645579197513798\n",
      "Score: 2.0945205688476562\n",
      "Score: 1.8571690320968628\n",
      "[1880|07/20] ---> 2.6033109227542366\n",
      "Score: 2.100045919418335\n",
      "Score: 2.0401084423065186\n",
      "[1900|01/20] -/-> 2.627592596705681\n",
      "Score: 2.0588791370391846\n",
      "Score: 1.8506492376327515\n",
      "[1920|02/20] -/-> 2.63114529786856\n",
      "Score: 1.853020191192627\n",
      "Score: 1.8582794666290283\n",
      "[1940|03/20] -/-> 2.6286688586000078\n",
      "Score: 1.8128209114074707\n",
      "Score: 1.9707176685333252\n",
      "[1960|03/20] ---> 2.597851671466773\n",
      "Score: 1.8663139343261719\n",
      "Score: 2.0358848571777344\n",
      "[1980|01/20] -/-> 2.621965411990653\n",
      "Score: 1.8947830200195312\n",
      "Score: 2.1070821285247803\n",
      "[2000|02/20] -/-> 2.611776069863507\n",
      "Score: 1.9888408184051514\n",
      "Score: 1.928572416305542\n",
      "[2020|03/20] -/-> 2.623668342423179\n",
      "Score: 1.8108198642730713\n",
      "Score: 1.8605973720550537\n",
      "[2040|04/20] -/-> 2.636054477048484\n",
      "Score: 2.118093967437744\n",
      "Score: 1.9873645305633545\n",
      "[2060|05/20] -/-> 2.6160978188849344\n",
      "Score: 2.0013608932495117\n",
      "Score: 1.9609699249267578\n",
      "[2080|06/20] -/-> 2.627509741116533\n",
      "Score: 2.002903938293457\n",
      "Score: 1.9121259450912476\n",
      "[2100|07/20] -/-> 2.624962250261612\n",
      "Score: 1.9241458177566528\n",
      "Score: 1.757350206375122\n",
      "[2120|08/20] -/-> 2.6188871526425404\n",
      "Score: 1.886008381843567\n",
      "Score: 1.9038684368133545\n",
      "[2140|09/20] -/-> 2.6557118771815467\n",
      "Score: 2.001593589782715\n",
      "Score: 1.789407730102539\n",
      "[2160|10/20] -/-> 2.6386284866079133\n",
      "Score: 1.8426642417907715\n",
      "Score: 1.9402488470077515\n",
      "[2180|11/20] -/-> 2.6545271878885686\n",
      "Score: 2.2000834941864014\n",
      "Score: 1.905185580253601\n",
      "[2200|12/20] -/-> 2.6381881590579184\n",
      "Score: 1.838704228401184\n",
      "Score: 1.813215970993042\n",
      "[2220|13/20] -/-> 2.6381279521202905\n",
      "Score: 1.8162494897842407\n",
      "Score: 1.9180880784988403\n",
      "[2240|14/20] -/-> 2.650849851218156\n",
      "Score: 1.8141231536865234\n",
      "Score: 1.7145763635635376\n",
      "[2260|15/20] -/-> 2.6655570222413933\n",
      "Score: 1.7621517181396484\n",
      "Score: 1.8321888446807861\n",
      "[2280|16/20] -/-> 2.6572660641039287\n",
      "Score: 1.850498914718628\n",
      "Score: 1.827505111694336\n",
      "[2300|17/20] -/-> 2.6597023078349924\n",
      "Score: 1.8723458051681519\n",
      "Score: 1.9825817346572876\n",
      "[2320|18/20] -/-> 2.6458166857698964\n",
      "Score: 1.9332606792449951\n",
      "Score: 1.8695563077926636\n",
      "[2340|19/20] -/-> 2.6548419712431977\n",
      "Score: 1.8220382928848267\n",
      "Score: 1.8839082717895508\n",
      "[2360|20/20] -/-> 2.654041405022921\n",
      "Restoring best model! 2.654041 ---> 2.597852\n",
      "\n",
      "\n",
      "\n",
      "\n",
      " LEARNING RATE: 0.009999999999999998\n",
      "Score: 2.0334994792938232\n",
      "Score: 1.9412353038787842\n",
      "[120|00/20] ---> 2.592216102145169\n",
      "Score: 1.8267790079116821\n",
      "Score: 1.837670087814331\n",
      "[140|01/20] -/-> 2.609144397972555\n",
      "Score: 1.8507245779037476\n",
      "Score: 1.8237388134002686\n",
      "[160|02/20] -/-> 2.6042289508099086\n",
      "Score: 1.8575748205184937\n",
      "Score: 1.87825345993042\n",
      "[180|03/20] -/-> 2.616193820901864\n",
      "Score: 1.7899467945098877\n",
      "Score: 1.807690143585205\n",
      "[200|04/20] -/-> 2.613090620214591\n",
      "Score: 1.781146764755249\n",
      "Score: 2.034146785736084\n",
      "[220|05/20] -/-> 2.616405922393488\n",
      "Score: 1.8853564262390137\n",
      "Score: 1.857652187347412\n",
      "[240|06/20] -/-> 2.60524363446062\n",
      "Score: 1.9714468717575073\n",
      "Score: 2.00435209274292\n",
      "[260|07/20] -/-> 2.597287750897542\n",
      "Score: 1.926107406616211\n",
      "Score: 1.838992714881897\n",
      "[280|08/20] -/-> 2.6163550440176597\n",
      "Score: 1.9525620937347412\n",
      "Score: 1.994958519935608\n",
      "[300|09/20] -/-> 2.6173337855094188\n",
      "Score: 1.873547911643982\n",
      "Score: 1.95790433883667\n",
      "[320|10/20] -/-> 2.6320195609030166\n",
      "Score: 1.829000473022461\n",
      "Score: 1.9146099090576172\n",
      "[340|11/20] -/-> 2.606924772924405\n",
      "Score: 1.8056225776672363\n",
      "Score: 1.6989909410476685\n",
      "[360|12/20] -/-> 2.6025848457500995\n",
      "Score: 1.8973749876022339\n",
      "Score: 2.161309242248535\n",
      "[380|13/20] -/-> 2.607456376792457\n",
      "Score: 1.949342966079712\n",
      "Score: 1.7705495357513428\n",
      "[400|14/20] -/-> 2.6042606862708158\n",
      "Score: 1.7625705003738403\n",
      "Score: 1.8113791942596436\n",
      "[420|15/20] -/-> 2.610425368909233\n",
      "Score: 1.8680824041366577\n",
      "Score: 1.923953652381897\n",
      "[440|16/20] -/-> 2.6182862880677487\n",
      "Score: 1.833189606666565\n",
      "Score: 1.9275239706039429\n",
      "[460|17/20] -/-> 2.618490290187174\n",
      "Score: 1.780677318572998\n",
      "Score: 1.912758708000183\n",
      "[480|18/20] -/-> 2.616808110659187\n",
      "Score: 1.724039077758789\n",
      "Score: 1.8995001316070557\n",
      "[500|19/20] -/-> 2.6191788369102422\n",
      "Score: 1.8571197986602783\n",
      "Score: 1.8754684925079346\n",
      "[520|20/20] -/-> 2.6318005555262007\n",
      "Restoring best model! 2.631801 ---> 2.592216\n",
      "\n",
      "\n",
      "\n",
      "\n",
      " LEARNING RATE: 0.003333333333333333\n",
      "Score: 1.9875969886779785\n",
      "Score: 1.8212323188781738\n",
      "[120|01/20] -/-> 2.596603387277529\n",
      "Score: 1.8582789897918701\n",
      "Score: 1.9213308095932007\n",
      "[140|02/20] -/-> 2.60030466806058\n",
      "Score: 1.8056974411010742\n",
      "Score: 1.9467518329620361\n",
      "[160|03/20] -/-> 2.6020866329239505\n",
      "Score: 1.9381556510925293\n",
      "Score: 1.842961311340332\n",
      "[180|04/20] -/-> 2.6015107032058427\n",
      "Score: 1.7902116775512695\n",
      "Score: 1.7320514917373657\n",
      "[200|05/20] -/-> 2.609059003508277\n",
      "Score: 1.902916431427002\n",
      "Score: 1.8097598552703857\n",
      "[220|06/20] -/-> 2.6101195614781374\n",
      "Score: 2.016294240951538\n",
      "Score: 1.992939829826355\n",
      "[240|07/20] -/-> 2.602604895138541\n",
      "Score: 1.8715680837631226\n",
      "Score: 2.08943772315979\n",
      "[260|08/20] -/-> 2.603244720858687\n",
      "Score: 1.904692530632019\n",
      "Score: 1.867821216583252\n",
      "[280|09/20] -/-> 2.6038414115175406\n",
      "Score: 1.8707913160324097\n",
      "Score: 1.7095482349395752\n",
      "[300|10/20] -/-> 2.6042591853203394\n",
      "Score: 1.9585325717926025\n",
      "Score: 1.8031286001205444\n",
      "[320|11/20] -/-> 2.6090707327119613\n",
      "Score: 1.8293153047561646\n",
      "Score: 1.9217643737792969\n",
      "[340|12/20] -/-> 2.6128655388985105\n",
      "Score: 1.8858681917190552\n",
      "Score: 1.8544299602508545\n",
      "[360|13/20] -/-> 2.609328761774743\n",
      "Score: 1.9739668369293213\n",
      "Score: 2.097179651260376\n",
      "[380|14/20] -/-> 2.6133023263140407\n",
      "Score: 1.7842158079147339\n",
      "Score: 1.9664911031723022\n",
      "[400|15/20] -/-> 2.6133402075317025\n",
      "Score: 1.7782121896743774\n",
      "Score: 1.819972038269043\n",
      "[420|16/20] -/-> 2.613917038871851\n",
      "Score: 1.742969036102295\n",
      "Score: 1.9725723266601562\n",
      "[440|17/20] -/-> 2.6149708057919883\n",
      "Score: 1.835373878479004\n",
      "Score: 1.9261500835418701\n",
      "[460|18/20] -/-> 2.620347846819123\n",
      "Score: 1.9290357828140259\n",
      "Score: 2.0547757148742676\n",
      "[480|19/20] -/-> 2.610523029270178\n",
      "Score: 2.026346206665039\n",
      "Score: 1.7482045888900757\n",
      "[500|20/20] -/-> 2.623432492303697\n",
      "Restoring best model! 2.623432 ---> 2.592216\n"
     ]
    }
   ],
   "source": [
    "net.std = 1e-2\n",
    "net.initialize()\n",
    "\n",
    "alpha = 300 #3e-2 #7e-3 #1e-3\n",
    "\n",
    "\n",
    "#scheduler = torch.optim.lr_scheduler.StepLR(optimizer, step_size=3000, gamma=0.3)\n",
    "learning_rates = 0.03 * 3.0**(-np.arange(3))\n",
    "\n",
    "for lr in learning_rates:\n",
    "    print('\\n\\n\\n\\n LEARNING RATE: {}'.format(lr))\n",
    "    optimizer = torch.optim.SGD(net.parameters(), lr=lr)\n",
    "    for epoch, valid_score in early_stopping(net, objective, interval=20, start=100, patience=20, max_iter=300000, maximize=False):\n",
    "        data_loader = DataLoader(train_dataset, shuffle=True, batch_size=128)\n",
    "        for x_, t_ in data_loader:\n",
    "            x, t = Variable(x_).cuda(), Variable(t_).cuda()\n",
    "            net.train()\n",
    "            optimizer.zero_grad()\n",
    "            y = net(x)\n",
    "            post = y + prior\n",
    "            val, _ = post.max(1, keepdim=True)\n",
    "            post = post - val\n",
    "            #sparcity = y.abs().sum(1).mean()\n",
    "            conv_filter = Variable(torch.from_numpy(np.array([-0.25, 0.5, -0.25])[None, None, :]).type(y.data.type()))\n",
    "            smoothness = nn.functional.conv1d(y.unsqueeze(1), conv_filter).pow(2).mean()\n",
    "            score = loss(post, t)\n",
    "            score = score + alpha * smoothness\n",
    "            score.backward()\n",
    "            optimizer.step()\n",
    "        if epoch % 10 == 0:\n",
    "            print('Score: {}'.format(score.data.cpu().numpy()[0]))\n",
    "        #scheduler.step()"
   ]
  },
  {
   "cell_type": "code",
   "execution_count": 719,
   "metadata": {},
   "outputs": [
    {
     "data": {
      "text/plain": [
       "1.5047558622334491"
      ]
     },
     "execution_count": 719,
     "metadata": {},
     "output_type": "execute_result"
    }
   ],
   "source": [
    "objective(net, Variable(train_x).cuda(), Variable(train_t).cuda())"
   ]
  },
  {
   "cell_type": "code",
   "execution_count": 720,
   "metadata": {},
   "outputs": [
    {
     "data": {
      "text/plain": [
       "2.592216102145169"
      ]
     },
     "execution_count": 720,
     "metadata": {},
     "output_type": "execute_result"
    }
   ],
   "source": [
    "objective(net, valid_x, valid_t)"
   ]
  },
  {
   "cell_type": "code",
   "execution_count": 721,
   "metadata": {},
   "outputs": [],
   "source": [
    "y = net(valid_x)\n",
    "yd = y.data.cpu().numpy()\n",
    "yd = np.exp(yd)\n",
    "yd = yd / yd.sum(axis=1, keepdims=True)\n",
    "\n",
    "loc = stat_logp(y)[0].data.cpu().numpy()\n",
    "ds = (np.arange(nbins) - loc[:, None]) ** 2\n",
    "avg_sigma = np.mean(np.sqrt(np.sum(yd * ds, axis=1))) * delta"
   ]
  },
  {
   "cell_type": "code",
   "execution_count": 722,
   "metadata": {},
   "outputs": [
    {
     "data": {
      "text/plain": [
       "7.045384284127165"
      ]
     },
     "execution_count": 722,
     "metadata": {},
     "output_type": "execute_result"
    }
   ],
   "source": [
    "avg_sigma"
   ]
  },
  {
   "cell_type": "code",
   "execution_count": 723,
   "metadata": {},
   "outputs": [],
   "source": [
    "mu, s = stat_logp(y)"
   ]
  },
  {
   "cell_type": "code",
   "execution_count": 724,
   "metadata": {},
   "outputs": [
    {
     "data": {
      "text/plain": [
       "7.0453844"
      ]
     },
     "execution_count": 724,
     "metadata": {},
     "output_type": "execute_result"
    }
   ],
   "source": [
    "s.data.cpu().numpy().mean()"
   ]
  },
  {
   "cell_type": "code",
   "execution_count": 727,
   "metadata": {},
   "outputs": [
    {
     "name": "stdout",
     "output_type": "stream",
     "text": [
      "BlendedAffine2D(\n",
      "    IdentityTransform(),\n",
      "    BboxTransformTo(\n",
      "        TransformedBbox(\n",
      "            Bbox(x0=0.125, y0=0.125, x1=0.35294117647058826, y1=0.34705882352941175),\n",
      "            BboxTransformTo(\n",
      "                TransformedBbox(\n",
      "                    Bbox(x0=0.0, y0=0.0, x1=3.5, y1=5.0),\n",
      "                    Affine2D(\n",
      "                        [[100.   0.   0.]\n",
      "                         [  0. 100.   0.]\n",
      "                         [  0.   0.   1.]]))))))\n"
     ]
    },
    {
     "data": {
      "image/png": "[encoded data removed]",
      "text/plain": [
       "<Figure size 350x500 with 9 Axes>"
      ]
     },
     "metadata": {},
     "output_type": "display_data"
    }
   ],
   "source": [
    "from itertools import count\n",
    "\n",
    "y = net(valid_x)\n",
    "#val, idx = torch.max(y, 1)\n",
    "yd = y.data.cpu().numpy()\n",
    "\n",
    "\n",
    "yd = np.exp(yd)\n",
    "yd = yd / yd.sum(axis=1, keepdims=True)\n",
    "\n",
    "gt = np.exp(valid_logl)\n",
    "gt = gt / gt.sum(axis=1, keepdims=True)\n",
    "\n",
    "\n",
    "loc = yd.argmax(axis=1)\n",
    "loc_gt = gt.argmax(axis=1)\n",
    "ds = (np.arange(nbins) - loc[:, None])**2\n",
    "\n",
    "avg_sigma = np.mean(np.sqrt(np.sum(yd * ds, axis=1))) * delta\n",
    "\n",
    "\n",
    "n_rows = 3\n",
    "n_cols = 3\n",
    "fig, axs = plt.subplots(n_rows, n_cols, sharex=True, sharey=True, figsize=(3.5, 5), dpi=100)\n",
    "\n",
    "p = np.random.permutation(len(yd))\n",
    "\n",
    "for c, ((i, j), ax) in zip(p, np.ndenumerate(axs)):\n",
    "    line, = ax.plot(pv, yd[c])\n",
    "    ax.plot(pv, gt[c], '--')\n",
    "    ax.set_ylim([0, 0.5])\n",
    "    ax.set_yticks([])\n",
    "    if j == 0 and i == n_rows-1:\n",
    "        ylabel = ax.set_ylabel('Likelihood (a.u.)', fontsize=10)\n",
    "        print(ylabel.get_transform())\n",
    "        ax.set_xlabel('Binned orientation ($^\\circ$)', fontsize=10)\n",
    "        ax.set_xticks([-25, 0, 25])\n",
    "        \n",
    "    else:\n",
    "        pass\n",
    "        #ax.set_xticklabels([])\n",
    "    ax.set_xticklabels([-25, 0, 25], fontsize=10)\n",
    "fig.subplots_adjust(wspace=0.1, hspace=0.1)\n",
    "\n",
    "\n",
    "fig.suptitle(\"$\\mathbf{{E}}[\\sigma]$={:0.3f}\".format(avg_sigma), fontsize=14)\n",
    "fig.savefig('')"
   ]
  },
  {
   "cell_type": "code",
   "execution_count": 728,
   "metadata": {},
   "outputs": [
    {
     "name": "stdout",
     "output_type": "stream",
     "text": [
      "2.592216102145169\n"
     ]
    },
    {
     "data": {
      "text/plain": [
       "[<matplotlib.lines.Line2D at 0x7fd748ab9080>]"
      ]
     },
     "execution_count": 728,
     "metadata": {},
     "output_type": "execute_result"
    },
    {
     "data": {
      "image/png": "[encoded data removed]",
      "text/plain": [
       "<Figure size 432x288 with 2 Axes>"
      ]
     },
     "metadata": {},
     "output_type": "display_data"
    }
   ],
   "source": [
    "net.eval()\n",
    "y = net(valid_x)\n",
    "\n",
    "\n",
    "y = y + prior\n",
    "\n",
    "idx, _ = stat_logp(y)\n",
    "#val, idx = torch.max(y, 1)\n",
    "yd = y.data.cpu().numpy()\n",
    "\n",
    "\n",
    "plt.subplot(211)\n",
    "t_hat = idx.data.cpu().numpy()\n",
    "plt.scatter(t_hat, valid_ori)\n",
    "\n",
    "\n",
    "print(np.sqrt(np.mean((t_hat - valid_ori)**2)) * delta)\n",
    "\n",
    "plt.subplot(212)\n",
    "\n",
    "plt.plot(yd[47])"
   ]
  },
  {
   "cell_type": "code",
   "execution_count": 128,
   "metadata": {},
   "outputs": [
    {
     "data": {
      "text/plain": [
       "<matplotlib.collections.PathCollection at 0x7fb1451c4c18>"
      ]
     },
     "execution_count": 128,
     "metadata": {},
     "output_type": "execute_result"
    },
    {
     "data": {
      "image/png": "[encoded data removed]",
      "text/plain": [
       "<Figure size 432x288 with 1 Axes>"
      ]
     },
     "metadata": {},
     "output_type": "display_data"
    }
   ],
   "source": [
    "plt.scatter(valid_t, loc)"
   ]
  },
  {
   "cell_type": "code",
   "execution_count": 129,
   "metadata": {},
   "outputs": [
    {
     "data": {
      "text/plain": [
       "<matplotlib.collections.PathCollection at 0x7fb129c9ef28>"
      ]
     },
     "execution_count": 129,
     "metadata": {},
     "output_type": "execute_result"
    },
    {
     "data": {
      "image/png": "[encoded data removed]",
      "text/plain": [
       "<Figure size 432x288 with 1 Axes>"
      ]
     },
     "metadata": {},
     "output_type": "display_data"
    }
   ],
   "source": [
    "plt.scatter(valid_t, loc_gt)"
   ]
  },
  {
   "cell_type": "markdown",
   "metadata": {},
   "source": [
    "## Measure std of likelihood functions"
   ]
  },
  {
   "cell_type": "code",
   "execution_count": 21,
   "metadata": {},
   "outputs": [
    {
     "data": {
      "text/plain": [
       "8.930213504892635"
      ]
     },
     "execution_count": 21,
     "metadata": {},
     "output_type": "execute_result"
    }
   ],
   "source": [
    "loc = yd.argmax(axis=1)\n",
    "ds = (np.arange(nbins) - loc[:, None])**2\n",
    "\n",
    "np.mean(np.sqrt(np.sum(yd * ds, axis=1)))"
   ]
  },
  {
   "cell_type": "code",
   "execution_count": 44,
   "metadata": {},
   "outputs": [
    {
     "data": {
      "image/png": "[encoded data removed]",
      "text/plain": [
       "<matplotlib.figure.Figure at 0x7f701b50a208>"
      ]
     },
     "metadata": {},
     "output_type": "display_data"
    }
   ],
   "source": [
    "from itertools import count\n",
    "\n",
    "y = net(valid_x)\n",
    "val, idx = torch.max(y, 1)\n",
    "yd = y.data.cpu().numpy()\n",
    "yd = np.exp(yd)\n",
    "yd = yd / yd.sum(axis=1, keepdims=True)\n",
    "\n",
    "fig, axs = plt.subplots(5, 6, figsize=(12, 12))\n",
    "for i, ax in zip(count(), axs.ravel()):\n",
    "    ax.plot(yd[i])\n",
    "    ax.set_ylim([0, 0.5])"
   ]
  },
  {
   "cell_type": "code",
   "execution_count": null,
   "metadata": {},
   "outputs": [],
   "source": [
    "data = fetch(class_discrimination.ClassDiscriminationTrial * class_discrimination.SpikeCountTrials * class_discrimination.CSCLookup  & class_discrimination.CleanSpikeCountTrials & self, '*');\n",
    "            data = dj.struct.sort(data, 'trial_num');\n",
    "            contrast = fetchn(self, 'dataset_contrast');\n",
    "            all_contrast = arrayfun(@num2str, [data.contrast], 'UniformOutput', false);\n",
    "            pos = strcmp(all_contrast, contrast);\n",
    "            dataSet = data(pos);\n",
    "            if pack\n",
    "                dataSet = packData(dataSet);\n",
    "            end"
   ]
  }
 ],
 "metadata": {
  "kernelspec": {
   "display_name": "Python 3",
   "language": "python",
   "name": "python3"
  },
  "language_info": {
   "codemirror_mode": {
    "name": "ipython",
    "version": 3
   },
   "file_extension": ".py",
   "mimetype": "text/x-python",
   "name": "python",
   "nbconvert_exporter": "python",
   "pygments_lexer": "ipython3",
   "version": "3.5.2"
  }
 },
 "nbformat": 4,
 "nbformat_minor": 2
}
